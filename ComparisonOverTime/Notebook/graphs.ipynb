{
 "cells": [
  {
   "cell_type": "code",
   "execution_count": 2,
   "metadata": {},
   "outputs": [],
   "source": [
    "import pandas as pd\n",
    "import cufflinks as cf\n",
    "import plotly.express as px"
   ]
  },
  {
   "cell_type": "code",
   "execution_count": 3,
   "metadata": {},
   "outputs": [
    {
     "data": {
      "text/html": [
       "        <script type=\"text/javascript\">\n",
       "        window.PlotlyConfig = {MathJaxConfig: 'local'};\n",
       "        if (window.MathJax) {MathJax.Hub.Config({SVG: {font: \"STIX-Web\"}});}\n",
       "        if (typeof require !== 'undefined') {\n",
       "        require.undef(\"plotly\");\n",
       "        requirejs.config({\n",
       "            paths: {\n",
       "                'plotly': ['https://cdn.plot.ly/plotly-latest.min']\n",
       "            }\n",
       "        });\n",
       "        require(['plotly'], function(Plotly) {\n",
       "            window._Plotly = Plotly;\n",
       "        });\n",
       "        }\n",
       "        </script>\n",
       "        "
      ]
     },
     "metadata": {},
     "output_type": "display_data"
    }
   ],
   "source": [
    "cf.go_offline()"
   ]
  },
  {
   "cell_type": "markdown",
   "metadata": {},
   "source": [
    "# Over time"
   ]
  },
  {
   "cell_type": "markdown",
   "metadata": {},
   "source": [
    "   ## Few Periods"
   ]
  },
  {
   "cell_type": "markdown",
   "metadata": {},
   "source": [
    "### Many categories"
   ]
  },
  {
   "cell_type": "markdown",
   "metadata": {},
   "source": [
    "Multiple line chart"
   ]
  },
  {
   "cell_type": "code",
   "execution_count": 5,
   "metadata": {},
   "outputs": [],
   "source": [
    "data_suicides = pd.read_csv('csv/master.csv')"
   ]
  },
  {
   "cell_type": "code",
   "execution_count": 6,
   "metadata": {},
   "outputs": [
    {
     "data": {
      "text/html": [
       "<div>\n",
       "<style scoped>\n",
       "    .dataframe tbody tr th:only-of-type {\n",
       "        vertical-align: middle;\n",
       "    }\n",
       "\n",
       "    .dataframe tbody tr th {\n",
       "        vertical-align: top;\n",
       "    }\n",
       "\n",
       "    .dataframe thead th {\n",
       "        text-align: right;\n",
       "    }\n",
       "</style>\n",
       "<table border=\"1\" class=\"dataframe\">\n",
       "  <thead>\n",
       "    <tr style=\"text-align: right;\">\n",
       "      <th></th>\n",
       "      <th>country</th>\n",
       "      <th>year</th>\n",
       "      <th>suicides_no</th>\n",
       "      <th>population</th>\n",
       "    </tr>\n",
       "  </thead>\n",
       "  <tbody>\n",
       "    <tr>\n",
       "      <th>0</th>\n",
       "      <td>Albania</td>\n",
       "      <td>1987</td>\n",
       "      <td>21</td>\n",
       "      <td>312900</td>\n",
       "    </tr>\n",
       "    <tr>\n",
       "      <th>1</th>\n",
       "      <td>Albania</td>\n",
       "      <td>1987</td>\n",
       "      <td>16</td>\n",
       "      <td>308000</td>\n",
       "    </tr>\n",
       "    <tr>\n",
       "      <th>2</th>\n",
       "      <td>Albania</td>\n",
       "      <td>1987</td>\n",
       "      <td>14</td>\n",
       "      <td>289700</td>\n",
       "    </tr>\n",
       "    <tr>\n",
       "      <th>3</th>\n",
       "      <td>Albania</td>\n",
       "      <td>1987</td>\n",
       "      <td>1</td>\n",
       "      <td>21800</td>\n",
       "    </tr>\n",
       "    <tr>\n",
       "      <th>4</th>\n",
       "      <td>Albania</td>\n",
       "      <td>1987</td>\n",
       "      <td>9</td>\n",
       "      <td>274300</td>\n",
       "    </tr>\n",
       "    <tr>\n",
       "      <th>...</th>\n",
       "      <td>...</td>\n",
       "      <td>...</td>\n",
       "      <td>...</td>\n",
       "      <td>...</td>\n",
       "    </tr>\n",
       "    <tr>\n",
       "      <th>27815</th>\n",
       "      <td>Uzbekistan</td>\n",
       "      <td>2014</td>\n",
       "      <td>107</td>\n",
       "      <td>3620833</td>\n",
       "    </tr>\n",
       "    <tr>\n",
       "      <th>27816</th>\n",
       "      <td>Uzbekistan</td>\n",
       "      <td>2014</td>\n",
       "      <td>9</td>\n",
       "      <td>348465</td>\n",
       "    </tr>\n",
       "    <tr>\n",
       "      <th>27817</th>\n",
       "      <td>Uzbekistan</td>\n",
       "      <td>2014</td>\n",
       "      <td>60</td>\n",
       "      <td>2762158</td>\n",
       "    </tr>\n",
       "    <tr>\n",
       "      <th>27818</th>\n",
       "      <td>Uzbekistan</td>\n",
       "      <td>2014</td>\n",
       "      <td>44</td>\n",
       "      <td>2631600</td>\n",
       "    </tr>\n",
       "    <tr>\n",
       "      <th>27819</th>\n",
       "      <td>Uzbekistan</td>\n",
       "      <td>2014</td>\n",
       "      <td>21</td>\n",
       "      <td>1438935</td>\n",
       "    </tr>\n",
       "  </tbody>\n",
       "</table>\n",
       "<p>27820 rows × 4 columns</p>\n",
       "</div>"
      ],
      "text/plain": [
       "          country  year  suicides_no  population\n",
       "0         Albania  1987           21      312900\n",
       "1         Albania  1987           16      308000\n",
       "2         Albania  1987           14      289700\n",
       "3         Albania  1987            1       21800\n",
       "4         Albania  1987            9      274300\n",
       "...           ...   ...          ...         ...\n",
       "27815  Uzbekistan  2014          107     3620833\n",
       "27816  Uzbekistan  2014            9      348465\n",
       "27817  Uzbekistan  2014           60     2762158\n",
       "27818  Uzbekistan  2014           44     2631600\n",
       "27819  Uzbekistan  2014           21     1438935\n",
       "\n",
       "[27820 rows x 4 columns]"
      ]
     },
     "execution_count": 6,
     "metadata": {},
     "output_type": "execute_result"
    }
   ],
   "source": [
    "#getting useful columns for the plotting\n",
    "columns = ['country','year','suicides_no','population']\n",
    "data_suicides = data_suicides[columns]\n",
    "data_suicides"
   ]
  },
  {
   "cell_type": "code",
   "execution_count": 5,
   "metadata": {},
   "outputs": [
    {
     "data": {
      "text/html": [
       "<div>\n",
       "<style scoped>\n",
       "    .dataframe tbody tr th:only-of-type {\n",
       "        vertical-align: middle;\n",
       "    }\n",
       "\n",
       "    .dataframe tbody tr th {\n",
       "        vertical-align: top;\n",
       "    }\n",
       "\n",
       "    .dataframe thead th {\n",
       "        text-align: right;\n",
       "    }\n",
       "</style>\n",
       "<table border=\"1\" class=\"dataframe\">\n",
       "  <thead>\n",
       "    <tr style=\"text-align: right;\">\n",
       "      <th></th>\n",
       "      <th>country</th>\n",
       "      <th>year</th>\n",
       "      <th>suicides_no</th>\n",
       "      <th>population</th>\n",
       "    </tr>\n",
       "  </thead>\n",
       "  <tbody>\n",
       "    <tr>\n",
       "      <th>0</th>\n",
       "      <td>Albania</td>\n",
       "      <td>1987</td>\n",
       "      <td>21</td>\n",
       "      <td>312900</td>\n",
       "    </tr>\n",
       "    <tr>\n",
       "      <th>1</th>\n",
       "      <td>Albania</td>\n",
       "      <td>1987</td>\n",
       "      <td>16</td>\n",
       "      <td>308000</td>\n",
       "    </tr>\n",
       "    <tr>\n",
       "      <th>2</th>\n",
       "      <td>Albania</td>\n",
       "      <td>1987</td>\n",
       "      <td>14</td>\n",
       "      <td>289700</td>\n",
       "    </tr>\n",
       "    <tr>\n",
       "      <th>3</th>\n",
       "      <td>Albania</td>\n",
       "      <td>1987</td>\n",
       "      <td>1</td>\n",
       "      <td>21800</td>\n",
       "    </tr>\n",
       "    <tr>\n",
       "      <th>4</th>\n",
       "      <td>Albania</td>\n",
       "      <td>1987</td>\n",
       "      <td>9</td>\n",
       "      <td>274300</td>\n",
       "    </tr>\n",
       "    <tr>\n",
       "      <th>5</th>\n",
       "      <td>Albania</td>\n",
       "      <td>1987</td>\n",
       "      <td>1</td>\n",
       "      <td>35600</td>\n",
       "    </tr>\n",
       "    <tr>\n",
       "      <th>6</th>\n",
       "      <td>Albania</td>\n",
       "      <td>1987</td>\n",
       "      <td>6</td>\n",
       "      <td>278800</td>\n",
       "    </tr>\n",
       "    <tr>\n",
       "      <th>7</th>\n",
       "      <td>Albania</td>\n",
       "      <td>1987</td>\n",
       "      <td>4</td>\n",
       "      <td>257200</td>\n",
       "    </tr>\n",
       "    <tr>\n",
       "      <th>8</th>\n",
       "      <td>Albania</td>\n",
       "      <td>1987</td>\n",
       "      <td>1</td>\n",
       "      <td>137500</td>\n",
       "    </tr>\n",
       "    <tr>\n",
       "      <th>9</th>\n",
       "      <td>Albania</td>\n",
       "      <td>1987</td>\n",
       "      <td>0</td>\n",
       "      <td>311000</td>\n",
       "    </tr>\n",
       "    <tr>\n",
       "      <th>10</th>\n",
       "      <td>Albania</td>\n",
       "      <td>1987</td>\n",
       "      <td>0</td>\n",
       "      <td>144600</td>\n",
       "    </tr>\n",
       "    <tr>\n",
       "      <th>11</th>\n",
       "      <td>Albania</td>\n",
       "      <td>1987</td>\n",
       "      <td>0</td>\n",
       "      <td>338200</td>\n",
       "    </tr>\n",
       "    <tr>\n",
       "      <th>12</th>\n",
       "      <td>Albania</td>\n",
       "      <td>1988</td>\n",
       "      <td>2</td>\n",
       "      <td>36400</td>\n",
       "    </tr>\n",
       "    <tr>\n",
       "      <th>13</th>\n",
       "      <td>Albania</td>\n",
       "      <td>1988</td>\n",
       "      <td>17</td>\n",
       "      <td>319200</td>\n",
       "    </tr>\n",
       "    <tr>\n",
       "      <th>14</th>\n",
       "      <td>Albania</td>\n",
       "      <td>1988</td>\n",
       "      <td>1</td>\n",
       "      <td>22300</td>\n",
       "    </tr>\n",
       "  </tbody>\n",
       "</table>\n",
       "</div>"
      ],
      "text/plain": [
       "    country  year  suicides_no  population\n",
       "0   Albania  1987           21      312900\n",
       "1   Albania  1987           16      308000\n",
       "2   Albania  1987           14      289700\n",
       "3   Albania  1987            1       21800\n",
       "4   Albania  1987            9      274300\n",
       "5   Albania  1987            1       35600\n",
       "6   Albania  1987            6      278800\n",
       "7   Albania  1987            4      257200\n",
       "8   Albania  1987            1      137500\n",
       "9   Albania  1987            0      311000\n",
       "10  Albania  1987            0      144600\n",
       "11  Albania  1987            0      338200\n",
       "12  Albania  1988            2       36400\n",
       "13  Albania  1988           17      319200\n",
       "14  Albania  1988            1       22300"
      ]
     },
     "execution_count": 5,
     "metadata": {},
     "output_type": "execute_result"
    }
   ],
   "source": [
    "data_suicides.head(15)"
   ]
  },
  {
   "cell_type": "code",
   "execution_count": 6,
   "metadata": {},
   "outputs": [],
   "source": [
    "#grouping\n",
    "data_suicides = data_suicides.groupby(['country','year']).sum().reset_index(drop = False)"
   ]
  },
  {
   "cell_type": "code",
   "execution_count": 7,
   "metadata": {},
   "outputs": [
    {
     "data": {
      "text/html": [
       "<div>\n",
       "<style scoped>\n",
       "    .dataframe tbody tr th:only-of-type {\n",
       "        vertical-align: middle;\n",
       "    }\n",
       "\n",
       "    .dataframe tbody tr th {\n",
       "        vertical-align: top;\n",
       "    }\n",
       "\n",
       "    .dataframe thead th {\n",
       "        text-align: right;\n",
       "    }\n",
       "</style>\n",
       "<table border=\"1\" class=\"dataframe\">\n",
       "  <thead>\n",
       "    <tr style=\"text-align: right;\">\n",
       "      <th></th>\n",
       "      <th>country</th>\n",
       "      <th>year</th>\n",
       "      <th>suicides_no</th>\n",
       "      <th>population</th>\n",
       "    </tr>\n",
       "  </thead>\n",
       "  <tbody>\n",
       "    <tr>\n",
       "      <th>0</th>\n",
       "      <td>Albania</td>\n",
       "      <td>1987</td>\n",
       "      <td>73</td>\n",
       "      <td>2709600</td>\n",
       "    </tr>\n",
       "    <tr>\n",
       "      <th>1</th>\n",
       "      <td>Albania</td>\n",
       "      <td>1988</td>\n",
       "      <td>63</td>\n",
       "      <td>2764300</td>\n",
       "    </tr>\n",
       "    <tr>\n",
       "      <th>2</th>\n",
       "      <td>Albania</td>\n",
       "      <td>1989</td>\n",
       "      <td>68</td>\n",
       "      <td>2803100</td>\n",
       "    </tr>\n",
       "    <tr>\n",
       "      <th>3</th>\n",
       "      <td>Albania</td>\n",
       "      <td>1992</td>\n",
       "      <td>47</td>\n",
       "      <td>2822500</td>\n",
       "    </tr>\n",
       "    <tr>\n",
       "      <th>4</th>\n",
       "      <td>Albania</td>\n",
       "      <td>1993</td>\n",
       "      <td>73</td>\n",
       "      <td>2807300</td>\n",
       "    </tr>\n",
       "    <tr>\n",
       "      <th>...</th>\n",
       "      <td>...</td>\n",
       "      <td>...</td>\n",
       "      <td>...</td>\n",
       "      <td>...</td>\n",
       "    </tr>\n",
       "    <tr>\n",
       "      <th>2316</th>\n",
       "      <td>Uzbekistan</td>\n",
       "      <td>2010</td>\n",
       "      <td>1464</td>\n",
       "      <td>25651783</td>\n",
       "    </tr>\n",
       "    <tr>\n",
       "      <th>2317</th>\n",
       "      <td>Uzbekistan</td>\n",
       "      <td>2011</td>\n",
       "      <td>1640</td>\n",
       "      <td>25978049</td>\n",
       "    </tr>\n",
       "    <tr>\n",
       "      <th>2318</th>\n",
       "      <td>Uzbekistan</td>\n",
       "      <td>2012</td>\n",
       "      <td>1835</td>\n",
       "      <td>26381830</td>\n",
       "    </tr>\n",
       "    <tr>\n",
       "      <th>2319</th>\n",
       "      <td>Uzbekistan</td>\n",
       "      <td>2013</td>\n",
       "      <td>1950</td>\n",
       "      <td>26838924</td>\n",
       "    </tr>\n",
       "    <tr>\n",
       "      <th>2320</th>\n",
       "      <td>Uzbekistan</td>\n",
       "      <td>2014</td>\n",
       "      <td>2095</td>\n",
       "      <td>27313507</td>\n",
       "    </tr>\n",
       "  </tbody>\n",
       "</table>\n",
       "<p>2321 rows × 4 columns</p>\n",
       "</div>"
      ],
      "text/plain": [
       "         country  year  suicides_no  population\n",
       "0        Albania  1987           73     2709600\n",
       "1        Albania  1988           63     2764300\n",
       "2        Albania  1989           68     2803100\n",
       "3        Albania  1992           47     2822500\n",
       "4        Albania  1993           73     2807300\n",
       "...          ...   ...          ...         ...\n",
       "2316  Uzbekistan  2010         1464    25651783\n",
       "2317  Uzbekistan  2011         1640    25978049\n",
       "2318  Uzbekistan  2012         1835    26381830\n",
       "2319  Uzbekistan  2013         1950    26838924\n",
       "2320  Uzbekistan  2014         2095    27313507\n",
       "\n",
       "[2321 rows x 4 columns]"
      ]
     },
     "execution_count": 7,
     "metadata": {},
     "output_type": "execute_result"
    }
   ],
   "source": [
    "data_suicides"
   ]
  },
  {
   "cell_type": "code",
   "execution_count": 8,
   "metadata": {},
   "outputs": [
    {
     "data": {
      "text/html": [
       "<div>\n",
       "<style scoped>\n",
       "    .dataframe tbody tr th:only-of-type {\n",
       "        vertical-align: middle;\n",
       "    }\n",
       "\n",
       "    .dataframe tbody tr th {\n",
       "        vertical-align: top;\n",
       "    }\n",
       "\n",
       "    .dataframe thead th {\n",
       "        text-align: right;\n",
       "    }\n",
       "</style>\n",
       "<table border=\"1\" class=\"dataframe\">\n",
       "  <thead>\n",
       "    <tr style=\"text-align: right;\">\n",
       "      <th>country</th>\n",
       "      <th>year</th>\n",
       "      <th>Albania</th>\n",
       "      <th>Antigua and Barbuda</th>\n",
       "      <th>Argentina</th>\n",
       "      <th>Armenia</th>\n",
       "      <th>Aruba</th>\n",
       "      <th>Australia</th>\n",
       "      <th>Austria</th>\n",
       "      <th>Azerbaijan</th>\n",
       "      <th>Bahamas</th>\n",
       "      <th>...</th>\n",
       "      <th>Thailand</th>\n",
       "      <th>Trinidad and Tobago</th>\n",
       "      <th>Turkey</th>\n",
       "      <th>Turkmenistan</th>\n",
       "      <th>Ukraine</th>\n",
       "      <th>United Arab Emirates</th>\n",
       "      <th>United Kingdom</th>\n",
       "      <th>United States</th>\n",
       "      <th>Uruguay</th>\n",
       "      <th>Uzbekistan</th>\n",
       "    </tr>\n",
       "  </thead>\n",
       "  <tbody>\n",
       "    <tr>\n",
       "      <th>0</th>\n",
       "      <td>1985</td>\n",
       "      <td>NaN</td>\n",
       "      <td>0.0</td>\n",
       "      <td>1988.0</td>\n",
       "      <td>NaN</td>\n",
       "      <td>NaN</td>\n",
       "      <td>1861.0</td>\n",
       "      <td>2091.0</td>\n",
       "      <td>NaN</td>\n",
       "      <td>1.0</td>\n",
       "      <td>...</td>\n",
       "      <td>2982.0</td>\n",
       "      <td>29.0</td>\n",
       "      <td>NaN</td>\n",
       "      <td>NaN</td>\n",
       "      <td>NaN</td>\n",
       "      <td>NaN</td>\n",
       "      <td>5105.0</td>\n",
       "      <td>29446.0</td>\n",
       "      <td>287.0</td>\n",
       "      <td>NaN</td>\n",
       "    </tr>\n",
       "    <tr>\n",
       "      <th>1</th>\n",
       "      <td>1986</td>\n",
       "      <td>NaN</td>\n",
       "      <td>0.0</td>\n",
       "      <td>2284.0</td>\n",
       "      <td>NaN</td>\n",
       "      <td>NaN</td>\n",
       "      <td>2044.0</td>\n",
       "      <td>2139.0</td>\n",
       "      <td>NaN</td>\n",
       "      <td>NaN</td>\n",
       "      <td>...</td>\n",
       "      <td>2798.0</td>\n",
       "      <td>104.0</td>\n",
       "      <td>NaN</td>\n",
       "      <td>NaN</td>\n",
       "      <td>NaN</td>\n",
       "      <td>NaN</td>\n",
       "      <td>4839.0</td>\n",
       "      <td>30892.0</td>\n",
       "      <td>262.0</td>\n",
       "      <td>NaN</td>\n",
       "    </tr>\n",
       "    <tr>\n",
       "      <th>2</th>\n",
       "      <td>1987</td>\n",
       "      <td>73.0</td>\n",
       "      <td>0.0</td>\n",
       "      <td>2286.0</td>\n",
       "      <td>NaN</td>\n",
       "      <td>NaN</td>\n",
       "      <td>2164.0</td>\n",
       "      <td>2069.0</td>\n",
       "      <td>NaN</td>\n",
       "      <td>3.0</td>\n",
       "      <td>...</td>\n",
       "      <td>3035.0</td>\n",
       "      <td>119.0</td>\n",
       "      <td>NaN</td>\n",
       "      <td>272.0</td>\n",
       "      <td>10050.0</td>\n",
       "      <td>NaN</td>\n",
       "      <td>4594.0</td>\n",
       "      <td>30783.0</td>\n",
       "      <td>258.0</td>\n",
       "      <td>NaN</td>\n",
       "    </tr>\n",
       "    <tr>\n",
       "      <th>3</th>\n",
       "      <td>1988</td>\n",
       "      <td>63.0</td>\n",
       "      <td>0.0</td>\n",
       "      <td>2354.0</td>\n",
       "      <td>NaN</td>\n",
       "      <td>NaN</td>\n",
       "      <td>2172.0</td>\n",
       "      <td>1851.0</td>\n",
       "      <td>NaN</td>\n",
       "      <td>NaN</td>\n",
       "      <td>...</td>\n",
       "      <td>NaN</td>\n",
       "      <td>164.0</td>\n",
       "      <td>NaN</td>\n",
       "      <td>270.0</td>\n",
       "      <td>9751.0</td>\n",
       "      <td>NaN</td>\n",
       "      <td>4971.0</td>\n",
       "      <td>30388.0</td>\n",
       "      <td>268.0</td>\n",
       "      <td>NaN</td>\n",
       "    </tr>\n",
       "    <tr>\n",
       "      <th>4</th>\n",
       "      <td>1989</td>\n",
       "      <td>68.0</td>\n",
       "      <td>0.0</td>\n",
       "      <td>2247.0</td>\n",
       "      <td>NaN</td>\n",
       "      <td>NaN</td>\n",
       "      <td>2066.0</td>\n",
       "      <td>1898.0</td>\n",
       "      <td>NaN</td>\n",
       "      <td>NaN</td>\n",
       "      <td>...</td>\n",
       "      <td>NaN</td>\n",
       "      <td>173.0</td>\n",
       "      <td>NaN</td>\n",
       "      <td>253.0</td>\n",
       "      <td>10887.0</td>\n",
       "      <td>NaN</td>\n",
       "      <td>4361.0</td>\n",
       "      <td>30218.0</td>\n",
       "      <td>344.0</td>\n",
       "      <td>NaN</td>\n",
       "    </tr>\n",
       "    <tr>\n",
       "      <th>5</th>\n",
       "      <td>1990</td>\n",
       "      <td>NaN</td>\n",
       "      <td>1.0</td>\n",
       "      <td>2140.0</td>\n",
       "      <td>93.0</td>\n",
       "      <td>NaN</td>\n",
       "      <td>2202.0</td>\n",
       "      <td>1825.0</td>\n",
       "      <td>114.0</td>\n",
       "      <td>NaN</td>\n",
       "      <td>...</td>\n",
       "      <td>3753.0</td>\n",
       "      <td>170.0</td>\n",
       "      <td>NaN</td>\n",
       "      <td>298.0</td>\n",
       "      <td>10645.0</td>\n",
       "      <td>NaN</td>\n",
       "      <td>4643.0</td>\n",
       "      <td>30895.0</td>\n",
       "      <td>315.0</td>\n",
       "      <td>1459.0</td>\n",
       "    </tr>\n",
       "    <tr>\n",
       "      <th>6</th>\n",
       "      <td>1991</td>\n",
       "      <td>NaN</td>\n",
       "      <td>0.0</td>\n",
       "      <td>1951.0</td>\n",
       "      <td>80.0</td>\n",
       "      <td>NaN</td>\n",
       "      <td>2288.0</td>\n",
       "      <td>1769.0</td>\n",
       "      <td>134.0</td>\n",
       "      <td>NaN</td>\n",
       "      <td>...</td>\n",
       "      <td>3559.0</td>\n",
       "      <td>148.0</td>\n",
       "      <td>NaN</td>\n",
       "      <td>273.0</td>\n",
       "      <td>10700.0</td>\n",
       "      <td>NaN</td>\n",
       "      <td>4547.0</td>\n",
       "      <td>30790.0</td>\n",
       "      <td>NaN</td>\n",
       "      <td>1393.0</td>\n",
       "    </tr>\n",
       "    <tr>\n",
       "      <th>7</th>\n",
       "      <td>1992</td>\n",
       "      <td>47.0</td>\n",
       "      <td>0.0</td>\n",
       "      <td>2184.0</td>\n",
       "      <td>83.0</td>\n",
       "      <td>NaN</td>\n",
       "      <td>2251.0</td>\n",
       "      <td>1759.0</td>\n",
       "      <td>144.0</td>\n",
       "      <td>NaN</td>\n",
       "      <td>...</td>\n",
       "      <td>3550.0</td>\n",
       "      <td>163.0</td>\n",
       "      <td>NaN</td>\n",
       "      <td>271.0</td>\n",
       "      <td>11666.0</td>\n",
       "      <td>NaN</td>\n",
       "      <td>4628.0</td>\n",
       "      <td>30471.0</td>\n",
       "      <td>NaN</td>\n",
       "      <td>1344.0</td>\n",
       "    </tr>\n",
       "    <tr>\n",
       "      <th>8</th>\n",
       "      <td>1993</td>\n",
       "      <td>73.0</td>\n",
       "      <td>1.0</td>\n",
       "      <td>2230.0</td>\n",
       "      <td>106.0</td>\n",
       "      <td>NaN</td>\n",
       "      <td>2038.0</td>\n",
       "      <td>1704.0</td>\n",
       "      <td>119.0</td>\n",
       "      <td>7.0</td>\n",
       "      <td>...</td>\n",
       "      <td>NaN</td>\n",
       "      <td>174.0</td>\n",
       "      <td>NaN</td>\n",
       "      <td>240.0</td>\n",
       "      <td>12469.0</td>\n",
       "      <td>NaN</td>\n",
       "      <td>4462.0</td>\n",
       "      <td>31084.0</td>\n",
       "      <td>418.0</td>\n",
       "      <td>1355.0</td>\n",
       "    </tr>\n",
       "    <tr>\n",
       "      <th>9</th>\n",
       "      <td>1994</td>\n",
       "      <td>50.0</td>\n",
       "      <td>0.0</td>\n",
       "      <td>2241.0</td>\n",
       "      <td>112.0</td>\n",
       "      <td>NaN</td>\n",
       "      <td>2283.0</td>\n",
       "      <td>1776.0</td>\n",
       "      <td>47.0</td>\n",
       "      <td>3.0</td>\n",
       "      <td>...</td>\n",
       "      <td>2307.0</td>\n",
       "      <td>148.0</td>\n",
       "      <td>NaN</td>\n",
       "      <td>234.0</td>\n",
       "      <td>13826.0</td>\n",
       "      <td>NaN</td>\n",
       "      <td>4380.0</td>\n",
       "      <td>31123.0</td>\n",
       "      <td>406.0</td>\n",
       "      <td>1419.0</td>\n",
       "    </tr>\n",
       "    <tr>\n",
       "      <th>10</th>\n",
       "      <td>1995</td>\n",
       "      <td>88.0</td>\n",
       "      <td>0.0</td>\n",
       "      <td>2204.0</td>\n",
       "      <td>130.0</td>\n",
       "      <td>8.0</td>\n",
       "      <td>2170.0</td>\n",
       "      <td>1788.0</td>\n",
       "      <td>49.0</td>\n",
       "      <td>2.0</td>\n",
       "      <td>...</td>\n",
       "      <td>4245.0</td>\n",
       "      <td>184.0</td>\n",
       "      <td>NaN</td>\n",
       "      <td>244.0</td>\n",
       "      <td>14541.0</td>\n",
       "      <td>NaN</td>\n",
       "      <td>4315.0</td>\n",
       "      <td>31272.0</td>\n",
       "      <td>427.0</td>\n",
       "      <td>1485.0</td>\n",
       "    </tr>\n",
       "    <tr>\n",
       "      <th>11</th>\n",
       "      <td>1996</td>\n",
       "      <td>89.0</td>\n",
       "      <td>NaN</td>\n",
       "      <td>2229.0</td>\n",
       "      <td>87.0</td>\n",
       "      <td>NaN</td>\n",
       "      <td>2426.0</td>\n",
       "      <td>1779.0</td>\n",
       "      <td>69.0</td>\n",
       "      <td>3.0</td>\n",
       "      <td>...</td>\n",
       "      <td>4443.0</td>\n",
       "      <td>146.0</td>\n",
       "      <td>NaN</td>\n",
       "      <td>283.0</td>\n",
       "      <td>15160.0</td>\n",
       "      <td>NaN</td>\n",
       "      <td>4165.0</td>\n",
       "      <td>30879.0</td>\n",
       "      <td>393.0</td>\n",
       "      <td>1699.0</td>\n",
       "    </tr>\n",
       "    <tr>\n",
       "      <th>12</th>\n",
       "      <td>1997</td>\n",
       "      <td>170.0</td>\n",
       "      <td>NaN</td>\n",
       "      <td>2184.0</td>\n",
       "      <td>77.0</td>\n",
       "      <td>NaN</td>\n",
       "      <td>2646.0</td>\n",
       "      <td>1592.0</td>\n",
       "      <td>107.0</td>\n",
       "      <td>2.0</td>\n",
       "      <td>...</td>\n",
       "      <td>4150.0</td>\n",
       "      <td>160.0</td>\n",
       "      <td>NaN</td>\n",
       "      <td>333.0</td>\n",
       "      <td>14903.0</td>\n",
       "      <td>NaN</td>\n",
       "      <td>4143.0</td>\n",
       "      <td>30517.0</td>\n",
       "      <td>456.0</td>\n",
       "      <td>1554.0</td>\n",
       "    </tr>\n",
       "    <tr>\n",
       "      <th>13</th>\n",
       "      <td>1998</td>\n",
       "      <td>154.0</td>\n",
       "      <td>0.0</td>\n",
       "      <td>2347.0</td>\n",
       "      <td>66.0</td>\n",
       "      <td>NaN</td>\n",
       "      <td>2632.0</td>\n",
       "      <td>1559.0</td>\n",
       "      <td>56.0</td>\n",
       "      <td>3.0</td>\n",
       "      <td>...</td>\n",
       "      <td>4963.0</td>\n",
       "      <td>171.0</td>\n",
       "      <td>NaN</td>\n",
       "      <td>405.0</td>\n",
       "      <td>14789.0</td>\n",
       "      <td>NaN</td>\n",
       "      <td>4389.0</td>\n",
       "      <td>30558.0</td>\n",
       "      <td>521.0</td>\n",
       "      <td>1620.0</td>\n",
       "    </tr>\n",
       "    <tr>\n",
       "      <th>14</th>\n",
       "      <td>1999</td>\n",
       "      <td>139.0</td>\n",
       "      <td>0.0</td>\n",
       "      <td>2423.0</td>\n",
       "      <td>67.0</td>\n",
       "      <td>9.0</td>\n",
       "      <td>2488.0</td>\n",
       "      <td>1555.0</td>\n",
       "      <td>54.0</td>\n",
       "      <td>6.0</td>\n",
       "      <td>...</td>\n",
       "      <td>5276.0</td>\n",
       "      <td>139.0</td>\n",
       "      <td>NaN</td>\n",
       "      <td>442.0</td>\n",
       "      <td>14363.0</td>\n",
       "      <td>NaN</td>\n",
       "      <td>4448.0</td>\n",
       "      <td>29183.0</td>\n",
       "      <td>450.0</td>\n",
       "      <td>1795.0</td>\n",
       "    </tr>\n",
       "    <tr>\n",
       "      <th>15</th>\n",
       "      <td>2000</td>\n",
       "      <td>54.0</td>\n",
       "      <td>2.0</td>\n",
       "      <td>2774.0</td>\n",
       "      <td>61.0</td>\n",
       "      <td>10.0</td>\n",
       "      <td>2391.0</td>\n",
       "      <td>1588.0</td>\n",
       "      <td>62.0</td>\n",
       "      <td>11.0</td>\n",
       "      <td>...</td>\n",
       "      <td>5182.0</td>\n",
       "      <td>166.0</td>\n",
       "      <td>NaN</td>\n",
       "      <td>383.0</td>\n",
       "      <td>14467.0</td>\n",
       "      <td>NaN</td>\n",
       "      <td>4290.0</td>\n",
       "      <td>29343.0</td>\n",
       "      <td>555.0</td>\n",
       "      <td>1919.0</td>\n",
       "    </tr>\n",
       "    <tr>\n",
       "      <th>16</th>\n",
       "      <td>2001</td>\n",
       "      <td>119.0</td>\n",
       "      <td>2.0</td>\n",
       "      <td>3132.0</td>\n",
       "      <td>60.0</td>\n",
       "      <td>4.0</td>\n",
       "      <td>2458.0</td>\n",
       "      <td>1489.0</td>\n",
       "      <td>317.0</td>\n",
       "      <td>1.0</td>\n",
       "      <td>...</td>\n",
       "      <td>NaN</td>\n",
       "      <td>179.0</td>\n",
       "      <td>NaN</td>\n",
       "      <td>445.0</td>\n",
       "      <td>13131.0</td>\n",
       "      <td>NaN</td>\n",
       "      <td>4128.0</td>\n",
       "      <td>30607.0</td>\n",
       "      <td>499.0</td>\n",
       "      <td>1914.0</td>\n",
       "    </tr>\n",
       "    <tr>\n",
       "      <th>17</th>\n",
       "      <td>2002</td>\n",
       "      <td>133.0</td>\n",
       "      <td>0.0</td>\n",
       "      <td>3162.0</td>\n",
       "      <td>74.0</td>\n",
       "      <td>9.0</td>\n",
       "      <td>2319.0</td>\n",
       "      <td>1553.0</td>\n",
       "      <td>92.0</td>\n",
       "      <td>3.0</td>\n",
       "      <td>...</td>\n",
       "      <td>4902.0</td>\n",
       "      <td>156.0</td>\n",
       "      <td>NaN</td>\n",
       "      <td>416.0</td>\n",
       "      <td>12536.0</td>\n",
       "      <td>NaN</td>\n",
       "      <td>4117.0</td>\n",
       "      <td>31645.0</td>\n",
       "      <td>675.0</td>\n",
       "      <td>1576.0</td>\n",
       "    </tr>\n",
       "    <tr>\n",
       "      <th>18</th>\n",
       "      <td>2003</td>\n",
       "      <td>124.0</td>\n",
       "      <td>1.0</td>\n",
       "      <td>3289.0</td>\n",
       "      <td>59.0</td>\n",
       "      <td>2.0</td>\n",
       "      <td>2156.0</td>\n",
       "      <td>1456.0</td>\n",
       "      <td>129.0</td>\n",
       "      <td>1.0</td>\n",
       "      <td>...</td>\n",
       "      <td>4484.0</td>\n",
       "      <td>144.0</td>\n",
       "      <td>NaN</td>\n",
       "      <td>377.0</td>\n",
       "      <td>12313.0</td>\n",
       "      <td>NaN</td>\n",
       "      <td>3979.0</td>\n",
       "      <td>31477.0</td>\n",
       "      <td>535.0</td>\n",
       "      <td>1416.0</td>\n",
       "    </tr>\n",
       "    <tr>\n",
       "      <th>19</th>\n",
       "      <td>2004</td>\n",
       "      <td>146.0</td>\n",
       "      <td>2.0</td>\n",
       "      <td>3121.0</td>\n",
       "      <td>NaN</td>\n",
       "      <td>8.0</td>\n",
       "      <td>2114.0</td>\n",
       "      <td>1422.0</td>\n",
       "      <td>108.0</td>\n",
       "      <td>2.0</td>\n",
       "      <td>...</td>\n",
       "      <td>4296.0</td>\n",
       "      <td>168.0</td>\n",
       "      <td>NaN</td>\n",
       "      <td>392.0</td>\n",
       "      <td>11256.0</td>\n",
       "      <td>NaN</td>\n",
       "      <td>4183.0</td>\n",
       "      <td>32428.0</td>\n",
       "      <td>520.0</td>\n",
       "      <td>1251.0</td>\n",
       "    </tr>\n",
       "    <tr>\n",
       "      <th>20</th>\n",
       "      <td>2005</td>\n",
       "      <td>0.0</td>\n",
       "      <td>0.0</td>\n",
       "      <td>3058.0</td>\n",
       "      <td>NaN</td>\n",
       "      <td>10.0</td>\n",
       "      <td>NaN</td>\n",
       "      <td>1399.0</td>\n",
       "      <td>NaN</td>\n",
       "      <td>4.0</td>\n",
       "      <td>...</td>\n",
       "      <td>3937.0</td>\n",
       "      <td>136.0</td>\n",
       "      <td>NaN</td>\n",
       "      <td>468.0</td>\n",
       "      <td>10621.0</td>\n",
       "      <td>96.0</td>\n",
       "      <td>4047.0</td>\n",
       "      <td>32629.0</td>\n",
       "      <td>498.0</td>\n",
       "      <td>1221.0</td>\n",
       "    </tr>\n",
       "    <tr>\n",
       "      <th>21</th>\n",
       "      <td>2006</td>\n",
       "      <td>0.0</td>\n",
       "      <td>0.0</td>\n",
       "      <td>3108.0</td>\n",
       "      <td>78.0</td>\n",
       "      <td>9.0</td>\n",
       "      <td>2117.0</td>\n",
       "      <td>1297.0</td>\n",
       "      <td>NaN</td>\n",
       "      <td>2.0</td>\n",
       "      <td>...</td>\n",
       "      <td>3608.0</td>\n",
       "      <td>141.0</td>\n",
       "      <td>NaN</td>\n",
       "      <td>506.0</td>\n",
       "      <td>10013.0</td>\n",
       "      <td>90.0</td>\n",
       "      <td>4122.0</td>\n",
       "      <td>33292.0</td>\n",
       "      <td>528.0</td>\n",
       "      <td>NaN</td>\n",
       "    </tr>\n",
       "    <tr>\n",
       "      <th>22</th>\n",
       "      <td>2007</td>\n",
       "      <td>124.0</td>\n",
       "      <td>1.0</td>\n",
       "      <td>2946.0</td>\n",
       "      <td>71.0</td>\n",
       "      <td>8.0</td>\n",
       "      <td>2229.0</td>\n",
       "      <td>1285.0</td>\n",
       "      <td>55.0</td>\n",
       "      <td>5.0</td>\n",
       "      <td>...</td>\n",
       "      <td>3754.0</td>\n",
       "      <td>131.0</td>\n",
       "      <td>NaN</td>\n",
       "      <td>354.0</td>\n",
       "      <td>10032.0</td>\n",
       "      <td>101.0</td>\n",
       "      <td>3897.0</td>\n",
       "      <td>34596.0</td>\n",
       "      <td>576.0</td>\n",
       "      <td>NaN</td>\n",
       "    </tr>\n",
       "    <tr>\n",
       "      <th>23</th>\n",
       "      <td>2008</td>\n",
       "      <td>160.0</td>\n",
       "      <td>0.0</td>\n",
       "      <td>3059.0</td>\n",
       "      <td>63.0</td>\n",
       "      <td>4.0</td>\n",
       "      <td>2341.0</td>\n",
       "      <td>1267.0</td>\n",
       "      <td>NaN</td>\n",
       "      <td>4.0</td>\n",
       "      <td>...</td>\n",
       "      <td>3778.0</td>\n",
       "      <td>199.0</td>\n",
       "      <td>NaN</td>\n",
       "      <td>484.0</td>\n",
       "      <td>9454.0</td>\n",
       "      <td>100.0</td>\n",
       "      <td>4259.0</td>\n",
       "      <td>36030.0</td>\n",
       "      <td>523.0</td>\n",
       "      <td>NaN</td>\n",
       "    </tr>\n",
       "    <tr>\n",
       "      <th>24</th>\n",
       "      <td>2009</td>\n",
       "      <td>0.0</td>\n",
       "      <td>0.0</td>\n",
       "      <td>2884.0</td>\n",
       "      <td>53.0</td>\n",
       "      <td>4.0</td>\n",
       "      <td>2337.0</td>\n",
       "      <td>1278.0</td>\n",
       "      <td>NaN</td>\n",
       "      <td>6.0</td>\n",
       "      <td>...</td>\n",
       "      <td>3787.0</td>\n",
       "      <td>128.0</td>\n",
       "      <td>1050.0</td>\n",
       "      <td>165.0</td>\n",
       "      <td>9715.0</td>\n",
       "      <td>124.0</td>\n",
       "      <td>4246.0</td>\n",
       "      <td>36900.0</td>\n",
       "      <td>511.0</td>\n",
       "      <td>1399.0</td>\n",
       "    </tr>\n",
       "    <tr>\n",
       "      <th>25</th>\n",
       "      <td>2010</td>\n",
       "      <td>96.0</td>\n",
       "      <td>NaN</td>\n",
       "      <td>2943.0</td>\n",
       "      <td>73.0</td>\n",
       "      <td>7.0</td>\n",
       "      <td>2420.0</td>\n",
       "      <td>1264.0</td>\n",
       "      <td>NaN</td>\n",
       "      <td>10.0</td>\n",
       "      <td>...</td>\n",
       "      <td>3761.0</td>\n",
       "      <td>160.0</td>\n",
       "      <td>1524.0</td>\n",
       "      <td>178.0</td>\n",
       "      <td>9089.0</td>\n",
       "      <td>111.0</td>\n",
       "      <td>4188.0</td>\n",
       "      <td>38362.0</td>\n",
       "      <td>547.0</td>\n",
       "      <td>1464.0</td>\n",
       "    </tr>\n",
       "    <tr>\n",
       "      <th>26</th>\n",
       "      <td>2011</td>\n",
       "      <td>NaN</td>\n",
       "      <td>NaN</td>\n",
       "      <td>2912.0</td>\n",
       "      <td>67.0</td>\n",
       "      <td>9.0</td>\n",
       "      <td>2392.0</td>\n",
       "      <td>1288.0</td>\n",
       "      <td>NaN</td>\n",
       "      <td>4.0</td>\n",
       "      <td>...</td>\n",
       "      <td>3873.0</td>\n",
       "      <td>139.0</td>\n",
       "      <td>1148.0</td>\n",
       "      <td>130.0</td>\n",
       "      <td>8973.0</td>\n",
       "      <td>NaN</td>\n",
       "      <td>4393.0</td>\n",
       "      <td>39508.0</td>\n",
       "      <td>NaN</td>\n",
       "      <td>1640.0</td>\n",
       "    </tr>\n",
       "    <tr>\n",
       "      <th>27</th>\n",
       "      <td>2012</td>\n",
       "      <td>NaN</td>\n",
       "      <td>0.0</td>\n",
       "      <td>3248.0</td>\n",
       "      <td>79.0</td>\n",
       "      <td>NaN</td>\n",
       "      <td>2580.0</td>\n",
       "      <td>1276.0</td>\n",
       "      <td>NaN</td>\n",
       "      <td>5.0</td>\n",
       "      <td>...</td>\n",
       "      <td>3985.0</td>\n",
       "      <td>NaN</td>\n",
       "      <td>1450.0</td>\n",
       "      <td>138.0</td>\n",
       "      <td>9058.0</td>\n",
       "      <td>NaN</td>\n",
       "      <td>4444.0</td>\n",
       "      <td>40596.0</td>\n",
       "      <td>599.0</td>\n",
       "      <td>1835.0</td>\n",
       "    </tr>\n",
       "    <tr>\n",
       "      <th>28</th>\n",
       "      <td>2013</td>\n",
       "      <td>NaN</td>\n",
       "      <td>0.0</td>\n",
       "      <td>2987.0</td>\n",
       "      <td>67.0</td>\n",
       "      <td>NaN</td>\n",
       "      <td>2608.0</td>\n",
       "      <td>1291.0</td>\n",
       "      <td>NaN</td>\n",
       "      <td>5.0</td>\n",
       "      <td>...</td>\n",
       "      <td>3961.0</td>\n",
       "      <td>NaN</td>\n",
       "      <td>1810.0</td>\n",
       "      <td>101.0</td>\n",
       "      <td>NaN</td>\n",
       "      <td>NaN</td>\n",
       "      <td>4824.0</td>\n",
       "      <td>41143.0</td>\n",
       "      <td>546.0</td>\n",
       "      <td>1950.0</td>\n",
       "    </tr>\n",
       "    <tr>\n",
       "      <th>29</th>\n",
       "      <td>2014</td>\n",
       "      <td>NaN</td>\n",
       "      <td>0.0</td>\n",
       "      <td>3231.0</td>\n",
       "      <td>58.0</td>\n",
       "      <td>NaN</td>\n",
       "      <td>2891.0</td>\n",
       "      <td>1314.0</td>\n",
       "      <td>NaN</td>\n",
       "      <td>NaN</td>\n",
       "      <td>...</td>\n",
       "      <td>3952.0</td>\n",
       "      <td>NaN</td>\n",
       "      <td>1617.0</td>\n",
       "      <td>136.0</td>\n",
       "      <td>7968.0</td>\n",
       "      <td>NaN</td>\n",
       "      <td>4788.0</td>\n",
       "      <td>42769.0</td>\n",
       "      <td>591.0</td>\n",
       "      <td>2095.0</td>\n",
       "    </tr>\n",
       "    <tr>\n",
       "      <th>30</th>\n",
       "      <td>2015</td>\n",
       "      <td>NaN</td>\n",
       "      <td>1.0</td>\n",
       "      <td>3073.0</td>\n",
       "      <td>74.0</td>\n",
       "      <td>NaN</td>\n",
       "      <td>3027.0</td>\n",
       "      <td>1251.0</td>\n",
       "      <td>NaN</td>\n",
       "      <td>NaN</td>\n",
       "      <td>...</td>\n",
       "      <td>4205.0</td>\n",
       "      <td>NaN</td>\n",
       "      <td>1532.0</td>\n",
       "      <td>133.0</td>\n",
       "      <td>7574.0</td>\n",
       "      <td>NaN</td>\n",
       "      <td>4910.0</td>\n",
       "      <td>44189.0</td>\n",
       "      <td>630.0</td>\n",
       "      <td>NaN</td>\n",
       "    </tr>\n",
       "    <tr>\n",
       "      <th>31</th>\n",
       "      <td>2016</td>\n",
       "      <td>NaN</td>\n",
       "      <td>NaN</td>\n",
       "      <td>NaN</td>\n",
       "      <td>67.0</td>\n",
       "      <td>NaN</td>\n",
       "      <td>NaN</td>\n",
       "      <td>1201.0</td>\n",
       "      <td>NaN</td>\n",
       "      <td>NaN</td>\n",
       "      <td>...</td>\n",
       "      <td>4117.0</td>\n",
       "      <td>NaN</td>\n",
       "      <td>NaN</td>\n",
       "      <td>NaN</td>\n",
       "      <td>NaN</td>\n",
       "      <td>NaN</td>\n",
       "      <td>NaN</td>\n",
       "      <td>NaN</td>\n",
       "      <td>NaN</td>\n",
       "      <td>NaN</td>\n",
       "    </tr>\n",
       "  </tbody>\n",
       "</table>\n",
       "<p>32 rows × 102 columns</p>\n",
       "</div>"
      ],
      "text/plain": [
       "country  year  Albania  Antigua and Barbuda  Argentina  Armenia  Aruba  \\\n",
       "0        1985      NaN                  0.0     1988.0      NaN    NaN   \n",
       "1        1986      NaN                  0.0     2284.0      NaN    NaN   \n",
       "2        1987     73.0                  0.0     2286.0      NaN    NaN   \n",
       "3        1988     63.0                  0.0     2354.0      NaN    NaN   \n",
       "4        1989     68.0                  0.0     2247.0      NaN    NaN   \n",
       "5        1990      NaN                  1.0     2140.0     93.0    NaN   \n",
       "6        1991      NaN                  0.0     1951.0     80.0    NaN   \n",
       "7        1992     47.0                  0.0     2184.0     83.0    NaN   \n",
       "8        1993     73.0                  1.0     2230.0    106.0    NaN   \n",
       "9        1994     50.0                  0.0     2241.0    112.0    NaN   \n",
       "10       1995     88.0                  0.0     2204.0    130.0    8.0   \n",
       "11       1996     89.0                  NaN     2229.0     87.0    NaN   \n",
       "12       1997    170.0                  NaN     2184.0     77.0    NaN   \n",
       "13       1998    154.0                  0.0     2347.0     66.0    NaN   \n",
       "14       1999    139.0                  0.0     2423.0     67.0    9.0   \n",
       "15       2000     54.0                  2.0     2774.0     61.0   10.0   \n",
       "16       2001    119.0                  2.0     3132.0     60.0    4.0   \n",
       "17       2002    133.0                  0.0     3162.0     74.0    9.0   \n",
       "18       2003    124.0                  1.0     3289.0     59.0    2.0   \n",
       "19       2004    146.0                  2.0     3121.0      NaN    8.0   \n",
       "20       2005      0.0                  0.0     3058.0      NaN   10.0   \n",
       "21       2006      0.0                  0.0     3108.0     78.0    9.0   \n",
       "22       2007    124.0                  1.0     2946.0     71.0    8.0   \n",
       "23       2008    160.0                  0.0     3059.0     63.0    4.0   \n",
       "24       2009      0.0                  0.0     2884.0     53.0    4.0   \n",
       "25       2010     96.0                  NaN     2943.0     73.0    7.0   \n",
       "26       2011      NaN                  NaN     2912.0     67.0    9.0   \n",
       "27       2012      NaN                  0.0     3248.0     79.0    NaN   \n",
       "28       2013      NaN                  0.0     2987.0     67.0    NaN   \n",
       "29       2014      NaN                  0.0     3231.0     58.0    NaN   \n",
       "30       2015      NaN                  1.0     3073.0     74.0    NaN   \n",
       "31       2016      NaN                  NaN        NaN     67.0    NaN   \n",
       "\n",
       "country  Australia  Austria  Azerbaijan  Bahamas  ...  Thailand  \\\n",
       "0           1861.0   2091.0         NaN      1.0  ...    2982.0   \n",
       "1           2044.0   2139.0         NaN      NaN  ...    2798.0   \n",
       "2           2164.0   2069.0         NaN      3.0  ...    3035.0   \n",
       "3           2172.0   1851.0         NaN      NaN  ...       NaN   \n",
       "4           2066.0   1898.0         NaN      NaN  ...       NaN   \n",
       "5           2202.0   1825.0       114.0      NaN  ...    3753.0   \n",
       "6           2288.0   1769.0       134.0      NaN  ...    3559.0   \n",
       "7           2251.0   1759.0       144.0      NaN  ...    3550.0   \n",
       "8           2038.0   1704.0       119.0      7.0  ...       NaN   \n",
       "9           2283.0   1776.0        47.0      3.0  ...    2307.0   \n",
       "10          2170.0   1788.0        49.0      2.0  ...    4245.0   \n",
       "11          2426.0   1779.0        69.0      3.0  ...    4443.0   \n",
       "12          2646.0   1592.0       107.0      2.0  ...    4150.0   \n",
       "13          2632.0   1559.0        56.0      3.0  ...    4963.0   \n",
       "14          2488.0   1555.0        54.0      6.0  ...    5276.0   \n",
       "15          2391.0   1588.0        62.0     11.0  ...    5182.0   \n",
       "16          2458.0   1489.0       317.0      1.0  ...       NaN   \n",
       "17          2319.0   1553.0        92.0      3.0  ...    4902.0   \n",
       "18          2156.0   1456.0       129.0      1.0  ...    4484.0   \n",
       "19          2114.0   1422.0       108.0      2.0  ...    4296.0   \n",
       "20             NaN   1399.0         NaN      4.0  ...    3937.0   \n",
       "21          2117.0   1297.0         NaN      2.0  ...    3608.0   \n",
       "22          2229.0   1285.0        55.0      5.0  ...    3754.0   \n",
       "23          2341.0   1267.0         NaN      4.0  ...    3778.0   \n",
       "24          2337.0   1278.0         NaN      6.0  ...    3787.0   \n",
       "25          2420.0   1264.0         NaN     10.0  ...    3761.0   \n",
       "26          2392.0   1288.0         NaN      4.0  ...    3873.0   \n",
       "27          2580.0   1276.0         NaN      5.0  ...    3985.0   \n",
       "28          2608.0   1291.0         NaN      5.0  ...    3961.0   \n",
       "29          2891.0   1314.0         NaN      NaN  ...    3952.0   \n",
       "30          3027.0   1251.0         NaN      NaN  ...    4205.0   \n",
       "31             NaN   1201.0         NaN      NaN  ...    4117.0   \n",
       "\n",
       "country  Trinidad and Tobago  Turkey  Turkmenistan  Ukraine  \\\n",
       "0                       29.0     NaN           NaN      NaN   \n",
       "1                      104.0     NaN           NaN      NaN   \n",
       "2                      119.0     NaN         272.0  10050.0   \n",
       "3                      164.0     NaN         270.0   9751.0   \n",
       "4                      173.0     NaN         253.0  10887.0   \n",
       "5                      170.0     NaN         298.0  10645.0   \n",
       "6                      148.0     NaN         273.0  10700.0   \n",
       "7                      163.0     NaN         271.0  11666.0   \n",
       "8                      174.0     NaN         240.0  12469.0   \n",
       "9                      148.0     NaN         234.0  13826.0   \n",
       "10                     184.0     NaN         244.0  14541.0   \n",
       "11                     146.0     NaN         283.0  15160.0   \n",
       "12                     160.0     NaN         333.0  14903.0   \n",
       "13                     171.0     NaN         405.0  14789.0   \n",
       "14                     139.0     NaN         442.0  14363.0   \n",
       "15                     166.0     NaN         383.0  14467.0   \n",
       "16                     179.0     NaN         445.0  13131.0   \n",
       "17                     156.0     NaN         416.0  12536.0   \n",
       "18                     144.0     NaN         377.0  12313.0   \n",
       "19                     168.0     NaN         392.0  11256.0   \n",
       "20                     136.0     NaN         468.0  10621.0   \n",
       "21                     141.0     NaN         506.0  10013.0   \n",
       "22                     131.0     NaN         354.0  10032.0   \n",
       "23                     199.0     NaN         484.0   9454.0   \n",
       "24                     128.0  1050.0         165.0   9715.0   \n",
       "25                     160.0  1524.0         178.0   9089.0   \n",
       "26                     139.0  1148.0         130.0   8973.0   \n",
       "27                       NaN  1450.0         138.0   9058.0   \n",
       "28                       NaN  1810.0         101.0      NaN   \n",
       "29                       NaN  1617.0         136.0   7968.0   \n",
       "30                       NaN  1532.0         133.0   7574.0   \n",
       "31                       NaN     NaN           NaN      NaN   \n",
       "\n",
       "country  United Arab Emirates  United Kingdom  United States  Uruguay  \\\n",
       "0                         NaN          5105.0        29446.0    287.0   \n",
       "1                         NaN          4839.0        30892.0    262.0   \n",
       "2                         NaN          4594.0        30783.0    258.0   \n",
       "3                         NaN          4971.0        30388.0    268.0   \n",
       "4                         NaN          4361.0        30218.0    344.0   \n",
       "5                         NaN          4643.0        30895.0    315.0   \n",
       "6                         NaN          4547.0        30790.0      NaN   \n",
       "7                         NaN          4628.0        30471.0      NaN   \n",
       "8                         NaN          4462.0        31084.0    418.0   \n",
       "9                         NaN          4380.0        31123.0    406.0   \n",
       "10                        NaN          4315.0        31272.0    427.0   \n",
       "11                        NaN          4165.0        30879.0    393.0   \n",
       "12                        NaN          4143.0        30517.0    456.0   \n",
       "13                        NaN          4389.0        30558.0    521.0   \n",
       "14                        NaN          4448.0        29183.0    450.0   \n",
       "15                        NaN          4290.0        29343.0    555.0   \n",
       "16                        NaN          4128.0        30607.0    499.0   \n",
       "17                        NaN          4117.0        31645.0    675.0   \n",
       "18                        NaN          3979.0        31477.0    535.0   \n",
       "19                        NaN          4183.0        32428.0    520.0   \n",
       "20                       96.0          4047.0        32629.0    498.0   \n",
       "21                       90.0          4122.0        33292.0    528.0   \n",
       "22                      101.0          3897.0        34596.0    576.0   \n",
       "23                      100.0          4259.0        36030.0    523.0   \n",
       "24                      124.0          4246.0        36900.0    511.0   \n",
       "25                      111.0          4188.0        38362.0    547.0   \n",
       "26                        NaN          4393.0        39508.0      NaN   \n",
       "27                        NaN          4444.0        40596.0    599.0   \n",
       "28                        NaN          4824.0        41143.0    546.0   \n",
       "29                        NaN          4788.0        42769.0    591.0   \n",
       "30                        NaN          4910.0        44189.0    630.0   \n",
       "31                        NaN             NaN            NaN      NaN   \n",
       "\n",
       "country  Uzbekistan  \n",
       "0               NaN  \n",
       "1               NaN  \n",
       "2               NaN  \n",
       "3               NaN  \n",
       "4               NaN  \n",
       "5            1459.0  \n",
       "6            1393.0  \n",
       "7            1344.0  \n",
       "8            1355.0  \n",
       "9            1419.0  \n",
       "10           1485.0  \n",
       "11           1699.0  \n",
       "12           1554.0  \n",
       "13           1620.0  \n",
       "14           1795.0  \n",
       "15           1919.0  \n",
       "16           1914.0  \n",
       "17           1576.0  \n",
       "18           1416.0  \n",
       "19           1251.0  \n",
       "20           1221.0  \n",
       "21              NaN  \n",
       "22              NaN  \n",
       "23              NaN  \n",
       "24           1399.0  \n",
       "25           1464.0  \n",
       "26           1640.0  \n",
       "27           1835.0  \n",
       "28           1950.0  \n",
       "29           2095.0  \n",
       "30              NaN  \n",
       "31              NaN  \n",
       "\n",
       "[32 rows x 102 columns]"
      ]
     },
     "execution_count": 8,
     "metadata": {},
     "output_type": "execute_result"
    }
   ],
   "source": [
    "#pivot for making easier the ploting\n",
    "data_suicides_pivot = pd.pivot_table(data_suicides, index = 'year', columns = 'country', values = 'suicides_no')\n",
    "data_suicides_pivot = data_suicides_pivot.reset_index(drop = False)\n",
    "data_suicides_pivot"
   ]
  },
  {
   "cell_type": "code",
   "execution_count": 9,
   "metadata": {},
   "outputs": [
    {
     "data": {
      "application/vnd.plotly.v1+json": {
       "config": {
        "linkText": "Export to plot.ly",
        "plotlyServerURL": "https://plot.ly",
        "showLink": true
       },
       "data": [
        {
         "line": {
          "color": "rgba(255, 153, 51, 1.0)",
          "dash": "solid",
          "shape": "linear",
          "width": 1.3
         },
         "mode": "lines",
         "name": "Austria",
         "text": "",
         "type": "scatter",
         "x": [
          1985,
          1986,
          1987,
          1988,
          1989,
          1990,
          1991,
          1992,
          1993,
          1994,
          1995,
          1996,
          1997,
          1998,
          1999,
          2000,
          2001,
          2002,
          2003,
          2004,
          2005,
          2006,
          2007,
          2008,
          2009,
          2010,
          2011,
          2012,
          2013,
          2014,
          2015,
          2016
         ],
         "y": [
          2091,
          2139,
          2069,
          1851,
          1898,
          1825,
          1769,
          1759,
          1704,
          1776,
          1788,
          1779,
          1592,
          1559,
          1555,
          1588,
          1489,
          1553,
          1456,
          1422,
          1399,
          1297,
          1285,
          1267,
          1278,
          1264,
          1288,
          1276,
          1291,
          1314,
          1251,
          1201
         ]
        },
        {
         "line": {
          "color": "rgba(55, 128, 191, 1.0)",
          "dash": "solid",
          "shape": "linear",
          "width": 1.3
         },
         "mode": "lines",
         "name": "Iceland",
         "text": "",
         "type": "scatter",
         "x": [
          1985,
          1986,
          1987,
          1988,
          1989,
          1990,
          1991,
          1992,
          1993,
          1994,
          1995,
          1996,
          1997,
          1998,
          1999,
          2000,
          2001,
          2002,
          2003,
          2004,
          2005,
          2006,
          2007,
          2008,
          2009,
          2010,
          2011,
          2012,
          2013,
          2014,
          2015,
          2016
         ],
         "y": [
          32,
          37,
          36,
          35,
          22,
          40,
          37,
          28,
          26,
          25,
          27,
          33,
          33,
          30,
          31,
          50,
          36,
          30,
          26,
          35,
          33,
          32,
          37,
          38,
          36,
          46,
          27,
          37,
          49,
          44,
          40,
          40
         ]
        },
        {
         "line": {
          "color": "rgba(50, 171, 96, 1.0)",
          "dash": "solid",
          "shape": "linear",
          "width": 1.3
         },
         "mode": "lines",
         "name": "Mauritius",
         "text": "",
         "type": "scatter",
         "x": [
          1985,
          1986,
          1987,
          1988,
          1989,
          1990,
          1991,
          1992,
          1993,
          1994,
          1995,
          1996,
          1997,
          1998,
          1999,
          2000,
          2001,
          2002,
          2003,
          2004,
          2005,
          2006,
          2007,
          2008,
          2009,
          2010,
          2011,
          2012,
          2013,
          2014,
          2015,
          2016
         ],
         "y": [
          104,
          28,
          140,
          167,
          144,
          147,
          137,
          146,
          138,
          129,
          147,
          153,
          122,
          155,
          174,
          137,
          113,
          131,
          88,
          97,
          102,
          118,
          127,
          84,
          115,
          98,
          118,
          115,
          98,
          120,
          104,
          98
         ]
        },
        {
         "line": {
          "color": "rgba(128, 0, 128, 1.0)",
          "dash": "solid",
          "shape": "linear",
          "width": 1.3
         },
         "mode": "lines",
         "name": "Netherlands",
         "text": "",
         "type": "scatter",
         "x": [
          1985,
          1986,
          1987,
          1988,
          1989,
          1990,
          1991,
          1992,
          1993,
          1994,
          1995,
          1996,
          1997,
          1998,
          1999,
          2000,
          2001,
          2002,
          2003,
          2004,
          2005,
          2006,
          2007,
          2008,
          2009,
          2010,
          2011,
          2012,
          2013,
          2014,
          2015,
          2016
         ],
         "y": [
          1638,
          1604,
          1616,
          1523,
          1520,
          1450,
          1611,
          1587,
          1555,
          1584,
          1511,
          1577,
          1572,
          1519,
          1519,
          1501,
          1474,
          1570,
          1502,
          1514,
          1574,
          1525,
          1354,
          1439,
          1530,
          1604,
          1650,
          1756,
          1856,
          1839,
          1873,
          1886
         ]
        }
       ],
       "layout": {
        "legend": {
         "bgcolor": "#F5F6F9",
         "font": {
          "color": "#4D5663"
         }
        },
        "paper_bgcolor": "#F5F6F9",
        "plot_bgcolor": "#F5F6F9",
        "template": {
         "data": {
          "bar": [
           {
            "error_x": {
             "color": "#2a3f5f"
            },
            "error_y": {
             "color": "#2a3f5f"
            },
            "marker": {
             "line": {
              "color": "#E5ECF6",
              "width": 0.5
             }
            },
            "type": "bar"
           }
          ],
          "barpolar": [
           {
            "marker": {
             "line": {
              "color": "#E5ECF6",
              "width": 0.5
             }
            },
            "type": "barpolar"
           }
          ],
          "carpet": [
           {
            "aaxis": {
             "endlinecolor": "#2a3f5f",
             "gridcolor": "white",
             "linecolor": "white",
             "minorgridcolor": "white",
             "startlinecolor": "#2a3f5f"
            },
            "baxis": {
             "endlinecolor": "#2a3f5f",
             "gridcolor": "white",
             "linecolor": "white",
             "minorgridcolor": "white",
             "startlinecolor": "#2a3f5f"
            },
            "type": "carpet"
           }
          ],
          "choropleth": [
           {
            "colorbar": {
             "outlinewidth": 0,
             "ticks": ""
            },
            "type": "choropleth"
           }
          ],
          "contour": [
           {
            "colorbar": {
             "outlinewidth": 0,
             "ticks": ""
            },
            "colorscale": [
             [
              0,
              "#0d0887"
             ],
             [
              0.1111111111111111,
              "#46039f"
             ],
             [
              0.2222222222222222,
              "#7201a8"
             ],
             [
              0.3333333333333333,
              "#9c179e"
             ],
             [
              0.4444444444444444,
              "#bd3786"
             ],
             [
              0.5555555555555556,
              "#d8576b"
             ],
             [
              0.6666666666666666,
              "#ed7953"
             ],
             [
              0.7777777777777778,
              "#fb9f3a"
             ],
             [
              0.8888888888888888,
              "#fdca26"
             ],
             [
              1,
              "#f0f921"
             ]
            ],
            "type": "contour"
           }
          ],
          "contourcarpet": [
           {
            "colorbar": {
             "outlinewidth": 0,
             "ticks": ""
            },
            "type": "contourcarpet"
           }
          ],
          "heatmap": [
           {
            "colorbar": {
             "outlinewidth": 0,
             "ticks": ""
            },
            "colorscale": [
             [
              0,
              "#0d0887"
             ],
             [
              0.1111111111111111,
              "#46039f"
             ],
             [
              0.2222222222222222,
              "#7201a8"
             ],
             [
              0.3333333333333333,
              "#9c179e"
             ],
             [
              0.4444444444444444,
              "#bd3786"
             ],
             [
              0.5555555555555556,
              "#d8576b"
             ],
             [
              0.6666666666666666,
              "#ed7953"
             ],
             [
              0.7777777777777778,
              "#fb9f3a"
             ],
             [
              0.8888888888888888,
              "#fdca26"
             ],
             [
              1,
              "#f0f921"
             ]
            ],
            "type": "heatmap"
           }
          ],
          "heatmapgl": [
           {
            "colorbar": {
             "outlinewidth": 0,
             "ticks": ""
            },
            "colorscale": [
             [
              0,
              "#0d0887"
             ],
             [
              0.1111111111111111,
              "#46039f"
             ],
             [
              0.2222222222222222,
              "#7201a8"
             ],
             [
              0.3333333333333333,
              "#9c179e"
             ],
             [
              0.4444444444444444,
              "#bd3786"
             ],
             [
              0.5555555555555556,
              "#d8576b"
             ],
             [
              0.6666666666666666,
              "#ed7953"
             ],
             [
              0.7777777777777778,
              "#fb9f3a"
             ],
             [
              0.8888888888888888,
              "#fdca26"
             ],
             [
              1,
              "#f0f921"
             ]
            ],
            "type": "heatmapgl"
           }
          ],
          "histogram": [
           {
            "marker": {
             "colorbar": {
              "outlinewidth": 0,
              "ticks": ""
             }
            },
            "type": "histogram"
           }
          ],
          "histogram2d": [
           {
            "colorbar": {
             "outlinewidth": 0,
             "ticks": ""
            },
            "colorscale": [
             [
              0,
              "#0d0887"
             ],
             [
              0.1111111111111111,
              "#46039f"
             ],
             [
              0.2222222222222222,
              "#7201a8"
             ],
             [
              0.3333333333333333,
              "#9c179e"
             ],
             [
              0.4444444444444444,
              "#bd3786"
             ],
             [
              0.5555555555555556,
              "#d8576b"
             ],
             [
              0.6666666666666666,
              "#ed7953"
             ],
             [
              0.7777777777777778,
              "#fb9f3a"
             ],
             [
              0.8888888888888888,
              "#fdca26"
             ],
             [
              1,
              "#f0f921"
             ]
            ],
            "type": "histogram2d"
           }
          ],
          "histogram2dcontour": [
           {
            "colorbar": {
             "outlinewidth": 0,
             "ticks": ""
            },
            "colorscale": [
             [
              0,
              "#0d0887"
             ],
             [
              0.1111111111111111,
              "#46039f"
             ],
             [
              0.2222222222222222,
              "#7201a8"
             ],
             [
              0.3333333333333333,
              "#9c179e"
             ],
             [
              0.4444444444444444,
              "#bd3786"
             ],
             [
              0.5555555555555556,
              "#d8576b"
             ],
             [
              0.6666666666666666,
              "#ed7953"
             ],
             [
              0.7777777777777778,
              "#fb9f3a"
             ],
             [
              0.8888888888888888,
              "#fdca26"
             ],
             [
              1,
              "#f0f921"
             ]
            ],
            "type": "histogram2dcontour"
           }
          ],
          "mesh3d": [
           {
            "colorbar": {
             "outlinewidth": 0,
             "ticks": ""
            },
            "type": "mesh3d"
           }
          ],
          "parcoords": [
           {
            "line": {
             "colorbar": {
              "outlinewidth": 0,
              "ticks": ""
             }
            },
            "type": "parcoords"
           }
          ],
          "scatter": [
           {
            "marker": {
             "colorbar": {
              "outlinewidth": 0,
              "ticks": ""
             }
            },
            "type": "scatter"
           }
          ],
          "scatter3d": [
           {
            "line": {
             "colorbar": {
              "outlinewidth": 0,
              "ticks": ""
             }
            },
            "marker": {
             "colorbar": {
              "outlinewidth": 0,
              "ticks": ""
             }
            },
            "type": "scatter3d"
           }
          ],
          "scattercarpet": [
           {
            "marker": {
             "colorbar": {
              "outlinewidth": 0,
              "ticks": ""
             }
            },
            "type": "scattercarpet"
           }
          ],
          "scattergeo": [
           {
            "marker": {
             "colorbar": {
              "outlinewidth": 0,
              "ticks": ""
             }
            },
            "type": "scattergeo"
           }
          ],
          "scattergl": [
           {
            "marker": {
             "colorbar": {
              "outlinewidth": 0,
              "ticks": ""
             }
            },
            "type": "scattergl"
           }
          ],
          "scattermapbox": [
           {
            "marker": {
             "colorbar": {
              "outlinewidth": 0,
              "ticks": ""
             }
            },
            "type": "scattermapbox"
           }
          ],
          "scatterpolar": [
           {
            "marker": {
             "colorbar": {
              "outlinewidth": 0,
              "ticks": ""
             }
            },
            "type": "scatterpolar"
           }
          ],
          "scatterpolargl": [
           {
            "marker": {
             "colorbar": {
              "outlinewidth": 0,
              "ticks": ""
             }
            },
            "type": "scatterpolargl"
           }
          ],
          "scatterternary": [
           {
            "marker": {
             "colorbar": {
              "outlinewidth": 0,
              "ticks": ""
             }
            },
            "type": "scatterternary"
           }
          ],
          "surface": [
           {
            "colorbar": {
             "outlinewidth": 0,
             "ticks": ""
            },
            "colorscale": [
             [
              0,
              "#0d0887"
             ],
             [
              0.1111111111111111,
              "#46039f"
             ],
             [
              0.2222222222222222,
              "#7201a8"
             ],
             [
              0.3333333333333333,
              "#9c179e"
             ],
             [
              0.4444444444444444,
              "#bd3786"
             ],
             [
              0.5555555555555556,
              "#d8576b"
             ],
             [
              0.6666666666666666,
              "#ed7953"
             ],
             [
              0.7777777777777778,
              "#fb9f3a"
             ],
             [
              0.8888888888888888,
              "#fdca26"
             ],
             [
              1,
              "#f0f921"
             ]
            ],
            "type": "surface"
           }
          ],
          "table": [
           {
            "cells": {
             "fill": {
              "color": "#EBF0F8"
             },
             "line": {
              "color": "white"
             }
            },
            "header": {
             "fill": {
              "color": "#C8D4E3"
             },
             "line": {
              "color": "white"
             }
            },
            "type": "table"
           }
          ]
         },
         "layout": {
          "annotationdefaults": {
           "arrowcolor": "#2a3f5f",
           "arrowhead": 0,
           "arrowwidth": 1
          },
          "colorscale": {
           "diverging": [
            [
             0,
             "#8e0152"
            ],
            [
             0.1,
             "#c51b7d"
            ],
            [
             0.2,
             "#de77ae"
            ],
            [
             0.3,
             "#f1b6da"
            ],
            [
             0.4,
             "#fde0ef"
            ],
            [
             0.5,
             "#f7f7f7"
            ],
            [
             0.6,
             "#e6f5d0"
            ],
            [
             0.7,
             "#b8e186"
            ],
            [
             0.8,
             "#7fbc41"
            ],
            [
             0.9,
             "#4d9221"
            ],
            [
             1,
             "#276419"
            ]
           ],
           "sequential": [
            [
             0,
             "#0d0887"
            ],
            [
             0.1111111111111111,
             "#46039f"
            ],
            [
             0.2222222222222222,
             "#7201a8"
            ],
            [
             0.3333333333333333,
             "#9c179e"
            ],
            [
             0.4444444444444444,
             "#bd3786"
            ],
            [
             0.5555555555555556,
             "#d8576b"
            ],
            [
             0.6666666666666666,
             "#ed7953"
            ],
            [
             0.7777777777777778,
             "#fb9f3a"
            ],
            [
             0.8888888888888888,
             "#fdca26"
            ],
            [
             1,
             "#f0f921"
            ]
           ],
           "sequentialminus": [
            [
             0,
             "#0d0887"
            ],
            [
             0.1111111111111111,
             "#46039f"
            ],
            [
             0.2222222222222222,
             "#7201a8"
            ],
            [
             0.3333333333333333,
             "#9c179e"
            ],
            [
             0.4444444444444444,
             "#bd3786"
            ],
            [
             0.5555555555555556,
             "#d8576b"
            ],
            [
             0.6666666666666666,
             "#ed7953"
            ],
            [
             0.7777777777777778,
             "#fb9f3a"
            ],
            [
             0.8888888888888888,
             "#fdca26"
            ],
            [
             1,
             "#f0f921"
            ]
           ]
          },
          "colorway": [
           "#636efa",
           "#EF553B",
           "#00cc96",
           "#ab63fa",
           "#FFA15A",
           "#19d3f3",
           "#FF6692",
           "#B6E880",
           "#FF97FF",
           "#FECB52"
          ],
          "font": {
           "color": "#2a3f5f"
          },
          "geo": {
           "bgcolor": "white",
           "lakecolor": "white",
           "landcolor": "#E5ECF6",
           "showlakes": true,
           "showland": true,
           "subunitcolor": "white"
          },
          "hoverlabel": {
           "align": "left"
          },
          "hovermode": "closest",
          "mapbox": {
           "style": "light"
          },
          "paper_bgcolor": "white",
          "plot_bgcolor": "#E5ECF6",
          "polar": {
           "angularaxis": {
            "gridcolor": "white",
            "linecolor": "white",
            "ticks": ""
           },
           "bgcolor": "#E5ECF6",
           "radialaxis": {
            "gridcolor": "white",
            "linecolor": "white",
            "ticks": ""
           }
          },
          "scene": {
           "xaxis": {
            "backgroundcolor": "#E5ECF6",
            "gridcolor": "white",
            "gridwidth": 2,
            "linecolor": "white",
            "showbackground": true,
            "ticks": "",
            "zerolinecolor": "white"
           },
           "yaxis": {
            "backgroundcolor": "#E5ECF6",
            "gridcolor": "white",
            "gridwidth": 2,
            "linecolor": "white",
            "showbackground": true,
            "ticks": "",
            "zerolinecolor": "white"
           },
           "zaxis": {
            "backgroundcolor": "#E5ECF6",
            "gridcolor": "white",
            "gridwidth": 2,
            "linecolor": "white",
            "showbackground": true,
            "ticks": "",
            "zerolinecolor": "white"
           }
          },
          "shapedefaults": {
           "line": {
            "color": "#2a3f5f"
           }
          },
          "ternary": {
           "aaxis": {
            "gridcolor": "white",
            "linecolor": "white",
            "ticks": ""
           },
           "baxis": {
            "gridcolor": "white",
            "linecolor": "white",
            "ticks": ""
           },
           "bgcolor": "#E5ECF6",
           "caxis": {
            "gridcolor": "white",
            "linecolor": "white",
            "ticks": ""
           }
          },
          "title": {
           "x": 0.05
          },
          "xaxis": {
           "automargin": true,
           "gridcolor": "white",
           "linecolor": "white",
           "ticks": "",
           "zerolinecolor": "white",
           "zerolinewidth": 2
          },
          "yaxis": {
           "automargin": true,
           "gridcolor": "white",
           "linecolor": "white",
           "ticks": "",
           "zerolinecolor": "white",
           "zerolinewidth": 2
          }
         }
        },
        "title": {
         "font": {
          "color": "#4D5663"
         },
         "text": "Number of suicides by year"
        },
        "xaxis": {
         "gridcolor": "#E1E5ED",
         "showgrid": true,
         "tickfont": {
          "color": "#4D5663"
         },
         "title": {
          "font": {
           "color": "#4D5663"
          },
          "text": "Year"
         },
         "zerolinecolor": "#E1E5ED"
        },
        "yaxis": {
         "gridcolor": "#E1E5ED",
         "showgrid": true,
         "tickfont": {
          "color": "#4D5663"
         },
         "title": {
          "font": {
           "color": "#4D5663"
          },
          "text": "Number of suicides"
         },
         "zerolinecolor": "#E1E5ED"
        }
       }
      },
      "text/html": [
       "<div>\n",
       "        \n",
       "        \n",
       "            <div id=\"4bae8c6c-6bcb-4741-99a1-47d6790cb80f\" class=\"plotly-graph-div\" style=\"height:525px; width:100%;\"></div>\n",
       "            <script type=\"text/javascript\">\n",
       "                require([\"plotly\"], function(Plotly) {\n",
       "                    window.PLOTLYENV=window.PLOTLYENV || {};\n",
       "                    window.PLOTLYENV.BASE_URL='https://plot.ly';\n",
       "                    \n",
       "                if (document.getElementById(\"4bae8c6c-6bcb-4741-99a1-47d6790cb80f\")) {\n",
       "                    Plotly.newPlot(\n",
       "                        '4bae8c6c-6bcb-4741-99a1-47d6790cb80f',\n",
       "                        [{\"line\": {\"color\": \"rgba(255, 153, 51, 1.0)\", \"dash\": \"solid\", \"shape\": \"linear\", \"width\": 1.3}, \"mode\": \"lines\", \"name\": \"Austria\", \"text\": \"\", \"type\": \"scatter\", \"x\": [1985, 1986, 1987, 1988, 1989, 1990, 1991, 1992, 1993, 1994, 1995, 1996, 1997, 1998, 1999, 2000, 2001, 2002, 2003, 2004, 2005, 2006, 2007, 2008, 2009, 2010, 2011, 2012, 2013, 2014, 2015, 2016], \"y\": [2091.0, 2139.0, 2069.0, 1851.0, 1898.0, 1825.0, 1769.0, 1759.0, 1704.0, 1776.0, 1788.0, 1779.0, 1592.0, 1559.0, 1555.0, 1588.0, 1489.0, 1553.0, 1456.0, 1422.0, 1399.0, 1297.0, 1285.0, 1267.0, 1278.0, 1264.0, 1288.0, 1276.0, 1291.0, 1314.0, 1251.0, 1201.0]}, {\"line\": {\"color\": \"rgba(55, 128, 191, 1.0)\", \"dash\": \"solid\", \"shape\": \"linear\", \"width\": 1.3}, \"mode\": \"lines\", \"name\": \"Iceland\", \"text\": \"\", \"type\": \"scatter\", \"x\": [1985, 1986, 1987, 1988, 1989, 1990, 1991, 1992, 1993, 1994, 1995, 1996, 1997, 1998, 1999, 2000, 2001, 2002, 2003, 2004, 2005, 2006, 2007, 2008, 2009, 2010, 2011, 2012, 2013, 2014, 2015, 2016], \"y\": [32.0, 37.0, 36.0, 35.0, 22.0, 40.0, 37.0, 28.0, 26.0, 25.0, 27.0, 33.0, 33.0, 30.0, 31.0, 50.0, 36.0, 30.0, 26.0, 35.0, 33.0, 32.0, 37.0, 38.0, 36.0, 46.0, 27.0, 37.0, 49.0, 44.0, 40.0, 40.0]}, {\"line\": {\"color\": \"rgba(50, 171, 96, 1.0)\", \"dash\": \"solid\", \"shape\": \"linear\", \"width\": 1.3}, \"mode\": \"lines\", \"name\": \"Mauritius\", \"text\": \"\", \"type\": \"scatter\", \"x\": [1985, 1986, 1987, 1988, 1989, 1990, 1991, 1992, 1993, 1994, 1995, 1996, 1997, 1998, 1999, 2000, 2001, 2002, 2003, 2004, 2005, 2006, 2007, 2008, 2009, 2010, 2011, 2012, 2013, 2014, 2015, 2016], \"y\": [104.0, 28.0, 140.0, 167.0, 144.0, 147.0, 137.0, 146.0, 138.0, 129.0, 147.0, 153.0, 122.0, 155.0, 174.0, 137.0, 113.0, 131.0, 88.0, 97.0, 102.0, 118.0, 127.0, 84.0, 115.0, 98.0, 118.0, 115.0, 98.0, 120.0, 104.0, 98.0]}, {\"line\": {\"color\": \"rgba(128, 0, 128, 1.0)\", \"dash\": \"solid\", \"shape\": \"linear\", \"width\": 1.3}, \"mode\": \"lines\", \"name\": \"Netherlands\", \"text\": \"\", \"type\": \"scatter\", \"x\": [1985, 1986, 1987, 1988, 1989, 1990, 1991, 1992, 1993, 1994, 1995, 1996, 1997, 1998, 1999, 2000, 2001, 2002, 2003, 2004, 2005, 2006, 2007, 2008, 2009, 2010, 2011, 2012, 2013, 2014, 2015, 2016], \"y\": [1638.0, 1604.0, 1616.0, 1523.0, 1520.0, 1450.0, 1611.0, 1587.0, 1555.0, 1584.0, 1511.0, 1577.0, 1572.0, 1519.0, 1519.0, 1501.0, 1474.0, 1570.0, 1502.0, 1514.0, 1574.0, 1525.0, 1354.0, 1439.0, 1530.0, 1604.0, 1650.0, 1756.0, 1856.0, 1839.0, 1873.0, 1886.0]}],\n",
       "                        {\"legend\": {\"bgcolor\": \"#F5F6F9\", \"font\": {\"color\": \"#4D5663\"}}, \"paper_bgcolor\": \"#F5F6F9\", \"plot_bgcolor\": \"#F5F6F9\", \"template\": {\"data\": {\"bar\": [{\"error_x\": {\"color\": \"#2a3f5f\"}, \"error_y\": {\"color\": \"#2a3f5f\"}, \"marker\": {\"line\": {\"color\": \"#E5ECF6\", \"width\": 0.5}}, \"type\": \"bar\"}], \"barpolar\": [{\"marker\": {\"line\": {\"color\": \"#E5ECF6\", \"width\": 0.5}}, \"type\": \"barpolar\"}], \"carpet\": [{\"aaxis\": {\"endlinecolor\": \"#2a3f5f\", \"gridcolor\": \"white\", \"linecolor\": \"white\", \"minorgridcolor\": \"white\", \"startlinecolor\": \"#2a3f5f\"}, \"baxis\": {\"endlinecolor\": \"#2a3f5f\", \"gridcolor\": \"white\", \"linecolor\": \"white\", \"minorgridcolor\": \"white\", \"startlinecolor\": \"#2a3f5f\"}, \"type\": \"carpet\"}], \"choropleth\": [{\"colorbar\": {\"outlinewidth\": 0, \"ticks\": \"\"}, \"type\": \"choropleth\"}], \"contour\": [{\"colorbar\": {\"outlinewidth\": 0, \"ticks\": \"\"}, \"colorscale\": [[0.0, \"#0d0887\"], [0.1111111111111111, \"#46039f\"], [0.2222222222222222, \"#7201a8\"], [0.3333333333333333, \"#9c179e\"], [0.4444444444444444, \"#bd3786\"], [0.5555555555555556, \"#d8576b\"], [0.6666666666666666, \"#ed7953\"], [0.7777777777777778, \"#fb9f3a\"], [0.8888888888888888, \"#fdca26\"], [1.0, \"#f0f921\"]], \"type\": \"contour\"}], \"contourcarpet\": [{\"colorbar\": {\"outlinewidth\": 0, \"ticks\": \"\"}, \"type\": \"contourcarpet\"}], \"heatmap\": [{\"colorbar\": {\"outlinewidth\": 0, \"ticks\": \"\"}, \"colorscale\": [[0.0, \"#0d0887\"], [0.1111111111111111, \"#46039f\"], [0.2222222222222222, \"#7201a8\"], [0.3333333333333333, \"#9c179e\"], [0.4444444444444444, \"#bd3786\"], [0.5555555555555556, \"#d8576b\"], [0.6666666666666666, \"#ed7953\"], [0.7777777777777778, \"#fb9f3a\"], [0.8888888888888888, \"#fdca26\"], [1.0, \"#f0f921\"]], \"type\": \"heatmap\"}], \"heatmapgl\": [{\"colorbar\": {\"outlinewidth\": 0, \"ticks\": \"\"}, \"colorscale\": [[0.0, \"#0d0887\"], [0.1111111111111111, \"#46039f\"], [0.2222222222222222, \"#7201a8\"], [0.3333333333333333, \"#9c179e\"], [0.4444444444444444, \"#bd3786\"], [0.5555555555555556, \"#d8576b\"], [0.6666666666666666, \"#ed7953\"], [0.7777777777777778, \"#fb9f3a\"], [0.8888888888888888, \"#fdca26\"], [1.0, \"#f0f921\"]], \"type\": \"heatmapgl\"}], \"histogram\": [{\"marker\": {\"colorbar\": {\"outlinewidth\": 0, \"ticks\": \"\"}}, \"type\": \"histogram\"}], \"histogram2d\": [{\"colorbar\": {\"outlinewidth\": 0, \"ticks\": \"\"}, \"colorscale\": [[0.0, \"#0d0887\"], [0.1111111111111111, \"#46039f\"], [0.2222222222222222, \"#7201a8\"], [0.3333333333333333, \"#9c179e\"], [0.4444444444444444, \"#bd3786\"], [0.5555555555555556, \"#d8576b\"], [0.6666666666666666, \"#ed7953\"], [0.7777777777777778, \"#fb9f3a\"], [0.8888888888888888, \"#fdca26\"], [1.0, \"#f0f921\"]], \"type\": \"histogram2d\"}], \"histogram2dcontour\": [{\"colorbar\": {\"outlinewidth\": 0, \"ticks\": \"\"}, \"colorscale\": [[0.0, \"#0d0887\"], [0.1111111111111111, \"#46039f\"], [0.2222222222222222, \"#7201a8\"], [0.3333333333333333, \"#9c179e\"], [0.4444444444444444, \"#bd3786\"], [0.5555555555555556, \"#d8576b\"], [0.6666666666666666, \"#ed7953\"], [0.7777777777777778, \"#fb9f3a\"], [0.8888888888888888, \"#fdca26\"], [1.0, \"#f0f921\"]], \"type\": \"histogram2dcontour\"}], \"mesh3d\": [{\"colorbar\": {\"outlinewidth\": 0, \"ticks\": \"\"}, \"type\": \"mesh3d\"}], \"parcoords\": [{\"line\": {\"colorbar\": {\"outlinewidth\": 0, \"ticks\": \"\"}}, \"type\": \"parcoords\"}], \"scatter\": [{\"marker\": {\"colorbar\": {\"outlinewidth\": 0, \"ticks\": \"\"}}, \"type\": \"scatter\"}], \"scatter3d\": [{\"line\": {\"colorbar\": {\"outlinewidth\": 0, \"ticks\": \"\"}}, \"marker\": {\"colorbar\": {\"outlinewidth\": 0, \"ticks\": \"\"}}, \"type\": \"scatter3d\"}], \"scattercarpet\": [{\"marker\": {\"colorbar\": {\"outlinewidth\": 0, \"ticks\": \"\"}}, \"type\": \"scattercarpet\"}], \"scattergeo\": [{\"marker\": {\"colorbar\": {\"outlinewidth\": 0, \"ticks\": \"\"}}, \"type\": \"scattergeo\"}], \"scattergl\": [{\"marker\": {\"colorbar\": {\"outlinewidth\": 0, \"ticks\": \"\"}}, \"type\": \"scattergl\"}], \"scattermapbox\": [{\"marker\": {\"colorbar\": {\"outlinewidth\": 0, \"ticks\": \"\"}}, \"type\": \"scattermapbox\"}], \"scatterpolar\": [{\"marker\": {\"colorbar\": {\"outlinewidth\": 0, \"ticks\": \"\"}}, \"type\": \"scatterpolar\"}], \"scatterpolargl\": [{\"marker\": {\"colorbar\": {\"outlinewidth\": 0, \"ticks\": \"\"}}, \"type\": \"scatterpolargl\"}], \"scatterternary\": [{\"marker\": {\"colorbar\": {\"outlinewidth\": 0, \"ticks\": \"\"}}, \"type\": \"scatterternary\"}], \"surface\": [{\"colorbar\": {\"outlinewidth\": 0, \"ticks\": \"\"}, \"colorscale\": [[0.0, \"#0d0887\"], [0.1111111111111111, \"#46039f\"], [0.2222222222222222, \"#7201a8\"], [0.3333333333333333, \"#9c179e\"], [0.4444444444444444, \"#bd3786\"], [0.5555555555555556, \"#d8576b\"], [0.6666666666666666, \"#ed7953\"], [0.7777777777777778, \"#fb9f3a\"], [0.8888888888888888, \"#fdca26\"], [1.0, \"#f0f921\"]], \"type\": \"surface\"}], \"table\": [{\"cells\": {\"fill\": {\"color\": \"#EBF0F8\"}, \"line\": {\"color\": \"white\"}}, \"header\": {\"fill\": {\"color\": \"#C8D4E3\"}, \"line\": {\"color\": \"white\"}}, \"type\": \"table\"}]}, \"layout\": {\"annotationdefaults\": {\"arrowcolor\": \"#2a3f5f\", \"arrowhead\": 0, \"arrowwidth\": 1}, \"colorscale\": {\"diverging\": [[0, \"#8e0152\"], [0.1, \"#c51b7d\"], [0.2, \"#de77ae\"], [0.3, \"#f1b6da\"], [0.4, \"#fde0ef\"], [0.5, \"#f7f7f7\"], [0.6, \"#e6f5d0\"], [0.7, \"#b8e186\"], [0.8, \"#7fbc41\"], [0.9, \"#4d9221\"], [1, \"#276419\"]], \"sequential\": [[0.0, \"#0d0887\"], [0.1111111111111111, \"#46039f\"], [0.2222222222222222, \"#7201a8\"], [0.3333333333333333, \"#9c179e\"], [0.4444444444444444, \"#bd3786\"], [0.5555555555555556, \"#d8576b\"], [0.6666666666666666, \"#ed7953\"], [0.7777777777777778, \"#fb9f3a\"], [0.8888888888888888, \"#fdca26\"], [1.0, \"#f0f921\"]], \"sequentialminus\": [[0.0, \"#0d0887\"], [0.1111111111111111, \"#46039f\"], [0.2222222222222222, \"#7201a8\"], [0.3333333333333333, \"#9c179e\"], [0.4444444444444444, \"#bd3786\"], [0.5555555555555556, \"#d8576b\"], [0.6666666666666666, \"#ed7953\"], [0.7777777777777778, \"#fb9f3a\"], [0.8888888888888888, \"#fdca26\"], [1.0, \"#f0f921\"]]}, \"colorway\": [\"#636efa\", \"#EF553B\", \"#00cc96\", \"#ab63fa\", \"#FFA15A\", \"#19d3f3\", \"#FF6692\", \"#B6E880\", \"#FF97FF\", \"#FECB52\"], \"font\": {\"color\": \"#2a3f5f\"}, \"geo\": {\"bgcolor\": \"white\", \"lakecolor\": \"white\", \"landcolor\": \"#E5ECF6\", \"showlakes\": true, \"showland\": true, \"subunitcolor\": \"white\"}, \"hoverlabel\": {\"align\": \"left\"}, \"hovermode\": \"closest\", \"mapbox\": {\"style\": \"light\"}, \"paper_bgcolor\": \"white\", \"plot_bgcolor\": \"#E5ECF6\", \"polar\": {\"angularaxis\": {\"gridcolor\": \"white\", \"linecolor\": \"white\", \"ticks\": \"\"}, \"bgcolor\": \"#E5ECF6\", \"radialaxis\": {\"gridcolor\": \"white\", \"linecolor\": \"white\", \"ticks\": \"\"}}, \"scene\": {\"xaxis\": {\"backgroundcolor\": \"#E5ECF6\", \"gridcolor\": \"white\", \"gridwidth\": 2, \"linecolor\": \"white\", \"showbackground\": true, \"ticks\": \"\", \"zerolinecolor\": \"white\"}, \"yaxis\": {\"backgroundcolor\": \"#E5ECF6\", \"gridcolor\": \"white\", \"gridwidth\": 2, \"linecolor\": \"white\", \"showbackground\": true, \"ticks\": \"\", \"zerolinecolor\": \"white\"}, \"zaxis\": {\"backgroundcolor\": \"#E5ECF6\", \"gridcolor\": \"white\", \"gridwidth\": 2, \"linecolor\": \"white\", \"showbackground\": true, \"ticks\": \"\", \"zerolinecolor\": \"white\"}}, \"shapedefaults\": {\"line\": {\"color\": \"#2a3f5f\"}}, \"ternary\": {\"aaxis\": {\"gridcolor\": \"white\", \"linecolor\": \"white\", \"ticks\": \"\"}, \"baxis\": {\"gridcolor\": \"white\", \"linecolor\": \"white\", \"ticks\": \"\"}, \"bgcolor\": \"#E5ECF6\", \"caxis\": {\"gridcolor\": \"white\", \"linecolor\": \"white\", \"ticks\": \"\"}}, \"title\": {\"x\": 0.05}, \"xaxis\": {\"automargin\": true, \"gridcolor\": \"white\", \"linecolor\": \"white\", \"ticks\": \"\", \"zerolinecolor\": \"white\", \"zerolinewidth\": 2}, \"yaxis\": {\"automargin\": true, \"gridcolor\": \"white\", \"linecolor\": \"white\", \"ticks\": \"\", \"zerolinecolor\": \"white\", \"zerolinewidth\": 2}}}, \"title\": {\"font\": {\"color\": \"#4D5663\"}, \"text\": \"Number of suicides by year\"}, \"xaxis\": {\"gridcolor\": \"#E1E5ED\", \"showgrid\": true, \"tickfont\": {\"color\": \"#4D5663\"}, \"title\": {\"font\": {\"color\": \"#4D5663\"}, \"text\": \"Year\"}, \"zerolinecolor\": \"#E1E5ED\"}, \"yaxis\": {\"gridcolor\": \"#E1E5ED\", \"showgrid\": true, \"tickfont\": {\"color\": \"#4D5663\"}, \"title\": {\"font\": {\"color\": \"#4D5663\"}, \"text\": \"Number of suicides\"}, \"zerolinecolor\": \"#E1E5ED\"}},\n",
       "                        {\"showLink\": true, \"linkText\": \"Export to plot.ly\", \"plotlyServerURL\": \"https://plot.ly\", \"responsive\": true}\n",
       "                    ).then(function(){\n",
       "                            \n",
       "var gd = document.getElementById('4bae8c6c-6bcb-4741-99a1-47d6790cb80f');\n",
       "var x = new MutationObserver(function (mutations, observer) {{\n",
       "        var display = window.getComputedStyle(gd).display;\n",
       "        if (!display || display === 'none') {{\n",
       "            console.log([gd, 'removed!']);\n",
       "            Plotly.purge(gd);\n",
       "            observer.disconnect();\n",
       "        }}\n",
       "}});\n",
       "\n",
       "// Listen for the removal of the full notebook cells\n",
       "var notebookContainer = gd.closest('#notebook-container');\n",
       "if (notebookContainer) {{\n",
       "    x.observe(notebookContainer, {childList: true});\n",
       "}}\n",
       "\n",
       "// Listen for the clearing of the current output cell\n",
       "var outputEl = gd.closest('.output');\n",
       "if (outputEl) {{\n",
       "    x.observe(outputEl, {childList: true});\n",
       "}}\n",
       "\n",
       "                        })\n",
       "                };\n",
       "                });\n",
       "            </script>\n",
       "        </div>"
      ]
     },
     "metadata": {},
     "output_type": "display_data"
    }
   ],
   "source": [
    "data_suicides_pivot.dropna(axis = 1).iplot(x = 'year', xTitle = 'Year', yTitle = 'Number of suicides', title = 'Number of suicides by year')"
   ]
  },
  {
   "cell_type": "code",
   "execution_count": 10,
   "metadata": {},
   "outputs": [
    {
     "data": {
      "application/vnd.plotly.v1+json": {
       "config": {
        "linkText": "Export to plot.ly",
        "plotlyServerURL": "https://plot.ly",
        "showLink": true
       },
       "data": [
        {
         "line": {
          "color": "rgba(255, 153, 51, 1.0)",
          "dash": "solid",
          "shape": "linear",
          "width": 1.3
         },
         "mode": "lines",
         "name": "Albania",
         "text": "",
         "type": "scatter",
         "x": [
          1985,
          1986,
          1987,
          1988,
          1989,
          1990,
          1991,
          1992,
          1993,
          1994,
          1995,
          1996,
          1997,
          1998,
          1999,
          2000,
          2001,
          2002,
          2003,
          2004,
          2005,
          2006,
          2007,
          2008,
          2009,
          2010,
          2011,
          2012,
          2013,
          2014,
          2015,
          2016
         ],
         "y": [
          "",
          "",
          73,
          63,
          68,
          "",
          "",
          47,
          73,
          50,
          88,
          89,
          170,
          154,
          139,
          54,
          119,
          133,
          124,
          146,
          0,
          0,
          124,
          160,
          0,
          96,
          "",
          "",
          "",
          "",
          "",
          ""
         ]
        },
        {
         "line": {
          "color": "rgba(55, 128, 191, 1.0)",
          "dash": "solid",
          "shape": "linear",
          "width": 1.3
         },
         "mode": "lines",
         "name": "Antigua and Barbuda",
         "text": "",
         "type": "scatter",
         "x": [
          1985,
          1986,
          1987,
          1988,
          1989,
          1990,
          1991,
          1992,
          1993,
          1994,
          1995,
          1996,
          1997,
          1998,
          1999,
          2000,
          2001,
          2002,
          2003,
          2004,
          2005,
          2006,
          2007,
          2008,
          2009,
          2010,
          2011,
          2012,
          2013,
          2014,
          2015,
          2016
         ],
         "y": [
          0,
          0,
          0,
          0,
          0,
          1,
          0,
          0,
          1,
          0,
          0,
          "",
          "",
          0,
          0,
          2,
          2,
          0,
          1,
          2,
          0,
          0,
          1,
          0,
          0,
          "",
          "",
          0,
          0,
          0,
          1,
          ""
         ]
        },
        {
         "line": {
          "color": "rgba(50, 171, 96, 1.0)",
          "dash": "solid",
          "shape": "linear",
          "width": 1.3
         },
         "mode": "lines",
         "name": "Argentina",
         "text": "",
         "type": "scatter",
         "x": [
          1985,
          1986,
          1987,
          1988,
          1989,
          1990,
          1991,
          1992,
          1993,
          1994,
          1995,
          1996,
          1997,
          1998,
          1999,
          2000,
          2001,
          2002,
          2003,
          2004,
          2005,
          2006,
          2007,
          2008,
          2009,
          2010,
          2011,
          2012,
          2013,
          2014,
          2015,
          2016
         ],
         "y": [
          1988,
          2284,
          2286,
          2354,
          2247,
          2140,
          1951,
          2184,
          2230,
          2241,
          2204,
          2229,
          2184,
          2347,
          2423,
          2774,
          3132,
          3162,
          3289,
          3121,
          3058,
          3108,
          2946,
          3059,
          2884,
          2943,
          2912,
          3248,
          2987,
          3231,
          3073,
          ""
         ]
        },
        {
         "line": {
          "color": "rgba(128, 0, 128, 1.0)",
          "dash": "solid",
          "shape": "linear",
          "width": 1.3
         },
         "mode": "lines",
         "name": "Armenia",
         "text": "",
         "type": "scatter",
         "x": [
          1985,
          1986,
          1987,
          1988,
          1989,
          1990,
          1991,
          1992,
          1993,
          1994,
          1995,
          1996,
          1997,
          1998,
          1999,
          2000,
          2001,
          2002,
          2003,
          2004,
          2005,
          2006,
          2007,
          2008,
          2009,
          2010,
          2011,
          2012,
          2013,
          2014,
          2015,
          2016
         ],
         "y": [
          "",
          "",
          "",
          "",
          "",
          93,
          80,
          83,
          106,
          112,
          130,
          87,
          77,
          66,
          67,
          61,
          60,
          74,
          59,
          "",
          "",
          78,
          71,
          63,
          53,
          73,
          67,
          79,
          67,
          58,
          74,
          67
         ]
        },
        {
         "line": {
          "color": "rgba(219, 64, 82, 1.0)",
          "dash": "solid",
          "shape": "linear",
          "width": 1.3
         },
         "mode": "lines",
         "name": "Aruba",
         "text": "",
         "type": "scatter",
         "x": [
          1985,
          1986,
          1987,
          1988,
          1989,
          1990,
          1991,
          1992,
          1993,
          1994,
          1995,
          1996,
          1997,
          1998,
          1999,
          2000,
          2001,
          2002,
          2003,
          2004,
          2005,
          2006,
          2007,
          2008,
          2009,
          2010,
          2011,
          2012,
          2013,
          2014,
          2015,
          2016
         ],
         "y": [
          "",
          "",
          "",
          "",
          "",
          "",
          "",
          "",
          "",
          "",
          8,
          "",
          "",
          "",
          9,
          10,
          4,
          9,
          2,
          8,
          10,
          9,
          8,
          4,
          4,
          7,
          9,
          "",
          "",
          "",
          "",
          ""
         ]
        },
        {
         "line": {
          "color": "rgba(0, 128, 128, 1.0)",
          "dash": "solid",
          "shape": "linear",
          "width": 1.3
         },
         "mode": "lines",
         "name": "Australia",
         "text": "",
         "type": "scatter",
         "x": [
          1985,
          1986,
          1987,
          1988,
          1989,
          1990,
          1991,
          1992,
          1993,
          1994,
          1995,
          1996,
          1997,
          1998,
          1999,
          2000,
          2001,
          2002,
          2003,
          2004,
          2005,
          2006,
          2007,
          2008,
          2009,
          2010,
          2011,
          2012,
          2013,
          2014,
          2015,
          2016
         ],
         "y": [
          1861,
          2044,
          2164,
          2172,
          2066,
          2202,
          2288,
          2251,
          2038,
          2283,
          2170,
          2426,
          2646,
          2632,
          2488,
          2391,
          2458,
          2319,
          2156,
          2114,
          "",
          2117,
          2229,
          2341,
          2337,
          2420,
          2392,
          2580,
          2608,
          2891,
          3027,
          ""
         ]
        },
        {
         "line": {
          "color": "rgba(255, 255, 51, 1.0)",
          "dash": "solid",
          "shape": "linear",
          "width": 1.3
         },
         "mode": "lines",
         "name": "Austria",
         "text": "",
         "type": "scatter",
         "x": [
          1985,
          1986,
          1987,
          1988,
          1989,
          1990,
          1991,
          1992,
          1993,
          1994,
          1995,
          1996,
          1997,
          1998,
          1999,
          2000,
          2001,
          2002,
          2003,
          2004,
          2005,
          2006,
          2007,
          2008,
          2009,
          2010,
          2011,
          2012,
          2013,
          2014,
          2015,
          2016
         ],
         "y": [
          2091,
          2139,
          2069,
          1851,
          1898,
          1825,
          1769,
          1759,
          1704,
          1776,
          1788,
          1779,
          1592,
          1559,
          1555,
          1588,
          1489,
          1553,
          1456,
          1422,
          1399,
          1297,
          1285,
          1267,
          1278,
          1264,
          1288,
          1276,
          1291,
          1314,
          1251,
          1201
         ]
        },
        {
         "line": {
          "color": "rgba(128, 128, 0, 1.0)",
          "dash": "solid",
          "shape": "linear",
          "width": 1.3
         },
         "mode": "lines",
         "name": "Azerbaijan",
         "text": "",
         "type": "scatter",
         "x": [
          1985,
          1986,
          1987,
          1988,
          1989,
          1990,
          1991,
          1992,
          1993,
          1994,
          1995,
          1996,
          1997,
          1998,
          1999,
          2000,
          2001,
          2002,
          2003,
          2004,
          2005,
          2006,
          2007,
          2008,
          2009,
          2010,
          2011,
          2012,
          2013,
          2014,
          2015,
          2016
         ],
         "y": [
          "",
          "",
          "",
          "",
          "",
          114,
          134,
          144,
          119,
          47,
          49,
          69,
          107,
          56,
          54,
          62,
          317,
          92,
          129,
          108,
          "",
          "",
          55,
          "",
          "",
          "",
          "",
          "",
          "",
          "",
          "",
          ""
         ]
        },
        {
         "line": {
          "color": "rgba(251, 128, 114, 1.0)",
          "dash": "solid",
          "shape": "linear",
          "width": 1.3
         },
         "mode": "lines",
         "name": "Bahamas",
         "text": "",
         "type": "scatter",
         "x": [
          1985,
          1986,
          1987,
          1988,
          1989,
          1990,
          1991,
          1992,
          1993,
          1994,
          1995,
          1996,
          1997,
          1998,
          1999,
          2000,
          2001,
          2002,
          2003,
          2004,
          2005,
          2006,
          2007,
          2008,
          2009,
          2010,
          2011,
          2012,
          2013,
          2014,
          2015,
          2016
         ],
         "y": [
          1,
          "",
          3,
          "",
          "",
          "",
          "",
          "",
          7,
          3,
          2,
          3,
          2,
          3,
          6,
          11,
          1,
          3,
          1,
          2,
          4,
          2,
          5,
          4,
          6,
          10,
          4,
          5,
          5,
          "",
          "",
          ""
         ]
        },
        {
         "line": {
          "color": "rgba(128, 177, 211, 1.0)",
          "dash": "solid",
          "shape": "linear",
          "width": 1.3
         },
         "mode": "lines",
         "name": "Bahrain",
         "text": "",
         "type": "scatter",
         "x": [
          1985,
          1986,
          1987,
          1988,
          1989,
          1990,
          1991,
          1992,
          1993,
          1994,
          1995,
          1996,
          1997,
          1998,
          1999,
          2000,
          2001,
          2002,
          2003,
          2004,
          2005,
          2006,
          2007,
          2008,
          2009,
          2010,
          2011,
          2012,
          2013,
          2014,
          2015,
          2016
         ],
         "y": [
          11,
          "",
          9,
          14,
          "",
          "",
          "",
          "",
          "",
          "",
          "",
          "",
          0,
          0,
          17,
          29,
          23,
          25,
          34,
          42,
          42,
          28,
          40,
          43,
          36,
          19,
          18,
          19,
          5,
          9,
          "",
          ""
         ]
        },
        {
         "line": {
          "color": "rgba(128, 177, 211, 0.9207920792079207)",
          "dash": "solid",
          "shape": "linear",
          "width": 1.3
         },
         "mode": "lines",
         "name": "Barbados",
         "text": "",
         "type": "scatter",
         "x": [
          1985,
          1986,
          1987,
          1988,
          1989,
          1990,
          1991,
          1992,
          1993,
          1994,
          1995,
          1996,
          1997,
          1998,
          1999,
          2000,
          2001,
          2002,
          2003,
          2004,
          2005,
          2006,
          2007,
          2008,
          2009,
          2010,
          2011,
          2012,
          2013,
          2014,
          2015,
          2016
         ],
         "y": [
          7,
          8,
          6,
          12,
          16,
          16,
          17,
          14,
          16,
          14,
          17,
          "",
          "",
          "",
          "",
          10,
          2,
          0,
          0,
          3,
          1,
          9,
          0,
          1,
          5,
          3,
          0,
          0,
          0,
          "",
          "",
          ""
         ]
        },
        {
         "line": {
          "color": "rgba(255, 153, 51, 0.9207920792079207)",
          "dash": "solid",
          "shape": "linear",
          "width": 1.3
         },
         "mode": "lines",
         "name": "Belarus",
         "text": "",
         "type": "scatter",
         "x": [
          1985,
          1986,
          1987,
          1988,
          1989,
          1990,
          1991,
          1992,
          1993,
          1994,
          1995,
          1996,
          1997,
          1998,
          1999,
          2000,
          2001,
          2002,
          2003,
          2004,
          2005,
          2006,
          2007,
          2008,
          2009,
          2010,
          2011,
          2012,
          2013,
          2014,
          2015,
          2016
         ],
         "y": [
          "",
          "",
          "",
          "",
          "",
          2085,
          2169,
          2424,
          2885,
          3153,
          3203,
          3627,
          3526,
          3556,
          3397,
          3483,
          3303,
          3291,
          3456,
          "",
          "",
          "",
          2659,
          2658,
          2743,
          2459,
          2172,
          "",
          1902,
          1741,
          "",
          ""
         ]
        },
        {
         "line": {
          "color": "rgba(55, 128, 191, 0.9207920792079207)",
          "dash": "solid",
          "shape": "linear",
          "width": 1.3
         },
         "mode": "lines",
         "name": "Belgium",
         "text": "",
         "type": "scatter",
         "x": [
          1985,
          1986,
          1987,
          1988,
          1989,
          1990,
          1991,
          1992,
          1993,
          1994,
          1995,
          1996,
          1997,
          1998,
          1999,
          2000,
          2001,
          2002,
          2003,
          2004,
          2005,
          2006,
          2007,
          2008,
          2009,
          2010,
          2011,
          2012,
          2013,
          2014,
          2015,
          2016
         ],
         "y": [
          2281,
          2202,
          2238,
          1996,
          1920,
          1895,
          1805,
          1878,
          2142,
          2131,
          2155,
          2013,
          2146,
          2019,
          1857,
          2143,
          2165,
          2076,
          2091,
          1987,
          2029,
          1935,
          1857,
          1999,
          2013,
          2013,
          2088,
          2026,
          1895,
          1899,
          1867,
          ""
         ]
        },
        {
         "line": {
          "color": "rgba(50, 171, 96, 0.9207920792079207)",
          "dash": "solid",
          "shape": "linear",
          "width": 1.3
         },
         "mode": "lines",
         "name": "Belize",
         "text": "",
         "type": "scatter",
         "x": [
          1985,
          1986,
          1987,
          1988,
          1989,
          1990,
          1991,
          1992,
          1993,
          1994,
          1995,
          1996,
          1997,
          1998,
          1999,
          2000,
          2001,
          2002,
          2003,
          2004,
          2005,
          2006,
          2007,
          2008,
          2009,
          2010,
          2011,
          2012,
          2013,
          2014,
          2015,
          2016
         ],
         "y": [
          "",
          3,
          4,
          "",
          1,
          3,
          2,
          "",
          1,
          8,
          14,
          8,
          1,
          12,
          18,
          18,
          19,
          14,
          12,
          20,
          12,
          11,
          8,
          11,
          15,
          15,
          33,
          18,
          17,
          24,
          26,
          ""
         ]
        },
        {
         "line": {
          "color": "rgba(128, 0, 128, 0.9207920792079207)",
          "dash": "solid",
          "shape": "linear",
          "width": 1.3
         },
         "mode": "lines",
         "name": "Bosnia and Herzegovina",
         "text": "",
         "type": "scatter",
         "x": [
          1985,
          1986,
          1987,
          1988,
          1989,
          1990,
          1991,
          1992,
          1993,
          1994,
          1995,
          1996,
          1997,
          1998,
          1999,
          2000,
          2001,
          2002,
          2003,
          2004,
          2005,
          2006,
          2007,
          2008,
          2009,
          2010,
          2011,
          2012,
          2013,
          2014,
          2015,
          2016
         ],
         "y": [
          "",
          "",
          "",
          "",
          "",
          "",
          "",
          "",
          "",
          "",
          "",
          "",
          "",
          "",
          "",
          "",
          "",
          "",
          "",
          "",
          "",
          "",
          "",
          "",
          "",
          "",
          5,
          "",
          "",
          313,
          "",
          ""
         ]
        },
        {
         "line": {
          "color": "rgba(219, 64, 82, 0.9207920792079207)",
          "dash": "solid",
          "shape": "linear",
          "width": 1.3
         },
         "mode": "lines",
         "name": "Brazil",
         "text": "",
         "type": "scatter",
         "x": [
          1985,
          1986,
          1987,
          1988,
          1989,
          1990,
          1991,
          1992,
          1993,
          1994,
          1995,
          1996,
          1997,
          1998,
          1999,
          2000,
          2001,
          2002,
          2003,
          2004,
          2005,
          2006,
          2007,
          2008,
          2009,
          2010,
          2011,
          2012,
          2013,
          2014,
          2015,
          2016
         ],
         "y": [
          4228,
          4271,
          4672,
          4466,
          4463,
          4803,
          5156,
          5207,
          5508,
          5896,
          6536,
          6698,
          6891,
          6922,
          6507,
          6763,
          7710,
          7697,
          7839,
          7995,
          8529,
          8618,
          8855,
          9184,
          9346,
          9429,
          9822,
          10295,
          10513,
          10631,
          11163,
          ""
         ]
        },
        {
         "line": {
          "color": "rgba(0, 128, 128, 0.9207920792079207)",
          "dash": "solid",
          "shape": "linear",
          "width": 1.3
         },
         "mode": "lines",
         "name": "Bulgaria",
         "text": "",
         "type": "scatter",
         "x": [
          1985,
          1986,
          1987,
          1988,
          1989,
          1990,
          1991,
          1992,
          1993,
          1994,
          1995,
          1996,
          1997,
          1998,
          1999,
          2000,
          2001,
          2002,
          2003,
          2004,
          2005,
          2006,
          2007,
          2008,
          2009,
          2010,
          2011,
          2012,
          2013,
          2014,
          2015,
          2016
         ],
         "y": [
          1456,
          1408,
          1492,
          1452,
          1460,
          1323,
          1384,
          1519,
          1470,
          1464,
          1433,
          1526,
          1465,
          1503,
          1307,
          1383,
          1314,
          1317,
          1092,
          1013,
          982,
          977,
          902,
          939,
          868,
          859,
          763,
          872,
          721,
          724,
          "",
          ""
         ]
        },
        {
         "line": {
          "color": "rgba(255, 255, 51, 0.9207920792079207)",
          "dash": "solid",
          "shape": "linear",
          "width": 1.3
         },
         "mode": "lines",
         "name": "Cabo Verde",
         "text": "",
         "type": "scatter",
         "x": [
          1985,
          1986,
          1987,
          1988,
          1989,
          1990,
          1991,
          1992,
          1993,
          1994,
          1995,
          1996,
          1997,
          1998,
          1999,
          2000,
          2001,
          2002,
          2003,
          2004,
          2005,
          2006,
          2007,
          2008,
          2009,
          2010,
          2011,
          2012,
          2013,
          2014,
          2015,
          2016
         ],
         "y": [
          "",
          "",
          "",
          "",
          "",
          "",
          "",
          "",
          "",
          "",
          "",
          "",
          "",
          "",
          "",
          "",
          "",
          "",
          "",
          "",
          "",
          "",
          "",
          "",
          "",
          "",
          42,
          "",
          "",
          "",
          "",
          ""
         ]
        },
        {
         "line": {
          "color": "rgba(128, 128, 0, 0.9207920792079207)",
          "dash": "solid",
          "shape": "linear",
          "width": 1.3
         },
         "mode": "lines",
         "name": "Canada",
         "text": "",
         "type": "scatter",
         "x": [
          1985,
          1986,
          1987,
          1988,
          1989,
          1990,
          1991,
          1992,
          1993,
          1994,
          1995,
          1996,
          1997,
          1998,
          1999,
          2000,
          2001,
          2002,
          2003,
          2004,
          2005,
          2006,
          2007,
          2008,
          2009,
          2010,
          2011,
          2012,
          2013,
          2014,
          2015,
          2016
         ],
         "y": [
          3258,
          3670,
          3591,
          3510,
          3491,
          3378,
          3593,
          3708,
          3803,
          3748,
          3968,
          3941,
          3681,
          3699,
          4074,
          3606,
          3694,
          3650,
          3765,
          3613,
          3743,
          3512,
          3611,
          3705,
          3890,
          3951,
          3728,
          3926,
          4054,
          "",
          "",
          ""
         ]
        },
        {
         "line": {
          "color": "rgba(251, 128, 114, 0.9207920792079207)",
          "dash": "solid",
          "shape": "linear",
          "width": 1.3
         },
         "mode": "lines",
         "name": "Chile",
         "text": "",
         "type": "scatter",
         "x": [
          1985,
          1986,
          1987,
          1988,
          1989,
          1990,
          1991,
          1992,
          1993,
          1994,
          1995,
          1996,
          1997,
          1998,
          1999,
          2000,
          2001,
          2002,
          2003,
          2004,
          2005,
          2006,
          2007,
          2008,
          2009,
          2010,
          2011,
          2012,
          2013,
          2014,
          2015,
          2016
         ],
         "y": [
          683,
          654,
          693,
          697,
          725,
          743,
          787,
          658,
          740,
          801,
          930,
          917,
          910,
          1031,
          1041,
          1473,
          1625,
          1603,
          1654,
          1735,
          1682,
          1795,
          1848,
          2088,
          2148,
          2001,
          2027,
          1841,
          1738,
          1789,
          1838,
          ""
         ]
        },
        {
         "line": {
          "color": "rgba(251, 128, 114, 0.8415841584158414)",
          "dash": "solid",
          "shape": "linear",
          "width": 1.3
         },
         "mode": "lines",
         "name": "Colombia",
         "text": "",
         "type": "scatter",
         "x": [
          1985,
          1986,
          1987,
          1988,
          1989,
          1990,
          1991,
          1992,
          1993,
          1994,
          1995,
          1996,
          1997,
          1998,
          1999,
          2000,
          2001,
          2002,
          2003,
          2004,
          2005,
          2006,
          2007,
          2008,
          2009,
          2010,
          2011,
          2012,
          2013,
          2014,
          2015,
          2016
         ],
         "y": [
          1001,
          958,
          951,
          912,
          831,
          865,
          1010,
          1086,
          1085,
          1198,
          1150,
          1209,
          1242,
          2052,
          2143,
          2358,
          2412,
          2379,
          2269,
          2244,
          2102,
          2177,
          2181,
          2220,
          2249,
          2107,
          2044,
          2119,
          2068,
          2126,
          2332,
          ""
         ]
        },
        {
         "line": {
          "color": "rgba(128, 177, 211, 0.8415841584158414)",
          "dash": "solid",
          "shape": "linear",
          "width": 1.3
         },
         "mode": "lines",
         "name": "Costa Rica",
         "text": "",
         "type": "scatter",
         "x": [
          1985,
          1986,
          1987,
          1988,
          1989,
          1990,
          1991,
          1992,
          1993,
          1994,
          1995,
          1996,
          1997,
          1998,
          1999,
          2000,
          2001,
          2002,
          2003,
          2004,
          2005,
          2006,
          2007,
          2008,
          2009,
          2010,
          2011,
          2012,
          2013,
          2014,
          2015,
          2016
         ],
         "y": [
          128,
          131,
          119,
          138,
          167,
          157,
          125,
          149,
          164,
          162,
          209,
          209,
          187,
          223,
          233,
          239,
          198,
          275,
          315,
          325,
          272,
          350,
          270,
          261,
          278,
          311,
          316,
          302,
          311,
          268,
          "",
          ""
         ]
        },
        {
         "line": {
          "color": "rgba(255, 153, 51, 0.8415841584158414)",
          "dash": "solid",
          "shape": "linear",
          "width": 1.3
         },
         "mode": "lines",
         "name": "Croatia",
         "text": "",
         "type": "scatter",
         "x": [
          1985,
          1986,
          1987,
          1988,
          1989,
          1990,
          1991,
          1992,
          1993,
          1994,
          1995,
          1996,
          1997,
          1998,
          1999,
          2000,
          2001,
          2002,
          2003,
          2004,
          2005,
          2006,
          2007,
          2008,
          2009,
          2010,
          2011,
          2012,
          2013,
          2014,
          2015,
          2016
         ],
         "y": [
          "",
          "",
          "",
          "",
          "",
          "",
          "",
          "",
          "",
          "",
          929,
          1001,
          946,
          1029,
          989,
          926,
          881,
          874,
          865,
          871,
          874,
          796,
          775,
          793,
          790,
          776,
          702,
          776,
          692,
          722,
          739,
          683
         ]
        },
        {
         "line": {
          "color": "rgba(55, 128, 191, 0.8415841584158414)",
          "dash": "solid",
          "shape": "linear",
          "width": 1.3
         },
         "mode": "lines",
         "name": "Cuba",
         "text": "",
         "type": "scatter",
         "x": [
          1985,
          1986,
          1987,
          1988,
          1989,
          1990,
          1991,
          1992,
          1993,
          1994,
          1995,
          1996,
          1997,
          1998,
          1999,
          2000,
          2001,
          2002,
          2003,
          2004,
          2005,
          2006,
          2007,
          2008,
          2009,
          2010,
          2011,
          2012,
          2013,
          2014,
          2015,
          2016
         ],
         "y": [
          "",
          "",
          "",
          "",
          "",
          "",
          "",
          2299,
          2374,
          2278,
          2222,
          2014,
          2029,
          2056,
          2050,
          1845,
          1652,
          1606,
          1499,
          1515,
          1397,
          1376,
          1307,
          1377,
          1477,
          1558,
          1529,
          1495,
          1499,
          1453,
          1511,
          ""
         ]
        },
        {
         "line": {
          "color": "rgba(50, 171, 96, 0.8415841584158414)",
          "dash": "solid",
          "shape": "linear",
          "width": 1.3
         },
         "mode": "lines",
         "name": "Cyprus",
         "text": "",
         "type": "scatter",
         "x": [
          1985,
          1986,
          1987,
          1988,
          1989,
          1990,
          1991,
          1992,
          1993,
          1994,
          1995,
          1996,
          1997,
          1998,
          1999,
          2000,
          2001,
          2002,
          2003,
          2004,
          2005,
          2006,
          2007,
          2008,
          2009,
          2010,
          2011,
          2012,
          2013,
          2014,
          2015,
          2016
         ],
         "y": [
          "",
          "",
          "",
          "",
          "",
          "",
          "",
          "",
          "",
          "",
          "",
          "",
          "",
          "",
          1,
          7,
          "",
          "",
          "",
          7,
          17,
          19,
          19,
          41,
          32,
          38,
          30,
          36,
          45,
          44,
          40,
          36
         ]
        },
        {
         "line": {
          "color": "rgba(128, 0, 128, 0.8415841584158414)",
          "dash": "solid",
          "shape": "linear",
          "width": 1.3
         },
         "mode": "lines",
         "name": "Czech Republic",
         "text": "",
         "type": "scatter",
         "x": [
          1985,
          1986,
          1987,
          1988,
          1989,
          1990,
          1991,
          1992,
          1993,
          1994,
          1995,
          1996,
          1997,
          1998,
          1999,
          2000,
          2001,
          2002,
          2003,
          2004,
          2005,
          2006,
          2007,
          2008,
          2009,
          2010,
          2011,
          2012,
          2013,
          2014,
          2015,
          2016
         ],
         "y": [
          "",
          "",
          "",
          "",
          "",
          1997,
          1904,
          1991,
          1917,
          1872,
          1733,
          1568,
          1666,
          1613,
          1610,
          1649,
          1623,
          1534,
          1719,
          1583,
          1565,
          1400,
          1379,
          1379,
          1464,
          1502,
          1590,
          1658,
          1577,
          1489,
          1387,
          1318
         ]
        },
        {
         "line": {
          "color": "rgba(219, 64, 82, 0.8415841584158414)",
          "dash": "solid",
          "shape": "linear",
          "width": 1.3
         },
         "mode": "lines",
         "name": "Denmark",
         "text": "",
         "type": "scatter",
         "x": [
          1985,
          1986,
          1987,
          1988,
          1989,
          1990,
          1991,
          1992,
          1993,
          1994,
          1995,
          1996,
          1997,
          1998,
          1999,
          2000,
          2001,
          2002,
          2003,
          2004,
          2005,
          2006,
          2007,
          2008,
          2009,
          2010,
          2011,
          2012,
          2013,
          2014,
          2015,
          2016
         ],
         "y": [
          "",
          "",
          "",
          "",
          "",
          "",
          "",
          "",
          "",
          999,
          924,
          892,
          817,
          763,
          762,
          728,
          727,
          688,
          633,
          661,
          631,
          650,
          581,
          603,
          622,
          563,
          589,
          661,
          610,
          629,
          564,
          ""
         ]
        },
        {
         "line": {
          "color": "rgba(0, 128, 128, 0.8415841584158414)",
          "dash": "solid",
          "shape": "linear",
          "width": 1.3
         },
         "mode": "lines",
         "name": "Dominica",
         "text": "",
         "type": "scatter",
         "x": [
          1985,
          1986,
          1987,
          1988,
          1989,
          1990,
          1991,
          1992,
          1993,
          1994,
          1995,
          1996,
          1997,
          1998,
          1999,
          2000,
          2001,
          2002,
          2003,
          2004,
          2005,
          2006,
          2007,
          2008,
          2009,
          2010,
          2011,
          2012,
          2013,
          2014,
          2015,
          2016
         ],
         "y": [
          0,
          "",
          "",
          "",
          "",
          "",
          "",
          "",
          "",
          "",
          "",
          "",
          "",
          "",
          "",
          "",
          "",
          "",
          "",
          "",
          "",
          "",
          "",
          "",
          "",
          "",
          "",
          "",
          "",
          "",
          "",
          ""
         ]
        },
        {
         "line": {
          "color": "rgba(255, 255, 51, 0.8415841584158414)",
          "dash": "solid",
          "shape": "linear",
          "width": 1.3
         },
         "mode": "lines",
         "name": "Ecuador",
         "text": "",
         "type": "scatter",
         "x": [
          1985,
          1986,
          1987,
          1988,
          1989,
          1990,
          1991,
          1992,
          1993,
          1994,
          1995,
          1996,
          1997,
          1998,
          1999,
          2000,
          2001,
          2002,
          2003,
          2004,
          2005,
          2006,
          2007,
          2008,
          2009,
          2010,
          2011,
          2012,
          2013,
          2014,
          2015,
          2016
         ],
         "y": [
          393,
          377,
          390,
          466,
          431,
          448,
          494,
          505,
          574,
          512,
          546,
          593,
          579,
          546,
          616,
          534,
          584,
          577,
          675,
          791,
          943,
          900,
          1005,
          928,
          964,
          912,
          918,
          976,
          676,
          734,
          1073,
          ""
         ]
        },
        {
         "line": {
          "color": "rgba(128, 128, 0, 0.8415841584158414)",
          "dash": "solid",
          "shape": "linear",
          "width": 1.3
         },
         "mode": "lines",
         "name": "El Salvador",
         "text": "",
         "type": "scatter",
         "x": [
          1985,
          1986,
          1987,
          1988,
          1989,
          1990,
          1991,
          1992,
          1993,
          1994,
          1995,
          1996,
          1997,
          1998,
          1999,
          2000,
          2001,
          2002,
          2003,
          2004,
          2005,
          2006,
          2007,
          2008,
          2009,
          2010,
          2011,
          2012,
          2013,
          2014,
          2015,
          2016
         ],
         "y": [
          "",
          "",
          "",
          "",
          "",
          571,
          474,
          419,
          424,
          "",
          620,
          540,
          577,
          512,
          515,
          461,
          514,
          436,
          527,
          464,
          455,
          411,
          501,
          490,
          506,
          399,
          485,
          512,
          484,
          386,
          "",
          ""
         ]
        },
        {
         "line": {
          "color": "rgba(128, 128, 0, 0.7623762376237624)",
          "dash": "solid",
          "shape": "linear",
          "width": 1.3
         },
         "mode": "lines",
         "name": "Estonia",
         "text": "",
         "type": "scatter",
         "x": [
          1985,
          1986,
          1987,
          1988,
          1989,
          1990,
          1991,
          1992,
          1993,
          1994,
          1995,
          1996,
          1997,
          1998,
          1999,
          2000,
          2001,
          2002,
          2003,
          2004,
          2005,
          2006,
          2007,
          2008,
          2009,
          2010,
          2011,
          2012,
          2013,
          2014,
          2015,
          2016
         ],
         "y": [
          "",
          "",
          "",
          "",
          "",
          "",
          "",
          "",
          "",
          "",
          594,
          545,
          522,
          477,
          468,
          377,
          401,
          371,
          342,
          323,
          273,
          247,
          251,
          242,
          269,
          223,
          218,
          237,
          218,
          241,
          195,
          ""
         ]
        },
        {
         "line": {
          "color": "rgba(251, 128, 114, 0.7623762376237624)",
          "dash": "solid",
          "shape": "linear",
          "width": 1.3
         },
         "mode": "lines",
         "name": "Fiji",
         "text": "",
         "type": "scatter",
         "x": [
          1985,
          1986,
          1987,
          1988,
          1989,
          1990,
          1991,
          1992,
          1993,
          1994,
          1995,
          1996,
          1997,
          1998,
          1999,
          2000,
          2001,
          2002,
          2003,
          2004,
          2005,
          2006,
          2007,
          2008,
          2009,
          2010,
          2011,
          2012,
          2013,
          2014,
          2015,
          2016
         ],
         "y": [
          "",
          "",
          "",
          "",
          "",
          "",
          "",
          "",
          "",
          "",
          "",
          "",
          "",
          "",
          "",
          "",
          36,
          42,
          10,
          24,
          22,
          24,
          13,
          37,
          26,
          "",
          38,
          32,
          "",
          "",
          "",
          ""
         ]
        },
        {
         "line": {
          "color": "rgba(128, 177, 211, 0.7623762376237624)",
          "dash": "solid",
          "shape": "linear",
          "width": 1.3
         },
         "mode": "lines",
         "name": "Finland",
         "text": "",
         "type": "scatter",
         "x": [
          1985,
          1986,
          1987,
          1988,
          1989,
          1990,
          1991,
          1992,
          1993,
          1994,
          1995,
          1996,
          1997,
          1998,
          1999,
          2000,
          2001,
          2002,
          2003,
          2004,
          2005,
          2006,
          2007,
          2008,
          2009,
          2010,
          2011,
          2012,
          2013,
          2014,
          2015,
          2016
         ],
         "y": [
          "",
          "",
          1363,
          1402,
          1413,
          1512,
          1493,
          1451,
          1397,
          1387,
          1388,
          1247,
          1322,
          1228,
          1207,
          1165,
          1204,
          1095,
          1075,
          1064,
          994,
          1062,
          995,
          1033,
          1034,
          954,
          912,
          873,
          887,
          789,
          731,
          ""
         ]
        },
        {
         "line": {
          "color": "rgba(255, 153, 51, 0.7623762376237624)",
          "dash": "solid",
          "shape": "linear",
          "width": 1.3
         },
         "mode": "lines",
         "name": "France",
         "text": "",
         "type": "scatter",
         "x": [
          1985,
          1986,
          1987,
          1988,
          1989,
          1990,
          1991,
          1992,
          1993,
          1994,
          1995,
          1996,
          1997,
          1998,
          1999,
          2000,
          2001,
          2002,
          2003,
          2004,
          2005,
          2006,
          2007,
          2008,
          2009,
          2010,
          2011,
          2012,
          2013,
          2014,
          2015,
          2016
         ],
         "y": [
          12501,
          12529,
          12161,
          11599,
          11715,
          11403,
          11502,
          11644,
          12251,
          12041,
          11819,
          11279,
          11139,
          10534,
          10268,
          10849,
          10449,
          10643,
          10871,
          10804,
          10713,
          10423,
          10127,
          10353,
          10499,
          10379,
          10408,
          9743,
          9600,
          8881,
          "",
          ""
         ]
        },
        {
         "line": {
          "color": "rgba(55, 128, 191, 0.7623762376237624)",
          "dash": "solid",
          "shape": "linear",
          "width": 1.3
         },
         "mode": "lines",
         "name": "Georgia",
         "text": "",
         "type": "scatter",
         "x": [
          1985,
          1986,
          1987,
          1988,
          1989,
          1990,
          1991,
          1992,
          1993,
          1994,
          1995,
          1996,
          1997,
          1998,
          1999,
          2000,
          2001,
          2002,
          2003,
          2004,
          2005,
          2006,
          2007,
          2008,
          2009,
          2010,
          2011,
          2012,
          2013,
          2014,
          2015,
          2016
         ],
         "y": [
          "",
          "",
          "",
          "",
          "",
          196,
          174,
          204,
          "",
          123,
          138,
          162,
          176,
          148,
          189,
          130,
          100,
          "",
          "",
          175,
          87,
          72,
          104,
          "",
          188,
          112,
          99,
          104,
          157,
          194,
          192,
          ""
         ]
        },
        {
         "line": {
          "color": "rgba(50, 171, 96, 0.7623762376237624)",
          "dash": "solid",
          "shape": "linear",
          "width": 1.3
         },
         "mode": "lines",
         "name": "Germany",
         "text": "",
         "type": "scatter",
         "x": [
          1985,
          1986,
          1987,
          1988,
          1989,
          1990,
          1991,
          1992,
          1993,
          1994,
          1995,
          1996,
          1997,
          1998,
          1999,
          2000,
          2001,
          2002,
          2003,
          2004,
          2005,
          2006,
          2007,
          2008,
          2009,
          2010,
          2011,
          2012,
          2013,
          2014,
          2015,
          2016
         ],
         "y": [
          "",
          "",
          "",
          "",
          "",
          13924,
          14010,
          13458,
          12690,
          12718,
          12888,
          12225,
          12256,
          11654,
          11160,
          11073,
          11167,
          11176,
          11155,
          10741,
          10270,
          9775,
          9409,
          9459,
          9579,
          10030,
          10153,
          9896,
          10091,
          10217,
          10088,
          ""
         ]
        },
        {
         "line": {
          "color": "rgba(128, 0, 128, 0.7623762376237624)",
          "dash": "solid",
          "shape": "linear",
          "width": 1.3
         },
         "mode": "lines",
         "name": "Greece",
         "text": "",
         "type": "scatter",
         "x": [
          1985,
          1986,
          1987,
          1988,
          1989,
          1990,
          1991,
          1992,
          1993,
          1994,
          1995,
          1996,
          1997,
          1998,
          1999,
          2000,
          2001,
          2002,
          2003,
          2004,
          2005,
          2006,
          2007,
          2008,
          2009,
          2010,
          2011,
          2012,
          2013,
          2014,
          2015,
          2016
         ],
         "y": [
          405,
          393,
          410,
          403,
          383,
          349,
          381,
          351,
          412,
          355,
          370,
          356,
          374,
          403,
          381,
          382,
          334,
          323,
          375,
          353,
          400,
          394,
          328,
          373,
          391,
          377,
          477,
          508,
          533,
          565,
          529,
          ""
         ]
        },
        {
         "line": {
          "color": "rgba(219, 64, 82, 0.7623762376237624)",
          "dash": "solid",
          "shape": "linear",
          "width": 1.3
         },
         "mode": "lines",
         "name": "Grenada",
         "text": "",
         "type": "scatter",
         "x": [
          1985,
          1986,
          1987,
          1988,
          1989,
          1990,
          1991,
          1992,
          1993,
          1994,
          1995,
          1996,
          1997,
          1998,
          1999,
          2000,
          2001,
          2002,
          2003,
          2004,
          2005,
          2006,
          2007,
          2008,
          2009,
          2010,
          2011,
          2012,
          2013,
          2014,
          2015,
          2016
         ],
         "y": [
          1,
          "",
          "",
          4,
          4,
          2,
          0,
          0,
          3,
          4,
          1,
          1,
          "",
          "",
          "",
          "",
          0,
          0,
          4,
          1,
          6,
          1,
          3,
          0,
          0,
          0,
          1,
          2,
          0,
          0,
          0,
          0
         ]
        },
        {
         "line": {
          "color": "rgba(0, 128, 128, 0.7623762376237624)",
          "dash": "solid",
          "shape": "linear",
          "width": 1.3
         },
         "mode": "lines",
         "name": "Guatemala",
         "text": "",
         "type": "scatter",
         "x": [
          1985,
          1986,
          1987,
          1988,
          1989,
          1990,
          1991,
          1992,
          1993,
          1994,
          1995,
          1996,
          1997,
          1998,
          1999,
          2000,
          2001,
          2002,
          2003,
          2004,
          2005,
          2006,
          2007,
          2008,
          2009,
          2010,
          2011,
          2012,
          2013,
          2014,
          2015,
          2016
         ],
         "y": [
          "",
          203,
          241,
          174,
          152,
          158,
          156,
          173,
          165,
          142,
          211,
          157,
          179,
          201,
          234,
          182,
          202,
          258,
          253,
          250,
          238,
          298,
          327,
          492,
          511,
          352,
          359,
          420,
          455,
          512,
          494,
          ""
         ]
        },
        {
         "line": {
          "color": "rgba(255, 255, 51, 0.7623762376237624)",
          "dash": "solid",
          "shape": "linear",
          "width": 1.3
         },
         "mode": "lines",
         "name": "Guyana",
         "text": "",
         "type": "scatter",
         "x": [
          1985,
          1986,
          1987,
          1988,
          1989,
          1990,
          1991,
          1992,
          1993,
          1994,
          1995,
          1996,
          1997,
          1998,
          1999,
          2000,
          2001,
          2002,
          2003,
          2004,
          2005,
          2006,
          2007,
          2008,
          2009,
          2010,
          2011,
          2012,
          2013,
          2014,
          2015,
          2016
         ],
         "y": [
          "",
          "",
          "",
          56,
          94,
          89,
          105,
          78,
          72,
          86,
          99,
          60,
          40,
          35,
          163,
          "",
          197,
          176,
          198,
          186,
          169,
          201,
          185,
          168,
          156,
          205,
          192,
          206,
          210,
          "",
          "",
          ""
         ]
        },
        {
         "line": {
          "color": "rgba(255, 255, 51, 0.6831683168316831)",
          "dash": "solid",
          "shape": "linear",
          "width": 1.3
         },
         "mode": "lines",
         "name": "Hungary",
         "text": "",
         "type": "scatter",
         "x": [
          1985,
          1986,
          1987,
          1988,
          1989,
          1990,
          1991,
          1992,
          1993,
          1994,
          1995,
          1996,
          1997,
          1998,
          1999,
          2000,
          2001,
          2002,
          2003,
          2004,
          2005,
          2006,
          2007,
          2008,
          2009,
          2010,
          2011,
          2012,
          2013,
          2014,
          2015,
          2016
         ],
         "y": [
          "",
          "",
          "",
          "",
          "",
          "",
          3993,
          4000,
          3694,
          3625,
          3366,
          3436,
          3208,
          3245,
          3326,
          3269,
          2978,
          2839,
          2800,
          2742,
          2619,
          2461,
          2450,
          2476,
          2460,
          2489,
          2420,
          2349,
          2092,
          1925,
          1868,
          1761
         ]
        },
        {
         "line": {
          "color": "rgba(128, 128, 0, 0.6831683168316831)",
          "dash": "solid",
          "shape": "linear",
          "width": 1.3
         },
         "mode": "lines",
         "name": "Iceland",
         "text": "",
         "type": "scatter",
         "x": [
          1985,
          1986,
          1987,
          1988,
          1989,
          1990,
          1991,
          1992,
          1993,
          1994,
          1995,
          1996,
          1997,
          1998,
          1999,
          2000,
          2001,
          2002,
          2003,
          2004,
          2005,
          2006,
          2007,
          2008,
          2009,
          2010,
          2011,
          2012,
          2013,
          2014,
          2015,
          2016
         ],
         "y": [
          32,
          37,
          36,
          35,
          22,
          40,
          37,
          28,
          26,
          25,
          27,
          33,
          33,
          30,
          31,
          50,
          36,
          30,
          26,
          35,
          33,
          32,
          37,
          38,
          36,
          46,
          27,
          37,
          49,
          44,
          40,
          40
         ]
        },
        {
         "line": {
          "color": "rgba(251, 128, 114, 0.6831683168316831)",
          "dash": "solid",
          "shape": "linear",
          "width": 1.3
         },
         "mode": "lines",
         "name": "Ireland",
         "text": "",
         "type": "scatter",
         "x": [
          1985,
          1986,
          1987,
          1988,
          1989,
          1990,
          1991,
          1992,
          1993,
          1994,
          1995,
          1996,
          1997,
          1998,
          1999,
          2000,
          2001,
          2002,
          2003,
          2004,
          2005,
          2006,
          2007,
          2008,
          2009,
          2010,
          2011,
          2012,
          2013,
          2014,
          2015,
          2016
         ],
         "y": [
          276,
          282,
          245,
          266,
          278,
          334,
          345,
          362,
          326,
          394,
          403,
          408,
          466,
          498,
          424,
          463,
          488,
          449,
          454,
          464,
          451,
          452,
          458,
          506,
          527,
          486,
          554,
          542,
          487,
          486,
          "",
          ""
         ]
        },
        {
         "line": {
          "color": "rgba(128, 177, 211, 0.6831683168316831)",
          "dash": "solid",
          "shape": "linear",
          "width": 1.3
         },
         "mode": "lines",
         "name": "Israel",
         "text": "",
         "type": "scatter",
         "x": [
          1985,
          1986,
          1987,
          1988,
          1989,
          1990,
          1991,
          1992,
          1993,
          1994,
          1995,
          1996,
          1997,
          1998,
          1999,
          2000,
          2001,
          2002,
          2003,
          2004,
          2005,
          2006,
          2007,
          2008,
          2009,
          2010,
          2011,
          2012,
          2013,
          2014,
          2015,
          2016
         ],
         "y": [
          234,
          278,
          271,
          303,
          353,
          304,
          359,
          381,
          371,
          416,
          360,
          306,
          379,
          318,
          368,
          394,
          398,
          382,
          417,
          411,
          425,
          367,
          326,
          354,
          404,
          480,
          409,
          430,
          372,
          382,
          342,
          ""
         ]
        },
        {
         "line": {
          "color": "rgba(255, 153, 51, 0.6831683168316831)",
          "dash": "solid",
          "shape": "linear",
          "width": 1.3
         },
         "mode": "lines",
         "name": "Italy",
         "text": "",
         "type": "scatter",
         "x": [
          1985,
          1986,
          1987,
          1988,
          1989,
          1990,
          1991,
          1992,
          1993,
          1994,
          1995,
          1996,
          1997,
          1998,
          1999,
          2000,
          2001,
          2002,
          2003,
          2004,
          2005,
          2006,
          2007,
          2008,
          2009,
          2010,
          2011,
          2012,
          2013,
          2014,
          2015,
          2016
         ],
         "y": [
          4759,
          4691,
          4516,
          4381,
          4342,
          4402,
          4453,
          4543,
          4697,
          4536,
          4569,
          4689,
          4694,
          4504,
          4115,
          4108,
          4030,
          4069,
          4075,
          3986,
          3742,
          3700,
          3757,
          3904,
          3974,
          3989,
          4153,
          4257,
          4290,
          4147,
          3988,
          ""
         ]
        },
        {
         "line": {
          "color": "rgba(55, 128, 191, 0.6831683168316831)",
          "dash": "solid",
          "shape": "linear",
          "width": 1.3
         },
         "mode": "lines",
         "name": "Jamaica",
         "text": "",
         "type": "scatter",
         "x": [
          1985,
          1986,
          1987,
          1988,
          1989,
          1990,
          1991,
          1992,
          1993,
          1994,
          1995,
          1996,
          1997,
          1998,
          1999,
          2000,
          2001,
          2002,
          2003,
          2004,
          2005,
          2006,
          2007,
          2008,
          2009,
          2010,
          2011,
          2012,
          2013,
          2014,
          2015,
          2016
         ],
         "y": [
          8,
          1,
          13,
          5,
          0,
          3,
          1,
          "",
          "",
          "",
          "",
          "",
          "",
          "",
          "",
          3,
          5,
          2,
          2,
          1,
          51,
          0,
          "",
          "",
          36,
          3,
          50,
          "",
          "",
          "",
          "",
          ""
         ]
        },
        {
         "line": {
          "color": "rgba(50, 171, 96, 0.6831683168316831)",
          "dash": "solid",
          "shape": "linear",
          "width": 1.3
         },
         "mode": "lines",
         "name": "Japan",
         "text": "",
         "type": "scatter",
         "x": [
          1985,
          1986,
          1987,
          1988,
          1989,
          1990,
          1991,
          1992,
          1993,
          1994,
          1995,
          1996,
          1997,
          1998,
          1999,
          2000,
          2001,
          2002,
          2003,
          2004,
          2005,
          2006,
          2007,
          2008,
          2009,
          2010,
          2011,
          2012,
          2013,
          2014,
          2015,
          2016
         ],
         "y": [
          23257,
          25484,
          23663,
          22676,
          21013,
          20002,
          19780,
          20756,
          20353,
          20744,
          21249,
          21967,
          23280,
          31458,
          31115,
          29989,
          29132,
          29715,
          31881,
          30034,
          30369,
          29769,
          30665,
          30073,
          30523,
          29411,
          28766,
          26338,
          25991,
          24357,
          23092,
          ""
         ]
        },
        {
         "line": {
          "color": "rgba(128, 0, 128, 0.6831683168316831)",
          "dash": "solid",
          "shape": "linear",
          "width": 1.3
         },
         "mode": "lines",
         "name": "Kazakhstan",
         "text": "",
         "type": "scatter",
         "x": [
          1985,
          1986,
          1987,
          1988,
          1989,
          1990,
          1991,
          1992,
          1993,
          1994,
          1995,
          1996,
          1997,
          1998,
          1999,
          2000,
          2001,
          2002,
          2003,
          2004,
          2005,
          2006,
          2007,
          2008,
          2009,
          2010,
          2011,
          2012,
          2013,
          2014,
          2015,
          2016
         ],
         "y": [
          "",
          "",
          "",
          "",
          "",
          3172,
          3082,
          3356,
          4019,
          4024,
          4706,
          4773,
          4642,
          4313,
          3991,
          4428,
          4377,
          4240,
          4321,
          4394,
          3903,
          4076,
          4141,
          3997,
          3838,
          3609,
          3401,
          3240,
          3512,
          3119,
          2872,
          ""
         ]
        },
        {
         "line": {
          "color": "rgba(219, 64, 82, 0.6831683168316831)",
          "dash": "solid",
          "shape": "linear",
          "width": 1.3
         },
         "mode": "lines",
         "name": "Kiribati",
         "text": "",
         "type": "scatter",
         "x": [
          1985,
          1986,
          1987,
          1988,
          1989,
          1990,
          1991,
          1992,
          1993,
          1994,
          1995,
          1996,
          1997,
          1998,
          1999,
          2000,
          2001,
          2002,
          2003,
          2004,
          2005,
          2006,
          2007,
          2008,
          2009,
          2010,
          2011,
          2012,
          2013,
          2014,
          2015,
          2016
         ],
         "y": [
          "",
          "",
          "",
          "",
          "",
          "",
          10,
          4,
          12,
          10,
          2,
          6,
          5,
          4,
          0,
          0,
          0,
          "",
          "",
          "",
          "",
          "",
          "",
          "",
          "",
          "",
          "",
          "",
          "",
          "",
          "",
          ""
         ]
        },
        {
         "line": {
          "color": "rgba(0, 128, 128, 0.6831683168316831)",
          "dash": "solid",
          "shape": "linear",
          "width": 1.3
         },
         "mode": "lines",
         "name": "Kuwait",
         "text": "",
         "type": "scatter",
         "x": [
          1985,
          1986,
          1987,
          1988,
          1989,
          1990,
          1991,
          1992,
          1993,
          1994,
          1995,
          1996,
          1997,
          1998,
          1999,
          2000,
          2001,
          2002,
          2003,
          2004,
          2005,
          2006,
          2007,
          2008,
          2009,
          2010,
          2011,
          2012,
          2013,
          2014,
          2015,
          2016
         ],
         "y": [
          17,
          16,
          16,
          "",
          "",
          "",
          "",
          "",
          18,
          30,
          26,
          30,
          33,
          35,
          46,
          34,
          30,
          45,
          44,
          45,
          52,
          45,
          51,
          47,
          61,
          39,
          41,
          56,
          41,
          68,
          "",
          ""
         ]
        },
        {
         "line": {
          "color": "rgba(0, 128, 128, 0.6039603960396038)",
          "dash": "solid",
          "shape": "linear",
          "width": 1.3
         },
         "mode": "lines",
         "name": "Kyrgyzstan",
         "text": "",
         "type": "scatter",
         "x": [
          1985,
          1986,
          1987,
          1988,
          1989,
          1990,
          1991,
          1992,
          1993,
          1994,
          1995,
          1996,
          1997,
          1998,
          1999,
          2000,
          2001,
          2002,
          2003,
          2004,
          2005,
          2006,
          2007,
          2008,
          2009,
          2010,
          2011,
          2012,
          2013,
          2014,
          2015,
          2016
         ],
         "y": [
          "",
          "",
          "",
          "",
          "",
          547,
          543,
          491,
          563,
          581,
          605,
          480,
          496,
          509,
          556,
          510,
          560,
          567,
          479,
          438,
          470,
          463,
          482,
          473,
          458,
          500,
          471,
          524,
          446,
          461,
          417,
          ""
         ]
        },
        {
         "line": {
          "color": "rgba(255, 255, 51, 0.6039603960396038)",
          "dash": "solid",
          "shape": "linear",
          "width": 1.3
         },
         "mode": "lines",
         "name": "Latvia",
         "text": "",
         "type": "scatter",
         "x": [
          1985,
          1986,
          1987,
          1988,
          1989,
          1990,
          1991,
          1992,
          1993,
          1994,
          1995,
          1996,
          1997,
          1998,
          1999,
          2000,
          2001,
          2002,
          2003,
          2004,
          2005,
          2006,
          2007,
          2008,
          2009,
          2010,
          2011,
          2012,
          2013,
          2014,
          2015,
          2016
         ],
         "y": [
          "",
          "",
          "",
          "",
          "",
          "",
          "",
          "",
          "",
          "",
          1024,
          922,
          886,
          839,
          763,
          770,
          708,
          670,
          604,
          563,
          564,
          487,
          453,
          527,
          516,
          438,
          440,
          444,
          383,
          382,
          387,
          ""
         ]
        },
        {
         "line": {
          "color": "rgba(128, 128, 0, 0.6039603960396038)",
          "dash": "solid",
          "shape": "linear",
          "width": 1.3
         },
         "mode": "lines",
         "name": "Lithuania",
         "text": "",
         "type": "scatter",
         "x": [
          1985,
          1986,
          1987,
          1988,
          1989,
          1990,
          1991,
          1992,
          1993,
          1994,
          1995,
          1996,
          1997,
          1998,
          1999,
          2000,
          2001,
          2002,
          2003,
          2004,
          2005,
          2006,
          2007,
          2008,
          2009,
          2010,
          2011,
          2012,
          2013,
          2014,
          2015,
          2016
         ],
         "y": [
          "",
          "",
          "",
          "",
          "",
          "",
          "",
          "",
          "",
          "",
          1694,
          1722,
          1632,
          1553,
          1550,
          1631,
          1533,
          1551,
          1455,
          1380,
          1319,
          1049,
          1025,
          1111,
          1138,
          1018,
          1018,
          927,
          1085,
          930,
          896,
          822
         ]
        },
        {
         "line": {
          "color": "rgba(251, 128, 114, 0.6039603960396038)",
          "dash": "solid",
          "shape": "linear",
          "width": 1.3
         },
         "mode": "lines",
         "name": "Luxembourg",
         "text": "",
         "type": "scatter",
         "x": [
          1985,
          1986,
          1987,
          1988,
          1989,
          1990,
          1991,
          1992,
          1993,
          1994,
          1995,
          1996,
          1997,
          1998,
          1999,
          2000,
          2001,
          2002,
          2003,
          2004,
          2005,
          2006,
          2007,
          2008,
          2009,
          2010,
          2011,
          2012,
          2013,
          2014,
          2015,
          2016
         ],
         "y": [
          55,
          51,
          74,
          69,
          73,
          68,
          77,
          59,
          64,
          74,
          63,
          72,
          81,
          64,
          70,
          62,
          73,
          85,
          48,
          62,
          49,
          65,
          78,
          43,
          48,
          54,
          55,
          51,
          40,
          67,
          64,
          ""
         ]
        },
        {
         "line": {
          "color": "rgba(128, 177, 211, 0.6039603960396038)",
          "dash": "solid",
          "shape": "linear",
          "width": 1.3
         },
         "mode": "lines",
         "name": "Macau",
         "text": "",
         "type": "scatter",
         "x": [
          1985,
          1986,
          1987,
          1988,
          1989,
          1990,
          1991,
          1992,
          1993,
          1994,
          1995,
          1996,
          1997,
          1998,
          1999,
          2000,
          2001,
          2002,
          2003,
          2004,
          2005,
          2006,
          2007,
          2008,
          2009,
          2010,
          2011,
          2012,
          2013,
          2014,
          2015,
          2016
         ],
         "y": [
          "",
          "",
          "",
          "",
          "",
          "",
          "",
          "",
          "",
          27,
          "",
          "",
          "",
          "",
          "",
          "",
          "",
          "",
          "",
          "",
          "",
          "",
          "",
          "",
          "",
          "",
          "",
          "",
          "",
          "",
          "",
          ""
         ]
        },
        {
         "line": {
          "color": "rgba(255, 153, 51, 0.6039603960396038)",
          "dash": "solid",
          "shape": "linear",
          "width": 1.3
         },
         "mode": "lines",
         "name": "Maldives",
         "text": "",
         "type": "scatter",
         "x": [
          1985,
          1986,
          1987,
          1988,
          1989,
          1990,
          1991,
          1992,
          1993,
          1994,
          1995,
          1996,
          1997,
          1998,
          1999,
          2000,
          2001,
          2002,
          2003,
          2004,
          2005,
          2006,
          2007,
          2008,
          2009,
          2010,
          2011,
          2012,
          2013,
          2014,
          2015,
          2016
         ],
         "y": [
          "",
          "",
          "",
          "",
          "",
          "",
          "",
          "",
          "",
          "",
          "",
          "",
          "",
          "",
          "",
          0,
          3,
          3,
          4,
          1,
          1,
          "",
          5,
          0,
          "",
          1,
          2,
          "",
          "",
          "",
          "",
          ""
         ]
        },
        {
         "line": {
          "color": "rgba(55, 128, 191, 0.6039603960396038)",
          "dash": "solid",
          "shape": "linear",
          "width": 1.3
         },
         "mode": "lines",
         "name": "Malta",
         "text": "",
         "type": "scatter",
         "x": [
          1985,
          1986,
          1987,
          1988,
          1989,
          1990,
          1991,
          1992,
          1993,
          1994,
          1995,
          1996,
          1997,
          1998,
          1999,
          2000,
          2001,
          2002,
          2003,
          2004,
          2005,
          2006,
          2007,
          2008,
          2009,
          2010,
          2011,
          2012,
          2013,
          2014,
          2015,
          2016
         ],
         "y": [
          2,
          1,
          1,
          9,
          23,
          8,
          10,
          18,
          16,
          15,
          17,
          10,
          15,
          12,
          27,
          23,
          30,
          19,
          20,
          24,
          19,
          26,
          26,
          14,
          36,
          31,
          20,
          25,
          22,
          32,
          34,
          ""
         ]
        },
        {
         "line": {
          "color": "rgba(50, 171, 96, 0.6039603960396038)",
          "dash": "solid",
          "shape": "linear",
          "width": 1.3
         },
         "mode": "lines",
         "name": "Mauritius",
         "text": "",
         "type": "scatter",
         "x": [
          1985,
          1986,
          1987,
          1988,
          1989,
          1990,
          1991,
          1992,
          1993,
          1994,
          1995,
          1996,
          1997,
          1998,
          1999,
          2000,
          2001,
          2002,
          2003,
          2004,
          2005,
          2006,
          2007,
          2008,
          2009,
          2010,
          2011,
          2012,
          2013,
          2014,
          2015,
          2016
         ],
         "y": [
          104,
          28,
          140,
          167,
          144,
          147,
          137,
          146,
          138,
          129,
          147,
          153,
          122,
          155,
          174,
          137,
          113,
          131,
          88,
          97,
          102,
          118,
          127,
          84,
          115,
          98,
          118,
          115,
          98,
          120,
          104,
          98
         ]
        },
        {
         "line": {
          "color": "rgba(128, 0, 128, 0.6039603960396038)",
          "dash": "solid",
          "shape": "linear",
          "width": 1.3
         },
         "mode": "lines",
         "name": "Mexico",
         "text": "",
         "type": "scatter",
         "x": [
          1985,
          1986,
          1987,
          1988,
          1989,
          1990,
          1991,
          1992,
          1993,
          1994,
          1995,
          1996,
          1997,
          1998,
          1999,
          2000,
          2001,
          2002,
          2003,
          2004,
          2005,
          2006,
          2007,
          2008,
          2009,
          2010,
          2011,
          2012,
          2013,
          2014,
          2015,
          2016
         ],
         "y": [
          1544,
          1714,
          1701,
          1703,
          1865,
          1926,
          2103,
          2237,
          2342,
          2588,
          2877,
          3008,
          3350,
          3312,
          3327,
          3456,
          3760,
          3826,
          4070,
          4056,
          4274,
          4230,
          4285,
          4642,
          5023,
          4858,
          5558,
          5381,
          5711,
          6178,
          6234,
          ""
         ]
        },
        {
         "line": {
          "color": "rgba(219, 64, 82, 0.6039603960396038)",
          "dash": "solid",
          "shape": "linear",
          "width": 1.3
         },
         "mode": "lines",
         "name": "Mongolia",
         "text": "",
         "type": "scatter",
         "x": [
          1985,
          1986,
          1987,
          1988,
          1989,
          1990,
          1991,
          1992,
          1993,
          1994,
          1995,
          1996,
          1997,
          1998,
          1999,
          2000,
          2001,
          2002,
          2003,
          2004,
          2005,
          2006,
          2007,
          2008,
          2009,
          2010,
          2011,
          2012,
          2013,
          2014,
          2015,
          2016
         ],
         "y": [
          "",
          "",
          "",
          "",
          "",
          "",
          "",
          "",
          "",
          "",
          "",
          "",
          "",
          "",
          "",
          "",
          "",
          "",
          "",
          "",
          "",
          "",
          "",
          "",
          "",
          "",
          "",
          "",
          "",
          "",
          "",
          423
         ]
        },
        {
         "line": {
          "color": "rgba(219, 64, 82, 0.5247524752475246)",
          "dash": "solid",
          "shape": "linear",
          "width": 1.3
         },
         "mode": "lines",
         "name": "Montenegro",
         "text": "",
         "type": "scatter",
         "x": [
          1985,
          1986,
          1987,
          1988,
          1989,
          1990,
          1991,
          1992,
          1993,
          1994,
          1995,
          1996,
          1997,
          1998,
          1999,
          2000,
          2001,
          2002,
          2003,
          2004,
          2005,
          2006,
          2007,
          2008,
          2009,
          2010,
          2011,
          2012,
          2013,
          2014,
          2015,
          2016
         ],
         "y": [
          "",
          "",
          "",
          "",
          "",
          "",
          "",
          "",
          "",
          "",
          "",
          "",
          "",
          "",
          "",
          0,
          0,
          0,
          0,
          0,
          118,
          0,
          121,
          126,
          107,
          "",
          "",
          "",
          "",
          "",
          "",
          ""
         ]
        },
        {
         "line": {
          "color": "rgba(0, 128, 128, 0.5247524752475246)",
          "dash": "solid",
          "shape": "linear",
          "width": 1.3
         },
         "mode": "lines",
         "name": "Netherlands",
         "text": "",
         "type": "scatter",
         "x": [
          1985,
          1986,
          1987,
          1988,
          1989,
          1990,
          1991,
          1992,
          1993,
          1994,
          1995,
          1996,
          1997,
          1998,
          1999,
          2000,
          2001,
          2002,
          2003,
          2004,
          2005,
          2006,
          2007,
          2008,
          2009,
          2010,
          2011,
          2012,
          2013,
          2014,
          2015,
          2016
         ],
         "y": [
          1638,
          1604,
          1616,
          1523,
          1520,
          1450,
          1611,
          1587,
          1555,
          1584,
          1511,
          1577,
          1572,
          1519,
          1519,
          1501,
          1474,
          1570,
          1502,
          1514,
          1574,
          1525,
          1354,
          1439,
          1530,
          1604,
          1650,
          1756,
          1856,
          1839,
          1873,
          1886
         ]
        },
        {
         "line": {
          "color": "rgba(255, 255, 51, 0.5247524752475246)",
          "dash": "solid",
          "shape": "linear",
          "width": 1.3
         },
         "mode": "lines",
         "name": "New Zealand",
         "text": "",
         "type": "scatter",
         "x": [
          1985,
          1986,
          1987,
          1988,
          1989,
          1990,
          1991,
          1992,
          1993,
          1994,
          1995,
          1996,
          1997,
          1998,
          1999,
          2000,
          2001,
          2002,
          2003,
          2004,
          2005,
          2006,
          2007,
          2008,
          2009,
          2010,
          2011,
          2012,
          2013,
          2014,
          2015,
          2016
         ],
         "y": [
          338,
          414,
          463,
          484,
          465,
          455,
          474,
          493,
          443,
          512,
          545,
          540,
          562,
          574,
          516,
          458,
          508,
          467,
          519,
          495,
          514,
          527,
          494,
          520,
          512,
          536,
          493,
          549,
          513,
          "",
          "",
          ""
         ]
        },
        {
         "line": {
          "color": "rgba(128, 128, 0, 0.5247524752475246)",
          "dash": "solid",
          "shape": "linear",
          "width": 1.3
         },
         "mode": "lines",
         "name": "Nicaragua",
         "text": "",
         "type": "scatter",
         "x": [
          1985,
          1986,
          1987,
          1988,
          1989,
          1990,
          1991,
          1992,
          1993,
          1994,
          1995,
          1996,
          1997,
          1998,
          1999,
          2000,
          2001,
          2002,
          2003,
          2004,
          2005,
          2006,
          2007,
          2008,
          2009,
          2010,
          2011,
          2012,
          2013,
          2014,
          2015,
          2016
         ],
         "y": [
          "",
          "",
          "",
          "",
          "",
          "",
          "",
          "",
          "",
          "",
          "",
          "",
          "",
          "",
          "",
          "",
          "",
          "",
          "",
          "",
          "",
          "",
          "",
          "",
          "",
          351,
          369,
          316,
          351,
          311,
          315,
          ""
         ]
        },
        {
         "line": {
          "color": "rgba(251, 128, 114, 0.5247524752475246)",
          "dash": "solid",
          "shape": "linear",
          "width": 1.3
         },
         "mode": "lines",
         "name": "Norway",
         "text": "",
         "type": "scatter",
         "x": [
          1985,
          1986,
          1987,
          1988,
          1989,
          1990,
          1991,
          1992,
          1993,
          1994,
          1995,
          1996,
          1997,
          1998,
          1999,
          2000,
          2001,
          2002,
          2003,
          2004,
          2005,
          2006,
          2007,
          2008,
          2009,
          2010,
          2011,
          2012,
          2013,
          2014,
          2015,
          2016
         ],
         "y": [
          "",
          579,
          649,
          708,
          660,
          659,
          675,
          616,
          590,
          531,
          548,
          517,
          533,
          548,
          583,
          541,
          549,
          494,
          502,
          529,
          533,
          532,
          485,
          505,
          573,
          548,
          598,
          515,
          554,
          548,
          590,
          ""
         ]
        },
        {
         "line": {
          "color": "rgba(128, 177, 211, 0.5247524752475246)",
          "dash": "solid",
          "shape": "linear",
          "width": 1.3
         },
         "mode": "lines",
         "name": "Oman",
         "text": "",
         "type": "scatter",
         "x": [
          1985,
          1986,
          1987,
          1988,
          1989,
          1990,
          1991,
          1992,
          1993,
          1994,
          1995,
          1996,
          1997,
          1998,
          1999,
          2000,
          2001,
          2002,
          2003,
          2004,
          2005,
          2006,
          2007,
          2008,
          2009,
          2010,
          2011,
          2012,
          2013,
          2014,
          2015,
          2016
         ],
         "y": [
          "",
          "",
          "",
          "",
          "",
          "",
          "",
          "",
          "",
          "",
          "",
          "",
          "",
          "",
          "",
          "",
          "",
          "",
          "",
          "",
          "",
          "",
          "",
          "",
          13,
          13,
          "",
          "",
          "",
          7,
          "",
          ""
         ]
        },
        {
         "line": {
          "color": "rgba(255, 153, 51, 0.5247524752475246)",
          "dash": "solid",
          "shape": "linear",
          "width": 1.3
         },
         "mode": "lines",
         "name": "Panama",
         "text": "",
         "type": "scatter",
         "x": [
          1985,
          1986,
          1987,
          1988,
          1989,
          1990,
          1991,
          1992,
          1993,
          1994,
          1995,
          1996,
          1997,
          1998,
          1999,
          2000,
          2001,
          2002,
          2003,
          2004,
          2005,
          2006,
          2007,
          2008,
          2009,
          2010,
          2011,
          2012,
          2013,
          2014,
          2015,
          2016
         ],
         "y": [
          56,
          82,
          85,
          87,
          70,
          "",
          "",
          "",
          "",
          "",
          "",
          113,
          145,
          148,
          143,
          143,
          162,
          160,
          195,
          186,
          172,
          185,
          171,
          186,
          177,
          151,
          144,
          135,
          130,
          147,
          110,
          ""
         ]
        },
        {
         "line": {
          "color": "rgba(55, 128, 191, 0.5247524752475246)",
          "dash": "solid",
          "shape": "linear",
          "width": 1.3
         },
         "mode": "lines",
         "name": "Paraguay",
         "text": "",
         "type": "scatter",
         "x": [
          1985,
          1986,
          1987,
          1988,
          1989,
          1990,
          1991,
          1992,
          1993,
          1994,
          1995,
          1996,
          1997,
          1998,
          1999,
          2000,
          2001,
          2002,
          2003,
          2004,
          2005,
          2006,
          2007,
          2008,
          2009,
          2010,
          2011,
          2012,
          2013,
          2014,
          2015,
          2016
         ],
         "y": [
          63,
          56,
          62,
          "",
          67,
          99,
          75,
          "",
          "",
          108,
          118,
          99,
          126,
          138,
          161,
          154,
          152,
          177,
          174,
          234,
          239,
          251,
          227,
          222,
          283,
          223,
          298,
          275,
          323,
          379,
          "",
          ""
         ]
        },
        {
         "line": {
          "color": "rgba(50, 171, 96, 0.5247524752475246)",
          "dash": "solid",
          "shape": "linear",
          "width": 1.3
         },
         "mode": "lines",
         "name": "Philippines",
         "text": "",
         "type": "scatter",
         "x": [
          1985,
          1986,
          1987,
          1988,
          1989,
          1990,
          1991,
          1992,
          1993,
          1994,
          1995,
          1996,
          1997,
          1998,
          1999,
          2000,
          2001,
          2002,
          2003,
          2004,
          2005,
          2006,
          2007,
          2008,
          2009,
          2010,
          2011,
          2012,
          2013,
          2014,
          2015,
          2016
         ],
         "y": [
          "",
          "",
          "",
          "",
          "",
          "",
          "",
          347,
          846,
          "",
          "",
          "",
          814,
          883,
          1043,
          1403,
          1204,
          1301,
          1544,
          "",
          "",
          1788,
          1698,
          1820,
          2074,
          2116,
          2449,
          "",
          "",
          "",
          "",
          ""
         ]
        },
        {
         "line": {
          "color": "rgba(128, 0, 128, 0.5247524752475246)",
          "dash": "solid",
          "shape": "linear",
          "width": 1.3
         },
         "mode": "lines",
         "name": "Poland",
         "text": "",
         "type": "scatter",
         "x": [
          1985,
          1986,
          1987,
          1988,
          1989,
          1990,
          1991,
          1992,
          1993,
          1994,
          1995,
          1996,
          1997,
          1998,
          1999,
          2000,
          2001,
          2002,
          2003,
          2004,
          2005,
          2006,
          2007,
          2008,
          2009,
          2010,
          2011,
          2012,
          2013,
          2014,
          2015,
          2016
         ],
         "y": [
          "",
          "",
          "",
          "",
          "",
          4970,
          5316,
          5713,
          5624,
          5519,
          5499,
          5446,
          "",
          "",
          5779,
          5841,
          5855,
          5925,
          5836,
          6072,
          6045,
          5805,
          5284,
          5682,
          6477,
          6357,
          6113,
          6368,
          6218,
          5934,
          5420,
          ""
         ]
        },
        {
         "line": {
          "color": "rgba(128, 0, 128, 0.44554455445544555)",
          "dash": "solid",
          "shape": "linear",
          "width": 1.3
         },
         "mode": "lines",
         "name": "Portugal",
         "text": "",
         "type": "scatter",
         "x": [
          1985,
          1986,
          1987,
          1988,
          1989,
          1990,
          1991,
          1992,
          1993,
          1994,
          1995,
          1996,
          1997,
          1998,
          1999,
          2000,
          2001,
          2002,
          2003,
          2004,
          2005,
          2006,
          2007,
          2008,
          2009,
          2010,
          2011,
          2012,
          2013,
          2014,
          2015,
          2016
         ],
         "y": [
          983,
          941,
          960,
          819,
          747,
          870,
          942,
          866,
          780,
          762,
          809,
          653,
          628,
          556,
          545,
          524,
          761,
          1210,
          1156,
          "",
          "",
          "",
          1020,
          1038,
          1025,
          1099,
          1017,
          1076,
          1052,
          1222,
          "",
          ""
         ]
        },
        {
         "line": {
          "color": "rgba(219, 64, 82, 0.44554455445544555)",
          "dash": "solid",
          "shape": "linear",
          "width": 1.3
         },
         "mode": "lines",
         "name": "Puerto Rico",
         "text": "",
         "type": "scatter",
         "x": [
          1985,
          1986,
          1987,
          1988,
          1989,
          1990,
          1991,
          1992,
          1993,
          1994,
          1995,
          1996,
          1997,
          1998,
          1999,
          2000,
          2001,
          2002,
          2003,
          2004,
          2005,
          2006,
          2007,
          2008,
          2009,
          2010,
          2011,
          2012,
          2013,
          2014,
          2015,
          2016
         ],
         "y": [
          269,
          310,
          272,
          314,
          327,
          371,
          355,
          314,
          345,
          355,
          289,
          331,
          273,
          321,
          289,
          305,
          289,
          239,
          262,
          279,
          289,
          265,
          271,
          300,
          330,
          286,
          258,
          248,
          241,
          220,
          226,
          ""
         ]
        },
        {
         "line": {
          "color": "rgba(0, 128, 128, 0.44554455445544555)",
          "dash": "solid",
          "shape": "linear",
          "width": 1.3
         },
         "mode": "lines",
         "name": "Qatar",
         "text": "",
         "type": "scatter",
         "x": [
          1985,
          1986,
          1987,
          1988,
          1989,
          1990,
          1991,
          1992,
          1993,
          1994,
          1995,
          1996,
          1997,
          1998,
          1999,
          2000,
          2001,
          2002,
          2003,
          2004,
          2005,
          2006,
          2007,
          2008,
          2009,
          2010,
          2011,
          2012,
          2013,
          2014,
          2015,
          2016
         ],
         "y": [
          "",
          "",
          "",
          "",
          "",
          "",
          "",
          "",
          "",
          "",
          0,
          "",
          "",
          "",
          "",
          "",
          23,
          "",
          "",
          21,
          17,
          29,
          41,
          33,
          44,
          47,
          50,
          43,
          37,
          55,
          66,
          68
         ]
        },
        {
         "line": {
          "color": "rgba(255, 255, 51, 0.44554455445544555)",
          "dash": "solid",
          "shape": "linear",
          "width": 1.3
         },
         "mode": "lines",
         "name": "Republic of Korea",
         "text": "",
         "type": "scatter",
         "x": [
          1985,
          1986,
          1987,
          1988,
          1989,
          1990,
          1991,
          1992,
          1993,
          1994,
          1995,
          1996,
          1997,
          1998,
          1999,
          2000,
          2001,
          2002,
          2003,
          2004,
          2005,
          2006,
          2007,
          2008,
          2009,
          2010,
          2011,
          2012,
          2013,
          2014,
          2015,
          2016
         ],
         "y": [
          3689,
          3458,
          3301,
          2949,
          3023,
          3159,
          3069,
          3533,
          4124,
          4212,
          4841,
          5857,
          6024,
          8569,
          7075,
          6444,
          6911,
          8611,
          10898,
          11492,
          12011,
          10653,
          12174,
          12858,
          15402,
          15558,
          15906,
          14159,
          14426,
          13834,
          13510,
          ""
         ]
        },
        {
         "line": {
          "color": "rgba(128, 128, 0, 0.44554455445544555)",
          "dash": "solid",
          "shape": "linear",
          "width": 1.3
         },
         "mode": "lines",
         "name": "Romania",
         "text": "",
         "type": "scatter",
         "x": [
          1985,
          1986,
          1987,
          1988,
          1989,
          1990,
          1991,
          1992,
          1993,
          1994,
          1995,
          1996,
          1997,
          1998,
          1999,
          2000,
          2001,
          2002,
          2003,
          2004,
          2005,
          2006,
          2007,
          2008,
          2009,
          2010,
          2011,
          2012,
          2013,
          2014,
          2015,
          2016
         ],
         "y": [
          "",
          "",
          "",
          "",
          2529,
          2079,
          2161,
          2650,
          2774,
          2887,
          2793,
          2828,
          2859,
          2838,
          2736,
          2836,
          2720,
          3067,
          2894,
          2720,
          2603,
          2721,
          2430,
          2472,
          2586,
          2766,
          2536,
          2495,
          2407,
          2209,
          2228,
          1953
         ]
        },
        {
         "line": {
          "color": "rgba(251, 128, 114, 0.44554455445544555)",
          "dash": "solid",
          "shape": "linear",
          "width": 1.3
         },
         "mode": "lines",
         "name": "Russian Federation",
         "text": "",
         "type": "scatter",
         "x": [
          1985,
          1986,
          1987,
          1988,
          1989,
          1990,
          1991,
          1992,
          1993,
          1994,
          1995,
          1996,
          1997,
          1998,
          1999,
          2000,
          2001,
          2002,
          2003,
          2004,
          2005,
          2006,
          2007,
          2008,
          2009,
          2010,
          2011,
          2012,
          2013,
          2014,
          2015,
          2016
         ],
         "y": [
          "",
          "",
          "",
          "",
          37921,
          39028,
          39281,
          45923,
          55846,
          61420,
          60548,
          57511,
          54746,
          51518,
          56974,
          56619,
          56958,
          55024,
          51445,
          49096,
          45802,
          42614,
          41149,
          38211,
          37408,
          33356,
          31038,
          29643,
          28690,
          26541,
          25432,
          ""
         ]
        },
        {
         "line": {
          "color": "rgba(128, 177, 211, 0.44554455445544555)",
          "dash": "solid",
          "shape": "linear",
          "width": 1.3
         },
         "mode": "lines",
         "name": "Saint Kitts and Nevis",
         "text": "",
         "type": "scatter",
         "x": [
          1985,
          1986,
          1987,
          1988,
          1989,
          1990,
          1991,
          1992,
          1993,
          1994,
          1995,
          1996,
          1997,
          1998,
          1999,
          2000,
          2001,
          2002,
          2003,
          2004,
          2005,
          2006,
          2007,
          2008,
          2009,
          2010,
          2011,
          2012,
          2013,
          2014,
          2015,
          2016
         ],
         "y": [
          "",
          "",
          "",
          "",
          "",
          0,
          0,
          0,
          "",
          "",
          "",
          "",
          "",
          "",
          "",
          "",
          "",
          "",
          "",
          "",
          "",
          "",
          "",
          "",
          "",
          "",
          "",
          "",
          "",
          "",
          "",
          ""
         ]
        },
        {
         "line": {
          "color": "rgba(255, 153, 51, 0.44554455445544555)",
          "dash": "solid",
          "shape": "linear",
          "width": 1.3
         },
         "mode": "lines",
         "name": "Saint Lucia",
         "text": "",
         "type": "scatter",
         "x": [
          1985,
          1986,
          1987,
          1988,
          1989,
          1990,
          1991,
          1992,
          1993,
          1994,
          1995,
          1996,
          1997,
          1998,
          1999,
          2000,
          2001,
          2002,
          2003,
          2004,
          2005,
          2006,
          2007,
          2008,
          2009,
          2010,
          2011,
          2012,
          2013,
          2014,
          2015,
          2016
         ],
         "y": [
          "",
          5,
          11,
          10,
          8,
          3,
          6,
          11,
          8,
          6,
          10,
          7,
          9,
          8,
          8,
          14,
          7,
          12,
          10,
          8,
          4,
          2,
          "",
          0,
          13,
          4,
          8,
          10,
          14,
          14,
          "",
          ""
         ]
        },
        {
         "line": {
          "color": "rgba(55, 128, 191, 0.44554455445544555)",
          "dash": "solid",
          "shape": "linear",
          "width": 1.3
         },
         "mode": "lines",
         "name": "Saint Vincent and Grenadines",
         "text": "",
         "type": "scatter",
         "x": [
          1985,
          1986,
          1987,
          1988,
          1989,
          1990,
          1991,
          1992,
          1993,
          1994,
          1995,
          1996,
          1997,
          1998,
          1999,
          2000,
          2001,
          2002,
          2003,
          2004,
          2005,
          2006,
          2007,
          2008,
          2009,
          2010,
          2011,
          2012,
          2013,
          2014,
          2015,
          2016
         ],
         "y": [
          2,
          0,
          0,
          "",
          "",
          5,
          "",
          "",
          "",
          "",
          7,
          8,
          3,
          10,
          6,
          5,
          8,
          7,
          4,
          4,
          8,
          6,
          11,
          4,
          1,
          5,
          5,
          10,
          0,
          2,
          3,
          ""
         ]
        },
        {
         "line": {
          "color": "rgba(50, 171, 96, 0.44554455445544555)",
          "dash": "solid",
          "shape": "linear",
          "width": 1.3
         },
         "mode": "lines",
         "name": "San Marino",
         "text": "",
         "type": "scatter",
         "x": [
          1985,
          1986,
          1987,
          1988,
          1989,
          1990,
          1991,
          1992,
          1993,
          1994,
          1995,
          1996,
          1997,
          1998,
          1999,
          2000,
          2001,
          2002,
          2003,
          2004,
          2005,
          2006,
          2007,
          2008,
          2009,
          2010,
          2011,
          2012,
          2013,
          2014,
          2015,
          2016
         ],
         "y": [
          "",
          "",
          "",
          "",
          "",
          "",
          "",
          "",
          "",
          "",
          "",
          "",
          "",
          "",
          2,
          1,
          "",
          "",
          "",
          "",
          1,
          "",
          "",
          "",
          "",
          "",
          "",
          "",
          "",
          "",
          "",
          ""
         ]
        },
        {
         "line": {
          "color": "rgba(50, 171, 96, 0.3663366336633663)",
          "dash": "solid",
          "shape": "linear",
          "width": 1.3
         },
         "mode": "lines",
         "name": "Serbia",
         "text": "",
         "type": "scatter",
         "x": [
          1985,
          1986,
          1987,
          1988,
          1989,
          1990,
          1991,
          1992,
          1993,
          1994,
          1995,
          1996,
          1997,
          1998,
          1999,
          2000,
          2001,
          2002,
          2003,
          2004,
          2005,
          2006,
          2007,
          2008,
          2009,
          2010,
          2011,
          2012,
          2013,
          2014,
          2015,
          2016
         ],
         "y": [
          "",
          "",
          "",
          "",
          "",
          "",
          "",
          "",
          "",
          "",
          "",
          "",
          "",
          1460,
          1571,
          1543,
          1442,
          1446,
          1378,
          1345,
          1437,
          1443,
          1353,
          1289,
          1373,
          1207,
          1256,
          1243,
          1197,
          1134,
          1062,
          ""
         ]
        },
        {
         "line": {
          "color": "rgba(128, 0, 128, 0.3663366336633663)",
          "dash": "solid",
          "shape": "linear",
          "width": 1.3
         },
         "mode": "lines",
         "name": "Seychelles",
         "text": "",
         "type": "scatter",
         "x": [
          1985,
          1986,
          1987,
          1988,
          1989,
          1990,
          1991,
          1992,
          1993,
          1994,
          1995,
          1996,
          1997,
          1998,
          1999,
          2000,
          2001,
          2002,
          2003,
          2004,
          2005,
          2006,
          2007,
          2008,
          2009,
          2010,
          2011,
          2012,
          2013,
          2014,
          2015,
          2016
         ],
         "y": [
          8,
          1,
          3,
          "",
          "",
          "",
          "",
          "",
          "",
          "",
          "",
          "",
          "",
          "",
          "",
          "",
          6,
          5,
          8,
          6,
          5,
          8,
          6,
          4,
          4,
          6,
          5,
          3,
          9,
          4,
          7,
          ""
         ]
        },
        {
         "line": {
          "color": "rgba(219, 64, 82, 0.3663366336633663)",
          "dash": "solid",
          "shape": "linear",
          "width": 1.3
         },
         "mode": "lines",
         "name": "Singapore",
         "text": "",
         "type": "scatter",
         "x": [
          1985,
          1986,
          1987,
          1988,
          1989,
          1990,
          1991,
          1992,
          1993,
          1994,
          1995,
          1996,
          1997,
          1998,
          1999,
          2000,
          2001,
          2002,
          2003,
          2004,
          2005,
          2006,
          2007,
          2008,
          2009,
          2010,
          2011,
          2012,
          2013,
          2014,
          2015,
          2016
         ],
         "y": [
          324,
          326,
          301,
          366,
          394,
          354,
          296,
          277,
          270,
          316,
          364,
          239,
          303,
          328,
          277,
          309,
          305,
          321,
          320,
          335,
          359,
          372,
          328,
          319,
          349,
          296,
          308,
          392,
          357,
          355,
          329,
          ""
         ]
        },
        {
         "line": {
          "color": "rgba(0, 128, 128, 0.3663366336633663)",
          "dash": "solid",
          "shape": "linear",
          "width": 1.3
         },
         "mode": "lines",
         "name": "Slovakia",
         "text": "",
         "type": "scatter",
         "x": [
          1985,
          1986,
          1987,
          1988,
          1989,
          1990,
          1991,
          1992,
          1993,
          1994,
          1995,
          1996,
          1997,
          1998,
          1999,
          2000,
          2001,
          2002,
          2003,
          2004,
          2005,
          2006,
          2007,
          2008,
          2009,
          2010,
          2011,
          2012,
          2013,
          2014,
          2015,
          2016
         ],
         "y": [
          "",
          "",
          "",
          "",
          "",
          "",
          "",
          796,
          738,
          691,
          735,
          672,
          630,
          673,
          692,
          729,
          692,
          717,
          753,
          676,
          679,
          0,
          0,
          591,
          601,
          631,
          "",
          571,
          616,
          554,
          "",
          ""
         ]
        },
        {
         "line": {
          "color": "rgba(255, 255, 51, 0.3663366336633663)",
          "dash": "solid",
          "shape": "linear",
          "width": 1.3
         },
         "mode": "lines",
         "name": "Slovenia",
         "text": "",
         "type": "scatter",
         "x": [
          1985,
          1986,
          1987,
          1988,
          1989,
          1990,
          1991,
          1992,
          1993,
          1994,
          1995,
          1996,
          1997,
          1998,
          1999,
          2000,
          2001,
          2002,
          2003,
          2004,
          2005,
          2006,
          2007,
          2008,
          2009,
          2010,
          2011,
          2012,
          2013,
          2014,
          2015,
          2016
         ],
         "y": [
          "",
          "",
          "",
          "",
          "",
          "",
          "",
          "",
          "",
          "",
          564,
          607,
          593,
          612,
          590,
          588,
          581,
          540,
          562,
          512,
          503,
          529,
          434,
          408,
          447,
          414,
          435,
          440,
          446,
          388,
          422,
          ""
         ]
        },
        {
         "line": {
          "color": "rgba(128, 128, 0, 0.3663366336633663)",
          "dash": "solid",
          "shape": "linear",
          "width": 1.3
         },
         "mode": "lines",
         "name": "South Africa",
         "text": "",
         "type": "scatter",
         "x": [
          1985,
          1986,
          1987,
          1988,
          1989,
          1990,
          1991,
          1992,
          1993,
          1994,
          1995,
          1996,
          1997,
          1998,
          1999,
          2000,
          2001,
          2002,
          2003,
          2004,
          2005,
          2006,
          2007,
          2008,
          2009,
          2010,
          2011,
          2012,
          2013,
          2014,
          2015,
          2016
         ],
         "y": [
          "",
          "",
          "",
          "",
          "",
          "",
          "",
          "",
          "",
          "",
          "",
          143,
          104,
          180,
          279,
          267,
          384,
          236,
          256,
          383,
          458,
          514,
          417,
          441,
          372,
          393,
          358,
          487,
          587,
          580,
          482,
          ""
         ]
        },
        {
         "line": {
          "color": "rgba(251, 128, 114, 0.3663366336633663)",
          "dash": "solid",
          "shape": "linear",
          "width": 1.3
         },
         "mode": "lines",
         "name": "Spain",
         "text": "",
         "type": "scatter",
         "x": [
          1985,
          1986,
          1987,
          1988,
          1989,
          1990,
          1991,
          1992,
          1993,
          1994,
          1995,
          1996,
          1997,
          1998,
          1999,
          2000,
          2001,
          2002,
          2003,
          2004,
          2005,
          2006,
          2007,
          2008,
          2009,
          2010,
          2011,
          2012,
          2013,
          2014,
          2015,
          2016
         ],
         "y": [
          2514,
          2755,
          2804,
          2960,
          2987,
          2939,
          2916,
          2786,
          3037,
          3171,
          3157,
          3320,
          3373,
          3261,
          3220,
          3394,
          3189,
          3372,
          3478,
          3508,
          3399,
          3247,
          3264,
          3457,
          3429,
          3158,
          3180,
          3539,
          3873,
          3911,
          3604,
          ""
         ]
        },
        {
         "line": {
          "color": "rgba(128, 177, 211, 0.3663366336633663)",
          "dash": "solid",
          "shape": "linear",
          "width": 1.3
         },
         "mode": "lines",
         "name": "Sri Lanka",
         "text": "",
         "type": "scatter",
         "x": [
          1985,
          1986,
          1987,
          1988,
          1989,
          1990,
          1991,
          1992,
          1993,
          1994,
          1995,
          1996,
          1997,
          1998,
          1999,
          2000,
          2001,
          2002,
          2003,
          2004,
          2005,
          2006,
          2007,
          2008,
          2009,
          2010,
          2011,
          2012,
          2013,
          2014,
          2015,
          2016
         ],
         "y": [
          5668,
          5345,
          "",
          "",
          "",
          "",
          "",
          "",
          "",
          "",
          "",
          4898,
          5887,
          5518,
          5619,
          5252,
          4590,
          4382,
          4467,
          "",
          "",
          4015,
          "",
          "",
          "",
          "",
          "",
          "",
          "",
          "",
          "",
          ""
         ]
        },
        {
         "line": {
          "color": "rgba(255, 153, 51, 0.3663366336633663)",
          "dash": "solid",
          "shape": "linear",
          "width": 1.3
         },
         "mode": "lines",
         "name": "Suriname",
         "text": "",
         "type": "scatter",
         "x": [
          1985,
          1986,
          1987,
          1988,
          1989,
          1990,
          1991,
          1992,
          1993,
          1994,
          1995,
          1996,
          1997,
          1998,
          1999,
          2000,
          2001,
          2002,
          2003,
          2004,
          2005,
          2006,
          2007,
          2008,
          2009,
          2010,
          2011,
          2012,
          2013,
          2014,
          2015,
          2016
         ],
         "y": [
          80,
          42,
          52,
          49,
          53,
          26,
          57,
          48,
          "",
          "",
          55,
          21,
          32,
          29,
          49,
          52,
          72,
          69,
          77,
          67,
          72,
          112,
          119,
          147,
          131,
          136,
          127,
          133,
          131,
          128,
          "",
          ""
         ]
        },
        {
         "line": {
          "color": "rgba(55, 128, 191, 0.3663366336633663)",
          "dash": "solid",
          "shape": "linear",
          "width": 1.3
         },
         "mode": "lines",
         "name": "Sweden",
         "text": "",
         "type": "scatter",
         "x": [
          1985,
          1986,
          1987,
          1988,
          1989,
          1990,
          1991,
          1992,
          1993,
          1994,
          1995,
          1996,
          1997,
          1998,
          1999,
          2000,
          2001,
          2002,
          2003,
          2004,
          2005,
          2006,
          2007,
          2008,
          2009,
          2010,
          2011,
          2012,
          2013,
          2014,
          2015,
          2016
         ],
         "y": [
          "",
          "",
          1541,
          1590,
          1579,
          1471,
          1483,
          1355,
          1373,
          1324,
          1348,
          1253,
          1201,
          1231,
          1220,
          1131,
          1197,
          1180,
          1112,
          1155,
          1219,
          1197,
          1126,
          1170,
          1242,
          1141,
          1112,
          1154,
          1230,
          1148,
          1182,
          1130
         ]
        },
        {
         "line": {
          "color": "rgba(55, 128, 191, 0.287128712871287)",
          "dash": "solid",
          "shape": "linear",
          "width": 1.3
         },
         "mode": "lines",
         "name": "Switzerland",
         "text": "",
         "type": "scatter",
         "x": [
          1985,
          1986,
          1987,
          1988,
          1989,
          1990,
          1991,
          1992,
          1993,
          1994,
          1995,
          1996,
          1997,
          1998,
          1999,
          2000,
          2001,
          2002,
          2003,
          2004,
          2005,
          2006,
          2007,
          2008,
          2009,
          2010,
          2011,
          2012,
          2013,
          2014,
          2015,
          2016
         ],
         "y": [
          "",
          "",
          "",
          "",
          "",
          "",
          "",
          "",
          "",
          "",
          1419,
          1432,
          1341,
          1371,
          1296,
          1380,
          1338,
          1446,
          1269,
          1284,
          1299,
          1309,
          1360,
          1314,
          1105,
          1006,
          1034,
          1038,
          1071,
          1032,
          1073,
          ""
         ]
        },
        {
         "line": {
          "color": "rgba(50, 171, 96, 0.287128712871287)",
          "dash": "solid",
          "shape": "linear",
          "width": 1.3
         },
         "mode": "lines",
         "name": "Thailand",
         "text": "",
         "type": "scatter",
         "x": [
          1985,
          1986,
          1987,
          1988,
          1989,
          1990,
          1991,
          1992,
          1993,
          1994,
          1995,
          1996,
          1997,
          1998,
          1999,
          2000,
          2001,
          2002,
          2003,
          2004,
          2005,
          2006,
          2007,
          2008,
          2009,
          2010,
          2011,
          2012,
          2013,
          2014,
          2015,
          2016
         ],
         "y": [
          2982,
          2798,
          3035,
          "",
          "",
          3753,
          3559,
          3550,
          "",
          2307,
          4245,
          4443,
          4150,
          4963,
          5276,
          5182,
          "",
          4902,
          4484,
          4296,
          3937,
          3608,
          3754,
          3778,
          3787,
          3761,
          3873,
          3985,
          3961,
          3952,
          4205,
          4117
         ]
        },
        {
         "line": {
          "color": "rgba(128, 0, 128, 0.287128712871287)",
          "dash": "solid",
          "shape": "linear",
          "width": 1.3
         },
         "mode": "lines",
         "name": "Trinidad and Tobago",
         "text": "",
         "type": "scatter",
         "x": [
          1985,
          1986,
          1987,
          1988,
          1989,
          1990,
          1991,
          1992,
          1993,
          1994,
          1995,
          1996,
          1997,
          1998,
          1999,
          2000,
          2001,
          2002,
          2003,
          2004,
          2005,
          2006,
          2007,
          2008,
          2009,
          2010,
          2011,
          2012,
          2013,
          2014,
          2015,
          2016
         ],
         "y": [
          29,
          104,
          119,
          164,
          173,
          170,
          148,
          163,
          174,
          148,
          184,
          146,
          160,
          171,
          139,
          166,
          179,
          156,
          144,
          168,
          136,
          141,
          131,
          199,
          128,
          160,
          139,
          "",
          "",
          "",
          "",
          ""
         ]
        },
        {
         "line": {
          "color": "rgba(219, 64, 82, 0.287128712871287)",
          "dash": "solid",
          "shape": "linear",
          "width": 1.3
         },
         "mode": "lines",
         "name": "Turkey",
         "text": "",
         "type": "scatter",
         "x": [
          1985,
          1986,
          1987,
          1988,
          1989,
          1990,
          1991,
          1992,
          1993,
          1994,
          1995,
          1996,
          1997,
          1998,
          1999,
          2000,
          2001,
          2002,
          2003,
          2004,
          2005,
          2006,
          2007,
          2008,
          2009,
          2010,
          2011,
          2012,
          2013,
          2014,
          2015,
          2016
         ],
         "y": [
          "",
          "",
          "",
          "",
          "",
          "",
          "",
          "",
          "",
          "",
          "",
          "",
          "",
          "",
          "",
          "",
          "",
          "",
          "",
          "",
          "",
          "",
          "",
          "",
          1050,
          1524,
          1148,
          1450,
          1810,
          1617,
          1532,
          ""
         ]
        },
        {
         "line": {
          "color": "rgba(0, 128, 128, 0.287128712871287)",
          "dash": "solid",
          "shape": "linear",
          "width": 1.3
         },
         "mode": "lines",
         "name": "Turkmenistan",
         "text": "",
         "type": "scatter",
         "x": [
          1985,
          1986,
          1987,
          1988,
          1989,
          1990,
          1991,
          1992,
          1993,
          1994,
          1995,
          1996,
          1997,
          1998,
          1999,
          2000,
          2001,
          2002,
          2003,
          2004,
          2005,
          2006,
          2007,
          2008,
          2009,
          2010,
          2011,
          2012,
          2013,
          2014,
          2015,
          2016
         ],
         "y": [
          "",
          "",
          272,
          270,
          253,
          298,
          273,
          271,
          240,
          234,
          244,
          283,
          333,
          405,
          442,
          383,
          445,
          416,
          377,
          392,
          468,
          506,
          354,
          484,
          165,
          178,
          130,
          138,
          101,
          136,
          133,
          ""
         ]
        },
        {
         "line": {
          "color": "rgba(255, 255, 51, 0.287128712871287)",
          "dash": "solid",
          "shape": "linear",
          "width": 1.3
         },
         "mode": "lines",
         "name": "Ukraine",
         "text": "",
         "type": "scatter",
         "x": [
          1985,
          1986,
          1987,
          1988,
          1989,
          1990,
          1991,
          1992,
          1993,
          1994,
          1995,
          1996,
          1997,
          1998,
          1999,
          2000,
          2001,
          2002,
          2003,
          2004,
          2005,
          2006,
          2007,
          2008,
          2009,
          2010,
          2011,
          2012,
          2013,
          2014,
          2015,
          2016
         ],
         "y": [
          "",
          "",
          10050,
          9751,
          10887,
          10645,
          10700,
          11666,
          12469,
          13826,
          14541,
          15160,
          14903,
          14789,
          14363,
          14467,
          13131,
          12536,
          12313,
          11256,
          10621,
          10013,
          10032,
          9454,
          9715,
          9089,
          8973,
          9058,
          "",
          7968,
          7574,
          ""
         ]
        },
        {
         "line": {
          "color": "rgba(128, 128, 0, 0.287128712871287)",
          "dash": "solid",
          "shape": "linear",
          "width": 1.3
         },
         "mode": "lines",
         "name": "United Arab Emirates",
         "text": "",
         "type": "scatter",
         "x": [
          1985,
          1986,
          1987,
          1988,
          1989,
          1990,
          1991,
          1992,
          1993,
          1994,
          1995,
          1996,
          1997,
          1998,
          1999,
          2000,
          2001,
          2002,
          2003,
          2004,
          2005,
          2006,
          2007,
          2008,
          2009,
          2010,
          2011,
          2012,
          2013,
          2014,
          2015,
          2016
         ],
         "y": [
          "",
          "",
          "",
          "",
          "",
          "",
          "",
          "",
          "",
          "",
          "",
          "",
          "",
          "",
          "",
          "",
          "",
          "",
          "",
          "",
          96,
          90,
          101,
          100,
          124,
          111,
          "",
          "",
          "",
          "",
          "",
          ""
         ]
        },
        {
         "line": {
          "color": "rgba(251, 128, 114, 0.287128712871287)",
          "dash": "solid",
          "shape": "linear",
          "width": 1.3
         },
         "mode": "lines",
         "name": "United Kingdom",
         "text": "",
         "type": "scatter",
         "x": [
          1985,
          1986,
          1987,
          1988,
          1989,
          1990,
          1991,
          1992,
          1993,
          1994,
          1995,
          1996,
          1997,
          1998,
          1999,
          2000,
          2001,
          2002,
          2003,
          2004,
          2005,
          2006,
          2007,
          2008,
          2009,
          2010,
          2011,
          2012,
          2013,
          2014,
          2015,
          2016
         ],
         "y": [
          5105,
          4839,
          4594,
          4971,
          4361,
          4643,
          4547,
          4628,
          4462,
          4380,
          4315,
          4165,
          4143,
          4389,
          4448,
          4290,
          4128,
          4117,
          3979,
          4183,
          4047,
          4122,
          3897,
          4259,
          4246,
          4188,
          4393,
          4444,
          4824,
          4788,
          4910,
          ""
         ]
        },
        {
         "line": {
          "color": "rgba(128, 177, 211, 0.287128712871287)",
          "dash": "solid",
          "shape": "linear",
          "width": 1.3
         },
         "mode": "lines",
         "name": "United States",
         "text": "",
         "type": "scatter",
         "x": [
          1985,
          1986,
          1987,
          1988,
          1989,
          1990,
          1991,
          1992,
          1993,
          1994,
          1995,
          1996,
          1997,
          1998,
          1999,
          2000,
          2001,
          2002,
          2003,
          2004,
          2005,
          2006,
          2007,
          2008,
          2009,
          2010,
          2011,
          2012,
          2013,
          2014,
          2015,
          2016
         ],
         "y": [
          29446,
          30892,
          30783,
          30388,
          30218,
          30895,
          30790,
          30471,
          31084,
          31123,
          31272,
          30879,
          30517,
          30558,
          29183,
          29343,
          30607,
          31645,
          31477,
          32428,
          32629,
          33292,
          34596,
          36030,
          36900,
          38362,
          39508,
          40596,
          41143,
          42769,
          44189,
          ""
         ]
        },
        {
         "line": {
          "color": "rgba(255, 153, 51, 0.287128712871287)",
          "dash": "solid",
          "shape": "linear",
          "width": 1.3
         },
         "mode": "lines",
         "name": "Uruguay",
         "text": "",
         "type": "scatter",
         "x": [
          1985,
          1986,
          1987,
          1988,
          1989,
          1990,
          1991,
          1992,
          1993,
          1994,
          1995,
          1996,
          1997,
          1998,
          1999,
          2000,
          2001,
          2002,
          2003,
          2004,
          2005,
          2006,
          2007,
          2008,
          2009,
          2010,
          2011,
          2012,
          2013,
          2014,
          2015,
          2016
         ],
         "y": [
          287,
          262,
          258,
          268,
          344,
          315,
          "",
          "",
          418,
          406,
          427,
          393,
          456,
          521,
          450,
          555,
          499,
          675,
          535,
          520,
          498,
          528,
          576,
          523,
          511,
          547,
          "",
          599,
          546,
          591,
          630,
          ""
         ]
        },
        {
         "line": {
          "color": "rgba(255, 153, 51, 0.20792079207920772)",
          "dash": "solid",
          "shape": "linear",
          "width": 1.3
         },
         "mode": "lines",
         "name": "Uzbekistan",
         "text": "",
         "type": "scatter",
         "x": [
          1985,
          1986,
          1987,
          1988,
          1989,
          1990,
          1991,
          1992,
          1993,
          1994,
          1995,
          1996,
          1997,
          1998,
          1999,
          2000,
          2001,
          2002,
          2003,
          2004,
          2005,
          2006,
          2007,
          2008,
          2009,
          2010,
          2011,
          2012,
          2013,
          2014,
          2015,
          2016
         ],
         "y": [
          "",
          "",
          "",
          "",
          "",
          1459,
          1393,
          1344,
          1355,
          1419,
          1485,
          1699,
          1554,
          1620,
          1795,
          1919,
          1914,
          1576,
          1416,
          1251,
          1221,
          "",
          "",
          "",
          1399,
          1464,
          1640,
          1835,
          1950,
          2095,
          "",
          ""
         ]
        }
       ],
       "layout": {
        "legend": {
         "bgcolor": "#F5F6F9",
         "font": {
          "color": "#4D5663"
         }
        },
        "paper_bgcolor": "#F5F6F9",
        "plot_bgcolor": "#F5F6F9",
        "template": {
         "data": {
          "bar": [
           {
            "error_x": {
             "color": "#2a3f5f"
            },
            "error_y": {
             "color": "#2a3f5f"
            },
            "marker": {
             "line": {
              "color": "#E5ECF6",
              "width": 0.5
             }
            },
            "type": "bar"
           }
          ],
          "barpolar": [
           {
            "marker": {
             "line": {
              "color": "#E5ECF6",
              "width": 0.5
             }
            },
            "type": "barpolar"
           }
          ],
          "carpet": [
           {
            "aaxis": {
             "endlinecolor": "#2a3f5f",
             "gridcolor": "white",
             "linecolor": "white",
             "minorgridcolor": "white",
             "startlinecolor": "#2a3f5f"
            },
            "baxis": {
             "endlinecolor": "#2a3f5f",
             "gridcolor": "white",
             "linecolor": "white",
             "minorgridcolor": "white",
             "startlinecolor": "#2a3f5f"
            },
            "type": "carpet"
           }
          ],
          "choropleth": [
           {
            "colorbar": {
             "outlinewidth": 0,
             "ticks": ""
            },
            "type": "choropleth"
           }
          ],
          "contour": [
           {
            "colorbar": {
             "outlinewidth": 0,
             "ticks": ""
            },
            "colorscale": [
             [
              0,
              "#0d0887"
             ],
             [
              0.1111111111111111,
              "#46039f"
             ],
             [
              0.2222222222222222,
              "#7201a8"
             ],
             [
              0.3333333333333333,
              "#9c179e"
             ],
             [
              0.4444444444444444,
              "#bd3786"
             ],
             [
              0.5555555555555556,
              "#d8576b"
             ],
             [
              0.6666666666666666,
              "#ed7953"
             ],
             [
              0.7777777777777778,
              "#fb9f3a"
             ],
             [
              0.8888888888888888,
              "#fdca26"
             ],
             [
              1,
              "#f0f921"
             ]
            ],
            "type": "contour"
           }
          ],
          "contourcarpet": [
           {
            "colorbar": {
             "outlinewidth": 0,
             "ticks": ""
            },
            "type": "contourcarpet"
           }
          ],
          "heatmap": [
           {
            "colorbar": {
             "outlinewidth": 0,
             "ticks": ""
            },
            "colorscale": [
             [
              0,
              "#0d0887"
             ],
             [
              0.1111111111111111,
              "#46039f"
             ],
             [
              0.2222222222222222,
              "#7201a8"
             ],
             [
              0.3333333333333333,
              "#9c179e"
             ],
             [
              0.4444444444444444,
              "#bd3786"
             ],
             [
              0.5555555555555556,
              "#d8576b"
             ],
             [
              0.6666666666666666,
              "#ed7953"
             ],
             [
              0.7777777777777778,
              "#fb9f3a"
             ],
             [
              0.8888888888888888,
              "#fdca26"
             ],
             [
              1,
              "#f0f921"
             ]
            ],
            "type": "heatmap"
           }
          ],
          "heatmapgl": [
           {
            "colorbar": {
             "outlinewidth": 0,
             "ticks": ""
            },
            "colorscale": [
             [
              0,
              "#0d0887"
             ],
             [
              0.1111111111111111,
              "#46039f"
             ],
             [
              0.2222222222222222,
              "#7201a8"
             ],
             [
              0.3333333333333333,
              "#9c179e"
             ],
             [
              0.4444444444444444,
              "#bd3786"
             ],
             [
              0.5555555555555556,
              "#d8576b"
             ],
             [
              0.6666666666666666,
              "#ed7953"
             ],
             [
              0.7777777777777778,
              "#fb9f3a"
             ],
             [
              0.8888888888888888,
              "#fdca26"
             ],
             [
              1,
              "#f0f921"
             ]
            ],
            "type": "heatmapgl"
           }
          ],
          "histogram": [
           {
            "marker": {
             "colorbar": {
              "outlinewidth": 0,
              "ticks": ""
             }
            },
            "type": "histogram"
           }
          ],
          "histogram2d": [
           {
            "colorbar": {
             "outlinewidth": 0,
             "ticks": ""
            },
            "colorscale": [
             [
              0,
              "#0d0887"
             ],
             [
              0.1111111111111111,
              "#46039f"
             ],
             [
              0.2222222222222222,
              "#7201a8"
             ],
             [
              0.3333333333333333,
              "#9c179e"
             ],
             [
              0.4444444444444444,
              "#bd3786"
             ],
             [
              0.5555555555555556,
              "#d8576b"
             ],
             [
              0.6666666666666666,
              "#ed7953"
             ],
             [
              0.7777777777777778,
              "#fb9f3a"
             ],
             [
              0.8888888888888888,
              "#fdca26"
             ],
             [
              1,
              "#f0f921"
             ]
            ],
            "type": "histogram2d"
           }
          ],
          "histogram2dcontour": [
           {
            "colorbar": {
             "outlinewidth": 0,
             "ticks": ""
            },
            "colorscale": [
             [
              0,
              "#0d0887"
             ],
             [
              0.1111111111111111,
              "#46039f"
             ],
             [
              0.2222222222222222,
              "#7201a8"
             ],
             [
              0.3333333333333333,
              "#9c179e"
             ],
             [
              0.4444444444444444,
              "#bd3786"
             ],
             [
              0.5555555555555556,
              "#d8576b"
             ],
             [
              0.6666666666666666,
              "#ed7953"
             ],
             [
              0.7777777777777778,
              "#fb9f3a"
             ],
             [
              0.8888888888888888,
              "#fdca26"
             ],
             [
              1,
              "#f0f921"
             ]
            ],
            "type": "histogram2dcontour"
           }
          ],
          "mesh3d": [
           {
            "colorbar": {
             "outlinewidth": 0,
             "ticks": ""
            },
            "type": "mesh3d"
           }
          ],
          "parcoords": [
           {
            "line": {
             "colorbar": {
              "outlinewidth": 0,
              "ticks": ""
             }
            },
            "type": "parcoords"
           }
          ],
          "scatter": [
           {
            "marker": {
             "colorbar": {
              "outlinewidth": 0,
              "ticks": ""
             }
            },
            "type": "scatter"
           }
          ],
          "scatter3d": [
           {
            "line": {
             "colorbar": {
              "outlinewidth": 0,
              "ticks": ""
             }
            },
            "marker": {
             "colorbar": {
              "outlinewidth": 0,
              "ticks": ""
             }
            },
            "type": "scatter3d"
           }
          ],
          "scattercarpet": [
           {
            "marker": {
             "colorbar": {
              "outlinewidth": 0,
              "ticks": ""
             }
            },
            "type": "scattercarpet"
           }
          ],
          "scattergeo": [
           {
            "marker": {
             "colorbar": {
              "outlinewidth": 0,
              "ticks": ""
             }
            },
            "type": "scattergeo"
           }
          ],
          "scattergl": [
           {
            "marker": {
             "colorbar": {
              "outlinewidth": 0,
              "ticks": ""
             }
            },
            "type": "scattergl"
           }
          ],
          "scattermapbox": [
           {
            "marker": {
             "colorbar": {
              "outlinewidth": 0,
              "ticks": ""
             }
            },
            "type": "scattermapbox"
           }
          ],
          "scatterpolar": [
           {
            "marker": {
             "colorbar": {
              "outlinewidth": 0,
              "ticks": ""
             }
            },
            "type": "scatterpolar"
           }
          ],
          "scatterpolargl": [
           {
            "marker": {
             "colorbar": {
              "outlinewidth": 0,
              "ticks": ""
             }
            },
            "type": "scatterpolargl"
           }
          ],
          "scatterternary": [
           {
            "marker": {
             "colorbar": {
              "outlinewidth": 0,
              "ticks": ""
             }
            },
            "type": "scatterternary"
           }
          ],
          "surface": [
           {
            "colorbar": {
             "outlinewidth": 0,
             "ticks": ""
            },
            "colorscale": [
             [
              0,
              "#0d0887"
             ],
             [
              0.1111111111111111,
              "#46039f"
             ],
             [
              0.2222222222222222,
              "#7201a8"
             ],
             [
              0.3333333333333333,
              "#9c179e"
             ],
             [
              0.4444444444444444,
              "#bd3786"
             ],
             [
              0.5555555555555556,
              "#d8576b"
             ],
             [
              0.6666666666666666,
              "#ed7953"
             ],
             [
              0.7777777777777778,
              "#fb9f3a"
             ],
             [
              0.8888888888888888,
              "#fdca26"
             ],
             [
              1,
              "#f0f921"
             ]
            ],
            "type": "surface"
           }
          ],
          "table": [
           {
            "cells": {
             "fill": {
              "color": "#EBF0F8"
             },
             "line": {
              "color": "white"
             }
            },
            "header": {
             "fill": {
              "color": "#C8D4E3"
             },
             "line": {
              "color": "white"
             }
            },
            "type": "table"
           }
          ]
         },
         "layout": {
          "annotationdefaults": {
           "arrowcolor": "#2a3f5f",
           "arrowhead": 0,
           "arrowwidth": 1
          },
          "colorscale": {
           "diverging": [
            [
             0,
             "#8e0152"
            ],
            [
             0.1,
             "#c51b7d"
            ],
            [
             0.2,
             "#de77ae"
            ],
            [
             0.3,
             "#f1b6da"
            ],
            [
             0.4,
             "#fde0ef"
            ],
            [
             0.5,
             "#f7f7f7"
            ],
            [
             0.6,
             "#e6f5d0"
            ],
            [
             0.7,
             "#b8e186"
            ],
            [
             0.8,
             "#7fbc41"
            ],
            [
             0.9,
             "#4d9221"
            ],
            [
             1,
             "#276419"
            ]
           ],
           "sequential": [
            [
             0,
             "#0d0887"
            ],
            [
             0.1111111111111111,
             "#46039f"
            ],
            [
             0.2222222222222222,
             "#7201a8"
            ],
            [
             0.3333333333333333,
             "#9c179e"
            ],
            [
             0.4444444444444444,
             "#bd3786"
            ],
            [
             0.5555555555555556,
             "#d8576b"
            ],
            [
             0.6666666666666666,
             "#ed7953"
            ],
            [
             0.7777777777777778,
             "#fb9f3a"
            ],
            [
             0.8888888888888888,
             "#fdca26"
            ],
            [
             1,
             "#f0f921"
            ]
           ],
           "sequentialminus": [
            [
             0,
             "#0d0887"
            ],
            [
             0.1111111111111111,
             "#46039f"
            ],
            [
             0.2222222222222222,
             "#7201a8"
            ],
            [
             0.3333333333333333,
             "#9c179e"
            ],
            [
             0.4444444444444444,
             "#bd3786"
            ],
            [
             0.5555555555555556,
             "#d8576b"
            ],
            [
             0.6666666666666666,
             "#ed7953"
            ],
            [
             0.7777777777777778,
             "#fb9f3a"
            ],
            [
             0.8888888888888888,
             "#fdca26"
            ],
            [
             1,
             "#f0f921"
            ]
           ]
          },
          "colorway": [
           "#636efa",
           "#EF553B",
           "#00cc96",
           "#ab63fa",
           "#FFA15A",
           "#19d3f3",
           "#FF6692",
           "#B6E880",
           "#FF97FF",
           "#FECB52"
          ],
          "font": {
           "color": "#2a3f5f"
          },
          "geo": {
           "bgcolor": "white",
           "lakecolor": "white",
           "landcolor": "#E5ECF6",
           "showlakes": true,
           "showland": true,
           "subunitcolor": "white"
          },
          "hoverlabel": {
           "align": "left"
          },
          "hovermode": "closest",
          "mapbox": {
           "style": "light"
          },
          "paper_bgcolor": "white",
          "plot_bgcolor": "#E5ECF6",
          "polar": {
           "angularaxis": {
            "gridcolor": "white",
            "linecolor": "white",
            "ticks": ""
           },
           "bgcolor": "#E5ECF6",
           "radialaxis": {
            "gridcolor": "white",
            "linecolor": "white",
            "ticks": ""
           }
          },
          "scene": {
           "xaxis": {
            "backgroundcolor": "#E5ECF6",
            "gridcolor": "white",
            "gridwidth": 2,
            "linecolor": "white",
            "showbackground": true,
            "ticks": "",
            "zerolinecolor": "white"
           },
           "yaxis": {
            "backgroundcolor": "#E5ECF6",
            "gridcolor": "white",
            "gridwidth": 2,
            "linecolor": "white",
            "showbackground": true,
            "ticks": "",
            "zerolinecolor": "white"
           },
           "zaxis": {
            "backgroundcolor": "#E5ECF6",
            "gridcolor": "white",
            "gridwidth": 2,
            "linecolor": "white",
            "showbackground": true,
            "ticks": "",
            "zerolinecolor": "white"
           }
          },
          "shapedefaults": {
           "line": {
            "color": "#2a3f5f"
           }
          },
          "ternary": {
           "aaxis": {
            "gridcolor": "white",
            "linecolor": "white",
            "ticks": ""
           },
           "baxis": {
            "gridcolor": "white",
            "linecolor": "white",
            "ticks": ""
           },
           "bgcolor": "#E5ECF6",
           "caxis": {
            "gridcolor": "white",
            "linecolor": "white",
            "ticks": ""
           }
          },
          "title": {
           "x": 0.05
          },
          "xaxis": {
           "automargin": true,
           "gridcolor": "white",
           "linecolor": "white",
           "ticks": "",
           "zerolinecolor": "white",
           "zerolinewidth": 2
          },
          "yaxis": {
           "automargin": true,
           "gridcolor": "white",
           "linecolor": "white",
           "ticks": "",
           "zerolinecolor": "white",
           "zerolinewidth": 2
          }
         }
        },
        "title": {
         "font": {
          "color": "#4D5663"
         },
         "text": "Number of suicides by year"
        },
        "xaxis": {
         "gridcolor": "#E1E5ED",
         "showgrid": true,
         "tickfont": {
          "color": "#4D5663"
         },
         "title": {
          "font": {
           "color": "#4D5663"
          },
          "text": "Year"
         },
         "zerolinecolor": "#E1E5ED"
        },
        "yaxis": {
         "gridcolor": "#E1E5ED",
         "showgrid": true,
         "tickfont": {
          "color": "#4D5663"
         },
         "title": {
          "font": {
           "color": "#4D5663"
          },
          "text": "Number of suicides"
         },
         "zerolinecolor": "#E1E5ED"
        }
       }
      },
      "text/html": [
       "<div>\n",
       "        \n",
       "        \n",
       "            <div id=\"dee9924b-7ed4-4342-87d3-75d43754c407\" class=\"plotly-graph-div\" style=\"height:525px; width:100%;\"></div>\n",
       "            <script type=\"text/javascript\">\n",
       "                require([\"plotly\"], function(Plotly) {\n",
       "                    window.PLOTLYENV=window.PLOTLYENV || {};\n",
       "                    window.PLOTLYENV.BASE_URL='https://plot.ly';\n",
       "                    \n",
       "                if (document.getElementById(\"dee9924b-7ed4-4342-87d3-75d43754c407\")) {\n",
       "                    Plotly.newPlot(\n",
       "                        'dee9924b-7ed4-4342-87d3-75d43754c407',\n",
       "                        [{\"line\": {\"color\": \"rgba(255, 153, 51, 1.0)\", \"dash\": \"solid\", \"shape\": \"linear\", \"width\": 1.3}, \"mode\": \"lines\", \"name\": \"Albania\", \"text\": \"\", \"type\": \"scatter\", \"x\": [1985, 1986, 1987, 1988, 1989, 1990, 1991, 1992, 1993, 1994, 1995, 1996, 1997, 1998, 1999, 2000, 2001, 2002, 2003, 2004, 2005, 2006, 2007, 2008, 2009, 2010, 2011, 2012, 2013, 2014, 2015, 2016], \"y\": [\"\", \"\", 73.0, 63.0, 68.0, \"\", \"\", 47.0, 73.0, 50.0, 88.0, 89.0, 170.0, 154.0, 139.0, 54.0, 119.0, 133.0, 124.0, 146.0, 0.0, 0.0, 124.0, 160.0, 0.0, 96.0, \"\", \"\", \"\", \"\", \"\", \"\"]}, {\"line\": {\"color\": \"rgba(55, 128, 191, 1.0)\", \"dash\": \"solid\", \"shape\": \"linear\", \"width\": 1.3}, \"mode\": \"lines\", \"name\": \"Antigua and Barbuda\", \"text\": \"\", \"type\": \"scatter\", \"x\": [1985, 1986, 1987, 1988, 1989, 1990, 1991, 1992, 1993, 1994, 1995, 1996, 1997, 1998, 1999, 2000, 2001, 2002, 2003, 2004, 2005, 2006, 2007, 2008, 2009, 2010, 2011, 2012, 2013, 2014, 2015, 2016], \"y\": [0.0, 0.0, 0.0, 0.0, 0.0, 1.0, 0.0, 0.0, 1.0, 0.0, 0.0, \"\", \"\", 0.0, 0.0, 2.0, 2.0, 0.0, 1.0, 2.0, 0.0, 0.0, 1.0, 0.0, 0.0, \"\", \"\", 0.0, 0.0, 0.0, 1.0, \"\"]}, {\"line\": {\"color\": \"rgba(50, 171, 96, 1.0)\", \"dash\": \"solid\", \"shape\": \"linear\", \"width\": 1.3}, \"mode\": \"lines\", \"name\": \"Argentina\", \"text\": \"\", \"type\": \"scatter\", \"x\": [1985, 1986, 1987, 1988, 1989, 1990, 1991, 1992, 1993, 1994, 1995, 1996, 1997, 1998, 1999, 2000, 2001, 2002, 2003, 2004, 2005, 2006, 2007, 2008, 2009, 2010, 2011, 2012, 2013, 2014, 2015, 2016], \"y\": [1988.0, 2284.0, 2286.0, 2354.0, 2247.0, 2140.0, 1951.0, 2184.0, 2230.0, 2241.0, 2204.0, 2229.0, 2184.0, 2347.0, 2423.0, 2774.0, 3132.0, 3162.0, 3289.0, 3121.0, 3058.0, 3108.0, 2946.0, 3059.0, 2884.0, 2943.0, 2912.0, 3248.0, 2987.0, 3231.0, 3073.0, \"\"]}, {\"line\": {\"color\": \"rgba(128, 0, 128, 1.0)\", \"dash\": \"solid\", \"shape\": \"linear\", \"width\": 1.3}, \"mode\": \"lines\", \"name\": \"Armenia\", \"text\": \"\", \"type\": \"scatter\", \"x\": [1985, 1986, 1987, 1988, 1989, 1990, 1991, 1992, 1993, 1994, 1995, 1996, 1997, 1998, 1999, 2000, 2001, 2002, 2003, 2004, 2005, 2006, 2007, 2008, 2009, 2010, 2011, 2012, 2013, 2014, 2015, 2016], \"y\": [\"\", \"\", \"\", \"\", \"\", 93.0, 80.0, 83.0, 106.0, 112.0, 130.0, 87.0, 77.0, 66.0, 67.0, 61.0, 60.0, 74.0, 59.0, \"\", \"\", 78.0, 71.0, 63.0, 53.0, 73.0, 67.0, 79.0, 67.0, 58.0, 74.0, 67.0]}, {\"line\": {\"color\": \"rgba(219, 64, 82, 1.0)\", \"dash\": \"solid\", \"shape\": \"linear\", \"width\": 1.3}, \"mode\": \"lines\", \"name\": \"Aruba\", \"text\": \"\", \"type\": \"scatter\", \"x\": [1985, 1986, 1987, 1988, 1989, 1990, 1991, 1992, 1993, 1994, 1995, 1996, 1997, 1998, 1999, 2000, 2001, 2002, 2003, 2004, 2005, 2006, 2007, 2008, 2009, 2010, 2011, 2012, 2013, 2014, 2015, 2016], \"y\": [\"\", \"\", \"\", \"\", \"\", \"\", \"\", \"\", \"\", \"\", 8.0, \"\", \"\", \"\", 9.0, 10.0, 4.0, 9.0, 2.0, 8.0, 10.0, 9.0, 8.0, 4.0, 4.0, 7.0, 9.0, \"\", \"\", \"\", \"\", \"\"]}, {\"line\": {\"color\": \"rgba(0, 128, 128, 1.0)\", \"dash\": \"solid\", \"shape\": \"linear\", \"width\": 1.3}, \"mode\": \"lines\", \"name\": \"Australia\", \"text\": \"\", \"type\": \"scatter\", \"x\": [1985, 1986, 1987, 1988, 1989, 1990, 1991, 1992, 1993, 1994, 1995, 1996, 1997, 1998, 1999, 2000, 2001, 2002, 2003, 2004, 2005, 2006, 2007, 2008, 2009, 2010, 2011, 2012, 2013, 2014, 2015, 2016], \"y\": [1861.0, 2044.0, 2164.0, 2172.0, 2066.0, 2202.0, 2288.0, 2251.0, 2038.0, 2283.0, 2170.0, 2426.0, 2646.0, 2632.0, 2488.0, 2391.0, 2458.0, 2319.0, 2156.0, 2114.0, \"\", 2117.0, 2229.0, 2341.0, 2337.0, 2420.0, 2392.0, 2580.0, 2608.0, 2891.0, 3027.0, \"\"]}, {\"line\": {\"color\": \"rgba(255, 255, 51, 1.0)\", \"dash\": \"solid\", \"shape\": \"linear\", \"width\": 1.3}, \"mode\": \"lines\", \"name\": \"Austria\", \"text\": \"\", \"type\": \"scatter\", \"x\": [1985, 1986, 1987, 1988, 1989, 1990, 1991, 1992, 1993, 1994, 1995, 1996, 1997, 1998, 1999, 2000, 2001, 2002, 2003, 2004, 2005, 2006, 2007, 2008, 2009, 2010, 2011, 2012, 2013, 2014, 2015, 2016], \"y\": [2091.0, 2139.0, 2069.0, 1851.0, 1898.0, 1825.0, 1769.0, 1759.0, 1704.0, 1776.0, 1788.0, 1779.0, 1592.0, 1559.0, 1555.0, 1588.0, 1489.0, 1553.0, 1456.0, 1422.0, 1399.0, 1297.0, 1285.0, 1267.0, 1278.0, 1264.0, 1288.0, 1276.0, 1291.0, 1314.0, 1251.0, 1201.0]}, {\"line\": {\"color\": \"rgba(128, 128, 0, 1.0)\", \"dash\": \"solid\", \"shape\": \"linear\", \"width\": 1.3}, \"mode\": \"lines\", \"name\": \"Azerbaijan\", \"text\": \"\", \"type\": \"scatter\", \"x\": [1985, 1986, 1987, 1988, 1989, 1990, 1991, 1992, 1993, 1994, 1995, 1996, 1997, 1998, 1999, 2000, 2001, 2002, 2003, 2004, 2005, 2006, 2007, 2008, 2009, 2010, 2011, 2012, 2013, 2014, 2015, 2016], \"y\": [\"\", \"\", \"\", \"\", \"\", 114.0, 134.0, 144.0, 119.0, 47.0, 49.0, 69.0, 107.0, 56.0, 54.0, 62.0, 317.0, 92.0, 129.0, 108.0, \"\", \"\", 55.0, \"\", \"\", \"\", \"\", \"\", \"\", \"\", \"\", \"\"]}, {\"line\": {\"color\": \"rgba(251, 128, 114, 1.0)\", \"dash\": \"solid\", \"shape\": \"linear\", \"width\": 1.3}, \"mode\": \"lines\", \"name\": \"Bahamas\", \"text\": \"\", \"type\": \"scatter\", \"x\": [1985, 1986, 1987, 1988, 1989, 1990, 1991, 1992, 1993, 1994, 1995, 1996, 1997, 1998, 1999, 2000, 2001, 2002, 2003, 2004, 2005, 2006, 2007, 2008, 2009, 2010, 2011, 2012, 2013, 2014, 2015, 2016], \"y\": [1.0, \"\", 3.0, \"\", \"\", \"\", \"\", \"\", 7.0, 3.0, 2.0, 3.0, 2.0, 3.0, 6.0, 11.0, 1.0, 3.0, 1.0, 2.0, 4.0, 2.0, 5.0, 4.0, 6.0, 10.0, 4.0, 5.0, 5.0, \"\", \"\", \"\"]}, {\"line\": {\"color\": \"rgba(128, 177, 211, 1.0)\", \"dash\": \"solid\", \"shape\": \"linear\", \"width\": 1.3}, \"mode\": \"lines\", \"name\": \"Bahrain\", \"text\": \"\", \"type\": \"scatter\", \"x\": [1985, 1986, 1987, 1988, 1989, 1990, 1991, 1992, 1993, 1994, 1995, 1996, 1997, 1998, 1999, 2000, 2001, 2002, 2003, 2004, 2005, 2006, 2007, 2008, 2009, 2010, 2011, 2012, 2013, 2014, 2015, 2016], \"y\": [11.0, \"\", 9.0, 14.0, \"\", \"\", \"\", \"\", \"\", \"\", \"\", \"\", 0.0, 0.0, 17.0, 29.0, 23.0, 25.0, 34.0, 42.0, 42.0, 28.0, 40.0, 43.0, 36.0, 19.0, 18.0, 19.0, 5.0, 9.0, \"\", \"\"]}, {\"line\": {\"color\": \"rgba(128, 177, 211, 0.9207920792079207)\", \"dash\": \"solid\", \"shape\": \"linear\", \"width\": 1.3}, \"mode\": \"lines\", \"name\": \"Barbados\", \"text\": \"\", \"type\": \"scatter\", \"x\": [1985, 1986, 1987, 1988, 1989, 1990, 1991, 1992, 1993, 1994, 1995, 1996, 1997, 1998, 1999, 2000, 2001, 2002, 2003, 2004, 2005, 2006, 2007, 2008, 2009, 2010, 2011, 2012, 2013, 2014, 2015, 2016], \"y\": [7.0, 8.0, 6.0, 12.0, 16.0, 16.0, 17.0, 14.0, 16.0, 14.0, 17.0, \"\", \"\", \"\", \"\", 10.0, 2.0, 0.0, 0.0, 3.0, 1.0, 9.0, 0.0, 1.0, 5.0, 3.0, 0.0, 0.0, 0.0, \"\", \"\", \"\"]}, {\"line\": {\"color\": \"rgba(255, 153, 51, 0.9207920792079207)\", \"dash\": \"solid\", \"shape\": \"linear\", \"width\": 1.3}, \"mode\": \"lines\", \"name\": \"Belarus\", \"text\": \"\", \"type\": \"scatter\", \"x\": [1985, 1986, 1987, 1988, 1989, 1990, 1991, 1992, 1993, 1994, 1995, 1996, 1997, 1998, 1999, 2000, 2001, 2002, 2003, 2004, 2005, 2006, 2007, 2008, 2009, 2010, 2011, 2012, 2013, 2014, 2015, 2016], \"y\": [\"\", \"\", \"\", \"\", \"\", 2085.0, 2169.0, 2424.0, 2885.0, 3153.0, 3203.0, 3627.0, 3526.0, 3556.0, 3397.0, 3483.0, 3303.0, 3291.0, 3456.0, \"\", \"\", \"\", 2659.0, 2658.0, 2743.0, 2459.0, 2172.0, \"\", 1902.0, 1741.0, \"\", \"\"]}, {\"line\": {\"color\": \"rgba(55, 128, 191, 0.9207920792079207)\", \"dash\": \"solid\", \"shape\": \"linear\", \"width\": 1.3}, \"mode\": \"lines\", \"name\": \"Belgium\", \"text\": \"\", \"type\": \"scatter\", \"x\": [1985, 1986, 1987, 1988, 1989, 1990, 1991, 1992, 1993, 1994, 1995, 1996, 1997, 1998, 1999, 2000, 2001, 2002, 2003, 2004, 2005, 2006, 2007, 2008, 2009, 2010, 2011, 2012, 2013, 2014, 2015, 2016], \"y\": [2281.0, 2202.0, 2238.0, 1996.0, 1920.0, 1895.0, 1805.0, 1878.0, 2142.0, 2131.0, 2155.0, 2013.0, 2146.0, 2019.0, 1857.0, 2143.0, 2165.0, 2076.0, 2091.0, 1987.0, 2029.0, 1935.0, 1857.0, 1999.0, 2013.0, 2013.0, 2088.0, 2026.0, 1895.0, 1899.0, 1867.0, \"\"]}, {\"line\": {\"color\": \"rgba(50, 171, 96, 0.9207920792079207)\", \"dash\": \"solid\", \"shape\": \"linear\", \"width\": 1.3}, \"mode\": \"lines\", \"name\": \"Belize\", \"text\": \"\", \"type\": \"scatter\", \"x\": [1985, 1986, 1987, 1988, 1989, 1990, 1991, 1992, 1993, 1994, 1995, 1996, 1997, 1998, 1999, 2000, 2001, 2002, 2003, 2004, 2005, 2006, 2007, 2008, 2009, 2010, 2011, 2012, 2013, 2014, 2015, 2016], \"y\": [\"\", 3.0, 4.0, \"\", 1.0, 3.0, 2.0, \"\", 1.0, 8.0, 14.0, 8.0, 1.0, 12.0, 18.0, 18.0, 19.0, 14.0, 12.0, 20.0, 12.0, 11.0, 8.0, 11.0, 15.0, 15.0, 33.0, 18.0, 17.0, 24.0, 26.0, \"\"]}, {\"line\": {\"color\": \"rgba(128, 0, 128, 0.9207920792079207)\", \"dash\": \"solid\", \"shape\": \"linear\", \"width\": 1.3}, \"mode\": \"lines\", \"name\": \"Bosnia and Herzegovina\", \"text\": \"\", \"type\": \"scatter\", \"x\": [1985, 1986, 1987, 1988, 1989, 1990, 1991, 1992, 1993, 1994, 1995, 1996, 1997, 1998, 1999, 2000, 2001, 2002, 2003, 2004, 2005, 2006, 2007, 2008, 2009, 2010, 2011, 2012, 2013, 2014, 2015, 2016], \"y\": [\"\", \"\", \"\", \"\", \"\", \"\", \"\", \"\", \"\", \"\", \"\", \"\", \"\", \"\", \"\", \"\", \"\", \"\", \"\", \"\", \"\", \"\", \"\", \"\", \"\", \"\", 5.0, \"\", \"\", 313.0, \"\", \"\"]}, {\"line\": {\"color\": \"rgba(219, 64, 82, 0.9207920792079207)\", \"dash\": \"solid\", \"shape\": \"linear\", \"width\": 1.3}, \"mode\": \"lines\", \"name\": \"Brazil\", \"text\": \"\", \"type\": \"scatter\", \"x\": [1985, 1986, 1987, 1988, 1989, 1990, 1991, 1992, 1993, 1994, 1995, 1996, 1997, 1998, 1999, 2000, 2001, 2002, 2003, 2004, 2005, 2006, 2007, 2008, 2009, 2010, 2011, 2012, 2013, 2014, 2015, 2016], \"y\": [4228.0, 4271.0, 4672.0, 4466.0, 4463.0, 4803.0, 5156.0, 5207.0, 5508.0, 5896.0, 6536.0, 6698.0, 6891.0, 6922.0, 6507.0, 6763.0, 7710.0, 7697.0, 7839.0, 7995.0, 8529.0, 8618.0, 8855.0, 9184.0, 9346.0, 9429.0, 9822.0, 10295.0, 10513.0, 10631.0, 11163.0, \"\"]}, {\"line\": {\"color\": \"rgba(0, 128, 128, 0.9207920792079207)\", \"dash\": \"solid\", \"shape\": \"linear\", \"width\": 1.3}, \"mode\": \"lines\", \"name\": \"Bulgaria\", \"text\": \"\", \"type\": \"scatter\", \"x\": [1985, 1986, 1987, 1988, 1989, 1990, 1991, 1992, 1993, 1994, 1995, 1996, 1997, 1998, 1999, 2000, 2001, 2002, 2003, 2004, 2005, 2006, 2007, 2008, 2009, 2010, 2011, 2012, 2013, 2014, 2015, 2016], \"y\": [1456.0, 1408.0, 1492.0, 1452.0, 1460.0, 1323.0, 1384.0, 1519.0, 1470.0, 1464.0, 1433.0, 1526.0, 1465.0, 1503.0, 1307.0, 1383.0, 1314.0, 1317.0, 1092.0, 1013.0, 982.0, 977.0, 902.0, 939.0, 868.0, 859.0, 763.0, 872.0, 721.0, 724.0, \"\", \"\"]}, {\"line\": {\"color\": \"rgba(255, 255, 51, 0.9207920792079207)\", \"dash\": \"solid\", \"shape\": \"linear\", \"width\": 1.3}, \"mode\": \"lines\", \"name\": \"Cabo Verde\", \"text\": \"\", \"type\": \"scatter\", \"x\": [1985, 1986, 1987, 1988, 1989, 1990, 1991, 1992, 1993, 1994, 1995, 1996, 1997, 1998, 1999, 2000, 2001, 2002, 2003, 2004, 2005, 2006, 2007, 2008, 2009, 2010, 2011, 2012, 2013, 2014, 2015, 2016], \"y\": [\"\", \"\", \"\", \"\", \"\", \"\", \"\", \"\", \"\", \"\", \"\", \"\", \"\", \"\", \"\", \"\", \"\", \"\", \"\", \"\", \"\", \"\", \"\", \"\", \"\", \"\", 42.0, \"\", \"\", \"\", \"\", \"\"]}, {\"line\": {\"color\": \"rgba(128, 128, 0, 0.9207920792079207)\", \"dash\": \"solid\", \"shape\": \"linear\", \"width\": 1.3}, \"mode\": \"lines\", \"name\": \"Canada\", \"text\": \"\", \"type\": \"scatter\", \"x\": [1985, 1986, 1987, 1988, 1989, 1990, 1991, 1992, 1993, 1994, 1995, 1996, 1997, 1998, 1999, 2000, 2001, 2002, 2003, 2004, 2005, 2006, 2007, 2008, 2009, 2010, 2011, 2012, 2013, 2014, 2015, 2016], \"y\": [3258.0, 3670.0, 3591.0, 3510.0, 3491.0, 3378.0, 3593.0, 3708.0, 3803.0, 3748.0, 3968.0, 3941.0, 3681.0, 3699.0, 4074.0, 3606.0, 3694.0, 3650.0, 3765.0, 3613.0, 3743.0, 3512.0, 3611.0, 3705.0, 3890.0, 3951.0, 3728.0, 3926.0, 4054.0, \"\", \"\", \"\"]}, {\"line\": {\"color\": \"rgba(251, 128, 114, 0.9207920792079207)\", \"dash\": \"solid\", \"shape\": \"linear\", \"width\": 1.3}, \"mode\": \"lines\", \"name\": \"Chile\", \"text\": \"\", \"type\": \"scatter\", \"x\": [1985, 1986, 1987, 1988, 1989, 1990, 1991, 1992, 1993, 1994, 1995, 1996, 1997, 1998, 1999, 2000, 2001, 2002, 2003, 2004, 2005, 2006, 2007, 2008, 2009, 2010, 2011, 2012, 2013, 2014, 2015, 2016], \"y\": [683.0, 654.0, 693.0, 697.0, 725.0, 743.0, 787.0, 658.0, 740.0, 801.0, 930.0, 917.0, 910.0, 1031.0, 1041.0, 1473.0, 1625.0, 1603.0, 1654.0, 1735.0, 1682.0, 1795.0, 1848.0, 2088.0, 2148.0, 2001.0, 2027.0, 1841.0, 1738.0, 1789.0, 1838.0, \"\"]}, {\"line\": {\"color\": \"rgba(251, 128, 114, 0.8415841584158414)\", \"dash\": \"solid\", \"shape\": \"linear\", \"width\": 1.3}, \"mode\": \"lines\", \"name\": \"Colombia\", \"text\": \"\", \"type\": \"scatter\", \"x\": [1985, 1986, 1987, 1988, 1989, 1990, 1991, 1992, 1993, 1994, 1995, 1996, 1997, 1998, 1999, 2000, 2001, 2002, 2003, 2004, 2005, 2006, 2007, 2008, 2009, 2010, 2011, 2012, 2013, 2014, 2015, 2016], \"y\": [1001.0, 958.0, 951.0, 912.0, 831.0, 865.0, 1010.0, 1086.0, 1085.0, 1198.0, 1150.0, 1209.0, 1242.0, 2052.0, 2143.0, 2358.0, 2412.0, 2379.0, 2269.0, 2244.0, 2102.0, 2177.0, 2181.0, 2220.0, 2249.0, 2107.0, 2044.0, 2119.0, 2068.0, 2126.0, 2332.0, \"\"]}, {\"line\": {\"color\": \"rgba(128, 177, 211, 0.8415841584158414)\", \"dash\": \"solid\", \"shape\": \"linear\", \"width\": 1.3}, \"mode\": \"lines\", \"name\": \"Costa Rica\", \"text\": \"\", \"type\": \"scatter\", \"x\": [1985, 1986, 1987, 1988, 1989, 1990, 1991, 1992, 1993, 1994, 1995, 1996, 1997, 1998, 1999, 2000, 2001, 2002, 2003, 2004, 2005, 2006, 2007, 2008, 2009, 2010, 2011, 2012, 2013, 2014, 2015, 2016], \"y\": [128.0, 131.0, 119.0, 138.0, 167.0, 157.0, 125.0, 149.0, 164.0, 162.0, 209.0, 209.0, 187.0, 223.0, 233.0, 239.0, 198.0, 275.0, 315.0, 325.0, 272.0, 350.0, 270.0, 261.0, 278.0, 311.0, 316.0, 302.0, 311.0, 268.0, \"\", \"\"]}, {\"line\": {\"color\": \"rgba(255, 153, 51, 0.8415841584158414)\", \"dash\": \"solid\", \"shape\": \"linear\", \"width\": 1.3}, \"mode\": \"lines\", \"name\": \"Croatia\", \"text\": \"\", \"type\": \"scatter\", \"x\": [1985, 1986, 1987, 1988, 1989, 1990, 1991, 1992, 1993, 1994, 1995, 1996, 1997, 1998, 1999, 2000, 2001, 2002, 2003, 2004, 2005, 2006, 2007, 2008, 2009, 2010, 2011, 2012, 2013, 2014, 2015, 2016], \"y\": [\"\", \"\", \"\", \"\", \"\", \"\", \"\", \"\", \"\", \"\", 929.0, 1001.0, 946.0, 1029.0, 989.0, 926.0, 881.0, 874.0, 865.0, 871.0, 874.0, 796.0, 775.0, 793.0, 790.0, 776.0, 702.0, 776.0, 692.0, 722.0, 739.0, 683.0]}, {\"line\": {\"color\": \"rgba(55, 128, 191, 0.8415841584158414)\", \"dash\": \"solid\", \"shape\": \"linear\", \"width\": 1.3}, \"mode\": \"lines\", \"name\": \"Cuba\", \"text\": \"\", \"type\": \"scatter\", \"x\": [1985, 1986, 1987, 1988, 1989, 1990, 1991, 1992, 1993, 1994, 1995, 1996, 1997, 1998, 1999, 2000, 2001, 2002, 2003, 2004, 2005, 2006, 2007, 2008, 2009, 2010, 2011, 2012, 2013, 2014, 2015, 2016], \"y\": [\"\", \"\", \"\", \"\", \"\", \"\", \"\", 2299.0, 2374.0, 2278.0, 2222.0, 2014.0, 2029.0, 2056.0, 2050.0, 1845.0, 1652.0, 1606.0, 1499.0, 1515.0, 1397.0, 1376.0, 1307.0, 1377.0, 1477.0, 1558.0, 1529.0, 1495.0, 1499.0, 1453.0, 1511.0, \"\"]}, {\"line\": {\"color\": \"rgba(50, 171, 96, 0.8415841584158414)\", \"dash\": \"solid\", \"shape\": \"linear\", \"width\": 1.3}, \"mode\": \"lines\", \"name\": \"Cyprus\", \"text\": \"\", \"type\": \"scatter\", \"x\": [1985, 1986, 1987, 1988, 1989, 1990, 1991, 1992, 1993, 1994, 1995, 1996, 1997, 1998, 1999, 2000, 2001, 2002, 2003, 2004, 2005, 2006, 2007, 2008, 2009, 2010, 2011, 2012, 2013, 2014, 2015, 2016], \"y\": [\"\", \"\", \"\", \"\", \"\", \"\", \"\", \"\", \"\", \"\", \"\", \"\", \"\", \"\", 1.0, 7.0, \"\", \"\", \"\", 7.0, 17.0, 19.0, 19.0, 41.0, 32.0, 38.0, 30.0, 36.0, 45.0, 44.0, 40.0, 36.0]}, {\"line\": {\"color\": \"rgba(128, 0, 128, 0.8415841584158414)\", \"dash\": \"solid\", \"shape\": \"linear\", \"width\": 1.3}, \"mode\": \"lines\", \"name\": \"Czech Republic\", \"text\": \"\", \"type\": \"scatter\", \"x\": [1985, 1986, 1987, 1988, 1989, 1990, 1991, 1992, 1993, 1994, 1995, 1996, 1997, 1998, 1999, 2000, 2001, 2002, 2003, 2004, 2005, 2006, 2007, 2008, 2009, 2010, 2011, 2012, 2013, 2014, 2015, 2016], \"y\": [\"\", \"\", \"\", \"\", \"\", 1997.0, 1904.0, 1991.0, 1917.0, 1872.0, 1733.0, 1568.0, 1666.0, 1613.0, 1610.0, 1649.0, 1623.0, 1534.0, 1719.0, 1583.0, 1565.0, 1400.0, 1379.0, 1379.0, 1464.0, 1502.0, 1590.0, 1658.0, 1577.0, 1489.0, 1387.0, 1318.0]}, {\"line\": {\"color\": \"rgba(219, 64, 82, 0.8415841584158414)\", \"dash\": \"solid\", \"shape\": \"linear\", \"width\": 1.3}, \"mode\": \"lines\", \"name\": \"Denmark\", \"text\": \"\", \"type\": \"scatter\", \"x\": [1985, 1986, 1987, 1988, 1989, 1990, 1991, 1992, 1993, 1994, 1995, 1996, 1997, 1998, 1999, 2000, 2001, 2002, 2003, 2004, 2005, 2006, 2007, 2008, 2009, 2010, 2011, 2012, 2013, 2014, 2015, 2016], \"y\": [\"\", \"\", \"\", \"\", \"\", \"\", \"\", \"\", \"\", 999.0, 924.0, 892.0, 817.0, 763.0, 762.0, 728.0, 727.0, 688.0, 633.0, 661.0, 631.0, 650.0, 581.0, 603.0, 622.0, 563.0, 589.0, 661.0, 610.0, 629.0, 564.0, \"\"]}, {\"line\": {\"color\": \"rgba(0, 128, 128, 0.8415841584158414)\", \"dash\": \"solid\", \"shape\": \"linear\", \"width\": 1.3}, \"mode\": \"lines\", \"name\": \"Dominica\", \"text\": \"\", \"type\": \"scatter\", \"x\": [1985, 1986, 1987, 1988, 1989, 1990, 1991, 1992, 1993, 1994, 1995, 1996, 1997, 1998, 1999, 2000, 2001, 2002, 2003, 2004, 2005, 2006, 2007, 2008, 2009, 2010, 2011, 2012, 2013, 2014, 2015, 2016], \"y\": [0.0, \"\", \"\", \"\", \"\", \"\", \"\", \"\", \"\", \"\", \"\", \"\", \"\", \"\", \"\", \"\", \"\", \"\", \"\", \"\", \"\", \"\", \"\", \"\", \"\", \"\", \"\", \"\", \"\", \"\", \"\", \"\"]}, {\"line\": {\"color\": \"rgba(255, 255, 51, 0.8415841584158414)\", \"dash\": \"solid\", \"shape\": \"linear\", \"width\": 1.3}, \"mode\": \"lines\", \"name\": \"Ecuador\", \"text\": \"\", \"type\": \"scatter\", \"x\": [1985, 1986, 1987, 1988, 1989, 1990, 1991, 1992, 1993, 1994, 1995, 1996, 1997, 1998, 1999, 2000, 2001, 2002, 2003, 2004, 2005, 2006, 2007, 2008, 2009, 2010, 2011, 2012, 2013, 2014, 2015, 2016], \"y\": [393.0, 377.0, 390.0, 466.0, 431.0, 448.0, 494.0, 505.0, 574.0, 512.0, 546.0, 593.0, 579.0, 546.0, 616.0, 534.0, 584.0, 577.0, 675.0, 791.0, 943.0, 900.0, 1005.0, 928.0, 964.0, 912.0, 918.0, 976.0, 676.0, 734.0, 1073.0, \"\"]}, {\"line\": {\"color\": \"rgba(128, 128, 0, 0.8415841584158414)\", \"dash\": \"solid\", \"shape\": \"linear\", \"width\": 1.3}, \"mode\": \"lines\", \"name\": \"El Salvador\", \"text\": \"\", \"type\": \"scatter\", \"x\": [1985, 1986, 1987, 1988, 1989, 1990, 1991, 1992, 1993, 1994, 1995, 1996, 1997, 1998, 1999, 2000, 2001, 2002, 2003, 2004, 2005, 2006, 2007, 2008, 2009, 2010, 2011, 2012, 2013, 2014, 2015, 2016], \"y\": [\"\", \"\", \"\", \"\", \"\", 571.0, 474.0, 419.0, 424.0, \"\", 620.0, 540.0, 577.0, 512.0, 515.0, 461.0, 514.0, 436.0, 527.0, 464.0, 455.0, 411.0, 501.0, 490.0, 506.0, 399.0, 485.0, 512.0, 484.0, 386.0, \"\", \"\"]}, {\"line\": {\"color\": \"rgba(128, 128, 0, 0.7623762376237624)\", \"dash\": \"solid\", \"shape\": \"linear\", \"width\": 1.3}, \"mode\": \"lines\", \"name\": \"Estonia\", \"text\": \"\", \"type\": \"scatter\", \"x\": [1985, 1986, 1987, 1988, 1989, 1990, 1991, 1992, 1993, 1994, 1995, 1996, 1997, 1998, 1999, 2000, 2001, 2002, 2003, 2004, 2005, 2006, 2007, 2008, 2009, 2010, 2011, 2012, 2013, 2014, 2015, 2016], \"y\": [\"\", \"\", \"\", \"\", \"\", \"\", \"\", \"\", \"\", \"\", 594.0, 545.0, 522.0, 477.0, 468.0, 377.0, 401.0, 371.0, 342.0, 323.0, 273.0, 247.0, 251.0, 242.0, 269.0, 223.0, 218.0, 237.0, 218.0, 241.0, 195.0, \"\"]}, {\"line\": {\"color\": \"rgba(251, 128, 114, 0.7623762376237624)\", \"dash\": \"solid\", \"shape\": \"linear\", \"width\": 1.3}, \"mode\": \"lines\", \"name\": \"Fiji\", \"text\": \"\", \"type\": \"scatter\", \"x\": [1985, 1986, 1987, 1988, 1989, 1990, 1991, 1992, 1993, 1994, 1995, 1996, 1997, 1998, 1999, 2000, 2001, 2002, 2003, 2004, 2005, 2006, 2007, 2008, 2009, 2010, 2011, 2012, 2013, 2014, 2015, 2016], \"y\": [\"\", \"\", \"\", \"\", \"\", \"\", \"\", \"\", \"\", \"\", \"\", \"\", \"\", \"\", \"\", \"\", 36.0, 42.0, 10.0, 24.0, 22.0, 24.0, 13.0, 37.0, 26.0, \"\", 38.0, 32.0, \"\", \"\", \"\", \"\"]}, {\"line\": {\"color\": \"rgba(128, 177, 211, 0.7623762376237624)\", \"dash\": \"solid\", \"shape\": \"linear\", \"width\": 1.3}, \"mode\": \"lines\", \"name\": \"Finland\", \"text\": \"\", \"type\": \"scatter\", \"x\": [1985, 1986, 1987, 1988, 1989, 1990, 1991, 1992, 1993, 1994, 1995, 1996, 1997, 1998, 1999, 2000, 2001, 2002, 2003, 2004, 2005, 2006, 2007, 2008, 2009, 2010, 2011, 2012, 2013, 2014, 2015, 2016], \"y\": [\"\", \"\", 1363.0, 1402.0, 1413.0, 1512.0, 1493.0, 1451.0, 1397.0, 1387.0, 1388.0, 1247.0, 1322.0, 1228.0, 1207.0, 1165.0, 1204.0, 1095.0, 1075.0, 1064.0, 994.0, 1062.0, 995.0, 1033.0, 1034.0, 954.0, 912.0, 873.0, 887.0, 789.0, 731.0, \"\"]}, {\"line\": {\"color\": \"rgba(255, 153, 51, 0.7623762376237624)\", \"dash\": \"solid\", \"shape\": \"linear\", \"width\": 1.3}, \"mode\": \"lines\", \"name\": \"France\", \"text\": \"\", \"type\": \"scatter\", \"x\": [1985, 1986, 1987, 1988, 1989, 1990, 1991, 1992, 1993, 1994, 1995, 1996, 1997, 1998, 1999, 2000, 2001, 2002, 2003, 2004, 2005, 2006, 2007, 2008, 2009, 2010, 2011, 2012, 2013, 2014, 2015, 2016], \"y\": [12501.0, 12529.0, 12161.0, 11599.0, 11715.0, 11403.0, 11502.0, 11644.0, 12251.0, 12041.0, 11819.0, 11279.0, 11139.0, 10534.0, 10268.0, 10849.0, 10449.0, 10643.0, 10871.0, 10804.0, 10713.0, 10423.0, 10127.0, 10353.0, 10499.0, 10379.0, 10408.0, 9743.0, 9600.0, 8881.0, \"\", \"\"]}, {\"line\": {\"color\": \"rgba(55, 128, 191, 0.7623762376237624)\", \"dash\": \"solid\", \"shape\": \"linear\", \"width\": 1.3}, \"mode\": \"lines\", \"name\": \"Georgia\", \"text\": \"\", \"type\": \"scatter\", \"x\": [1985, 1986, 1987, 1988, 1989, 1990, 1991, 1992, 1993, 1994, 1995, 1996, 1997, 1998, 1999, 2000, 2001, 2002, 2003, 2004, 2005, 2006, 2007, 2008, 2009, 2010, 2011, 2012, 2013, 2014, 2015, 2016], \"y\": [\"\", \"\", \"\", \"\", \"\", 196.0, 174.0, 204.0, \"\", 123.0, 138.0, 162.0, 176.0, 148.0, 189.0, 130.0, 100.0, \"\", \"\", 175.0, 87.0, 72.0, 104.0, \"\", 188.0, 112.0, 99.0, 104.0, 157.0, 194.0, 192.0, \"\"]}, {\"line\": {\"color\": \"rgba(50, 171, 96, 0.7623762376237624)\", \"dash\": \"solid\", \"shape\": \"linear\", \"width\": 1.3}, \"mode\": \"lines\", \"name\": \"Germany\", \"text\": \"\", \"type\": \"scatter\", \"x\": [1985, 1986, 1987, 1988, 1989, 1990, 1991, 1992, 1993, 1994, 1995, 1996, 1997, 1998, 1999, 2000, 2001, 2002, 2003, 2004, 2005, 2006, 2007, 2008, 2009, 2010, 2011, 2012, 2013, 2014, 2015, 2016], \"y\": [\"\", \"\", \"\", \"\", \"\", 13924.0, 14010.0, 13458.0, 12690.0, 12718.0, 12888.0, 12225.0, 12256.0, 11654.0, 11160.0, 11073.0, 11167.0, 11176.0, 11155.0, 10741.0, 10270.0, 9775.0, 9409.0, 9459.0, 9579.0, 10030.0, 10153.0, 9896.0, 10091.0, 10217.0, 10088.0, \"\"]}, {\"line\": {\"color\": \"rgba(128, 0, 128, 0.7623762376237624)\", \"dash\": \"solid\", \"shape\": \"linear\", \"width\": 1.3}, \"mode\": \"lines\", \"name\": \"Greece\", \"text\": \"\", \"type\": \"scatter\", \"x\": [1985, 1986, 1987, 1988, 1989, 1990, 1991, 1992, 1993, 1994, 1995, 1996, 1997, 1998, 1999, 2000, 2001, 2002, 2003, 2004, 2005, 2006, 2007, 2008, 2009, 2010, 2011, 2012, 2013, 2014, 2015, 2016], \"y\": [405.0, 393.0, 410.0, 403.0, 383.0, 349.0, 381.0, 351.0, 412.0, 355.0, 370.0, 356.0, 374.0, 403.0, 381.0, 382.0, 334.0, 323.0, 375.0, 353.0, 400.0, 394.0, 328.0, 373.0, 391.0, 377.0, 477.0, 508.0, 533.0, 565.0, 529.0, \"\"]}, {\"line\": {\"color\": \"rgba(219, 64, 82, 0.7623762376237624)\", \"dash\": \"solid\", \"shape\": \"linear\", \"width\": 1.3}, \"mode\": \"lines\", \"name\": \"Grenada\", \"text\": \"\", \"type\": \"scatter\", \"x\": [1985, 1986, 1987, 1988, 1989, 1990, 1991, 1992, 1993, 1994, 1995, 1996, 1997, 1998, 1999, 2000, 2001, 2002, 2003, 2004, 2005, 2006, 2007, 2008, 2009, 2010, 2011, 2012, 2013, 2014, 2015, 2016], \"y\": [1.0, \"\", \"\", 4.0, 4.0, 2.0, 0.0, 0.0, 3.0, 4.0, 1.0, 1.0, \"\", \"\", \"\", \"\", 0.0, 0.0, 4.0, 1.0, 6.0, 1.0, 3.0, 0.0, 0.0, 0.0, 1.0, 2.0, 0.0, 0.0, 0.0, 0.0]}, {\"line\": {\"color\": \"rgba(0, 128, 128, 0.7623762376237624)\", \"dash\": \"solid\", \"shape\": \"linear\", \"width\": 1.3}, \"mode\": \"lines\", \"name\": \"Guatemala\", \"text\": \"\", \"type\": \"scatter\", \"x\": [1985, 1986, 1987, 1988, 1989, 1990, 1991, 1992, 1993, 1994, 1995, 1996, 1997, 1998, 1999, 2000, 2001, 2002, 2003, 2004, 2005, 2006, 2007, 2008, 2009, 2010, 2011, 2012, 2013, 2014, 2015, 2016], \"y\": [\"\", 203.0, 241.0, 174.0, 152.0, 158.0, 156.0, 173.0, 165.0, 142.0, 211.0, 157.0, 179.0, 201.0, 234.0, 182.0, 202.0, 258.0, 253.0, 250.0, 238.0, 298.0, 327.0, 492.0, 511.0, 352.0, 359.0, 420.0, 455.0, 512.0, 494.0, \"\"]}, {\"line\": {\"color\": \"rgba(255, 255, 51, 0.7623762376237624)\", \"dash\": \"solid\", \"shape\": \"linear\", \"width\": 1.3}, \"mode\": \"lines\", \"name\": \"Guyana\", \"text\": \"\", \"type\": \"scatter\", \"x\": [1985, 1986, 1987, 1988, 1989, 1990, 1991, 1992, 1993, 1994, 1995, 1996, 1997, 1998, 1999, 2000, 2001, 2002, 2003, 2004, 2005, 2006, 2007, 2008, 2009, 2010, 2011, 2012, 2013, 2014, 2015, 2016], \"y\": [\"\", \"\", \"\", 56.0, 94.0, 89.0, 105.0, 78.0, 72.0, 86.0, 99.0, 60.0, 40.0, 35.0, 163.0, \"\", 197.0, 176.0, 198.0, 186.0, 169.0, 201.0, 185.0, 168.0, 156.0, 205.0, 192.0, 206.0, 210.0, \"\", \"\", \"\"]}, {\"line\": {\"color\": \"rgba(255, 255, 51, 0.6831683168316831)\", \"dash\": \"solid\", \"shape\": \"linear\", \"width\": 1.3}, \"mode\": \"lines\", \"name\": \"Hungary\", \"text\": \"\", \"type\": \"scatter\", \"x\": [1985, 1986, 1987, 1988, 1989, 1990, 1991, 1992, 1993, 1994, 1995, 1996, 1997, 1998, 1999, 2000, 2001, 2002, 2003, 2004, 2005, 2006, 2007, 2008, 2009, 2010, 2011, 2012, 2013, 2014, 2015, 2016], \"y\": [\"\", \"\", \"\", \"\", \"\", \"\", 3993.0, 4000.0, 3694.0, 3625.0, 3366.0, 3436.0, 3208.0, 3245.0, 3326.0, 3269.0, 2978.0, 2839.0, 2800.0, 2742.0, 2619.0, 2461.0, 2450.0, 2476.0, 2460.0, 2489.0, 2420.0, 2349.0, 2092.0, 1925.0, 1868.0, 1761.0]}, {\"line\": {\"color\": \"rgba(128, 128, 0, 0.6831683168316831)\", \"dash\": \"solid\", \"shape\": \"linear\", \"width\": 1.3}, \"mode\": \"lines\", \"name\": \"Iceland\", \"text\": \"\", \"type\": \"scatter\", \"x\": [1985, 1986, 1987, 1988, 1989, 1990, 1991, 1992, 1993, 1994, 1995, 1996, 1997, 1998, 1999, 2000, 2001, 2002, 2003, 2004, 2005, 2006, 2007, 2008, 2009, 2010, 2011, 2012, 2013, 2014, 2015, 2016], \"y\": [32.0, 37.0, 36.0, 35.0, 22.0, 40.0, 37.0, 28.0, 26.0, 25.0, 27.0, 33.0, 33.0, 30.0, 31.0, 50.0, 36.0, 30.0, 26.0, 35.0, 33.0, 32.0, 37.0, 38.0, 36.0, 46.0, 27.0, 37.0, 49.0, 44.0, 40.0, 40.0]}, {\"line\": {\"color\": \"rgba(251, 128, 114, 0.6831683168316831)\", \"dash\": \"solid\", \"shape\": \"linear\", \"width\": 1.3}, \"mode\": \"lines\", \"name\": \"Ireland\", \"text\": \"\", \"type\": \"scatter\", \"x\": [1985, 1986, 1987, 1988, 1989, 1990, 1991, 1992, 1993, 1994, 1995, 1996, 1997, 1998, 1999, 2000, 2001, 2002, 2003, 2004, 2005, 2006, 2007, 2008, 2009, 2010, 2011, 2012, 2013, 2014, 2015, 2016], \"y\": [276.0, 282.0, 245.0, 266.0, 278.0, 334.0, 345.0, 362.0, 326.0, 394.0, 403.0, 408.0, 466.0, 498.0, 424.0, 463.0, 488.0, 449.0, 454.0, 464.0, 451.0, 452.0, 458.0, 506.0, 527.0, 486.0, 554.0, 542.0, 487.0, 486.0, \"\", \"\"]}, {\"line\": {\"color\": \"rgba(128, 177, 211, 0.6831683168316831)\", \"dash\": \"solid\", \"shape\": \"linear\", \"width\": 1.3}, \"mode\": \"lines\", \"name\": \"Israel\", \"text\": \"\", \"type\": \"scatter\", \"x\": [1985, 1986, 1987, 1988, 1989, 1990, 1991, 1992, 1993, 1994, 1995, 1996, 1997, 1998, 1999, 2000, 2001, 2002, 2003, 2004, 2005, 2006, 2007, 2008, 2009, 2010, 2011, 2012, 2013, 2014, 2015, 2016], \"y\": [234.0, 278.0, 271.0, 303.0, 353.0, 304.0, 359.0, 381.0, 371.0, 416.0, 360.0, 306.0, 379.0, 318.0, 368.0, 394.0, 398.0, 382.0, 417.0, 411.0, 425.0, 367.0, 326.0, 354.0, 404.0, 480.0, 409.0, 430.0, 372.0, 382.0, 342.0, \"\"]}, {\"line\": {\"color\": \"rgba(255, 153, 51, 0.6831683168316831)\", \"dash\": \"solid\", \"shape\": \"linear\", \"width\": 1.3}, \"mode\": \"lines\", \"name\": \"Italy\", \"text\": \"\", \"type\": \"scatter\", \"x\": [1985, 1986, 1987, 1988, 1989, 1990, 1991, 1992, 1993, 1994, 1995, 1996, 1997, 1998, 1999, 2000, 2001, 2002, 2003, 2004, 2005, 2006, 2007, 2008, 2009, 2010, 2011, 2012, 2013, 2014, 2015, 2016], \"y\": [4759.0, 4691.0, 4516.0, 4381.0, 4342.0, 4402.0, 4453.0, 4543.0, 4697.0, 4536.0, 4569.0, 4689.0, 4694.0, 4504.0, 4115.0, 4108.0, 4030.0, 4069.0, 4075.0, 3986.0, 3742.0, 3700.0, 3757.0, 3904.0, 3974.0, 3989.0, 4153.0, 4257.0, 4290.0, 4147.0, 3988.0, \"\"]}, {\"line\": {\"color\": \"rgba(55, 128, 191, 0.6831683168316831)\", \"dash\": \"solid\", \"shape\": \"linear\", \"width\": 1.3}, \"mode\": \"lines\", \"name\": \"Jamaica\", \"text\": \"\", \"type\": \"scatter\", \"x\": [1985, 1986, 1987, 1988, 1989, 1990, 1991, 1992, 1993, 1994, 1995, 1996, 1997, 1998, 1999, 2000, 2001, 2002, 2003, 2004, 2005, 2006, 2007, 2008, 2009, 2010, 2011, 2012, 2013, 2014, 2015, 2016], \"y\": [8.0, 1.0, 13.0, 5.0, 0.0, 3.0, 1.0, \"\", \"\", \"\", \"\", \"\", \"\", \"\", \"\", 3.0, 5.0, 2.0, 2.0, 1.0, 51.0, 0.0, \"\", \"\", 36.0, 3.0, 50.0, \"\", \"\", \"\", \"\", \"\"]}, {\"line\": {\"color\": \"rgba(50, 171, 96, 0.6831683168316831)\", \"dash\": \"solid\", \"shape\": \"linear\", \"width\": 1.3}, \"mode\": \"lines\", \"name\": \"Japan\", \"text\": \"\", \"type\": \"scatter\", \"x\": [1985, 1986, 1987, 1988, 1989, 1990, 1991, 1992, 1993, 1994, 1995, 1996, 1997, 1998, 1999, 2000, 2001, 2002, 2003, 2004, 2005, 2006, 2007, 2008, 2009, 2010, 2011, 2012, 2013, 2014, 2015, 2016], \"y\": [23257.0, 25484.0, 23663.0, 22676.0, 21013.0, 20002.0, 19780.0, 20756.0, 20353.0, 20744.0, 21249.0, 21967.0, 23280.0, 31458.0, 31115.0, 29989.0, 29132.0, 29715.0, 31881.0, 30034.0, 30369.0, 29769.0, 30665.0, 30073.0, 30523.0, 29411.0, 28766.0, 26338.0, 25991.0, 24357.0, 23092.0, \"\"]}, {\"line\": {\"color\": \"rgba(128, 0, 128, 0.6831683168316831)\", \"dash\": \"solid\", \"shape\": \"linear\", \"width\": 1.3}, \"mode\": \"lines\", \"name\": \"Kazakhstan\", \"text\": \"\", \"type\": \"scatter\", \"x\": [1985, 1986, 1987, 1988, 1989, 1990, 1991, 1992, 1993, 1994, 1995, 1996, 1997, 1998, 1999, 2000, 2001, 2002, 2003, 2004, 2005, 2006, 2007, 2008, 2009, 2010, 2011, 2012, 2013, 2014, 2015, 2016], \"y\": [\"\", \"\", \"\", \"\", \"\", 3172.0, 3082.0, 3356.0, 4019.0, 4024.0, 4706.0, 4773.0, 4642.0, 4313.0, 3991.0, 4428.0, 4377.0, 4240.0, 4321.0, 4394.0, 3903.0, 4076.0, 4141.0, 3997.0, 3838.0, 3609.0, 3401.0, 3240.0, 3512.0, 3119.0, 2872.0, \"\"]}, {\"line\": {\"color\": \"rgba(219, 64, 82, 0.6831683168316831)\", \"dash\": \"solid\", \"shape\": \"linear\", \"width\": 1.3}, \"mode\": \"lines\", \"name\": \"Kiribati\", \"text\": \"\", \"type\": \"scatter\", \"x\": [1985, 1986, 1987, 1988, 1989, 1990, 1991, 1992, 1993, 1994, 1995, 1996, 1997, 1998, 1999, 2000, 2001, 2002, 2003, 2004, 2005, 2006, 2007, 2008, 2009, 2010, 2011, 2012, 2013, 2014, 2015, 2016], \"y\": [\"\", \"\", \"\", \"\", \"\", \"\", 10.0, 4.0, 12.0, 10.0, 2.0, 6.0, 5.0, 4.0, 0.0, 0.0, 0.0, \"\", \"\", \"\", \"\", \"\", \"\", \"\", \"\", \"\", \"\", \"\", \"\", \"\", \"\", \"\"]}, {\"line\": {\"color\": \"rgba(0, 128, 128, 0.6831683168316831)\", \"dash\": \"solid\", \"shape\": \"linear\", \"width\": 1.3}, \"mode\": \"lines\", \"name\": \"Kuwait\", \"text\": \"\", \"type\": \"scatter\", \"x\": [1985, 1986, 1987, 1988, 1989, 1990, 1991, 1992, 1993, 1994, 1995, 1996, 1997, 1998, 1999, 2000, 2001, 2002, 2003, 2004, 2005, 2006, 2007, 2008, 2009, 2010, 2011, 2012, 2013, 2014, 2015, 2016], \"y\": [17.0, 16.0, 16.0, \"\", \"\", \"\", \"\", \"\", 18.0, 30.0, 26.0, 30.0, 33.0, 35.0, 46.0, 34.0, 30.0, 45.0, 44.0, 45.0, 52.0, 45.0, 51.0, 47.0, 61.0, 39.0, 41.0, 56.0, 41.0, 68.0, \"\", \"\"]}, {\"line\": {\"color\": \"rgba(0, 128, 128, 0.6039603960396038)\", \"dash\": \"solid\", \"shape\": \"linear\", \"width\": 1.3}, \"mode\": \"lines\", \"name\": \"Kyrgyzstan\", \"text\": \"\", \"type\": \"scatter\", \"x\": [1985, 1986, 1987, 1988, 1989, 1990, 1991, 1992, 1993, 1994, 1995, 1996, 1997, 1998, 1999, 2000, 2001, 2002, 2003, 2004, 2005, 2006, 2007, 2008, 2009, 2010, 2011, 2012, 2013, 2014, 2015, 2016], \"y\": [\"\", \"\", \"\", \"\", \"\", 547.0, 543.0, 491.0, 563.0, 581.0, 605.0, 480.0, 496.0, 509.0, 556.0, 510.0, 560.0, 567.0, 479.0, 438.0, 470.0, 463.0, 482.0, 473.0, 458.0, 500.0, 471.0, 524.0, 446.0, 461.0, 417.0, \"\"]}, {\"line\": {\"color\": \"rgba(255, 255, 51, 0.6039603960396038)\", \"dash\": \"solid\", \"shape\": \"linear\", \"width\": 1.3}, \"mode\": \"lines\", \"name\": \"Latvia\", \"text\": \"\", \"type\": \"scatter\", \"x\": [1985, 1986, 1987, 1988, 1989, 1990, 1991, 1992, 1993, 1994, 1995, 1996, 1997, 1998, 1999, 2000, 2001, 2002, 2003, 2004, 2005, 2006, 2007, 2008, 2009, 2010, 2011, 2012, 2013, 2014, 2015, 2016], \"y\": [\"\", \"\", \"\", \"\", \"\", \"\", \"\", \"\", \"\", \"\", 1024.0, 922.0, 886.0, 839.0, 763.0, 770.0, 708.0, 670.0, 604.0, 563.0, 564.0, 487.0, 453.0, 527.0, 516.0, 438.0, 440.0, 444.0, 383.0, 382.0, 387.0, \"\"]}, {\"line\": {\"color\": \"rgba(128, 128, 0, 0.6039603960396038)\", \"dash\": \"solid\", \"shape\": \"linear\", \"width\": 1.3}, \"mode\": \"lines\", \"name\": \"Lithuania\", \"text\": \"\", \"type\": \"scatter\", \"x\": [1985, 1986, 1987, 1988, 1989, 1990, 1991, 1992, 1993, 1994, 1995, 1996, 1997, 1998, 1999, 2000, 2001, 2002, 2003, 2004, 2005, 2006, 2007, 2008, 2009, 2010, 2011, 2012, 2013, 2014, 2015, 2016], \"y\": [\"\", \"\", \"\", \"\", \"\", \"\", \"\", \"\", \"\", \"\", 1694.0, 1722.0, 1632.0, 1553.0, 1550.0, 1631.0, 1533.0, 1551.0, 1455.0, 1380.0, 1319.0, 1049.0, 1025.0, 1111.0, 1138.0, 1018.0, 1018.0, 927.0, 1085.0, 930.0, 896.0, 822.0]}, {\"line\": {\"color\": \"rgba(251, 128, 114, 0.6039603960396038)\", \"dash\": \"solid\", \"shape\": \"linear\", \"width\": 1.3}, \"mode\": \"lines\", \"name\": \"Luxembourg\", \"text\": \"\", \"type\": \"scatter\", \"x\": [1985, 1986, 1987, 1988, 1989, 1990, 1991, 1992, 1993, 1994, 1995, 1996, 1997, 1998, 1999, 2000, 2001, 2002, 2003, 2004, 2005, 2006, 2007, 2008, 2009, 2010, 2011, 2012, 2013, 2014, 2015, 2016], \"y\": [55.0, 51.0, 74.0, 69.0, 73.0, 68.0, 77.0, 59.0, 64.0, 74.0, 63.0, 72.0, 81.0, 64.0, 70.0, 62.0, 73.0, 85.0, 48.0, 62.0, 49.0, 65.0, 78.0, 43.0, 48.0, 54.0, 55.0, 51.0, 40.0, 67.0, 64.0, \"\"]}, {\"line\": {\"color\": \"rgba(128, 177, 211, 0.6039603960396038)\", \"dash\": \"solid\", \"shape\": \"linear\", \"width\": 1.3}, \"mode\": \"lines\", \"name\": \"Macau\", \"text\": \"\", \"type\": \"scatter\", \"x\": [1985, 1986, 1987, 1988, 1989, 1990, 1991, 1992, 1993, 1994, 1995, 1996, 1997, 1998, 1999, 2000, 2001, 2002, 2003, 2004, 2005, 2006, 2007, 2008, 2009, 2010, 2011, 2012, 2013, 2014, 2015, 2016], \"y\": [\"\", \"\", \"\", \"\", \"\", \"\", \"\", \"\", \"\", 27.0, \"\", \"\", \"\", \"\", \"\", \"\", \"\", \"\", \"\", \"\", \"\", \"\", \"\", \"\", \"\", \"\", \"\", \"\", \"\", \"\", \"\", \"\"]}, {\"line\": {\"color\": \"rgba(255, 153, 51, 0.6039603960396038)\", \"dash\": \"solid\", \"shape\": \"linear\", \"width\": 1.3}, \"mode\": \"lines\", \"name\": \"Maldives\", \"text\": \"\", \"type\": \"scatter\", \"x\": [1985, 1986, 1987, 1988, 1989, 1990, 1991, 1992, 1993, 1994, 1995, 1996, 1997, 1998, 1999, 2000, 2001, 2002, 2003, 2004, 2005, 2006, 2007, 2008, 2009, 2010, 2011, 2012, 2013, 2014, 2015, 2016], \"y\": [\"\", \"\", \"\", \"\", \"\", \"\", \"\", \"\", \"\", \"\", \"\", \"\", \"\", \"\", \"\", 0.0, 3.0, 3.0, 4.0, 1.0, 1.0, \"\", 5.0, 0.0, \"\", 1.0, 2.0, \"\", \"\", \"\", \"\", \"\"]}, {\"line\": {\"color\": \"rgba(55, 128, 191, 0.6039603960396038)\", \"dash\": \"solid\", \"shape\": \"linear\", \"width\": 1.3}, \"mode\": \"lines\", \"name\": \"Malta\", \"text\": \"\", \"type\": \"scatter\", \"x\": [1985, 1986, 1987, 1988, 1989, 1990, 1991, 1992, 1993, 1994, 1995, 1996, 1997, 1998, 1999, 2000, 2001, 2002, 2003, 2004, 2005, 2006, 2007, 2008, 2009, 2010, 2011, 2012, 2013, 2014, 2015, 2016], \"y\": [2.0, 1.0, 1.0, 9.0, 23.0, 8.0, 10.0, 18.0, 16.0, 15.0, 17.0, 10.0, 15.0, 12.0, 27.0, 23.0, 30.0, 19.0, 20.0, 24.0, 19.0, 26.0, 26.0, 14.0, 36.0, 31.0, 20.0, 25.0, 22.0, 32.0, 34.0, \"\"]}, {\"line\": {\"color\": \"rgba(50, 171, 96, 0.6039603960396038)\", \"dash\": \"solid\", \"shape\": \"linear\", \"width\": 1.3}, \"mode\": \"lines\", \"name\": \"Mauritius\", \"text\": \"\", \"type\": \"scatter\", \"x\": [1985, 1986, 1987, 1988, 1989, 1990, 1991, 1992, 1993, 1994, 1995, 1996, 1997, 1998, 1999, 2000, 2001, 2002, 2003, 2004, 2005, 2006, 2007, 2008, 2009, 2010, 2011, 2012, 2013, 2014, 2015, 2016], \"y\": [104.0, 28.0, 140.0, 167.0, 144.0, 147.0, 137.0, 146.0, 138.0, 129.0, 147.0, 153.0, 122.0, 155.0, 174.0, 137.0, 113.0, 131.0, 88.0, 97.0, 102.0, 118.0, 127.0, 84.0, 115.0, 98.0, 118.0, 115.0, 98.0, 120.0, 104.0, 98.0]}, {\"line\": {\"color\": \"rgba(128, 0, 128, 0.6039603960396038)\", \"dash\": \"solid\", \"shape\": \"linear\", \"width\": 1.3}, \"mode\": \"lines\", \"name\": \"Mexico\", \"text\": \"\", \"type\": \"scatter\", \"x\": [1985, 1986, 1987, 1988, 1989, 1990, 1991, 1992, 1993, 1994, 1995, 1996, 1997, 1998, 1999, 2000, 2001, 2002, 2003, 2004, 2005, 2006, 2007, 2008, 2009, 2010, 2011, 2012, 2013, 2014, 2015, 2016], \"y\": [1544.0, 1714.0, 1701.0, 1703.0, 1865.0, 1926.0, 2103.0, 2237.0, 2342.0, 2588.0, 2877.0, 3008.0, 3350.0, 3312.0, 3327.0, 3456.0, 3760.0, 3826.0, 4070.0, 4056.0, 4274.0, 4230.0, 4285.0, 4642.0, 5023.0, 4858.0, 5558.0, 5381.0, 5711.0, 6178.0, 6234.0, \"\"]}, {\"line\": {\"color\": \"rgba(219, 64, 82, 0.6039603960396038)\", \"dash\": \"solid\", \"shape\": \"linear\", \"width\": 1.3}, \"mode\": \"lines\", \"name\": \"Mongolia\", \"text\": \"\", \"type\": \"scatter\", \"x\": [1985, 1986, 1987, 1988, 1989, 1990, 1991, 1992, 1993, 1994, 1995, 1996, 1997, 1998, 1999, 2000, 2001, 2002, 2003, 2004, 2005, 2006, 2007, 2008, 2009, 2010, 2011, 2012, 2013, 2014, 2015, 2016], \"y\": [\"\", \"\", \"\", \"\", \"\", \"\", \"\", \"\", \"\", \"\", \"\", \"\", \"\", \"\", \"\", \"\", \"\", \"\", \"\", \"\", \"\", \"\", \"\", \"\", \"\", \"\", \"\", \"\", \"\", \"\", \"\", 423.0]}, {\"line\": {\"color\": \"rgba(219, 64, 82, 0.5247524752475246)\", \"dash\": \"solid\", \"shape\": \"linear\", \"width\": 1.3}, \"mode\": \"lines\", \"name\": \"Montenegro\", \"text\": \"\", \"type\": \"scatter\", \"x\": [1985, 1986, 1987, 1988, 1989, 1990, 1991, 1992, 1993, 1994, 1995, 1996, 1997, 1998, 1999, 2000, 2001, 2002, 2003, 2004, 2005, 2006, 2007, 2008, 2009, 2010, 2011, 2012, 2013, 2014, 2015, 2016], \"y\": [\"\", \"\", \"\", \"\", \"\", \"\", \"\", \"\", \"\", \"\", \"\", \"\", \"\", \"\", \"\", 0.0, 0.0, 0.0, 0.0, 0.0, 118.0, 0.0, 121.0, 126.0, 107.0, \"\", \"\", \"\", \"\", \"\", \"\", \"\"]}, {\"line\": {\"color\": \"rgba(0, 128, 128, 0.5247524752475246)\", \"dash\": \"solid\", \"shape\": \"linear\", \"width\": 1.3}, \"mode\": \"lines\", \"name\": \"Netherlands\", \"text\": \"\", \"type\": \"scatter\", \"x\": [1985, 1986, 1987, 1988, 1989, 1990, 1991, 1992, 1993, 1994, 1995, 1996, 1997, 1998, 1999, 2000, 2001, 2002, 2003, 2004, 2005, 2006, 2007, 2008, 2009, 2010, 2011, 2012, 2013, 2014, 2015, 2016], \"y\": [1638.0, 1604.0, 1616.0, 1523.0, 1520.0, 1450.0, 1611.0, 1587.0, 1555.0, 1584.0, 1511.0, 1577.0, 1572.0, 1519.0, 1519.0, 1501.0, 1474.0, 1570.0, 1502.0, 1514.0, 1574.0, 1525.0, 1354.0, 1439.0, 1530.0, 1604.0, 1650.0, 1756.0, 1856.0, 1839.0, 1873.0, 1886.0]}, {\"line\": {\"color\": \"rgba(255, 255, 51, 0.5247524752475246)\", \"dash\": \"solid\", \"shape\": \"linear\", \"width\": 1.3}, \"mode\": \"lines\", \"name\": \"New Zealand\", \"text\": \"\", \"type\": \"scatter\", \"x\": [1985, 1986, 1987, 1988, 1989, 1990, 1991, 1992, 1993, 1994, 1995, 1996, 1997, 1998, 1999, 2000, 2001, 2002, 2003, 2004, 2005, 2006, 2007, 2008, 2009, 2010, 2011, 2012, 2013, 2014, 2015, 2016], \"y\": [338.0, 414.0, 463.0, 484.0, 465.0, 455.0, 474.0, 493.0, 443.0, 512.0, 545.0, 540.0, 562.0, 574.0, 516.0, 458.0, 508.0, 467.0, 519.0, 495.0, 514.0, 527.0, 494.0, 520.0, 512.0, 536.0, 493.0, 549.0, 513.0, \"\", \"\", \"\"]}, {\"line\": {\"color\": \"rgba(128, 128, 0, 0.5247524752475246)\", \"dash\": \"solid\", \"shape\": \"linear\", \"width\": 1.3}, \"mode\": \"lines\", \"name\": \"Nicaragua\", \"text\": \"\", \"type\": \"scatter\", \"x\": [1985, 1986, 1987, 1988, 1989, 1990, 1991, 1992, 1993, 1994, 1995, 1996, 1997, 1998, 1999, 2000, 2001, 2002, 2003, 2004, 2005, 2006, 2007, 2008, 2009, 2010, 2011, 2012, 2013, 2014, 2015, 2016], \"y\": [\"\", \"\", \"\", \"\", \"\", \"\", \"\", \"\", \"\", \"\", \"\", \"\", \"\", \"\", \"\", \"\", \"\", \"\", \"\", \"\", \"\", \"\", \"\", \"\", \"\", 351.0, 369.0, 316.0, 351.0, 311.0, 315.0, \"\"]}, {\"line\": {\"color\": \"rgba(251, 128, 114, 0.5247524752475246)\", \"dash\": \"solid\", \"shape\": \"linear\", \"width\": 1.3}, \"mode\": \"lines\", \"name\": \"Norway\", \"text\": \"\", \"type\": \"scatter\", \"x\": [1985, 1986, 1987, 1988, 1989, 1990, 1991, 1992, 1993, 1994, 1995, 1996, 1997, 1998, 1999, 2000, 2001, 2002, 2003, 2004, 2005, 2006, 2007, 2008, 2009, 2010, 2011, 2012, 2013, 2014, 2015, 2016], \"y\": [\"\", 579.0, 649.0, 708.0, 660.0, 659.0, 675.0, 616.0, 590.0, 531.0, 548.0, 517.0, 533.0, 548.0, 583.0, 541.0, 549.0, 494.0, 502.0, 529.0, 533.0, 532.0, 485.0, 505.0, 573.0, 548.0, 598.0, 515.0, 554.0, 548.0, 590.0, \"\"]}, {\"line\": {\"color\": \"rgba(128, 177, 211, 0.5247524752475246)\", \"dash\": \"solid\", \"shape\": \"linear\", \"width\": 1.3}, \"mode\": \"lines\", \"name\": \"Oman\", \"text\": \"\", \"type\": \"scatter\", \"x\": [1985, 1986, 1987, 1988, 1989, 1990, 1991, 1992, 1993, 1994, 1995, 1996, 1997, 1998, 1999, 2000, 2001, 2002, 2003, 2004, 2005, 2006, 2007, 2008, 2009, 2010, 2011, 2012, 2013, 2014, 2015, 2016], \"y\": [\"\", \"\", \"\", \"\", \"\", \"\", \"\", \"\", \"\", \"\", \"\", \"\", \"\", \"\", \"\", \"\", \"\", \"\", \"\", \"\", \"\", \"\", \"\", \"\", 13.0, 13.0, \"\", \"\", \"\", 7.0, \"\", \"\"]}, {\"line\": {\"color\": \"rgba(255, 153, 51, 0.5247524752475246)\", \"dash\": \"solid\", \"shape\": \"linear\", \"width\": 1.3}, \"mode\": \"lines\", \"name\": \"Panama\", \"text\": \"\", \"type\": \"scatter\", \"x\": [1985, 1986, 1987, 1988, 1989, 1990, 1991, 1992, 1993, 1994, 1995, 1996, 1997, 1998, 1999, 2000, 2001, 2002, 2003, 2004, 2005, 2006, 2007, 2008, 2009, 2010, 2011, 2012, 2013, 2014, 2015, 2016], \"y\": [56.0, 82.0, 85.0, 87.0, 70.0, \"\", \"\", \"\", \"\", \"\", \"\", 113.0, 145.0, 148.0, 143.0, 143.0, 162.0, 160.0, 195.0, 186.0, 172.0, 185.0, 171.0, 186.0, 177.0, 151.0, 144.0, 135.0, 130.0, 147.0, 110.0, \"\"]}, {\"line\": {\"color\": \"rgba(55, 128, 191, 0.5247524752475246)\", \"dash\": \"solid\", \"shape\": \"linear\", \"width\": 1.3}, \"mode\": \"lines\", \"name\": \"Paraguay\", \"text\": \"\", \"type\": \"scatter\", \"x\": [1985, 1986, 1987, 1988, 1989, 1990, 1991, 1992, 1993, 1994, 1995, 1996, 1997, 1998, 1999, 2000, 2001, 2002, 2003, 2004, 2005, 2006, 2007, 2008, 2009, 2010, 2011, 2012, 2013, 2014, 2015, 2016], \"y\": [63.0, 56.0, 62.0, \"\", 67.0, 99.0, 75.0, \"\", \"\", 108.0, 118.0, 99.0, 126.0, 138.0, 161.0, 154.0, 152.0, 177.0, 174.0, 234.0, 239.0, 251.0, 227.0, 222.0, 283.0, 223.0, 298.0, 275.0, 323.0, 379.0, \"\", \"\"]}, {\"line\": {\"color\": \"rgba(50, 171, 96, 0.5247524752475246)\", \"dash\": \"solid\", \"shape\": \"linear\", \"width\": 1.3}, \"mode\": \"lines\", \"name\": \"Philippines\", \"text\": \"\", \"type\": \"scatter\", \"x\": [1985, 1986, 1987, 1988, 1989, 1990, 1991, 1992, 1993, 1994, 1995, 1996, 1997, 1998, 1999, 2000, 2001, 2002, 2003, 2004, 2005, 2006, 2007, 2008, 2009, 2010, 2011, 2012, 2013, 2014, 2015, 2016], \"y\": [\"\", \"\", \"\", \"\", \"\", \"\", \"\", 347.0, 846.0, \"\", \"\", \"\", 814.0, 883.0, 1043.0, 1403.0, 1204.0, 1301.0, 1544.0, \"\", \"\", 1788.0, 1698.0, 1820.0, 2074.0, 2116.0, 2449.0, \"\", \"\", \"\", \"\", \"\"]}, {\"line\": {\"color\": \"rgba(128, 0, 128, 0.5247524752475246)\", \"dash\": \"solid\", \"shape\": \"linear\", \"width\": 1.3}, \"mode\": \"lines\", \"name\": \"Poland\", \"text\": \"\", \"type\": \"scatter\", \"x\": [1985, 1986, 1987, 1988, 1989, 1990, 1991, 1992, 1993, 1994, 1995, 1996, 1997, 1998, 1999, 2000, 2001, 2002, 2003, 2004, 2005, 2006, 2007, 2008, 2009, 2010, 2011, 2012, 2013, 2014, 2015, 2016], \"y\": [\"\", \"\", \"\", \"\", \"\", 4970.0, 5316.0, 5713.0, 5624.0, 5519.0, 5499.0, 5446.0, \"\", \"\", 5779.0, 5841.0, 5855.0, 5925.0, 5836.0, 6072.0, 6045.0, 5805.0, 5284.0, 5682.0, 6477.0, 6357.0, 6113.0, 6368.0, 6218.0, 5934.0, 5420.0, \"\"]}, {\"line\": {\"color\": \"rgba(128, 0, 128, 0.44554455445544555)\", \"dash\": \"solid\", \"shape\": \"linear\", \"width\": 1.3}, \"mode\": \"lines\", \"name\": \"Portugal\", \"text\": \"\", \"type\": \"scatter\", \"x\": [1985, 1986, 1987, 1988, 1989, 1990, 1991, 1992, 1993, 1994, 1995, 1996, 1997, 1998, 1999, 2000, 2001, 2002, 2003, 2004, 2005, 2006, 2007, 2008, 2009, 2010, 2011, 2012, 2013, 2014, 2015, 2016], \"y\": [983.0, 941.0, 960.0, 819.0, 747.0, 870.0, 942.0, 866.0, 780.0, 762.0, 809.0, 653.0, 628.0, 556.0, 545.0, 524.0, 761.0, 1210.0, 1156.0, \"\", \"\", \"\", 1020.0, 1038.0, 1025.0, 1099.0, 1017.0, 1076.0, 1052.0, 1222.0, \"\", \"\"]}, {\"line\": {\"color\": \"rgba(219, 64, 82, 0.44554455445544555)\", \"dash\": \"solid\", \"shape\": \"linear\", \"width\": 1.3}, \"mode\": \"lines\", \"name\": \"Puerto Rico\", \"text\": \"\", \"type\": \"scatter\", \"x\": [1985, 1986, 1987, 1988, 1989, 1990, 1991, 1992, 1993, 1994, 1995, 1996, 1997, 1998, 1999, 2000, 2001, 2002, 2003, 2004, 2005, 2006, 2007, 2008, 2009, 2010, 2011, 2012, 2013, 2014, 2015, 2016], \"y\": [269.0, 310.0, 272.0, 314.0, 327.0, 371.0, 355.0, 314.0, 345.0, 355.0, 289.0, 331.0, 273.0, 321.0, 289.0, 305.0, 289.0, 239.0, 262.0, 279.0, 289.0, 265.0, 271.0, 300.0, 330.0, 286.0, 258.0, 248.0, 241.0, 220.0, 226.0, \"\"]}, {\"line\": {\"color\": \"rgba(0, 128, 128, 0.44554455445544555)\", \"dash\": \"solid\", \"shape\": \"linear\", \"width\": 1.3}, \"mode\": \"lines\", \"name\": \"Qatar\", \"text\": \"\", \"type\": \"scatter\", \"x\": [1985, 1986, 1987, 1988, 1989, 1990, 1991, 1992, 1993, 1994, 1995, 1996, 1997, 1998, 1999, 2000, 2001, 2002, 2003, 2004, 2005, 2006, 2007, 2008, 2009, 2010, 2011, 2012, 2013, 2014, 2015, 2016], \"y\": [\"\", \"\", \"\", \"\", \"\", \"\", \"\", \"\", \"\", \"\", 0.0, \"\", \"\", \"\", \"\", \"\", 23.0, \"\", \"\", 21.0, 17.0, 29.0, 41.0, 33.0, 44.0, 47.0, 50.0, 43.0, 37.0, 55.0, 66.0, 68.0]}, {\"line\": {\"color\": \"rgba(255, 255, 51, 0.44554455445544555)\", \"dash\": \"solid\", \"shape\": \"linear\", \"width\": 1.3}, \"mode\": \"lines\", \"name\": \"Republic of Korea\", \"text\": \"\", \"type\": \"scatter\", \"x\": [1985, 1986, 1987, 1988, 1989, 1990, 1991, 1992, 1993, 1994, 1995, 1996, 1997, 1998, 1999, 2000, 2001, 2002, 2003, 2004, 2005, 2006, 2007, 2008, 2009, 2010, 2011, 2012, 2013, 2014, 2015, 2016], \"y\": [3689.0, 3458.0, 3301.0, 2949.0, 3023.0, 3159.0, 3069.0, 3533.0, 4124.0, 4212.0, 4841.0, 5857.0, 6024.0, 8569.0, 7075.0, 6444.0, 6911.0, 8611.0, 10898.0, 11492.0, 12011.0, 10653.0, 12174.0, 12858.0, 15402.0, 15558.0, 15906.0, 14159.0, 14426.0, 13834.0, 13510.0, \"\"]}, {\"line\": {\"color\": \"rgba(128, 128, 0, 0.44554455445544555)\", \"dash\": \"solid\", \"shape\": \"linear\", \"width\": 1.3}, \"mode\": \"lines\", \"name\": \"Romania\", \"text\": \"\", \"type\": \"scatter\", \"x\": [1985, 1986, 1987, 1988, 1989, 1990, 1991, 1992, 1993, 1994, 1995, 1996, 1997, 1998, 1999, 2000, 2001, 2002, 2003, 2004, 2005, 2006, 2007, 2008, 2009, 2010, 2011, 2012, 2013, 2014, 2015, 2016], \"y\": [\"\", \"\", \"\", \"\", 2529.0, 2079.0, 2161.0, 2650.0, 2774.0, 2887.0, 2793.0, 2828.0, 2859.0, 2838.0, 2736.0, 2836.0, 2720.0, 3067.0, 2894.0, 2720.0, 2603.0, 2721.0, 2430.0, 2472.0, 2586.0, 2766.0, 2536.0, 2495.0, 2407.0, 2209.0, 2228.0, 1953.0]}, {\"line\": {\"color\": \"rgba(251, 128, 114, 0.44554455445544555)\", \"dash\": \"solid\", \"shape\": \"linear\", \"width\": 1.3}, \"mode\": \"lines\", \"name\": \"Russian Federation\", \"text\": \"\", \"type\": \"scatter\", \"x\": [1985, 1986, 1987, 1988, 1989, 1990, 1991, 1992, 1993, 1994, 1995, 1996, 1997, 1998, 1999, 2000, 2001, 2002, 2003, 2004, 2005, 2006, 2007, 2008, 2009, 2010, 2011, 2012, 2013, 2014, 2015, 2016], \"y\": [\"\", \"\", \"\", \"\", 37921.0, 39028.0, 39281.0, 45923.0, 55846.0, 61420.0, 60548.0, 57511.0, 54746.0, 51518.0, 56974.0, 56619.0, 56958.0, 55024.0, 51445.0, 49096.0, 45802.0, 42614.0, 41149.0, 38211.0, 37408.0, 33356.0, 31038.0, 29643.0, 28690.0, 26541.0, 25432.0, \"\"]}, {\"line\": {\"color\": \"rgba(128, 177, 211, 0.44554455445544555)\", \"dash\": \"solid\", \"shape\": \"linear\", \"width\": 1.3}, \"mode\": \"lines\", \"name\": \"Saint Kitts and Nevis\", \"text\": \"\", \"type\": \"scatter\", \"x\": [1985, 1986, 1987, 1988, 1989, 1990, 1991, 1992, 1993, 1994, 1995, 1996, 1997, 1998, 1999, 2000, 2001, 2002, 2003, 2004, 2005, 2006, 2007, 2008, 2009, 2010, 2011, 2012, 2013, 2014, 2015, 2016], \"y\": [\"\", \"\", \"\", \"\", \"\", 0.0, 0.0, 0.0, \"\", \"\", \"\", \"\", \"\", \"\", \"\", \"\", \"\", \"\", \"\", \"\", \"\", \"\", \"\", \"\", \"\", \"\", \"\", \"\", \"\", \"\", \"\", \"\"]}, {\"line\": {\"color\": \"rgba(255, 153, 51, 0.44554455445544555)\", \"dash\": \"solid\", \"shape\": \"linear\", \"width\": 1.3}, \"mode\": \"lines\", \"name\": \"Saint Lucia\", \"text\": \"\", \"type\": \"scatter\", \"x\": [1985, 1986, 1987, 1988, 1989, 1990, 1991, 1992, 1993, 1994, 1995, 1996, 1997, 1998, 1999, 2000, 2001, 2002, 2003, 2004, 2005, 2006, 2007, 2008, 2009, 2010, 2011, 2012, 2013, 2014, 2015, 2016], \"y\": [\"\", 5.0, 11.0, 10.0, 8.0, 3.0, 6.0, 11.0, 8.0, 6.0, 10.0, 7.0, 9.0, 8.0, 8.0, 14.0, 7.0, 12.0, 10.0, 8.0, 4.0, 2.0, \"\", 0.0, 13.0, 4.0, 8.0, 10.0, 14.0, 14.0, \"\", \"\"]}, {\"line\": {\"color\": \"rgba(55, 128, 191, 0.44554455445544555)\", \"dash\": \"solid\", \"shape\": \"linear\", \"width\": 1.3}, \"mode\": \"lines\", \"name\": \"Saint Vincent and Grenadines\", \"text\": \"\", \"type\": \"scatter\", \"x\": [1985, 1986, 1987, 1988, 1989, 1990, 1991, 1992, 1993, 1994, 1995, 1996, 1997, 1998, 1999, 2000, 2001, 2002, 2003, 2004, 2005, 2006, 2007, 2008, 2009, 2010, 2011, 2012, 2013, 2014, 2015, 2016], \"y\": [2.0, 0.0, 0.0, \"\", \"\", 5.0, \"\", \"\", \"\", \"\", 7.0, 8.0, 3.0, 10.0, 6.0, 5.0, 8.0, 7.0, 4.0, 4.0, 8.0, 6.0, 11.0, 4.0, 1.0, 5.0, 5.0, 10.0, 0.0, 2.0, 3.0, \"\"]}, {\"line\": {\"color\": \"rgba(50, 171, 96, 0.44554455445544555)\", \"dash\": \"solid\", \"shape\": \"linear\", \"width\": 1.3}, \"mode\": \"lines\", \"name\": \"San Marino\", \"text\": \"\", \"type\": \"scatter\", \"x\": [1985, 1986, 1987, 1988, 1989, 1990, 1991, 1992, 1993, 1994, 1995, 1996, 1997, 1998, 1999, 2000, 2001, 2002, 2003, 2004, 2005, 2006, 2007, 2008, 2009, 2010, 2011, 2012, 2013, 2014, 2015, 2016], \"y\": [\"\", \"\", \"\", \"\", \"\", \"\", \"\", \"\", \"\", \"\", \"\", \"\", \"\", \"\", 2.0, 1.0, \"\", \"\", \"\", \"\", 1.0, \"\", \"\", \"\", \"\", \"\", \"\", \"\", \"\", \"\", \"\", \"\"]}, {\"line\": {\"color\": \"rgba(50, 171, 96, 0.3663366336633663)\", \"dash\": \"solid\", \"shape\": \"linear\", \"width\": 1.3}, \"mode\": \"lines\", \"name\": \"Serbia\", \"text\": \"\", \"type\": \"scatter\", \"x\": [1985, 1986, 1987, 1988, 1989, 1990, 1991, 1992, 1993, 1994, 1995, 1996, 1997, 1998, 1999, 2000, 2001, 2002, 2003, 2004, 2005, 2006, 2007, 2008, 2009, 2010, 2011, 2012, 2013, 2014, 2015, 2016], \"y\": [\"\", \"\", \"\", \"\", \"\", \"\", \"\", \"\", \"\", \"\", \"\", \"\", \"\", 1460.0, 1571.0, 1543.0, 1442.0, 1446.0, 1378.0, 1345.0, 1437.0, 1443.0, 1353.0, 1289.0, 1373.0, 1207.0, 1256.0, 1243.0, 1197.0, 1134.0, 1062.0, \"\"]}, {\"line\": {\"color\": \"rgba(128, 0, 128, 0.3663366336633663)\", \"dash\": \"solid\", \"shape\": \"linear\", \"width\": 1.3}, \"mode\": \"lines\", \"name\": \"Seychelles\", \"text\": \"\", \"type\": \"scatter\", \"x\": [1985, 1986, 1987, 1988, 1989, 1990, 1991, 1992, 1993, 1994, 1995, 1996, 1997, 1998, 1999, 2000, 2001, 2002, 2003, 2004, 2005, 2006, 2007, 2008, 2009, 2010, 2011, 2012, 2013, 2014, 2015, 2016], \"y\": [8.0, 1.0, 3.0, \"\", \"\", \"\", \"\", \"\", \"\", \"\", \"\", \"\", \"\", \"\", \"\", \"\", 6.0, 5.0, 8.0, 6.0, 5.0, 8.0, 6.0, 4.0, 4.0, 6.0, 5.0, 3.0, 9.0, 4.0, 7.0, \"\"]}, {\"line\": {\"color\": \"rgba(219, 64, 82, 0.3663366336633663)\", \"dash\": \"solid\", \"shape\": \"linear\", \"width\": 1.3}, \"mode\": \"lines\", \"name\": \"Singapore\", \"text\": \"\", \"type\": \"scatter\", \"x\": [1985, 1986, 1987, 1988, 1989, 1990, 1991, 1992, 1993, 1994, 1995, 1996, 1997, 1998, 1999, 2000, 2001, 2002, 2003, 2004, 2005, 2006, 2007, 2008, 2009, 2010, 2011, 2012, 2013, 2014, 2015, 2016], \"y\": [324.0, 326.0, 301.0, 366.0, 394.0, 354.0, 296.0, 277.0, 270.0, 316.0, 364.0, 239.0, 303.0, 328.0, 277.0, 309.0, 305.0, 321.0, 320.0, 335.0, 359.0, 372.0, 328.0, 319.0, 349.0, 296.0, 308.0, 392.0, 357.0, 355.0, 329.0, \"\"]}, {\"line\": {\"color\": \"rgba(0, 128, 128, 0.3663366336633663)\", \"dash\": \"solid\", \"shape\": \"linear\", \"width\": 1.3}, \"mode\": \"lines\", \"name\": \"Slovakia\", \"text\": \"\", \"type\": \"scatter\", \"x\": [1985, 1986, 1987, 1988, 1989, 1990, 1991, 1992, 1993, 1994, 1995, 1996, 1997, 1998, 1999, 2000, 2001, 2002, 2003, 2004, 2005, 2006, 2007, 2008, 2009, 2010, 2011, 2012, 2013, 2014, 2015, 2016], \"y\": [\"\", \"\", \"\", \"\", \"\", \"\", \"\", 796.0, 738.0, 691.0, 735.0, 672.0, 630.0, 673.0, 692.0, 729.0, 692.0, 717.0, 753.0, 676.0, 679.0, 0.0, 0.0, 591.0, 601.0, 631.0, \"\", 571.0, 616.0, 554.0, \"\", \"\"]}, {\"line\": {\"color\": \"rgba(255, 255, 51, 0.3663366336633663)\", \"dash\": \"solid\", \"shape\": \"linear\", \"width\": 1.3}, \"mode\": \"lines\", \"name\": \"Slovenia\", \"text\": \"\", \"type\": \"scatter\", \"x\": [1985, 1986, 1987, 1988, 1989, 1990, 1991, 1992, 1993, 1994, 1995, 1996, 1997, 1998, 1999, 2000, 2001, 2002, 2003, 2004, 2005, 2006, 2007, 2008, 2009, 2010, 2011, 2012, 2013, 2014, 2015, 2016], \"y\": [\"\", \"\", \"\", \"\", \"\", \"\", \"\", \"\", \"\", \"\", 564.0, 607.0, 593.0, 612.0, 590.0, 588.0, 581.0, 540.0, 562.0, 512.0, 503.0, 529.0, 434.0, 408.0, 447.0, 414.0, 435.0, 440.0, 446.0, 388.0, 422.0, \"\"]}, {\"line\": {\"color\": \"rgba(128, 128, 0, 0.3663366336633663)\", \"dash\": \"solid\", \"shape\": \"linear\", \"width\": 1.3}, \"mode\": \"lines\", \"name\": \"South Africa\", \"text\": \"\", \"type\": \"scatter\", \"x\": [1985, 1986, 1987, 1988, 1989, 1990, 1991, 1992, 1993, 1994, 1995, 1996, 1997, 1998, 1999, 2000, 2001, 2002, 2003, 2004, 2005, 2006, 2007, 2008, 2009, 2010, 2011, 2012, 2013, 2014, 2015, 2016], \"y\": [\"\", \"\", \"\", \"\", \"\", \"\", \"\", \"\", \"\", \"\", \"\", 143.0, 104.0, 180.0, 279.0, 267.0, 384.0, 236.0, 256.0, 383.0, 458.0, 514.0, 417.0, 441.0, 372.0, 393.0, 358.0, 487.0, 587.0, 580.0, 482.0, \"\"]}, {\"line\": {\"color\": \"rgba(251, 128, 114, 0.3663366336633663)\", \"dash\": \"solid\", \"shape\": \"linear\", \"width\": 1.3}, \"mode\": \"lines\", \"name\": \"Spain\", \"text\": \"\", \"type\": \"scatter\", \"x\": [1985, 1986, 1987, 1988, 1989, 1990, 1991, 1992, 1993, 1994, 1995, 1996, 1997, 1998, 1999, 2000, 2001, 2002, 2003, 2004, 2005, 2006, 2007, 2008, 2009, 2010, 2011, 2012, 2013, 2014, 2015, 2016], \"y\": [2514.0, 2755.0, 2804.0, 2960.0, 2987.0, 2939.0, 2916.0, 2786.0, 3037.0, 3171.0, 3157.0, 3320.0, 3373.0, 3261.0, 3220.0, 3394.0, 3189.0, 3372.0, 3478.0, 3508.0, 3399.0, 3247.0, 3264.0, 3457.0, 3429.0, 3158.0, 3180.0, 3539.0, 3873.0, 3911.0, 3604.0, \"\"]}, {\"line\": {\"color\": \"rgba(128, 177, 211, 0.3663366336633663)\", \"dash\": \"solid\", \"shape\": \"linear\", \"width\": 1.3}, \"mode\": \"lines\", \"name\": \"Sri Lanka\", \"text\": \"\", \"type\": \"scatter\", \"x\": [1985, 1986, 1987, 1988, 1989, 1990, 1991, 1992, 1993, 1994, 1995, 1996, 1997, 1998, 1999, 2000, 2001, 2002, 2003, 2004, 2005, 2006, 2007, 2008, 2009, 2010, 2011, 2012, 2013, 2014, 2015, 2016], \"y\": [5668.0, 5345.0, \"\", \"\", \"\", \"\", \"\", \"\", \"\", \"\", \"\", 4898.0, 5887.0, 5518.0, 5619.0, 5252.0, 4590.0, 4382.0, 4467.0, \"\", \"\", 4015.0, \"\", \"\", \"\", \"\", \"\", \"\", \"\", \"\", \"\", \"\"]}, {\"line\": {\"color\": \"rgba(255, 153, 51, 0.3663366336633663)\", \"dash\": \"solid\", \"shape\": \"linear\", \"width\": 1.3}, \"mode\": \"lines\", \"name\": \"Suriname\", \"text\": \"\", \"type\": \"scatter\", \"x\": [1985, 1986, 1987, 1988, 1989, 1990, 1991, 1992, 1993, 1994, 1995, 1996, 1997, 1998, 1999, 2000, 2001, 2002, 2003, 2004, 2005, 2006, 2007, 2008, 2009, 2010, 2011, 2012, 2013, 2014, 2015, 2016], \"y\": [80.0, 42.0, 52.0, 49.0, 53.0, 26.0, 57.0, 48.0, \"\", \"\", 55.0, 21.0, 32.0, 29.0, 49.0, 52.0, 72.0, 69.0, 77.0, 67.0, 72.0, 112.0, 119.0, 147.0, 131.0, 136.0, 127.0, 133.0, 131.0, 128.0, \"\", \"\"]}, {\"line\": {\"color\": \"rgba(55, 128, 191, 0.3663366336633663)\", \"dash\": \"solid\", \"shape\": \"linear\", \"width\": 1.3}, \"mode\": \"lines\", \"name\": \"Sweden\", \"text\": \"\", \"type\": \"scatter\", \"x\": [1985, 1986, 1987, 1988, 1989, 1990, 1991, 1992, 1993, 1994, 1995, 1996, 1997, 1998, 1999, 2000, 2001, 2002, 2003, 2004, 2005, 2006, 2007, 2008, 2009, 2010, 2011, 2012, 2013, 2014, 2015, 2016], \"y\": [\"\", \"\", 1541.0, 1590.0, 1579.0, 1471.0, 1483.0, 1355.0, 1373.0, 1324.0, 1348.0, 1253.0, 1201.0, 1231.0, 1220.0, 1131.0, 1197.0, 1180.0, 1112.0, 1155.0, 1219.0, 1197.0, 1126.0, 1170.0, 1242.0, 1141.0, 1112.0, 1154.0, 1230.0, 1148.0, 1182.0, 1130.0]}, {\"line\": {\"color\": \"rgba(55, 128, 191, 0.287128712871287)\", \"dash\": \"solid\", \"shape\": \"linear\", \"width\": 1.3}, \"mode\": \"lines\", \"name\": \"Switzerland\", \"text\": \"\", \"type\": \"scatter\", \"x\": [1985, 1986, 1987, 1988, 1989, 1990, 1991, 1992, 1993, 1994, 1995, 1996, 1997, 1998, 1999, 2000, 2001, 2002, 2003, 2004, 2005, 2006, 2007, 2008, 2009, 2010, 2011, 2012, 2013, 2014, 2015, 2016], \"y\": [\"\", \"\", \"\", \"\", \"\", \"\", \"\", \"\", \"\", \"\", 1419.0, 1432.0, 1341.0, 1371.0, 1296.0, 1380.0, 1338.0, 1446.0, 1269.0, 1284.0, 1299.0, 1309.0, 1360.0, 1314.0, 1105.0, 1006.0, 1034.0, 1038.0, 1071.0, 1032.0, 1073.0, \"\"]}, {\"line\": {\"color\": \"rgba(50, 171, 96, 0.287128712871287)\", \"dash\": \"solid\", \"shape\": \"linear\", \"width\": 1.3}, \"mode\": \"lines\", \"name\": \"Thailand\", \"text\": \"\", \"type\": \"scatter\", \"x\": [1985, 1986, 1987, 1988, 1989, 1990, 1991, 1992, 1993, 1994, 1995, 1996, 1997, 1998, 1999, 2000, 2001, 2002, 2003, 2004, 2005, 2006, 2007, 2008, 2009, 2010, 2011, 2012, 2013, 2014, 2015, 2016], \"y\": [2982.0, 2798.0, 3035.0, \"\", \"\", 3753.0, 3559.0, 3550.0, \"\", 2307.0, 4245.0, 4443.0, 4150.0, 4963.0, 5276.0, 5182.0, \"\", 4902.0, 4484.0, 4296.0, 3937.0, 3608.0, 3754.0, 3778.0, 3787.0, 3761.0, 3873.0, 3985.0, 3961.0, 3952.0, 4205.0, 4117.0]}, {\"line\": {\"color\": \"rgba(128, 0, 128, 0.287128712871287)\", \"dash\": \"solid\", \"shape\": \"linear\", \"width\": 1.3}, \"mode\": \"lines\", \"name\": \"Trinidad and Tobago\", \"text\": \"\", \"type\": \"scatter\", \"x\": [1985, 1986, 1987, 1988, 1989, 1990, 1991, 1992, 1993, 1994, 1995, 1996, 1997, 1998, 1999, 2000, 2001, 2002, 2003, 2004, 2005, 2006, 2007, 2008, 2009, 2010, 2011, 2012, 2013, 2014, 2015, 2016], \"y\": [29.0, 104.0, 119.0, 164.0, 173.0, 170.0, 148.0, 163.0, 174.0, 148.0, 184.0, 146.0, 160.0, 171.0, 139.0, 166.0, 179.0, 156.0, 144.0, 168.0, 136.0, 141.0, 131.0, 199.0, 128.0, 160.0, 139.0, \"\", \"\", \"\", \"\", \"\"]}, {\"line\": {\"color\": \"rgba(219, 64, 82, 0.287128712871287)\", \"dash\": \"solid\", \"shape\": \"linear\", \"width\": 1.3}, \"mode\": \"lines\", \"name\": \"Turkey\", \"text\": \"\", \"type\": \"scatter\", \"x\": [1985, 1986, 1987, 1988, 1989, 1990, 1991, 1992, 1993, 1994, 1995, 1996, 1997, 1998, 1999, 2000, 2001, 2002, 2003, 2004, 2005, 2006, 2007, 2008, 2009, 2010, 2011, 2012, 2013, 2014, 2015, 2016], \"y\": [\"\", \"\", \"\", \"\", \"\", \"\", \"\", \"\", \"\", \"\", \"\", \"\", \"\", \"\", \"\", \"\", \"\", \"\", \"\", \"\", \"\", \"\", \"\", \"\", 1050.0, 1524.0, 1148.0, 1450.0, 1810.0, 1617.0, 1532.0, \"\"]}, {\"line\": {\"color\": \"rgba(0, 128, 128, 0.287128712871287)\", \"dash\": \"solid\", \"shape\": \"linear\", \"width\": 1.3}, \"mode\": \"lines\", \"name\": \"Turkmenistan\", \"text\": \"\", \"type\": \"scatter\", \"x\": [1985, 1986, 1987, 1988, 1989, 1990, 1991, 1992, 1993, 1994, 1995, 1996, 1997, 1998, 1999, 2000, 2001, 2002, 2003, 2004, 2005, 2006, 2007, 2008, 2009, 2010, 2011, 2012, 2013, 2014, 2015, 2016], \"y\": [\"\", \"\", 272.0, 270.0, 253.0, 298.0, 273.0, 271.0, 240.0, 234.0, 244.0, 283.0, 333.0, 405.0, 442.0, 383.0, 445.0, 416.0, 377.0, 392.0, 468.0, 506.0, 354.0, 484.0, 165.0, 178.0, 130.0, 138.0, 101.0, 136.0, 133.0, \"\"]}, {\"line\": {\"color\": \"rgba(255, 255, 51, 0.287128712871287)\", \"dash\": \"solid\", \"shape\": \"linear\", \"width\": 1.3}, \"mode\": \"lines\", \"name\": \"Ukraine\", \"text\": \"\", \"type\": \"scatter\", \"x\": [1985, 1986, 1987, 1988, 1989, 1990, 1991, 1992, 1993, 1994, 1995, 1996, 1997, 1998, 1999, 2000, 2001, 2002, 2003, 2004, 2005, 2006, 2007, 2008, 2009, 2010, 2011, 2012, 2013, 2014, 2015, 2016], \"y\": [\"\", \"\", 10050.0, 9751.0, 10887.0, 10645.0, 10700.0, 11666.0, 12469.0, 13826.0, 14541.0, 15160.0, 14903.0, 14789.0, 14363.0, 14467.0, 13131.0, 12536.0, 12313.0, 11256.0, 10621.0, 10013.0, 10032.0, 9454.0, 9715.0, 9089.0, 8973.0, 9058.0, \"\", 7968.0, 7574.0, \"\"]}, {\"line\": {\"color\": \"rgba(128, 128, 0, 0.287128712871287)\", \"dash\": \"solid\", \"shape\": \"linear\", \"width\": 1.3}, \"mode\": \"lines\", \"name\": \"United Arab Emirates\", \"text\": \"\", \"type\": \"scatter\", \"x\": [1985, 1986, 1987, 1988, 1989, 1990, 1991, 1992, 1993, 1994, 1995, 1996, 1997, 1998, 1999, 2000, 2001, 2002, 2003, 2004, 2005, 2006, 2007, 2008, 2009, 2010, 2011, 2012, 2013, 2014, 2015, 2016], \"y\": [\"\", \"\", \"\", \"\", \"\", \"\", \"\", \"\", \"\", \"\", \"\", \"\", \"\", \"\", \"\", \"\", \"\", \"\", \"\", \"\", 96.0, 90.0, 101.0, 100.0, 124.0, 111.0, \"\", \"\", \"\", \"\", \"\", \"\"]}, {\"line\": {\"color\": \"rgba(251, 128, 114, 0.287128712871287)\", \"dash\": \"solid\", \"shape\": \"linear\", \"width\": 1.3}, \"mode\": \"lines\", \"name\": \"United Kingdom\", \"text\": \"\", \"type\": \"scatter\", \"x\": [1985, 1986, 1987, 1988, 1989, 1990, 1991, 1992, 1993, 1994, 1995, 1996, 1997, 1998, 1999, 2000, 2001, 2002, 2003, 2004, 2005, 2006, 2007, 2008, 2009, 2010, 2011, 2012, 2013, 2014, 2015, 2016], \"y\": [5105.0, 4839.0, 4594.0, 4971.0, 4361.0, 4643.0, 4547.0, 4628.0, 4462.0, 4380.0, 4315.0, 4165.0, 4143.0, 4389.0, 4448.0, 4290.0, 4128.0, 4117.0, 3979.0, 4183.0, 4047.0, 4122.0, 3897.0, 4259.0, 4246.0, 4188.0, 4393.0, 4444.0, 4824.0, 4788.0, 4910.0, \"\"]}, {\"line\": {\"color\": \"rgba(128, 177, 211, 0.287128712871287)\", \"dash\": \"solid\", \"shape\": \"linear\", \"width\": 1.3}, \"mode\": \"lines\", \"name\": \"United States\", \"text\": \"\", \"type\": \"scatter\", \"x\": [1985, 1986, 1987, 1988, 1989, 1990, 1991, 1992, 1993, 1994, 1995, 1996, 1997, 1998, 1999, 2000, 2001, 2002, 2003, 2004, 2005, 2006, 2007, 2008, 2009, 2010, 2011, 2012, 2013, 2014, 2015, 2016], \"y\": [29446.0, 30892.0, 30783.0, 30388.0, 30218.0, 30895.0, 30790.0, 30471.0, 31084.0, 31123.0, 31272.0, 30879.0, 30517.0, 30558.0, 29183.0, 29343.0, 30607.0, 31645.0, 31477.0, 32428.0, 32629.0, 33292.0, 34596.0, 36030.0, 36900.0, 38362.0, 39508.0, 40596.0, 41143.0, 42769.0, 44189.0, \"\"]}, {\"line\": {\"color\": \"rgba(255, 153, 51, 0.287128712871287)\", \"dash\": \"solid\", \"shape\": \"linear\", \"width\": 1.3}, \"mode\": \"lines\", \"name\": \"Uruguay\", \"text\": \"\", \"type\": \"scatter\", \"x\": [1985, 1986, 1987, 1988, 1989, 1990, 1991, 1992, 1993, 1994, 1995, 1996, 1997, 1998, 1999, 2000, 2001, 2002, 2003, 2004, 2005, 2006, 2007, 2008, 2009, 2010, 2011, 2012, 2013, 2014, 2015, 2016], \"y\": [287.0, 262.0, 258.0, 268.0, 344.0, 315.0, \"\", \"\", 418.0, 406.0, 427.0, 393.0, 456.0, 521.0, 450.0, 555.0, 499.0, 675.0, 535.0, 520.0, 498.0, 528.0, 576.0, 523.0, 511.0, 547.0, \"\", 599.0, 546.0, 591.0, 630.0, \"\"]}, {\"line\": {\"color\": \"rgba(255, 153, 51, 0.20792079207920772)\", \"dash\": \"solid\", \"shape\": \"linear\", \"width\": 1.3}, \"mode\": \"lines\", \"name\": \"Uzbekistan\", \"text\": \"\", \"type\": \"scatter\", \"x\": [1985, 1986, 1987, 1988, 1989, 1990, 1991, 1992, 1993, 1994, 1995, 1996, 1997, 1998, 1999, 2000, 2001, 2002, 2003, 2004, 2005, 2006, 2007, 2008, 2009, 2010, 2011, 2012, 2013, 2014, 2015, 2016], \"y\": [\"\", \"\", \"\", \"\", \"\", 1459.0, 1393.0, 1344.0, 1355.0, 1419.0, 1485.0, 1699.0, 1554.0, 1620.0, 1795.0, 1919.0, 1914.0, 1576.0, 1416.0, 1251.0, 1221.0, \"\", \"\", \"\", 1399.0, 1464.0, 1640.0, 1835.0, 1950.0, 2095.0, \"\", \"\"]}],\n",
       "                        {\"legend\": {\"bgcolor\": \"#F5F6F9\", \"font\": {\"color\": \"#4D5663\"}}, \"paper_bgcolor\": \"#F5F6F9\", \"plot_bgcolor\": \"#F5F6F9\", \"template\": {\"data\": {\"bar\": [{\"error_x\": {\"color\": \"#2a3f5f\"}, \"error_y\": {\"color\": \"#2a3f5f\"}, \"marker\": {\"line\": {\"color\": \"#E5ECF6\", \"width\": 0.5}}, \"type\": \"bar\"}], \"barpolar\": [{\"marker\": {\"line\": {\"color\": \"#E5ECF6\", \"width\": 0.5}}, \"type\": \"barpolar\"}], \"carpet\": [{\"aaxis\": {\"endlinecolor\": \"#2a3f5f\", \"gridcolor\": \"white\", \"linecolor\": \"white\", \"minorgridcolor\": \"white\", \"startlinecolor\": \"#2a3f5f\"}, \"baxis\": {\"endlinecolor\": \"#2a3f5f\", \"gridcolor\": \"white\", \"linecolor\": \"white\", \"minorgridcolor\": \"white\", \"startlinecolor\": \"#2a3f5f\"}, \"type\": \"carpet\"}], \"choropleth\": [{\"colorbar\": {\"outlinewidth\": 0, \"ticks\": \"\"}, \"type\": \"choropleth\"}], \"contour\": [{\"colorbar\": {\"outlinewidth\": 0, \"ticks\": \"\"}, \"colorscale\": [[0.0, \"#0d0887\"], [0.1111111111111111, \"#46039f\"], [0.2222222222222222, \"#7201a8\"], [0.3333333333333333, \"#9c179e\"], [0.4444444444444444, \"#bd3786\"], [0.5555555555555556, \"#d8576b\"], [0.6666666666666666, \"#ed7953\"], [0.7777777777777778, \"#fb9f3a\"], [0.8888888888888888, \"#fdca26\"], [1.0, \"#f0f921\"]], \"type\": \"contour\"}], \"contourcarpet\": [{\"colorbar\": {\"outlinewidth\": 0, \"ticks\": \"\"}, \"type\": \"contourcarpet\"}], \"heatmap\": [{\"colorbar\": {\"outlinewidth\": 0, \"ticks\": \"\"}, \"colorscale\": [[0.0, \"#0d0887\"], [0.1111111111111111, \"#46039f\"], [0.2222222222222222, \"#7201a8\"], [0.3333333333333333, \"#9c179e\"], [0.4444444444444444, \"#bd3786\"], [0.5555555555555556, \"#d8576b\"], [0.6666666666666666, \"#ed7953\"], [0.7777777777777778, \"#fb9f3a\"], [0.8888888888888888, \"#fdca26\"], [1.0, \"#f0f921\"]], \"type\": \"heatmap\"}], \"heatmapgl\": [{\"colorbar\": {\"outlinewidth\": 0, \"ticks\": \"\"}, \"colorscale\": [[0.0, \"#0d0887\"], [0.1111111111111111, \"#46039f\"], [0.2222222222222222, \"#7201a8\"], [0.3333333333333333, \"#9c179e\"], [0.4444444444444444, \"#bd3786\"], [0.5555555555555556, \"#d8576b\"], [0.6666666666666666, \"#ed7953\"], [0.7777777777777778, \"#fb9f3a\"], [0.8888888888888888, \"#fdca26\"], [1.0, \"#f0f921\"]], \"type\": \"heatmapgl\"}], \"histogram\": [{\"marker\": {\"colorbar\": {\"outlinewidth\": 0, \"ticks\": \"\"}}, \"type\": \"histogram\"}], \"histogram2d\": [{\"colorbar\": {\"outlinewidth\": 0, \"ticks\": \"\"}, \"colorscale\": [[0.0, \"#0d0887\"], [0.1111111111111111, \"#46039f\"], [0.2222222222222222, \"#7201a8\"], [0.3333333333333333, \"#9c179e\"], [0.4444444444444444, \"#bd3786\"], [0.5555555555555556, \"#d8576b\"], [0.6666666666666666, \"#ed7953\"], [0.7777777777777778, \"#fb9f3a\"], [0.8888888888888888, \"#fdca26\"], [1.0, \"#f0f921\"]], \"type\": \"histogram2d\"}], \"histogram2dcontour\": [{\"colorbar\": {\"outlinewidth\": 0, \"ticks\": \"\"}, \"colorscale\": [[0.0, \"#0d0887\"], [0.1111111111111111, \"#46039f\"], [0.2222222222222222, \"#7201a8\"], [0.3333333333333333, \"#9c179e\"], [0.4444444444444444, \"#bd3786\"], [0.5555555555555556, \"#d8576b\"], [0.6666666666666666, \"#ed7953\"], [0.7777777777777778, \"#fb9f3a\"], [0.8888888888888888, \"#fdca26\"], [1.0, \"#f0f921\"]], \"type\": \"histogram2dcontour\"}], \"mesh3d\": [{\"colorbar\": {\"outlinewidth\": 0, \"ticks\": \"\"}, \"type\": \"mesh3d\"}], \"parcoords\": [{\"line\": {\"colorbar\": {\"outlinewidth\": 0, \"ticks\": \"\"}}, \"type\": \"parcoords\"}], \"scatter\": [{\"marker\": {\"colorbar\": {\"outlinewidth\": 0, \"ticks\": \"\"}}, \"type\": \"scatter\"}], \"scatter3d\": [{\"line\": {\"colorbar\": {\"outlinewidth\": 0, \"ticks\": \"\"}}, \"marker\": {\"colorbar\": {\"outlinewidth\": 0, \"ticks\": \"\"}}, \"type\": \"scatter3d\"}], \"scattercarpet\": [{\"marker\": {\"colorbar\": {\"outlinewidth\": 0, \"ticks\": \"\"}}, \"type\": \"scattercarpet\"}], \"scattergeo\": [{\"marker\": {\"colorbar\": {\"outlinewidth\": 0, \"ticks\": \"\"}}, \"type\": \"scattergeo\"}], \"scattergl\": [{\"marker\": {\"colorbar\": {\"outlinewidth\": 0, \"ticks\": \"\"}}, \"type\": \"scattergl\"}], \"scattermapbox\": [{\"marker\": {\"colorbar\": {\"outlinewidth\": 0, \"ticks\": \"\"}}, \"type\": \"scattermapbox\"}], \"scatterpolar\": [{\"marker\": {\"colorbar\": {\"outlinewidth\": 0, \"ticks\": \"\"}}, \"type\": \"scatterpolar\"}], \"scatterpolargl\": [{\"marker\": {\"colorbar\": {\"outlinewidth\": 0, \"ticks\": \"\"}}, \"type\": \"scatterpolargl\"}], \"scatterternary\": [{\"marker\": {\"colorbar\": {\"outlinewidth\": 0, \"ticks\": \"\"}}, \"type\": \"scatterternary\"}], \"surface\": [{\"colorbar\": {\"outlinewidth\": 0, \"ticks\": \"\"}, \"colorscale\": [[0.0, \"#0d0887\"], [0.1111111111111111, \"#46039f\"], [0.2222222222222222, \"#7201a8\"], [0.3333333333333333, \"#9c179e\"], [0.4444444444444444, \"#bd3786\"], [0.5555555555555556, \"#d8576b\"], [0.6666666666666666, \"#ed7953\"], [0.7777777777777778, \"#fb9f3a\"], [0.8888888888888888, \"#fdca26\"], [1.0, \"#f0f921\"]], \"type\": \"surface\"}], \"table\": [{\"cells\": {\"fill\": {\"color\": \"#EBF0F8\"}, \"line\": {\"color\": \"white\"}}, \"header\": {\"fill\": {\"color\": \"#C8D4E3\"}, \"line\": {\"color\": \"white\"}}, \"type\": \"table\"}]}, \"layout\": {\"annotationdefaults\": {\"arrowcolor\": \"#2a3f5f\", \"arrowhead\": 0, \"arrowwidth\": 1}, \"colorscale\": {\"diverging\": [[0, \"#8e0152\"], [0.1, \"#c51b7d\"], [0.2, \"#de77ae\"], [0.3, \"#f1b6da\"], [0.4, \"#fde0ef\"], [0.5, \"#f7f7f7\"], [0.6, \"#e6f5d0\"], [0.7, \"#b8e186\"], [0.8, \"#7fbc41\"], [0.9, \"#4d9221\"], [1, \"#276419\"]], \"sequential\": [[0.0, \"#0d0887\"], [0.1111111111111111, \"#46039f\"], [0.2222222222222222, \"#7201a8\"], [0.3333333333333333, \"#9c179e\"], [0.4444444444444444, \"#bd3786\"], [0.5555555555555556, \"#d8576b\"], [0.6666666666666666, \"#ed7953\"], [0.7777777777777778, \"#fb9f3a\"], [0.8888888888888888, \"#fdca26\"], [1.0, \"#f0f921\"]], \"sequentialminus\": [[0.0, \"#0d0887\"], [0.1111111111111111, \"#46039f\"], [0.2222222222222222, \"#7201a8\"], [0.3333333333333333, \"#9c179e\"], [0.4444444444444444, \"#bd3786\"], [0.5555555555555556, \"#d8576b\"], [0.6666666666666666, \"#ed7953\"], [0.7777777777777778, \"#fb9f3a\"], [0.8888888888888888, \"#fdca26\"], [1.0, \"#f0f921\"]]}, \"colorway\": [\"#636efa\", \"#EF553B\", \"#00cc96\", \"#ab63fa\", \"#FFA15A\", \"#19d3f3\", \"#FF6692\", \"#B6E880\", \"#FF97FF\", \"#FECB52\"], \"font\": {\"color\": \"#2a3f5f\"}, \"geo\": {\"bgcolor\": \"white\", \"lakecolor\": \"white\", \"landcolor\": \"#E5ECF6\", \"showlakes\": true, \"showland\": true, \"subunitcolor\": \"white\"}, \"hoverlabel\": {\"align\": \"left\"}, \"hovermode\": \"closest\", \"mapbox\": {\"style\": \"light\"}, \"paper_bgcolor\": \"white\", \"plot_bgcolor\": \"#E5ECF6\", \"polar\": {\"angularaxis\": {\"gridcolor\": \"white\", \"linecolor\": \"white\", \"ticks\": \"\"}, \"bgcolor\": \"#E5ECF6\", \"radialaxis\": {\"gridcolor\": \"white\", \"linecolor\": \"white\", \"ticks\": \"\"}}, \"scene\": {\"xaxis\": {\"backgroundcolor\": \"#E5ECF6\", \"gridcolor\": \"white\", \"gridwidth\": 2, \"linecolor\": \"white\", \"showbackground\": true, \"ticks\": \"\", \"zerolinecolor\": \"white\"}, \"yaxis\": {\"backgroundcolor\": \"#E5ECF6\", \"gridcolor\": \"white\", \"gridwidth\": 2, \"linecolor\": \"white\", \"showbackground\": true, \"ticks\": \"\", \"zerolinecolor\": \"white\"}, \"zaxis\": {\"backgroundcolor\": \"#E5ECF6\", \"gridcolor\": \"white\", \"gridwidth\": 2, \"linecolor\": \"white\", \"showbackground\": true, \"ticks\": \"\", \"zerolinecolor\": \"white\"}}, \"shapedefaults\": {\"line\": {\"color\": \"#2a3f5f\"}}, \"ternary\": {\"aaxis\": {\"gridcolor\": \"white\", \"linecolor\": \"white\", \"ticks\": \"\"}, \"baxis\": {\"gridcolor\": \"white\", \"linecolor\": \"white\", \"ticks\": \"\"}, \"bgcolor\": \"#E5ECF6\", \"caxis\": {\"gridcolor\": \"white\", \"linecolor\": \"white\", \"ticks\": \"\"}}, \"title\": {\"x\": 0.05}, \"xaxis\": {\"automargin\": true, \"gridcolor\": \"white\", \"linecolor\": \"white\", \"ticks\": \"\", \"zerolinecolor\": \"white\", \"zerolinewidth\": 2}, \"yaxis\": {\"automargin\": true, \"gridcolor\": \"white\", \"linecolor\": \"white\", \"ticks\": \"\", \"zerolinecolor\": \"white\", \"zerolinewidth\": 2}}}, \"title\": {\"font\": {\"color\": \"#4D5663\"}, \"text\": \"Number of suicides by year\"}, \"xaxis\": {\"gridcolor\": \"#E1E5ED\", \"showgrid\": true, \"tickfont\": {\"color\": \"#4D5663\"}, \"title\": {\"font\": {\"color\": \"#4D5663\"}, \"text\": \"Year\"}, \"zerolinecolor\": \"#E1E5ED\"}, \"yaxis\": {\"gridcolor\": \"#E1E5ED\", \"showgrid\": true, \"tickfont\": {\"color\": \"#4D5663\"}, \"title\": {\"font\": {\"color\": \"#4D5663\"}, \"text\": \"Number of suicides\"}, \"zerolinecolor\": \"#E1E5ED\"}},\n",
       "                        {\"showLink\": true, \"linkText\": \"Export to plot.ly\", \"plotlyServerURL\": \"https://plot.ly\", \"responsive\": true}\n",
       "                    ).then(function(){\n",
       "                            \n",
       "var gd = document.getElementById('dee9924b-7ed4-4342-87d3-75d43754c407');\n",
       "var x = new MutationObserver(function (mutations, observer) {{\n",
       "        var display = window.getComputedStyle(gd).display;\n",
       "        if (!display || display === 'none') {{\n",
       "            console.log([gd, 'removed!']);\n",
       "            Plotly.purge(gd);\n",
       "            observer.disconnect();\n",
       "        }}\n",
       "}});\n",
       "\n",
       "// Listen for the removal of the full notebook cells\n",
       "var notebookContainer = gd.closest('#notebook-container');\n",
       "if (notebookContainer) {{\n",
       "    x.observe(notebookContainer, {childList: true});\n",
       "}}\n",
       "\n",
       "// Listen for the clearing of the current output cell\n",
       "var outputEl = gd.closest('.output');\n",
       "if (outputEl) {{\n",
       "    x.observe(outputEl, {childList: true});\n",
       "}}\n",
       "\n",
       "                        })\n",
       "                };\n",
       "                });\n",
       "            </script>\n",
       "        </div>"
      ]
     },
     "metadata": {},
     "output_type": "display_data"
    }
   ],
   "source": [
    "data_suicides_pivot.iplot(x = 'year', xTitle = 'Year', yTitle = 'Number of suicides', title = 'Number of suicides by year')"
   ]
  },
  {
   "cell_type": "markdown",
   "metadata": {},
   "source": [
    "### Few Categories"
   ]
  },
  {
   "cell_type": "markdown",
   "metadata": {},
   "source": [
    "Column chart"
   ]
  },
  {
   "cell_type": "code",
   "execution_count": 12,
   "metadata": {},
   "outputs": [
    {
     "data": {
      "text/html": [
       "<div>\n",
       "<style scoped>\n",
       "    .dataframe tbody tr th:only-of-type {\n",
       "        vertical-align: middle;\n",
       "    }\n",
       "\n",
       "    .dataframe tbody tr th {\n",
       "        vertical-align: top;\n",
       "    }\n",
       "\n",
       "    .dataframe thead th {\n",
       "        text-align: right;\n",
       "    }\n",
       "</style>\n",
       "<table border=\"1\" class=\"dataframe\">\n",
       "  <thead>\n",
       "    <tr style=\"text-align: right;\">\n",
       "      <th>country</th>\n",
       "      <th>year</th>\n",
       "      <th>Russian Federation</th>\n",
       "      <th>United States</th>\n",
       "    </tr>\n",
       "  </thead>\n",
       "  <tbody>\n",
       "    <tr>\n",
       "      <th>0</th>\n",
       "      <td>1985</td>\n",
       "      <td>NaN</td>\n",
       "      <td>29446.0</td>\n",
       "    </tr>\n",
       "    <tr>\n",
       "      <th>1</th>\n",
       "      <td>1986</td>\n",
       "      <td>NaN</td>\n",
       "      <td>30892.0</td>\n",
       "    </tr>\n",
       "    <tr>\n",
       "      <th>2</th>\n",
       "      <td>1987</td>\n",
       "      <td>NaN</td>\n",
       "      <td>30783.0</td>\n",
       "    </tr>\n",
       "    <tr>\n",
       "      <th>3</th>\n",
       "      <td>1988</td>\n",
       "      <td>NaN</td>\n",
       "      <td>30388.0</td>\n",
       "    </tr>\n",
       "    <tr>\n",
       "      <th>4</th>\n",
       "      <td>1989</td>\n",
       "      <td>37921.0</td>\n",
       "      <td>30218.0</td>\n",
       "    </tr>\n",
       "    <tr>\n",
       "      <th>5</th>\n",
       "      <td>1990</td>\n",
       "      <td>39028.0</td>\n",
       "      <td>30895.0</td>\n",
       "    </tr>\n",
       "    <tr>\n",
       "      <th>6</th>\n",
       "      <td>1991</td>\n",
       "      <td>39281.0</td>\n",
       "      <td>30790.0</td>\n",
       "    </tr>\n",
       "    <tr>\n",
       "      <th>7</th>\n",
       "      <td>1992</td>\n",
       "      <td>45923.0</td>\n",
       "      <td>30471.0</td>\n",
       "    </tr>\n",
       "    <tr>\n",
       "      <th>8</th>\n",
       "      <td>1993</td>\n",
       "      <td>55846.0</td>\n",
       "      <td>31084.0</td>\n",
       "    </tr>\n",
       "    <tr>\n",
       "      <th>9</th>\n",
       "      <td>1994</td>\n",
       "      <td>61420.0</td>\n",
       "      <td>31123.0</td>\n",
       "    </tr>\n",
       "    <tr>\n",
       "      <th>10</th>\n",
       "      <td>1995</td>\n",
       "      <td>60548.0</td>\n",
       "      <td>31272.0</td>\n",
       "    </tr>\n",
       "    <tr>\n",
       "      <th>11</th>\n",
       "      <td>1996</td>\n",
       "      <td>57511.0</td>\n",
       "      <td>30879.0</td>\n",
       "    </tr>\n",
       "    <tr>\n",
       "      <th>12</th>\n",
       "      <td>1997</td>\n",
       "      <td>54746.0</td>\n",
       "      <td>30517.0</td>\n",
       "    </tr>\n",
       "    <tr>\n",
       "      <th>13</th>\n",
       "      <td>1998</td>\n",
       "      <td>51518.0</td>\n",
       "      <td>30558.0</td>\n",
       "    </tr>\n",
       "    <tr>\n",
       "      <th>14</th>\n",
       "      <td>1999</td>\n",
       "      <td>56974.0</td>\n",
       "      <td>29183.0</td>\n",
       "    </tr>\n",
       "    <tr>\n",
       "      <th>15</th>\n",
       "      <td>2000</td>\n",
       "      <td>56619.0</td>\n",
       "      <td>29343.0</td>\n",
       "    </tr>\n",
       "    <tr>\n",
       "      <th>16</th>\n",
       "      <td>2001</td>\n",
       "      <td>56958.0</td>\n",
       "      <td>30607.0</td>\n",
       "    </tr>\n",
       "    <tr>\n",
       "      <th>17</th>\n",
       "      <td>2002</td>\n",
       "      <td>55024.0</td>\n",
       "      <td>31645.0</td>\n",
       "    </tr>\n",
       "    <tr>\n",
       "      <th>18</th>\n",
       "      <td>2003</td>\n",
       "      <td>51445.0</td>\n",
       "      <td>31477.0</td>\n",
       "    </tr>\n",
       "    <tr>\n",
       "      <th>19</th>\n",
       "      <td>2004</td>\n",
       "      <td>49096.0</td>\n",
       "      <td>32428.0</td>\n",
       "    </tr>\n",
       "    <tr>\n",
       "      <th>20</th>\n",
       "      <td>2005</td>\n",
       "      <td>45802.0</td>\n",
       "      <td>32629.0</td>\n",
       "    </tr>\n",
       "    <tr>\n",
       "      <th>21</th>\n",
       "      <td>2006</td>\n",
       "      <td>42614.0</td>\n",
       "      <td>33292.0</td>\n",
       "    </tr>\n",
       "    <tr>\n",
       "      <th>22</th>\n",
       "      <td>2007</td>\n",
       "      <td>41149.0</td>\n",
       "      <td>34596.0</td>\n",
       "    </tr>\n",
       "    <tr>\n",
       "      <th>23</th>\n",
       "      <td>2008</td>\n",
       "      <td>38211.0</td>\n",
       "      <td>36030.0</td>\n",
       "    </tr>\n",
       "    <tr>\n",
       "      <th>24</th>\n",
       "      <td>2009</td>\n",
       "      <td>37408.0</td>\n",
       "      <td>36900.0</td>\n",
       "    </tr>\n",
       "    <tr>\n",
       "      <th>25</th>\n",
       "      <td>2010</td>\n",
       "      <td>33356.0</td>\n",
       "      <td>38362.0</td>\n",
       "    </tr>\n",
       "    <tr>\n",
       "      <th>26</th>\n",
       "      <td>2011</td>\n",
       "      <td>31038.0</td>\n",
       "      <td>39508.0</td>\n",
       "    </tr>\n",
       "    <tr>\n",
       "      <th>27</th>\n",
       "      <td>2012</td>\n",
       "      <td>29643.0</td>\n",
       "      <td>40596.0</td>\n",
       "    </tr>\n",
       "    <tr>\n",
       "      <th>28</th>\n",
       "      <td>2013</td>\n",
       "      <td>28690.0</td>\n",
       "      <td>41143.0</td>\n",
       "    </tr>\n",
       "    <tr>\n",
       "      <th>29</th>\n",
       "      <td>2014</td>\n",
       "      <td>26541.0</td>\n",
       "      <td>42769.0</td>\n",
       "    </tr>\n",
       "    <tr>\n",
       "      <th>30</th>\n",
       "      <td>2015</td>\n",
       "      <td>25432.0</td>\n",
       "      <td>44189.0</td>\n",
       "    </tr>\n",
       "    <tr>\n",
       "      <th>31</th>\n",
       "      <td>2016</td>\n",
       "      <td>NaN</td>\n",
       "      <td>NaN</td>\n",
       "    </tr>\n",
       "  </tbody>\n",
       "</table>\n",
       "</div>"
      ],
      "text/plain": [
       "country  year  Russian Federation  United States\n",
       "0        1985                 NaN        29446.0\n",
       "1        1986                 NaN        30892.0\n",
       "2        1987                 NaN        30783.0\n",
       "3        1988                 NaN        30388.0\n",
       "4        1989             37921.0        30218.0\n",
       "5        1990             39028.0        30895.0\n",
       "6        1991             39281.0        30790.0\n",
       "7        1992             45923.0        30471.0\n",
       "8        1993             55846.0        31084.0\n",
       "9        1994             61420.0        31123.0\n",
       "10       1995             60548.0        31272.0\n",
       "11       1996             57511.0        30879.0\n",
       "12       1997             54746.0        30517.0\n",
       "13       1998             51518.0        30558.0\n",
       "14       1999             56974.0        29183.0\n",
       "15       2000             56619.0        29343.0\n",
       "16       2001             56958.0        30607.0\n",
       "17       2002             55024.0        31645.0\n",
       "18       2003             51445.0        31477.0\n",
       "19       2004             49096.0        32428.0\n",
       "20       2005             45802.0        32629.0\n",
       "21       2006             42614.0        33292.0\n",
       "22       2007             41149.0        34596.0\n",
       "23       2008             38211.0        36030.0\n",
       "24       2009             37408.0        36900.0\n",
       "25       2010             33356.0        38362.0\n",
       "26       2011             31038.0        39508.0\n",
       "27       2012             29643.0        40596.0\n",
       "28       2013             28690.0        41143.0\n",
       "29       2014             26541.0        42769.0\n",
       "30       2015             25432.0        44189.0\n",
       "31       2016                 NaN            NaN"
      ]
     },
     "execution_count": 12,
     "metadata": {},
     "output_type": "execute_result"
    }
   ],
   "source": [
    "data_suicides_pivot = data_suicides_pivot[['year','Russian Federation','United States']]\n",
    "data_suicides_pivot"
   ]
  },
  {
   "cell_type": "code",
   "execution_count": 14,
   "metadata": {},
   "outputs": [
    {
     "data": {
      "application/vnd.plotly.v1+json": {
       "config": {
        "linkText": "Export to plot.ly",
        "plotlyServerURL": "https://plot.ly",
        "showLink": true
       },
       "data": [
        {
         "marker": {
          "color": "rgba(255, 153, 51, 0.6)",
          "line": {
           "color": "rgba(255, 153, 51, 1.0)",
           "width": 1
          }
         },
         "name": "Russian Federation",
         "orientation": "v",
         "text": "",
         "type": "bar",
         "x": [
          1985,
          1986,
          1987,
          1988,
          1989,
          1990,
          1991,
          1992,
          1993,
          1994,
          1995,
          1996,
          1997,
          1998,
          1999,
          2000,
          2001,
          2002,
          2003,
          2004,
          2005,
          2006,
          2007,
          2008,
          2009,
          2010,
          2011,
          2012,
          2013,
          2014,
          2015,
          2016
         ],
         "y": [
          "",
          "",
          "",
          "",
          37921,
          39028,
          39281,
          45923,
          55846,
          61420,
          60548,
          57511,
          54746,
          51518,
          56974,
          56619,
          56958,
          55024,
          51445,
          49096,
          45802,
          42614,
          41149,
          38211,
          37408,
          33356,
          31038,
          29643,
          28690,
          26541,
          25432,
          ""
         ]
        },
        {
         "marker": {
          "color": "rgba(55, 128, 191, 0.6)",
          "line": {
           "color": "rgba(55, 128, 191, 1.0)",
           "width": 1
          }
         },
         "name": "United States",
         "orientation": "v",
         "text": "",
         "type": "bar",
         "x": [
          1985,
          1986,
          1987,
          1988,
          1989,
          1990,
          1991,
          1992,
          1993,
          1994,
          1995,
          1996,
          1997,
          1998,
          1999,
          2000,
          2001,
          2002,
          2003,
          2004,
          2005,
          2006,
          2007,
          2008,
          2009,
          2010,
          2011,
          2012,
          2013,
          2014,
          2015,
          2016
         ],
         "y": [
          29446,
          30892,
          30783,
          30388,
          30218,
          30895,
          30790,
          30471,
          31084,
          31123,
          31272,
          30879,
          30517,
          30558,
          29183,
          29343,
          30607,
          31645,
          31477,
          32428,
          32629,
          33292,
          34596,
          36030,
          36900,
          38362,
          39508,
          40596,
          41143,
          42769,
          44189,
          ""
         ]
        }
       ],
       "layout": {
        "legend": {
         "bgcolor": "#F5F6F9",
         "font": {
          "color": "#4D5663"
         }
        },
        "paper_bgcolor": "#F5F6F9",
        "plot_bgcolor": "#F5F6F9",
        "template": {
         "data": {
          "bar": [
           {
            "error_x": {
             "color": "#2a3f5f"
            },
            "error_y": {
             "color": "#2a3f5f"
            },
            "marker": {
             "line": {
              "color": "#E5ECF6",
              "width": 0.5
             }
            },
            "type": "bar"
           }
          ],
          "barpolar": [
           {
            "marker": {
             "line": {
              "color": "#E5ECF6",
              "width": 0.5
             }
            },
            "type": "barpolar"
           }
          ],
          "carpet": [
           {
            "aaxis": {
             "endlinecolor": "#2a3f5f",
             "gridcolor": "white",
             "linecolor": "white",
             "minorgridcolor": "white",
             "startlinecolor": "#2a3f5f"
            },
            "baxis": {
             "endlinecolor": "#2a3f5f",
             "gridcolor": "white",
             "linecolor": "white",
             "minorgridcolor": "white",
             "startlinecolor": "#2a3f5f"
            },
            "type": "carpet"
           }
          ],
          "choropleth": [
           {
            "colorbar": {
             "outlinewidth": 0,
             "ticks": ""
            },
            "type": "choropleth"
           }
          ],
          "contour": [
           {
            "colorbar": {
             "outlinewidth": 0,
             "ticks": ""
            },
            "colorscale": [
             [
              0,
              "#0d0887"
             ],
             [
              0.1111111111111111,
              "#46039f"
             ],
             [
              0.2222222222222222,
              "#7201a8"
             ],
             [
              0.3333333333333333,
              "#9c179e"
             ],
             [
              0.4444444444444444,
              "#bd3786"
             ],
             [
              0.5555555555555556,
              "#d8576b"
             ],
             [
              0.6666666666666666,
              "#ed7953"
             ],
             [
              0.7777777777777778,
              "#fb9f3a"
             ],
             [
              0.8888888888888888,
              "#fdca26"
             ],
             [
              1,
              "#f0f921"
             ]
            ],
            "type": "contour"
           }
          ],
          "contourcarpet": [
           {
            "colorbar": {
             "outlinewidth": 0,
             "ticks": ""
            },
            "type": "contourcarpet"
           }
          ],
          "heatmap": [
           {
            "colorbar": {
             "outlinewidth": 0,
             "ticks": ""
            },
            "colorscale": [
             [
              0,
              "#0d0887"
             ],
             [
              0.1111111111111111,
              "#46039f"
             ],
             [
              0.2222222222222222,
              "#7201a8"
             ],
             [
              0.3333333333333333,
              "#9c179e"
             ],
             [
              0.4444444444444444,
              "#bd3786"
             ],
             [
              0.5555555555555556,
              "#d8576b"
             ],
             [
              0.6666666666666666,
              "#ed7953"
             ],
             [
              0.7777777777777778,
              "#fb9f3a"
             ],
             [
              0.8888888888888888,
              "#fdca26"
             ],
             [
              1,
              "#f0f921"
             ]
            ],
            "type": "heatmap"
           }
          ],
          "heatmapgl": [
           {
            "colorbar": {
             "outlinewidth": 0,
             "ticks": ""
            },
            "colorscale": [
             [
              0,
              "#0d0887"
             ],
             [
              0.1111111111111111,
              "#46039f"
             ],
             [
              0.2222222222222222,
              "#7201a8"
             ],
             [
              0.3333333333333333,
              "#9c179e"
             ],
             [
              0.4444444444444444,
              "#bd3786"
             ],
             [
              0.5555555555555556,
              "#d8576b"
             ],
             [
              0.6666666666666666,
              "#ed7953"
             ],
             [
              0.7777777777777778,
              "#fb9f3a"
             ],
             [
              0.8888888888888888,
              "#fdca26"
             ],
             [
              1,
              "#f0f921"
             ]
            ],
            "type": "heatmapgl"
           }
          ],
          "histogram": [
           {
            "marker": {
             "colorbar": {
              "outlinewidth": 0,
              "ticks": ""
             }
            },
            "type": "histogram"
           }
          ],
          "histogram2d": [
           {
            "colorbar": {
             "outlinewidth": 0,
             "ticks": ""
            },
            "colorscale": [
             [
              0,
              "#0d0887"
             ],
             [
              0.1111111111111111,
              "#46039f"
             ],
             [
              0.2222222222222222,
              "#7201a8"
             ],
             [
              0.3333333333333333,
              "#9c179e"
             ],
             [
              0.4444444444444444,
              "#bd3786"
             ],
             [
              0.5555555555555556,
              "#d8576b"
             ],
             [
              0.6666666666666666,
              "#ed7953"
             ],
             [
              0.7777777777777778,
              "#fb9f3a"
             ],
             [
              0.8888888888888888,
              "#fdca26"
             ],
             [
              1,
              "#f0f921"
             ]
            ],
            "type": "histogram2d"
           }
          ],
          "histogram2dcontour": [
           {
            "colorbar": {
             "outlinewidth": 0,
             "ticks": ""
            },
            "colorscale": [
             [
              0,
              "#0d0887"
             ],
             [
              0.1111111111111111,
              "#46039f"
             ],
             [
              0.2222222222222222,
              "#7201a8"
             ],
             [
              0.3333333333333333,
              "#9c179e"
             ],
             [
              0.4444444444444444,
              "#bd3786"
             ],
             [
              0.5555555555555556,
              "#d8576b"
             ],
             [
              0.6666666666666666,
              "#ed7953"
             ],
             [
              0.7777777777777778,
              "#fb9f3a"
             ],
             [
              0.8888888888888888,
              "#fdca26"
             ],
             [
              1,
              "#f0f921"
             ]
            ],
            "type": "histogram2dcontour"
           }
          ],
          "mesh3d": [
           {
            "colorbar": {
             "outlinewidth": 0,
             "ticks": ""
            },
            "type": "mesh3d"
           }
          ],
          "parcoords": [
           {
            "line": {
             "colorbar": {
              "outlinewidth": 0,
              "ticks": ""
             }
            },
            "type": "parcoords"
           }
          ],
          "scatter": [
           {
            "marker": {
             "colorbar": {
              "outlinewidth": 0,
              "ticks": ""
             }
            },
            "type": "scatter"
           }
          ],
          "scatter3d": [
           {
            "line": {
             "colorbar": {
              "outlinewidth": 0,
              "ticks": ""
             }
            },
            "marker": {
             "colorbar": {
              "outlinewidth": 0,
              "ticks": ""
             }
            },
            "type": "scatter3d"
           }
          ],
          "scattercarpet": [
           {
            "marker": {
             "colorbar": {
              "outlinewidth": 0,
              "ticks": ""
             }
            },
            "type": "scattercarpet"
           }
          ],
          "scattergeo": [
           {
            "marker": {
             "colorbar": {
              "outlinewidth": 0,
              "ticks": ""
             }
            },
            "type": "scattergeo"
           }
          ],
          "scattergl": [
           {
            "marker": {
             "colorbar": {
              "outlinewidth": 0,
              "ticks": ""
             }
            },
            "type": "scattergl"
           }
          ],
          "scattermapbox": [
           {
            "marker": {
             "colorbar": {
              "outlinewidth": 0,
              "ticks": ""
             }
            },
            "type": "scattermapbox"
           }
          ],
          "scatterpolar": [
           {
            "marker": {
             "colorbar": {
              "outlinewidth": 0,
              "ticks": ""
             }
            },
            "type": "scatterpolar"
           }
          ],
          "scatterpolargl": [
           {
            "marker": {
             "colorbar": {
              "outlinewidth": 0,
              "ticks": ""
             }
            },
            "type": "scatterpolargl"
           }
          ],
          "scatterternary": [
           {
            "marker": {
             "colorbar": {
              "outlinewidth": 0,
              "ticks": ""
             }
            },
            "type": "scatterternary"
           }
          ],
          "surface": [
           {
            "colorbar": {
             "outlinewidth": 0,
             "ticks": ""
            },
            "colorscale": [
             [
              0,
              "#0d0887"
             ],
             [
              0.1111111111111111,
              "#46039f"
             ],
             [
              0.2222222222222222,
              "#7201a8"
             ],
             [
              0.3333333333333333,
              "#9c179e"
             ],
             [
              0.4444444444444444,
              "#bd3786"
             ],
             [
              0.5555555555555556,
              "#d8576b"
             ],
             [
              0.6666666666666666,
              "#ed7953"
             ],
             [
              0.7777777777777778,
              "#fb9f3a"
             ],
             [
              0.8888888888888888,
              "#fdca26"
             ],
             [
              1,
              "#f0f921"
             ]
            ],
            "type": "surface"
           }
          ],
          "table": [
           {
            "cells": {
             "fill": {
              "color": "#EBF0F8"
             },
             "line": {
              "color": "white"
             }
            },
            "header": {
             "fill": {
              "color": "#C8D4E3"
             },
             "line": {
              "color": "white"
             }
            },
            "type": "table"
           }
          ]
         },
         "layout": {
          "annotationdefaults": {
           "arrowcolor": "#2a3f5f",
           "arrowhead": 0,
           "arrowwidth": 1
          },
          "colorscale": {
           "diverging": [
            [
             0,
             "#8e0152"
            ],
            [
             0.1,
             "#c51b7d"
            ],
            [
             0.2,
             "#de77ae"
            ],
            [
             0.3,
             "#f1b6da"
            ],
            [
             0.4,
             "#fde0ef"
            ],
            [
             0.5,
             "#f7f7f7"
            ],
            [
             0.6,
             "#e6f5d0"
            ],
            [
             0.7,
             "#b8e186"
            ],
            [
             0.8,
             "#7fbc41"
            ],
            [
             0.9,
             "#4d9221"
            ],
            [
             1,
             "#276419"
            ]
           ],
           "sequential": [
            [
             0,
             "#0d0887"
            ],
            [
             0.1111111111111111,
             "#46039f"
            ],
            [
             0.2222222222222222,
             "#7201a8"
            ],
            [
             0.3333333333333333,
             "#9c179e"
            ],
            [
             0.4444444444444444,
             "#bd3786"
            ],
            [
             0.5555555555555556,
             "#d8576b"
            ],
            [
             0.6666666666666666,
             "#ed7953"
            ],
            [
             0.7777777777777778,
             "#fb9f3a"
            ],
            [
             0.8888888888888888,
             "#fdca26"
            ],
            [
             1,
             "#f0f921"
            ]
           ],
           "sequentialminus": [
            [
             0,
             "#0d0887"
            ],
            [
             0.1111111111111111,
             "#46039f"
            ],
            [
             0.2222222222222222,
             "#7201a8"
            ],
            [
             0.3333333333333333,
             "#9c179e"
            ],
            [
             0.4444444444444444,
             "#bd3786"
            ],
            [
             0.5555555555555556,
             "#d8576b"
            ],
            [
             0.6666666666666666,
             "#ed7953"
            ],
            [
             0.7777777777777778,
             "#fb9f3a"
            ],
            [
             0.8888888888888888,
             "#fdca26"
            ],
            [
             1,
             "#f0f921"
            ]
           ]
          },
          "colorway": [
           "#636efa",
           "#EF553B",
           "#00cc96",
           "#ab63fa",
           "#FFA15A",
           "#19d3f3",
           "#FF6692",
           "#B6E880",
           "#FF97FF",
           "#FECB52"
          ],
          "font": {
           "color": "#2a3f5f"
          },
          "geo": {
           "bgcolor": "white",
           "lakecolor": "white",
           "landcolor": "#E5ECF6",
           "showlakes": true,
           "showland": true,
           "subunitcolor": "white"
          },
          "hoverlabel": {
           "align": "left"
          },
          "hovermode": "closest",
          "mapbox": {
           "style": "light"
          },
          "paper_bgcolor": "white",
          "plot_bgcolor": "#E5ECF6",
          "polar": {
           "angularaxis": {
            "gridcolor": "white",
            "linecolor": "white",
            "ticks": ""
           },
           "bgcolor": "#E5ECF6",
           "radialaxis": {
            "gridcolor": "white",
            "linecolor": "white",
            "ticks": ""
           }
          },
          "scene": {
           "xaxis": {
            "backgroundcolor": "#E5ECF6",
            "gridcolor": "white",
            "gridwidth": 2,
            "linecolor": "white",
            "showbackground": true,
            "ticks": "",
            "zerolinecolor": "white"
           },
           "yaxis": {
            "backgroundcolor": "#E5ECF6",
            "gridcolor": "white",
            "gridwidth": 2,
            "linecolor": "white",
            "showbackground": true,
            "ticks": "",
            "zerolinecolor": "white"
           },
           "zaxis": {
            "backgroundcolor": "#E5ECF6",
            "gridcolor": "white",
            "gridwidth": 2,
            "linecolor": "white",
            "showbackground": true,
            "ticks": "",
            "zerolinecolor": "white"
           }
          },
          "shapedefaults": {
           "line": {
            "color": "#2a3f5f"
           }
          },
          "ternary": {
           "aaxis": {
            "gridcolor": "white",
            "linecolor": "white",
            "ticks": ""
           },
           "baxis": {
            "gridcolor": "white",
            "linecolor": "white",
            "ticks": ""
           },
           "bgcolor": "#E5ECF6",
           "caxis": {
            "gridcolor": "white",
            "linecolor": "white",
            "ticks": ""
           }
          },
          "title": {
           "x": 0.05
          },
          "xaxis": {
           "automargin": true,
           "gridcolor": "white",
           "linecolor": "white",
           "ticks": "",
           "zerolinecolor": "white",
           "zerolinewidth": 2
          },
          "yaxis": {
           "automargin": true,
           "gridcolor": "white",
           "linecolor": "white",
           "ticks": "",
           "zerolinecolor": "white",
           "zerolinewidth": 2
          }
         }
        },
        "title": {
         "font": {
          "color": "#4D5663"
         },
         "text": "Russia vs United States"
        },
        "xaxis": {
         "gridcolor": "#E1E5ED",
         "showgrid": true,
         "tickfont": {
          "color": "#4D5663"
         },
         "title": {
          "font": {
           "color": "#4D5663"
          },
          "text": "Year"
         },
         "zerolinecolor": "#E1E5ED"
        },
        "yaxis": {
         "gridcolor": "#E1E5ED",
         "showgrid": true,
         "tickfont": {
          "color": "#4D5663"
         },
         "title": {
          "font": {
           "color": "#4D5663"
          },
          "text": "Suicides"
         },
         "zerolinecolor": "#E1E5ED"
        }
       }
      },
      "text/html": [
       "<div>\n",
       "        \n",
       "        \n",
       "            <div id=\"6b7df59c-62cf-4a7f-af31-52f6d89819c5\" class=\"plotly-graph-div\" style=\"height:525px; width:100%;\"></div>\n",
       "            <script type=\"text/javascript\">\n",
       "                require([\"plotly\"], function(Plotly) {\n",
       "                    window.PLOTLYENV=window.PLOTLYENV || {};\n",
       "                    window.PLOTLYENV.BASE_URL='https://plot.ly';\n",
       "                    \n",
       "                if (document.getElementById(\"6b7df59c-62cf-4a7f-af31-52f6d89819c5\")) {\n",
       "                    Plotly.newPlot(\n",
       "                        '6b7df59c-62cf-4a7f-af31-52f6d89819c5',\n",
       "                        [{\"marker\": {\"color\": \"rgba(255, 153, 51, 0.6)\", \"line\": {\"color\": \"rgba(255, 153, 51, 1.0)\", \"width\": 1}}, \"name\": \"Russian Federation\", \"orientation\": \"v\", \"text\": \"\", \"type\": \"bar\", \"x\": [1985, 1986, 1987, 1988, 1989, 1990, 1991, 1992, 1993, 1994, 1995, 1996, 1997, 1998, 1999, 2000, 2001, 2002, 2003, 2004, 2005, 2006, 2007, 2008, 2009, 2010, 2011, 2012, 2013, 2014, 2015, 2016], \"y\": [\"\", \"\", \"\", \"\", 37921.0, 39028.0, 39281.0, 45923.0, 55846.0, 61420.0, 60548.0, 57511.0, 54746.0, 51518.0, 56974.0, 56619.0, 56958.0, 55024.0, 51445.0, 49096.0, 45802.0, 42614.0, 41149.0, 38211.0, 37408.0, 33356.0, 31038.0, 29643.0, 28690.0, 26541.0, 25432.0, \"\"]}, {\"marker\": {\"color\": \"rgba(55, 128, 191, 0.6)\", \"line\": {\"color\": \"rgba(55, 128, 191, 1.0)\", \"width\": 1}}, \"name\": \"United States\", \"orientation\": \"v\", \"text\": \"\", \"type\": \"bar\", \"x\": [1985, 1986, 1987, 1988, 1989, 1990, 1991, 1992, 1993, 1994, 1995, 1996, 1997, 1998, 1999, 2000, 2001, 2002, 2003, 2004, 2005, 2006, 2007, 2008, 2009, 2010, 2011, 2012, 2013, 2014, 2015, 2016], \"y\": [29446.0, 30892.0, 30783.0, 30388.0, 30218.0, 30895.0, 30790.0, 30471.0, 31084.0, 31123.0, 31272.0, 30879.0, 30517.0, 30558.0, 29183.0, 29343.0, 30607.0, 31645.0, 31477.0, 32428.0, 32629.0, 33292.0, 34596.0, 36030.0, 36900.0, 38362.0, 39508.0, 40596.0, 41143.0, 42769.0, 44189.0, \"\"]}],\n",
       "                        {\"legend\": {\"bgcolor\": \"#F5F6F9\", \"font\": {\"color\": \"#4D5663\"}}, \"paper_bgcolor\": \"#F5F6F9\", \"plot_bgcolor\": \"#F5F6F9\", \"template\": {\"data\": {\"bar\": [{\"error_x\": {\"color\": \"#2a3f5f\"}, \"error_y\": {\"color\": \"#2a3f5f\"}, \"marker\": {\"line\": {\"color\": \"#E5ECF6\", \"width\": 0.5}}, \"type\": \"bar\"}], \"barpolar\": [{\"marker\": {\"line\": {\"color\": \"#E5ECF6\", \"width\": 0.5}}, \"type\": \"barpolar\"}], \"carpet\": [{\"aaxis\": {\"endlinecolor\": \"#2a3f5f\", \"gridcolor\": \"white\", \"linecolor\": \"white\", \"minorgridcolor\": \"white\", \"startlinecolor\": \"#2a3f5f\"}, \"baxis\": {\"endlinecolor\": \"#2a3f5f\", \"gridcolor\": \"white\", \"linecolor\": \"white\", \"minorgridcolor\": \"white\", \"startlinecolor\": \"#2a3f5f\"}, \"type\": \"carpet\"}], \"choropleth\": [{\"colorbar\": {\"outlinewidth\": 0, \"ticks\": \"\"}, \"type\": \"choropleth\"}], \"contour\": [{\"colorbar\": {\"outlinewidth\": 0, \"ticks\": \"\"}, \"colorscale\": [[0.0, \"#0d0887\"], [0.1111111111111111, \"#46039f\"], [0.2222222222222222, \"#7201a8\"], [0.3333333333333333, \"#9c179e\"], [0.4444444444444444, \"#bd3786\"], [0.5555555555555556, \"#d8576b\"], [0.6666666666666666, \"#ed7953\"], [0.7777777777777778, \"#fb9f3a\"], [0.8888888888888888, \"#fdca26\"], [1.0, \"#f0f921\"]], \"type\": \"contour\"}], \"contourcarpet\": [{\"colorbar\": {\"outlinewidth\": 0, \"ticks\": \"\"}, \"type\": \"contourcarpet\"}], \"heatmap\": [{\"colorbar\": {\"outlinewidth\": 0, \"ticks\": \"\"}, \"colorscale\": [[0.0, \"#0d0887\"], [0.1111111111111111, \"#46039f\"], [0.2222222222222222, \"#7201a8\"], [0.3333333333333333, \"#9c179e\"], [0.4444444444444444, \"#bd3786\"], [0.5555555555555556, \"#d8576b\"], [0.6666666666666666, \"#ed7953\"], [0.7777777777777778, \"#fb9f3a\"], [0.8888888888888888, \"#fdca26\"], [1.0, \"#f0f921\"]], \"type\": \"heatmap\"}], \"heatmapgl\": [{\"colorbar\": {\"outlinewidth\": 0, \"ticks\": \"\"}, \"colorscale\": [[0.0, \"#0d0887\"], [0.1111111111111111, \"#46039f\"], [0.2222222222222222, \"#7201a8\"], [0.3333333333333333, \"#9c179e\"], [0.4444444444444444, \"#bd3786\"], [0.5555555555555556, \"#d8576b\"], [0.6666666666666666, \"#ed7953\"], [0.7777777777777778, \"#fb9f3a\"], [0.8888888888888888, \"#fdca26\"], [1.0, \"#f0f921\"]], \"type\": \"heatmapgl\"}], \"histogram\": [{\"marker\": {\"colorbar\": {\"outlinewidth\": 0, \"ticks\": \"\"}}, \"type\": \"histogram\"}], \"histogram2d\": [{\"colorbar\": {\"outlinewidth\": 0, \"ticks\": \"\"}, \"colorscale\": [[0.0, \"#0d0887\"], [0.1111111111111111, \"#46039f\"], [0.2222222222222222, \"#7201a8\"], [0.3333333333333333, \"#9c179e\"], [0.4444444444444444, \"#bd3786\"], [0.5555555555555556, \"#d8576b\"], [0.6666666666666666, \"#ed7953\"], [0.7777777777777778, \"#fb9f3a\"], [0.8888888888888888, \"#fdca26\"], [1.0, \"#f0f921\"]], \"type\": \"histogram2d\"}], \"histogram2dcontour\": [{\"colorbar\": {\"outlinewidth\": 0, \"ticks\": \"\"}, \"colorscale\": [[0.0, \"#0d0887\"], [0.1111111111111111, \"#46039f\"], [0.2222222222222222, \"#7201a8\"], [0.3333333333333333, \"#9c179e\"], [0.4444444444444444, \"#bd3786\"], [0.5555555555555556, \"#d8576b\"], [0.6666666666666666, \"#ed7953\"], [0.7777777777777778, \"#fb9f3a\"], [0.8888888888888888, \"#fdca26\"], [1.0, \"#f0f921\"]], \"type\": \"histogram2dcontour\"}], \"mesh3d\": [{\"colorbar\": {\"outlinewidth\": 0, \"ticks\": \"\"}, \"type\": \"mesh3d\"}], \"parcoords\": [{\"line\": {\"colorbar\": {\"outlinewidth\": 0, \"ticks\": \"\"}}, \"type\": \"parcoords\"}], \"scatter\": [{\"marker\": {\"colorbar\": {\"outlinewidth\": 0, \"ticks\": \"\"}}, \"type\": \"scatter\"}], \"scatter3d\": [{\"line\": {\"colorbar\": {\"outlinewidth\": 0, \"ticks\": \"\"}}, \"marker\": {\"colorbar\": {\"outlinewidth\": 0, \"ticks\": \"\"}}, \"type\": \"scatter3d\"}], \"scattercarpet\": [{\"marker\": {\"colorbar\": {\"outlinewidth\": 0, \"ticks\": \"\"}}, \"type\": \"scattercarpet\"}], \"scattergeo\": [{\"marker\": {\"colorbar\": {\"outlinewidth\": 0, \"ticks\": \"\"}}, \"type\": \"scattergeo\"}], \"scattergl\": [{\"marker\": {\"colorbar\": {\"outlinewidth\": 0, \"ticks\": \"\"}}, \"type\": \"scattergl\"}], \"scattermapbox\": [{\"marker\": {\"colorbar\": {\"outlinewidth\": 0, \"ticks\": \"\"}}, \"type\": \"scattermapbox\"}], \"scatterpolar\": [{\"marker\": {\"colorbar\": {\"outlinewidth\": 0, \"ticks\": \"\"}}, \"type\": \"scatterpolar\"}], \"scatterpolargl\": [{\"marker\": {\"colorbar\": {\"outlinewidth\": 0, \"ticks\": \"\"}}, \"type\": \"scatterpolargl\"}], \"scatterternary\": [{\"marker\": {\"colorbar\": {\"outlinewidth\": 0, \"ticks\": \"\"}}, \"type\": \"scatterternary\"}], \"surface\": [{\"colorbar\": {\"outlinewidth\": 0, \"ticks\": \"\"}, \"colorscale\": [[0.0, \"#0d0887\"], [0.1111111111111111, \"#46039f\"], [0.2222222222222222, \"#7201a8\"], [0.3333333333333333, \"#9c179e\"], [0.4444444444444444, \"#bd3786\"], [0.5555555555555556, \"#d8576b\"], [0.6666666666666666, \"#ed7953\"], [0.7777777777777778, \"#fb9f3a\"], [0.8888888888888888, \"#fdca26\"], [1.0, \"#f0f921\"]], \"type\": \"surface\"}], \"table\": [{\"cells\": {\"fill\": {\"color\": \"#EBF0F8\"}, \"line\": {\"color\": \"white\"}}, \"header\": {\"fill\": {\"color\": \"#C8D4E3\"}, \"line\": {\"color\": \"white\"}}, \"type\": \"table\"}]}, \"layout\": {\"annotationdefaults\": {\"arrowcolor\": \"#2a3f5f\", \"arrowhead\": 0, \"arrowwidth\": 1}, \"colorscale\": {\"diverging\": [[0, \"#8e0152\"], [0.1, \"#c51b7d\"], [0.2, \"#de77ae\"], [0.3, \"#f1b6da\"], [0.4, \"#fde0ef\"], [0.5, \"#f7f7f7\"], [0.6, \"#e6f5d0\"], [0.7, \"#b8e186\"], [0.8, \"#7fbc41\"], [0.9, \"#4d9221\"], [1, \"#276419\"]], \"sequential\": [[0.0, \"#0d0887\"], [0.1111111111111111, \"#46039f\"], [0.2222222222222222, \"#7201a8\"], [0.3333333333333333, \"#9c179e\"], [0.4444444444444444, \"#bd3786\"], [0.5555555555555556, \"#d8576b\"], [0.6666666666666666, \"#ed7953\"], [0.7777777777777778, \"#fb9f3a\"], [0.8888888888888888, \"#fdca26\"], [1.0, \"#f0f921\"]], \"sequentialminus\": [[0.0, \"#0d0887\"], [0.1111111111111111, \"#46039f\"], [0.2222222222222222, \"#7201a8\"], [0.3333333333333333, \"#9c179e\"], [0.4444444444444444, \"#bd3786\"], [0.5555555555555556, \"#d8576b\"], [0.6666666666666666, \"#ed7953\"], [0.7777777777777778, \"#fb9f3a\"], [0.8888888888888888, \"#fdca26\"], [1.0, \"#f0f921\"]]}, \"colorway\": [\"#636efa\", \"#EF553B\", \"#00cc96\", \"#ab63fa\", \"#FFA15A\", \"#19d3f3\", \"#FF6692\", \"#B6E880\", \"#FF97FF\", \"#FECB52\"], \"font\": {\"color\": \"#2a3f5f\"}, \"geo\": {\"bgcolor\": \"white\", \"lakecolor\": \"white\", \"landcolor\": \"#E5ECF6\", \"showlakes\": true, \"showland\": true, \"subunitcolor\": \"white\"}, \"hoverlabel\": {\"align\": \"left\"}, \"hovermode\": \"closest\", \"mapbox\": {\"style\": \"light\"}, \"paper_bgcolor\": \"white\", \"plot_bgcolor\": \"#E5ECF6\", \"polar\": {\"angularaxis\": {\"gridcolor\": \"white\", \"linecolor\": \"white\", \"ticks\": \"\"}, \"bgcolor\": \"#E5ECF6\", \"radialaxis\": {\"gridcolor\": \"white\", \"linecolor\": \"white\", \"ticks\": \"\"}}, \"scene\": {\"xaxis\": {\"backgroundcolor\": \"#E5ECF6\", \"gridcolor\": \"white\", \"gridwidth\": 2, \"linecolor\": \"white\", \"showbackground\": true, \"ticks\": \"\", \"zerolinecolor\": \"white\"}, \"yaxis\": {\"backgroundcolor\": \"#E5ECF6\", \"gridcolor\": \"white\", \"gridwidth\": 2, \"linecolor\": \"white\", \"showbackground\": true, \"ticks\": \"\", \"zerolinecolor\": \"white\"}, \"zaxis\": {\"backgroundcolor\": \"#E5ECF6\", \"gridcolor\": \"white\", \"gridwidth\": 2, \"linecolor\": \"white\", \"showbackground\": true, \"ticks\": \"\", \"zerolinecolor\": \"white\"}}, \"shapedefaults\": {\"line\": {\"color\": \"#2a3f5f\"}}, \"ternary\": {\"aaxis\": {\"gridcolor\": \"white\", \"linecolor\": \"white\", \"ticks\": \"\"}, \"baxis\": {\"gridcolor\": \"white\", \"linecolor\": \"white\", \"ticks\": \"\"}, \"bgcolor\": \"#E5ECF6\", \"caxis\": {\"gridcolor\": \"white\", \"linecolor\": \"white\", \"ticks\": \"\"}}, \"title\": {\"x\": 0.05}, \"xaxis\": {\"automargin\": true, \"gridcolor\": \"white\", \"linecolor\": \"white\", \"ticks\": \"\", \"zerolinecolor\": \"white\", \"zerolinewidth\": 2}, \"yaxis\": {\"automargin\": true, \"gridcolor\": \"white\", \"linecolor\": \"white\", \"ticks\": \"\", \"zerolinecolor\": \"white\", \"zerolinewidth\": 2}}}, \"title\": {\"font\": {\"color\": \"#4D5663\"}, \"text\": \"Russia vs United States\"}, \"xaxis\": {\"gridcolor\": \"#E1E5ED\", \"showgrid\": true, \"tickfont\": {\"color\": \"#4D5663\"}, \"title\": {\"font\": {\"color\": \"#4D5663\"}, \"text\": \"Year\"}, \"zerolinecolor\": \"#E1E5ED\"}, \"yaxis\": {\"gridcolor\": \"#E1E5ED\", \"showgrid\": true, \"tickfont\": {\"color\": \"#4D5663\"}, \"title\": {\"font\": {\"color\": \"#4D5663\"}, \"text\": \"Suicides\"}, \"zerolinecolor\": \"#E1E5ED\"}},\n",
       "                        {\"showLink\": true, \"linkText\": \"Export to plot.ly\", \"plotlyServerURL\": \"https://plot.ly\", \"responsive\": true}\n",
       "                    ).then(function(){\n",
       "                            \n",
       "var gd = document.getElementById('6b7df59c-62cf-4a7f-af31-52f6d89819c5');\n",
       "var x = new MutationObserver(function (mutations, observer) {{\n",
       "        var display = window.getComputedStyle(gd).display;\n",
       "        if (!display || display === 'none') {{\n",
       "            console.log([gd, 'removed!']);\n",
       "            Plotly.purge(gd);\n",
       "            observer.disconnect();\n",
       "        }}\n",
       "}});\n",
       "\n",
       "// Listen for the removal of the full notebook cells\n",
       "var notebookContainer = gd.closest('#notebook-container');\n",
       "if (notebookContainer) {{\n",
       "    x.observe(notebookContainer, {childList: true});\n",
       "}}\n",
       "\n",
       "// Listen for the clearing of the current output cell\n",
       "var outputEl = gd.closest('.output');\n",
       "if (outputEl) {{\n",
       "    x.observe(outputEl, {childList: true});\n",
       "}}\n",
       "\n",
       "                        })\n",
       "                };\n",
       "                });\n",
       "            </script>\n",
       "        </div>"
      ]
     },
     "metadata": {},
     "output_type": "display_data"
    }
   ],
   "source": [
    "data_suicides_pivot.iplot(kind = 'bar',x = 'year', xTitle = 'Year', yTitle = 'Suicides', title = 'Russia vs United States')"
   ]
  },
  {
   "cell_type": "markdown",
   "metadata": {},
   "source": [
    "## Many periods"
   ]
  },
  {
   "cell_type": "markdown",
   "metadata": {},
   "source": [
    "### Non-Cyclical Data"
   ]
  },
  {
   "cell_type": "markdown",
   "metadata": {},
   "source": [
    "Single line chart"
   ]
  },
  {
   "cell_type": "code",
   "execution_count": 15,
   "metadata": {},
   "outputs": [
    {
     "name": "stderr",
     "output_type": "stream",
     "text": [
      "c:\\users\\jeorv\\onedrive\\favori~2\\desktop\\escuela\\3ercua~1\\prepro~1\\prepro~1\\lib\\site-packages\\numpy\\lib\\arraysetops.py:568: FutureWarning:\n",
      "\n",
      "elementwise comparison failed; returning scalar instead, but in the future will perform elementwise comparison\n",
      "\n"
     ]
    }
   ],
   "source": [
    "data_bici = pd.read_csv('csv/data-Copy1.csv', low_memory = False, index_col = 'Unnamed: 0')"
   ]
  },
  {
   "cell_type": "code",
   "execution_count": 16,
   "metadata": {},
   "outputs": [
    {
     "data": {
      "text/html": [
       "<div>\n",
       "<style scoped>\n",
       "    .dataframe tbody tr th:only-of-type {\n",
       "        vertical-align: middle;\n",
       "    }\n",
       "\n",
       "    .dataframe tbody tr th {\n",
       "        vertical-align: top;\n",
       "    }\n",
       "\n",
       "    .dataframe thead th {\n",
       "        text-align: right;\n",
       "    }\n",
       "</style>\n",
       "<table border=\"1\" class=\"dataframe\">\n",
       "  <thead>\n",
       "    <tr style=\"text-align: right;\">\n",
       "      <th></th>\n",
       "      <th>Genero_Usuario</th>\n",
       "      <th>Edad_Usuario</th>\n",
       "      <th>Bici</th>\n",
       "      <th>Ciclo_Estacion_Retiro</th>\n",
       "      <th>Fecha_Retiro</th>\n",
       "      <th>Hora_Retiro</th>\n",
       "      <th>Ciclo_Estacion_Arribo</th>\n",
       "      <th>Fecha_Arribo</th>\n",
       "      <th>Hora_Arribo</th>\n",
       "      <th>Mes</th>\n",
       "    </tr>\n",
       "  </thead>\n",
       "  <tbody>\n",
       "    <tr>\n",
       "      <th>0</th>\n",
       "      <td>M</td>\n",
       "      <td>36</td>\n",
       "      <td>11444</td>\n",
       "      <td>67</td>\n",
       "      <td>01/01/2019</td>\n",
       "      <td>0:08:44</td>\n",
       "      <td>36</td>\n",
       "      <td>01/01/2019</td>\n",
       "      <td>0:14:03</td>\n",
       "      <td>1</td>\n",
       "    </tr>\n",
       "    <tr>\n",
       "      <th>1</th>\n",
       "      <td>M</td>\n",
       "      <td>36</td>\n",
       "      <td>9196</td>\n",
       "      <td>55</td>\n",
       "      <td>01/01/2019</td>\n",
       "      <td>0:12:05</td>\n",
       "      <td>136</td>\n",
       "      <td>01/01/2019</td>\n",
       "      <td>0:42:11</td>\n",
       "      <td>1</td>\n",
       "    </tr>\n",
       "    <tr>\n",
       "      <th>2</th>\n",
       "      <td>M</td>\n",
       "      <td>38</td>\n",
       "      <td>2612</td>\n",
       "      <td>29</td>\n",
       "      <td>01/01/2019</td>\n",
       "      <td>0:13:15</td>\n",
       "      <td>115</td>\n",
       "      <td>01/01/2019</td>\n",
       "      <td>0:37:47</td>\n",
       "      <td>1</td>\n",
       "    </tr>\n",
       "    <tr>\n",
       "      <th>3</th>\n",
       "      <td>M</td>\n",
       "      <td>43</td>\n",
       "      <td>7463</td>\n",
       "      <td>29</td>\n",
       "      <td>01/01/2019</td>\n",
       "      <td>0:13:36</td>\n",
       "      <td>115</td>\n",
       "      <td>01/01/2019</td>\n",
       "      <td>0:38:04</td>\n",
       "      <td>1</td>\n",
       "    </tr>\n",
       "    <tr>\n",
       "      <th>4</th>\n",
       "      <td>M</td>\n",
       "      <td>37</td>\n",
       "      <td>3987</td>\n",
       "      <td>136</td>\n",
       "      <td>01/01/2019</td>\n",
       "      <td>0:15:30</td>\n",
       "      <td>35</td>\n",
       "      <td>01/01/2019</td>\n",
       "      <td>0:22:47</td>\n",
       "      <td>1</td>\n",
       "    </tr>\n",
       "    <tr>\n",
       "      <th>...</th>\n",
       "      <td>...</td>\n",
       "      <td>...</td>\n",
       "      <td>...</td>\n",
       "      <td>...</td>\n",
       "      <td>...</td>\n",
       "      <td>...</td>\n",
       "      <td>...</td>\n",
       "      <td>...</td>\n",
       "      <td>...</td>\n",
       "      <td>...</td>\n",
       "    </tr>\n",
       "    <tr>\n",
       "      <th>6396084</th>\n",
       "      <td>M</td>\n",
       "      <td>32</td>\n",
       "      <td>11581</td>\n",
       "      <td>121</td>\n",
       "      <td>29/09/2019</td>\n",
       "      <td>23:52:20</td>\n",
       "      <td>69</td>\n",
       "      <td>30/09/2019</td>\n",
       "      <td>0:02:12</td>\n",
       "      <td>9</td>\n",
       "    </tr>\n",
       "    <tr>\n",
       "      <th>6396085</th>\n",
       "      <td>M</td>\n",
       "      <td>30</td>\n",
       "      <td>8676</td>\n",
       "      <td>291</td>\n",
       "      <td>29/09/2019</td>\n",
       "      <td>23:55:33</td>\n",
       "      <td>47</td>\n",
       "      <td>30/09/2019</td>\n",
       "      <td>0:02:35</td>\n",
       "      <td>9</td>\n",
       "    </tr>\n",
       "    <tr>\n",
       "      <th>6396086</th>\n",
       "      <td>F</td>\n",
       "      <td>47</td>\n",
       "      <td>11748</td>\n",
       "      <td>110</td>\n",
       "      <td>29/09/2019</td>\n",
       "      <td>23:56:31</td>\n",
       "      <td>55</td>\n",
       "      <td>30/09/2019</td>\n",
       "      <td>0:08:09</td>\n",
       "      <td>9</td>\n",
       "    </tr>\n",
       "    <tr>\n",
       "      <th>6396087</th>\n",
       "      <td>M</td>\n",
       "      <td>35</td>\n",
       "      <td>9095</td>\n",
       "      <td>110</td>\n",
       "      <td>29/09/2019</td>\n",
       "      <td>23:56:47</td>\n",
       "      <td>55</td>\n",
       "      <td>30/09/2019</td>\n",
       "      <td>0:07:04</td>\n",
       "      <td>9</td>\n",
       "    </tr>\n",
       "    <tr>\n",
       "      <th>6396088</th>\n",
       "      <td>M</td>\n",
       "      <td>25</td>\n",
       "      <td>8341</td>\n",
       "      <td>15</td>\n",
       "      <td>29/09/2019</td>\n",
       "      <td>23:59:56</td>\n",
       "      <td>13</td>\n",
       "      <td>30/09/2019</td>\n",
       "      <td>0:01:42</td>\n",
       "      <td>9</td>\n",
       "    </tr>\n",
       "  </tbody>\n",
       "</table>\n",
       "<p>6396089 rows × 10 columns</p>\n",
       "</div>"
      ],
      "text/plain": [
       "        Genero_Usuario  Edad_Usuario   Bici  Ciclo_Estacion_Retiro  \\\n",
       "0                    M            36  11444                     67   \n",
       "1                    M            36   9196                     55   \n",
       "2                    M            38   2612                     29   \n",
       "3                    M            43   7463                     29   \n",
       "4                    M            37   3987                    136   \n",
       "...                ...           ...    ...                    ...   \n",
       "6396084              M            32  11581                    121   \n",
       "6396085              M            30   8676                    291   \n",
       "6396086              F            47  11748                    110   \n",
       "6396087              M            35   9095                    110   \n",
       "6396088              M            25   8341                     15   \n",
       "\n",
       "        Fecha_Retiro Hora_Retiro  Ciclo_Estacion_Arribo Fecha_Arribo  \\\n",
       "0         01/01/2019     0:08:44                     36   01/01/2019   \n",
       "1         01/01/2019     0:12:05                    136   01/01/2019   \n",
       "2         01/01/2019     0:13:15                    115   01/01/2019   \n",
       "3         01/01/2019     0:13:36                    115   01/01/2019   \n",
       "4         01/01/2019     0:15:30                     35   01/01/2019   \n",
       "...              ...         ...                    ...          ...   \n",
       "6396084   29/09/2019    23:52:20                     69   30/09/2019   \n",
       "6396085   29/09/2019    23:55:33                     47   30/09/2019   \n",
       "6396086   29/09/2019    23:56:31                     55   30/09/2019   \n",
       "6396087   29/09/2019    23:56:47                     55   30/09/2019   \n",
       "6396088   29/09/2019    23:59:56                     13   30/09/2019   \n",
       "\n",
       "        Hora_Arribo  Mes  \n",
       "0           0:14:03    1  \n",
       "1           0:42:11    1  \n",
       "2           0:37:47    1  \n",
       "3           0:38:04    1  \n",
       "4           0:22:47    1  \n",
       "...             ...  ...  \n",
       "6396084     0:02:12    9  \n",
       "6396085     0:02:35    9  \n",
       "6396086     0:08:09    9  \n",
       "6396087     0:07:04    9  \n",
       "6396088     0:01:42    9  \n",
       "\n",
       "[6396089 rows x 10 columns]"
      ]
     },
     "execution_count": 16,
     "metadata": {},
     "output_type": "execute_result"
    }
   ],
   "source": [
    "data_bici"
   ]
  },
  {
   "cell_type": "code",
   "execution_count": 17,
   "metadata": {},
   "outputs": [],
   "source": [
    "#making the index a datetime object\n",
    "data_bici.Fecha_Retiro = pd.to_datetime(data_bici.Fecha_Retiro, format='%d/%m/%Y')\n",
    "data_bici.set_index('Fecha_Retiro', inplace = True)\n",
    "data_bici = data_bici.loc[data_bici.index.year >= 2019]"
   ]
  },
  {
   "cell_type": "code",
   "execution_count": 18,
   "metadata": {},
   "outputs": [
    {
     "data": {
      "text/html": [
       "<div>\n",
       "<style scoped>\n",
       "    .dataframe tbody tr th:only-of-type {\n",
       "        vertical-align: middle;\n",
       "    }\n",
       "\n",
       "    .dataframe tbody tr th {\n",
       "        vertical-align: top;\n",
       "    }\n",
       "\n",
       "    .dataframe thead th {\n",
       "        text-align: right;\n",
       "    }\n",
       "</style>\n",
       "<table border=\"1\" class=\"dataframe\">\n",
       "  <thead>\n",
       "    <tr style=\"text-align: right;\">\n",
       "      <th></th>\n",
       "      <th>Fecha_Retiro</th>\n",
       "      <th>Genero_Usuario</th>\n",
       "      <th>Edad_Usuario</th>\n",
       "      <th>Bici</th>\n",
       "      <th>Ciclo_Estacion_Retiro</th>\n",
       "      <th>Hora_Retiro</th>\n",
       "      <th>Ciclo_Estacion_Arribo</th>\n",
       "      <th>Fecha_Arribo</th>\n",
       "      <th>Hora_Arribo</th>\n",
       "      <th>Mes</th>\n",
       "    </tr>\n",
       "  </thead>\n",
       "  <tbody>\n",
       "    <tr>\n",
       "      <th>0</th>\n",
       "      <td>2019-01-01</td>\n",
       "      <td>3754</td>\n",
       "      <td>3754</td>\n",
       "      <td>3754</td>\n",
       "      <td>3754</td>\n",
       "      <td>3754</td>\n",
       "      <td>3754</td>\n",
       "      <td>3754</td>\n",
       "      <td>3754</td>\n",
       "      <td>3754</td>\n",
       "    </tr>\n",
       "    <tr>\n",
       "      <th>1</th>\n",
       "      <td>2019-01-02</td>\n",
       "      <td>17252</td>\n",
       "      <td>17252</td>\n",
       "      <td>17252</td>\n",
       "      <td>17252</td>\n",
       "      <td>17252</td>\n",
       "      <td>17252</td>\n",
       "      <td>17252</td>\n",
       "      <td>17252</td>\n",
       "      <td>17252</td>\n",
       "    </tr>\n",
       "    <tr>\n",
       "      <th>2</th>\n",
       "      <td>2019-01-03</td>\n",
       "      <td>19927</td>\n",
       "      <td>19927</td>\n",
       "      <td>19927</td>\n",
       "      <td>19927</td>\n",
       "      <td>19927</td>\n",
       "      <td>19927</td>\n",
       "      <td>19927</td>\n",
       "      <td>19927</td>\n",
       "      <td>19927</td>\n",
       "    </tr>\n",
       "    <tr>\n",
       "      <th>3</th>\n",
       "      <td>2019-01-04</td>\n",
       "      <td>20149</td>\n",
       "      <td>20149</td>\n",
       "      <td>20149</td>\n",
       "      <td>20149</td>\n",
       "      <td>20149</td>\n",
       "      <td>20149</td>\n",
       "      <td>20149</td>\n",
       "      <td>20149</td>\n",
       "      <td>20149</td>\n",
       "    </tr>\n",
       "    <tr>\n",
       "      <th>4</th>\n",
       "      <td>2019-01-05</td>\n",
       "      <td>10379</td>\n",
       "      <td>10379</td>\n",
       "      <td>10379</td>\n",
       "      <td>10379</td>\n",
       "      <td>10379</td>\n",
       "      <td>10379</td>\n",
       "      <td>10379</td>\n",
       "      <td>10379</td>\n",
       "      <td>10379</td>\n",
       "    </tr>\n",
       "    <tr>\n",
       "      <th>...</th>\n",
       "      <td>...</td>\n",
       "      <td>...</td>\n",
       "      <td>...</td>\n",
       "      <td>...</td>\n",
       "      <td>...</td>\n",
       "      <td>...</td>\n",
       "      <td>...</td>\n",
       "      <td>...</td>\n",
       "      <td>...</td>\n",
       "      <td>...</td>\n",
       "    </tr>\n",
       "    <tr>\n",
       "      <th>268</th>\n",
       "      <td>2019-09-26</td>\n",
       "      <td>30404</td>\n",
       "      <td>30404</td>\n",
       "      <td>30404</td>\n",
       "      <td>30404</td>\n",
       "      <td>30404</td>\n",
       "      <td>30404</td>\n",
       "      <td>30404</td>\n",
       "      <td>30404</td>\n",
       "      <td>30404</td>\n",
       "    </tr>\n",
       "    <tr>\n",
       "      <th>269</th>\n",
       "      <td>2019-09-27</td>\n",
       "      <td>29399</td>\n",
       "      <td>29399</td>\n",
       "      <td>29399</td>\n",
       "      <td>29399</td>\n",
       "      <td>29399</td>\n",
       "      <td>29399</td>\n",
       "      <td>29399</td>\n",
       "      <td>29399</td>\n",
       "      <td>29399</td>\n",
       "    </tr>\n",
       "    <tr>\n",
       "      <th>270</th>\n",
       "      <td>2019-09-28</td>\n",
       "      <td>12838</td>\n",
       "      <td>12838</td>\n",
       "      <td>12838</td>\n",
       "      <td>12838</td>\n",
       "      <td>12838</td>\n",
       "      <td>12838</td>\n",
       "      <td>12838</td>\n",
       "      <td>12838</td>\n",
       "      <td>12838</td>\n",
       "    </tr>\n",
       "    <tr>\n",
       "      <th>271</th>\n",
       "      <td>2019-09-29</td>\n",
       "      <td>7605</td>\n",
       "      <td>7605</td>\n",
       "      <td>7605</td>\n",
       "      <td>7605</td>\n",
       "      <td>7605</td>\n",
       "      <td>7605</td>\n",
       "      <td>7605</td>\n",
       "      <td>7605</td>\n",
       "      <td>7605</td>\n",
       "    </tr>\n",
       "    <tr>\n",
       "      <th>272</th>\n",
       "      <td>2019-09-30</td>\n",
       "      <td>26822</td>\n",
       "      <td>26822</td>\n",
       "      <td>26822</td>\n",
       "      <td>26822</td>\n",
       "      <td>26822</td>\n",
       "      <td>26822</td>\n",
       "      <td>26822</td>\n",
       "      <td>26822</td>\n",
       "      <td>26822</td>\n",
       "    </tr>\n",
       "  </tbody>\n",
       "</table>\n",
       "<p>273 rows × 10 columns</p>\n",
       "</div>"
      ],
      "text/plain": [
       "    Fecha_Retiro  Genero_Usuario  Edad_Usuario   Bici  Ciclo_Estacion_Retiro  \\\n",
       "0     2019-01-01            3754          3754   3754                   3754   \n",
       "1     2019-01-02           17252         17252  17252                  17252   \n",
       "2     2019-01-03           19927         19927  19927                  19927   \n",
       "3     2019-01-04           20149         20149  20149                  20149   \n",
       "4     2019-01-05           10379         10379  10379                  10379   \n",
       "..           ...             ...           ...    ...                    ...   \n",
       "268   2019-09-26           30404         30404  30404                  30404   \n",
       "269   2019-09-27           29399         29399  29399                  29399   \n",
       "270   2019-09-28           12838         12838  12838                  12838   \n",
       "271   2019-09-29            7605          7605   7605                   7605   \n",
       "272   2019-09-30           26822         26822  26822                  26822   \n",
       "\n",
       "     Hora_Retiro  Ciclo_Estacion_Arribo  Fecha_Arribo  Hora_Arribo    Mes  \n",
       "0           3754                   3754          3754         3754   3754  \n",
       "1          17252                  17252         17252        17252  17252  \n",
       "2          19927                  19927         19927        19927  19927  \n",
       "3          20149                  20149         20149        20149  20149  \n",
       "4          10379                  10379         10379        10379  10379  \n",
       "..           ...                    ...           ...          ...    ...  \n",
       "268        30404                  30404         30404        30404  30404  \n",
       "269        29399                  29399         29399        29399  29399  \n",
       "270        12838                  12838         12838        12838  12838  \n",
       "271         7605                   7605          7605         7605   7605  \n",
       "272        26822                  26822         26822        26822  26822  \n",
       "\n",
       "[273 rows x 10 columns]"
      ]
     },
     "execution_count": 18,
     "metadata": {},
     "output_type": "execute_result"
    }
   ],
   "source": [
    "#grouping by day\n",
    "data_bici_count = data_bici.resample('d').count().reset_index(drop = False)\n",
    "data_bici_count"
   ]
  },
  {
   "cell_type": "code",
   "execution_count": 19,
   "metadata": {},
   "outputs": [
    {
     "data": {
      "application/vnd.plotly.v1+json": {
       "config": {
        "linkText": "Export to plot.ly",
        "plotlyServerURL": "https://plot.ly",
        "showLink": true
       },
       "data": [
        {
         "line": {
          "color": "rgba(255, 153, 51, 1.0)",
          "dash": "solid",
          "shape": "linear",
          "width": 1.3
         },
         "mode": "lines",
         "name": "Ciclo_Estacion_Retiro",
         "text": "",
         "type": "scatter",
         "x": [
          "2019-01-01",
          "2019-01-02",
          "2019-01-03",
          "2019-01-04",
          "2019-01-05",
          "2019-01-06",
          "2019-01-07",
          "2019-01-08",
          "2019-01-09",
          "2019-01-10",
          "2019-01-11",
          "2019-01-12",
          "2019-01-13",
          "2019-01-14",
          "2019-01-15",
          "2019-01-16",
          "2019-01-17",
          "2019-01-18",
          "2019-01-19",
          "2019-01-20",
          "2019-01-21",
          "2019-01-22",
          "2019-01-23",
          "2019-01-24",
          "2019-01-25",
          "2019-01-26",
          "2019-01-27",
          "2019-01-28",
          "2019-01-29",
          "2019-01-30",
          "2019-01-31",
          "2019-02-01",
          "2019-02-02",
          "2019-02-03",
          "2019-02-04",
          "2019-02-05",
          "2019-02-06",
          "2019-02-07",
          "2019-02-08",
          "2019-02-09",
          "2019-02-10",
          "2019-02-11",
          "2019-02-12",
          "2019-02-13",
          "2019-02-14",
          "2019-02-15",
          "2019-02-16",
          "2019-02-17",
          "2019-02-18",
          "2019-02-19",
          "2019-02-20",
          "2019-02-21",
          "2019-02-22",
          "2019-02-23",
          "2019-02-24",
          "2019-02-25",
          "2019-02-26",
          "2019-02-27",
          "2019-02-28",
          "2019-03-01",
          "2019-03-02",
          "2019-03-03",
          "2019-03-04",
          "2019-03-05",
          "2019-03-06",
          "2019-03-07",
          "2019-03-08",
          "2019-03-09",
          "2019-03-10",
          "2019-03-11",
          "2019-03-12",
          "2019-03-13",
          "2019-03-14",
          "2019-03-15",
          "2019-03-16",
          "2019-03-17",
          "2019-03-18",
          "2019-03-19",
          "2019-03-20",
          "2019-03-21",
          "2019-03-22",
          "2019-03-23",
          "2019-03-24",
          "2019-03-25",
          "2019-03-26",
          "2019-03-27",
          "2019-03-28",
          "2019-03-29",
          "2019-03-30",
          "2019-03-31",
          "2019-04-01",
          "2019-04-02",
          "2019-04-03",
          "2019-04-04",
          "2019-04-05",
          "2019-04-06",
          "2019-04-07",
          "2019-04-08",
          "2019-04-09",
          "2019-04-10",
          "2019-04-11",
          "2019-04-12",
          "2019-04-13",
          "2019-04-14",
          "2019-04-15",
          "2019-04-16",
          "2019-04-17",
          "2019-04-18",
          "2019-04-19",
          "2019-04-20",
          "2019-04-21",
          "2019-04-22",
          "2019-04-23",
          "2019-04-24",
          "2019-04-25",
          "2019-04-26",
          "2019-04-27",
          "2019-04-28",
          "2019-04-29",
          "2019-04-30",
          "2019-05-01",
          "2019-05-02",
          "2019-05-03",
          "2019-05-04",
          "2019-05-05",
          "2019-05-06",
          "2019-05-07",
          "2019-05-08",
          "2019-05-09",
          "2019-05-10",
          "2019-05-11",
          "2019-05-12",
          "2019-05-13",
          "2019-05-14",
          "2019-05-15",
          "2019-05-16",
          "2019-05-17",
          "2019-05-18",
          "2019-05-19",
          "2019-05-20",
          "2019-05-21",
          "2019-05-22",
          "2019-05-23",
          "2019-05-24",
          "2019-05-25",
          "2019-05-26",
          "2019-05-27",
          "2019-05-28",
          "2019-05-29",
          "2019-05-30",
          "2019-05-31",
          "2019-06-01",
          "2019-06-02",
          "2019-06-03",
          "2019-06-04",
          "2019-06-05",
          "2019-06-06",
          "2019-06-07",
          "2019-06-08",
          "2019-06-09",
          "2019-06-10",
          "2019-06-11",
          "2019-06-12",
          "2019-06-13",
          "2019-06-14",
          "2019-06-15",
          "2019-06-16",
          "2019-06-17",
          "2019-06-18",
          "2019-06-19",
          "2019-06-20",
          "2019-06-21",
          "2019-06-22",
          "2019-06-23",
          "2019-06-24",
          "2019-06-25",
          "2019-06-26",
          "2019-06-27",
          "2019-06-28",
          "2019-06-29",
          "2019-06-30",
          "2019-07-01",
          "2019-07-02",
          "2019-07-03",
          "2019-07-04",
          "2019-07-05",
          "2019-07-06",
          "2019-07-07",
          "2019-07-08",
          "2019-07-09",
          "2019-07-10",
          "2019-07-11",
          "2019-07-12",
          "2019-07-13",
          "2019-07-14",
          "2019-07-15",
          "2019-07-16",
          "2019-07-17",
          "2019-07-18",
          "2019-07-19",
          "2019-07-20",
          "2019-07-21",
          "2019-07-22",
          "2019-07-23",
          "2019-07-24",
          "2019-07-25",
          "2019-07-26",
          "2019-07-27",
          "2019-07-28",
          "2019-07-29",
          "2019-07-30",
          "2019-07-31",
          "2019-08-01",
          "2019-08-02",
          "2019-08-03",
          "2019-08-04",
          "2019-08-05",
          "2019-08-06",
          "2019-08-07",
          "2019-08-08",
          "2019-08-09",
          "2019-08-10",
          "2019-08-11",
          "2019-08-12",
          "2019-08-13",
          "2019-08-14",
          "2019-08-15",
          "2019-08-16",
          "2019-08-17",
          "2019-08-18",
          "2019-08-19",
          "2019-08-20",
          "2019-08-21",
          "2019-08-22",
          "2019-08-23",
          "2019-08-24",
          "2019-08-25",
          "2019-08-26",
          "2019-08-27",
          "2019-08-28",
          "2019-08-29",
          "2019-08-30",
          "2019-08-31",
          "2019-09-01",
          "2019-09-02",
          "2019-09-03",
          "2019-09-04",
          "2019-09-05",
          "2019-09-06",
          "2019-09-07",
          "2019-09-08",
          "2019-09-09",
          "2019-09-10",
          "2019-09-11",
          "2019-09-12",
          "2019-09-13",
          "2019-09-14",
          "2019-09-15",
          "2019-09-16",
          "2019-09-17",
          "2019-09-18",
          "2019-09-19",
          "2019-09-20",
          "2019-09-21",
          "2019-09-22",
          "2019-09-23",
          "2019-09-24",
          "2019-09-25",
          "2019-09-26",
          "2019-09-27",
          "2019-09-28",
          "2019-09-29",
          "2019-09-30"
         ],
         "y": [
          3754,
          17252,
          19927,
          20149,
          10379,
          9457,
          25996,
          27710,
          28372,
          29572,
          27774,
          12394,
          10209,
          28746,
          29687,
          30089,
          29077,
          28047,
          12239,
          10996,
          28815,
          30199,
          29508,
          26702,
          27718,
          12547,
          10964,
          29123,
          30438,
          29875,
          29627,
          27593,
          11465,
          9290,
          9800,
          29747,
          30516,
          30315,
          29268,
          12983,
          11544,
          30007,
          30948,
          27016,
          30638,
          29950,
          12886,
          11430,
          30746,
          32356,
          31943,
          31487,
          30348,
          14868,
          11399,
          28366,
          32623,
          32420,
          32139,
          29889,
          13260,
          11810,
          26394,
          28921,
          31621,
          31490,
          31530,
          13767,
          12239,
          31588,
          31098,
          32427,
          32199,
          29926,
          11950,
          9742,
          10388,
          30192,
          32133,
          31029,
          29687,
          13346,
          11520,
          30774,
          32346,
          32576,
          31992,
          30392,
          14856,
          11154,
          31542,
          33571,
          32716,
          31022,
          30425,
          13217,
          11488,
          29940,
          32129,
          32545,
          32220,
          30409,
          13038,
          11127,
          26882,
          27199,
          24950,
          10941,
          8446,
          8550,
          9478,
          26482,
          30126,
          30168,
          29736,
          21801,
          51,
          10633,
          28906,
          30306,
          12121,
          29602,
          28499,
          12459,
          11004,
          30472,
          32105,
          31813,
          30842,
          23844,
          12048,
          10325,
          30011,
          30268,
          26757,
          23509,
          24287,
          12164,
          10540,
          29722,
          29757,
          31080,
          30674,
          28157,
          12704,
          11160,
          30381,
          32255,
          31994,
          31743,
          28611,
          11501,
          11080,
          31478,
          30536,
          26887,
          23783,
          24479,
          13480,
          11781,
          30308,
          32536,
          32446,
          27449,
          28716,
          13093,
          10279,
          30092,
          29680,
          31943,
          29387,
          28869,
          13260,
          9461,
          23363,
          29280,
          29677,
          29147,
          28094,
          13596,
          10012,
          27540,
          27508,
          30354,
          27725,
          28884,
          11694,
          11205,
          22559,
          30390,
          26654,
          27501,
          25231,
          10622,
          10024,
          27899,
          29159,
          29798,
          23946,
          25177,
          11742,
          10205,
          28012,
          26020,
          28377,
          18169,
          19847,
          11926,
          9841,
          27295,
          29622,
          28364,
          29370,
          27295,
          12440,
          10829,
          24023,
          28879,
          26972,
          30270,
          26657,
          12907,
          10179,
          27702,
          30279,
          30118,
          30218,
          29198,
          12629,
          10937,
          29267,
          31164,
          30737,
          27990,
          27442,
          12470,
          11498,
          29784,
          31587,
          32061,
          30887,
          29375,
          13513,
          11767,
          30913,
          31654,
          31061,
          30485,
          29321,
          12008,
          11249,
          29891,
          26991,
          29363,
          30047,
          26250,
          10496,
          8615,
          6549,
          26714,
          26237,
          25379,
          25841,
          13709,
          11309,
          30155,
          25461,
          25232,
          30404,
          29399,
          12838,
          7605,
          26822
         ]
        }
       ],
       "layout": {
        "legend": {
         "bgcolor": "#F5F6F9",
         "font": {
          "color": "#4D5663"
         }
        },
        "paper_bgcolor": "#F5F6F9",
        "plot_bgcolor": "#F5F6F9",
        "template": {
         "data": {
          "bar": [
           {
            "error_x": {
             "color": "#2a3f5f"
            },
            "error_y": {
             "color": "#2a3f5f"
            },
            "marker": {
             "line": {
              "color": "#E5ECF6",
              "width": 0.5
             }
            },
            "type": "bar"
           }
          ],
          "barpolar": [
           {
            "marker": {
             "line": {
              "color": "#E5ECF6",
              "width": 0.5
             }
            },
            "type": "barpolar"
           }
          ],
          "carpet": [
           {
            "aaxis": {
             "endlinecolor": "#2a3f5f",
             "gridcolor": "white",
             "linecolor": "white",
             "minorgridcolor": "white",
             "startlinecolor": "#2a3f5f"
            },
            "baxis": {
             "endlinecolor": "#2a3f5f",
             "gridcolor": "white",
             "linecolor": "white",
             "minorgridcolor": "white",
             "startlinecolor": "#2a3f5f"
            },
            "type": "carpet"
           }
          ],
          "choropleth": [
           {
            "colorbar": {
             "outlinewidth": 0,
             "ticks": ""
            },
            "type": "choropleth"
           }
          ],
          "contour": [
           {
            "colorbar": {
             "outlinewidth": 0,
             "ticks": ""
            },
            "colorscale": [
             [
              0,
              "#0d0887"
             ],
             [
              0.1111111111111111,
              "#46039f"
             ],
             [
              0.2222222222222222,
              "#7201a8"
             ],
             [
              0.3333333333333333,
              "#9c179e"
             ],
             [
              0.4444444444444444,
              "#bd3786"
             ],
             [
              0.5555555555555556,
              "#d8576b"
             ],
             [
              0.6666666666666666,
              "#ed7953"
             ],
             [
              0.7777777777777778,
              "#fb9f3a"
             ],
             [
              0.8888888888888888,
              "#fdca26"
             ],
             [
              1,
              "#f0f921"
             ]
            ],
            "type": "contour"
           }
          ],
          "contourcarpet": [
           {
            "colorbar": {
             "outlinewidth": 0,
             "ticks": ""
            },
            "type": "contourcarpet"
           }
          ],
          "heatmap": [
           {
            "colorbar": {
             "outlinewidth": 0,
             "ticks": ""
            },
            "colorscale": [
             [
              0,
              "#0d0887"
             ],
             [
              0.1111111111111111,
              "#46039f"
             ],
             [
              0.2222222222222222,
              "#7201a8"
             ],
             [
              0.3333333333333333,
              "#9c179e"
             ],
             [
              0.4444444444444444,
              "#bd3786"
             ],
             [
              0.5555555555555556,
              "#d8576b"
             ],
             [
              0.6666666666666666,
              "#ed7953"
             ],
             [
              0.7777777777777778,
              "#fb9f3a"
             ],
             [
              0.8888888888888888,
              "#fdca26"
             ],
             [
              1,
              "#f0f921"
             ]
            ],
            "type": "heatmap"
           }
          ],
          "heatmapgl": [
           {
            "colorbar": {
             "outlinewidth": 0,
             "ticks": ""
            },
            "colorscale": [
             [
              0,
              "#0d0887"
             ],
             [
              0.1111111111111111,
              "#46039f"
             ],
             [
              0.2222222222222222,
              "#7201a8"
             ],
             [
              0.3333333333333333,
              "#9c179e"
             ],
             [
              0.4444444444444444,
              "#bd3786"
             ],
             [
              0.5555555555555556,
              "#d8576b"
             ],
             [
              0.6666666666666666,
              "#ed7953"
             ],
             [
              0.7777777777777778,
              "#fb9f3a"
             ],
             [
              0.8888888888888888,
              "#fdca26"
             ],
             [
              1,
              "#f0f921"
             ]
            ],
            "type": "heatmapgl"
           }
          ],
          "histogram": [
           {
            "marker": {
             "colorbar": {
              "outlinewidth": 0,
              "ticks": ""
             }
            },
            "type": "histogram"
           }
          ],
          "histogram2d": [
           {
            "colorbar": {
             "outlinewidth": 0,
             "ticks": ""
            },
            "colorscale": [
             [
              0,
              "#0d0887"
             ],
             [
              0.1111111111111111,
              "#46039f"
             ],
             [
              0.2222222222222222,
              "#7201a8"
             ],
             [
              0.3333333333333333,
              "#9c179e"
             ],
             [
              0.4444444444444444,
              "#bd3786"
             ],
             [
              0.5555555555555556,
              "#d8576b"
             ],
             [
              0.6666666666666666,
              "#ed7953"
             ],
             [
              0.7777777777777778,
              "#fb9f3a"
             ],
             [
              0.8888888888888888,
              "#fdca26"
             ],
             [
              1,
              "#f0f921"
             ]
            ],
            "type": "histogram2d"
           }
          ],
          "histogram2dcontour": [
           {
            "colorbar": {
             "outlinewidth": 0,
             "ticks": ""
            },
            "colorscale": [
             [
              0,
              "#0d0887"
             ],
             [
              0.1111111111111111,
              "#46039f"
             ],
             [
              0.2222222222222222,
              "#7201a8"
             ],
             [
              0.3333333333333333,
              "#9c179e"
             ],
             [
              0.4444444444444444,
              "#bd3786"
             ],
             [
              0.5555555555555556,
              "#d8576b"
             ],
             [
              0.6666666666666666,
              "#ed7953"
             ],
             [
              0.7777777777777778,
              "#fb9f3a"
             ],
             [
              0.8888888888888888,
              "#fdca26"
             ],
             [
              1,
              "#f0f921"
             ]
            ],
            "type": "histogram2dcontour"
           }
          ],
          "mesh3d": [
           {
            "colorbar": {
             "outlinewidth": 0,
             "ticks": ""
            },
            "type": "mesh3d"
           }
          ],
          "parcoords": [
           {
            "line": {
             "colorbar": {
              "outlinewidth": 0,
              "ticks": ""
             }
            },
            "type": "parcoords"
           }
          ],
          "scatter": [
           {
            "marker": {
             "colorbar": {
              "outlinewidth": 0,
              "ticks": ""
             }
            },
            "type": "scatter"
           }
          ],
          "scatter3d": [
           {
            "line": {
             "colorbar": {
              "outlinewidth": 0,
              "ticks": ""
             }
            },
            "marker": {
             "colorbar": {
              "outlinewidth": 0,
              "ticks": ""
             }
            },
            "type": "scatter3d"
           }
          ],
          "scattercarpet": [
           {
            "marker": {
             "colorbar": {
              "outlinewidth": 0,
              "ticks": ""
             }
            },
            "type": "scattercarpet"
           }
          ],
          "scattergeo": [
           {
            "marker": {
             "colorbar": {
              "outlinewidth": 0,
              "ticks": ""
             }
            },
            "type": "scattergeo"
           }
          ],
          "scattergl": [
           {
            "marker": {
             "colorbar": {
              "outlinewidth": 0,
              "ticks": ""
             }
            },
            "type": "scattergl"
           }
          ],
          "scattermapbox": [
           {
            "marker": {
             "colorbar": {
              "outlinewidth": 0,
              "ticks": ""
             }
            },
            "type": "scattermapbox"
           }
          ],
          "scatterpolar": [
           {
            "marker": {
             "colorbar": {
              "outlinewidth": 0,
              "ticks": ""
             }
            },
            "type": "scatterpolar"
           }
          ],
          "scatterpolargl": [
           {
            "marker": {
             "colorbar": {
              "outlinewidth": 0,
              "ticks": ""
             }
            },
            "type": "scatterpolargl"
           }
          ],
          "scatterternary": [
           {
            "marker": {
             "colorbar": {
              "outlinewidth": 0,
              "ticks": ""
             }
            },
            "type": "scatterternary"
           }
          ],
          "surface": [
           {
            "colorbar": {
             "outlinewidth": 0,
             "ticks": ""
            },
            "colorscale": [
             [
              0,
              "#0d0887"
             ],
             [
              0.1111111111111111,
              "#46039f"
             ],
             [
              0.2222222222222222,
              "#7201a8"
             ],
             [
              0.3333333333333333,
              "#9c179e"
             ],
             [
              0.4444444444444444,
              "#bd3786"
             ],
             [
              0.5555555555555556,
              "#d8576b"
             ],
             [
              0.6666666666666666,
              "#ed7953"
             ],
             [
              0.7777777777777778,
              "#fb9f3a"
             ],
             [
              0.8888888888888888,
              "#fdca26"
             ],
             [
              1,
              "#f0f921"
             ]
            ],
            "type": "surface"
           }
          ],
          "table": [
           {
            "cells": {
             "fill": {
              "color": "#EBF0F8"
             },
             "line": {
              "color": "white"
             }
            },
            "header": {
             "fill": {
              "color": "#C8D4E3"
             },
             "line": {
              "color": "white"
             }
            },
            "type": "table"
           }
          ]
         },
         "layout": {
          "annotationdefaults": {
           "arrowcolor": "#2a3f5f",
           "arrowhead": 0,
           "arrowwidth": 1
          },
          "colorscale": {
           "diverging": [
            [
             0,
             "#8e0152"
            ],
            [
             0.1,
             "#c51b7d"
            ],
            [
             0.2,
             "#de77ae"
            ],
            [
             0.3,
             "#f1b6da"
            ],
            [
             0.4,
             "#fde0ef"
            ],
            [
             0.5,
             "#f7f7f7"
            ],
            [
             0.6,
             "#e6f5d0"
            ],
            [
             0.7,
             "#b8e186"
            ],
            [
             0.8,
             "#7fbc41"
            ],
            [
             0.9,
             "#4d9221"
            ],
            [
             1,
             "#276419"
            ]
           ],
           "sequential": [
            [
             0,
             "#0d0887"
            ],
            [
             0.1111111111111111,
             "#46039f"
            ],
            [
             0.2222222222222222,
             "#7201a8"
            ],
            [
             0.3333333333333333,
             "#9c179e"
            ],
            [
             0.4444444444444444,
             "#bd3786"
            ],
            [
             0.5555555555555556,
             "#d8576b"
            ],
            [
             0.6666666666666666,
             "#ed7953"
            ],
            [
             0.7777777777777778,
             "#fb9f3a"
            ],
            [
             0.8888888888888888,
             "#fdca26"
            ],
            [
             1,
             "#f0f921"
            ]
           ],
           "sequentialminus": [
            [
             0,
             "#0d0887"
            ],
            [
             0.1111111111111111,
             "#46039f"
            ],
            [
             0.2222222222222222,
             "#7201a8"
            ],
            [
             0.3333333333333333,
             "#9c179e"
            ],
            [
             0.4444444444444444,
             "#bd3786"
            ],
            [
             0.5555555555555556,
             "#d8576b"
            ],
            [
             0.6666666666666666,
             "#ed7953"
            ],
            [
             0.7777777777777778,
             "#fb9f3a"
            ],
            [
             0.8888888888888888,
             "#fdca26"
            ],
            [
             1,
             "#f0f921"
            ]
           ]
          },
          "colorway": [
           "#636efa",
           "#EF553B",
           "#00cc96",
           "#ab63fa",
           "#FFA15A",
           "#19d3f3",
           "#FF6692",
           "#B6E880",
           "#FF97FF",
           "#FECB52"
          ],
          "font": {
           "color": "#2a3f5f"
          },
          "geo": {
           "bgcolor": "white",
           "lakecolor": "white",
           "landcolor": "#E5ECF6",
           "showlakes": true,
           "showland": true,
           "subunitcolor": "white"
          },
          "hoverlabel": {
           "align": "left"
          },
          "hovermode": "closest",
          "mapbox": {
           "style": "light"
          },
          "paper_bgcolor": "white",
          "plot_bgcolor": "#E5ECF6",
          "polar": {
           "angularaxis": {
            "gridcolor": "white",
            "linecolor": "white",
            "ticks": ""
           },
           "bgcolor": "#E5ECF6",
           "radialaxis": {
            "gridcolor": "white",
            "linecolor": "white",
            "ticks": ""
           }
          },
          "scene": {
           "xaxis": {
            "backgroundcolor": "#E5ECF6",
            "gridcolor": "white",
            "gridwidth": 2,
            "linecolor": "white",
            "showbackground": true,
            "ticks": "",
            "zerolinecolor": "white"
           },
           "yaxis": {
            "backgroundcolor": "#E5ECF6",
            "gridcolor": "white",
            "gridwidth": 2,
            "linecolor": "white",
            "showbackground": true,
            "ticks": "",
            "zerolinecolor": "white"
           },
           "zaxis": {
            "backgroundcolor": "#E5ECF6",
            "gridcolor": "white",
            "gridwidth": 2,
            "linecolor": "white",
            "showbackground": true,
            "ticks": "",
            "zerolinecolor": "white"
           }
          },
          "shapedefaults": {
           "line": {
            "color": "#2a3f5f"
           }
          },
          "ternary": {
           "aaxis": {
            "gridcolor": "white",
            "linecolor": "white",
            "ticks": ""
           },
           "baxis": {
            "gridcolor": "white",
            "linecolor": "white",
            "ticks": ""
           },
           "bgcolor": "#E5ECF6",
           "caxis": {
            "gridcolor": "white",
            "linecolor": "white",
            "ticks": ""
           }
          },
          "title": {
           "x": 0.05
          },
          "xaxis": {
           "automargin": true,
           "gridcolor": "white",
           "linecolor": "white",
           "ticks": "",
           "zerolinecolor": "white",
           "zerolinewidth": 2
          },
          "yaxis": {
           "automargin": true,
           "gridcolor": "white",
           "linecolor": "white",
           "ticks": "",
           "zerolinecolor": "white",
           "zerolinewidth": 2
          }
         }
        },
        "title": {
         "font": {
          "color": "#4D5663"
         },
         "text": "Uses per day"
        },
        "xaxis": {
         "gridcolor": "#E1E5ED",
         "showgrid": true,
         "tickfont": {
          "color": "#4D5663"
         },
         "title": {
          "font": {
           "color": "#4D5663"
          },
          "text": "Date"
         },
         "zerolinecolor": "#E1E5ED"
        },
        "yaxis": {
         "gridcolor": "#E1E5ED",
         "showgrid": true,
         "tickfont": {
          "color": "#4D5663"
         },
         "title": {
          "font": {
           "color": "#4D5663"
          },
          "text": "Number of used bikes"
         },
         "zerolinecolor": "#E1E5ED"
        }
       }
      },
      "text/html": [
       "<div>\n",
       "        \n",
       "        \n",
       "            <div id=\"78472946-cd6e-4a6b-81d5-b160e0e8288c\" class=\"plotly-graph-div\" style=\"height:525px; width:100%;\"></div>\n",
       "            <script type=\"text/javascript\">\n",
       "                require([\"plotly\"], function(Plotly) {\n",
       "                    window.PLOTLYENV=window.PLOTLYENV || {};\n",
       "                    window.PLOTLYENV.BASE_URL='https://plot.ly';\n",
       "                    \n",
       "                if (document.getElementById(\"78472946-cd6e-4a6b-81d5-b160e0e8288c\")) {\n",
       "                    Plotly.newPlot(\n",
       "                        '78472946-cd6e-4a6b-81d5-b160e0e8288c',\n",
       "                        [{\"line\": {\"color\": \"rgba(255, 153, 51, 1.0)\", \"dash\": \"solid\", \"shape\": \"linear\", \"width\": 1.3}, \"mode\": \"lines\", \"name\": \"Ciclo_Estacion_Retiro\", \"text\": \"\", \"type\": \"scatter\", \"x\": [\"2019-01-01\", \"2019-01-02\", \"2019-01-03\", \"2019-01-04\", \"2019-01-05\", \"2019-01-06\", \"2019-01-07\", \"2019-01-08\", \"2019-01-09\", \"2019-01-10\", \"2019-01-11\", \"2019-01-12\", \"2019-01-13\", \"2019-01-14\", \"2019-01-15\", \"2019-01-16\", \"2019-01-17\", \"2019-01-18\", \"2019-01-19\", \"2019-01-20\", \"2019-01-21\", \"2019-01-22\", \"2019-01-23\", \"2019-01-24\", \"2019-01-25\", \"2019-01-26\", \"2019-01-27\", \"2019-01-28\", \"2019-01-29\", \"2019-01-30\", \"2019-01-31\", \"2019-02-01\", \"2019-02-02\", \"2019-02-03\", \"2019-02-04\", \"2019-02-05\", \"2019-02-06\", \"2019-02-07\", \"2019-02-08\", \"2019-02-09\", \"2019-02-10\", \"2019-02-11\", \"2019-02-12\", \"2019-02-13\", \"2019-02-14\", \"2019-02-15\", \"2019-02-16\", \"2019-02-17\", \"2019-02-18\", \"2019-02-19\", \"2019-02-20\", \"2019-02-21\", \"2019-02-22\", \"2019-02-23\", \"2019-02-24\", \"2019-02-25\", \"2019-02-26\", \"2019-02-27\", \"2019-02-28\", \"2019-03-01\", \"2019-03-02\", \"2019-03-03\", \"2019-03-04\", \"2019-03-05\", \"2019-03-06\", \"2019-03-07\", \"2019-03-08\", \"2019-03-09\", \"2019-03-10\", \"2019-03-11\", \"2019-03-12\", \"2019-03-13\", \"2019-03-14\", \"2019-03-15\", \"2019-03-16\", \"2019-03-17\", \"2019-03-18\", \"2019-03-19\", \"2019-03-20\", \"2019-03-21\", \"2019-03-22\", \"2019-03-23\", \"2019-03-24\", \"2019-03-25\", \"2019-03-26\", \"2019-03-27\", \"2019-03-28\", \"2019-03-29\", \"2019-03-30\", \"2019-03-31\", \"2019-04-01\", \"2019-04-02\", \"2019-04-03\", \"2019-04-04\", \"2019-04-05\", \"2019-04-06\", \"2019-04-07\", \"2019-04-08\", \"2019-04-09\", \"2019-04-10\", \"2019-04-11\", \"2019-04-12\", \"2019-04-13\", \"2019-04-14\", \"2019-04-15\", \"2019-04-16\", \"2019-04-17\", \"2019-04-18\", \"2019-04-19\", \"2019-04-20\", \"2019-04-21\", \"2019-04-22\", \"2019-04-23\", \"2019-04-24\", \"2019-04-25\", \"2019-04-26\", \"2019-04-27\", \"2019-04-28\", \"2019-04-29\", \"2019-04-30\", \"2019-05-01\", \"2019-05-02\", \"2019-05-03\", \"2019-05-04\", \"2019-05-05\", \"2019-05-06\", \"2019-05-07\", \"2019-05-08\", \"2019-05-09\", \"2019-05-10\", \"2019-05-11\", \"2019-05-12\", \"2019-05-13\", \"2019-05-14\", \"2019-05-15\", \"2019-05-16\", \"2019-05-17\", \"2019-05-18\", \"2019-05-19\", \"2019-05-20\", \"2019-05-21\", \"2019-05-22\", \"2019-05-23\", \"2019-05-24\", \"2019-05-25\", \"2019-05-26\", \"2019-05-27\", \"2019-05-28\", \"2019-05-29\", \"2019-05-30\", \"2019-05-31\", \"2019-06-01\", \"2019-06-02\", \"2019-06-03\", \"2019-06-04\", \"2019-06-05\", \"2019-06-06\", \"2019-06-07\", \"2019-06-08\", \"2019-06-09\", \"2019-06-10\", \"2019-06-11\", \"2019-06-12\", \"2019-06-13\", \"2019-06-14\", \"2019-06-15\", \"2019-06-16\", \"2019-06-17\", \"2019-06-18\", \"2019-06-19\", \"2019-06-20\", \"2019-06-21\", \"2019-06-22\", \"2019-06-23\", \"2019-06-24\", \"2019-06-25\", \"2019-06-26\", \"2019-06-27\", \"2019-06-28\", \"2019-06-29\", \"2019-06-30\", \"2019-07-01\", \"2019-07-02\", \"2019-07-03\", \"2019-07-04\", \"2019-07-05\", \"2019-07-06\", \"2019-07-07\", \"2019-07-08\", \"2019-07-09\", \"2019-07-10\", \"2019-07-11\", \"2019-07-12\", \"2019-07-13\", \"2019-07-14\", \"2019-07-15\", \"2019-07-16\", \"2019-07-17\", \"2019-07-18\", \"2019-07-19\", \"2019-07-20\", \"2019-07-21\", \"2019-07-22\", \"2019-07-23\", \"2019-07-24\", \"2019-07-25\", \"2019-07-26\", \"2019-07-27\", \"2019-07-28\", \"2019-07-29\", \"2019-07-30\", \"2019-07-31\", \"2019-08-01\", \"2019-08-02\", \"2019-08-03\", \"2019-08-04\", \"2019-08-05\", \"2019-08-06\", \"2019-08-07\", \"2019-08-08\", \"2019-08-09\", \"2019-08-10\", \"2019-08-11\", \"2019-08-12\", \"2019-08-13\", \"2019-08-14\", \"2019-08-15\", \"2019-08-16\", \"2019-08-17\", \"2019-08-18\", \"2019-08-19\", \"2019-08-20\", \"2019-08-21\", \"2019-08-22\", \"2019-08-23\", \"2019-08-24\", \"2019-08-25\", \"2019-08-26\", \"2019-08-27\", \"2019-08-28\", \"2019-08-29\", \"2019-08-30\", \"2019-08-31\", \"2019-09-01\", \"2019-09-02\", \"2019-09-03\", \"2019-09-04\", \"2019-09-05\", \"2019-09-06\", \"2019-09-07\", \"2019-09-08\", \"2019-09-09\", \"2019-09-10\", \"2019-09-11\", \"2019-09-12\", \"2019-09-13\", \"2019-09-14\", \"2019-09-15\", \"2019-09-16\", \"2019-09-17\", \"2019-09-18\", \"2019-09-19\", \"2019-09-20\", \"2019-09-21\", \"2019-09-22\", \"2019-09-23\", \"2019-09-24\", \"2019-09-25\", \"2019-09-26\", \"2019-09-27\", \"2019-09-28\", \"2019-09-29\", \"2019-09-30\"], \"y\": [3754, 17252, 19927, 20149, 10379, 9457, 25996, 27710, 28372, 29572, 27774, 12394, 10209, 28746, 29687, 30089, 29077, 28047, 12239, 10996, 28815, 30199, 29508, 26702, 27718, 12547, 10964, 29123, 30438, 29875, 29627, 27593, 11465, 9290, 9800, 29747, 30516, 30315, 29268, 12983, 11544, 30007, 30948, 27016, 30638, 29950, 12886, 11430, 30746, 32356, 31943, 31487, 30348, 14868, 11399, 28366, 32623, 32420, 32139, 29889, 13260, 11810, 26394, 28921, 31621, 31490, 31530, 13767, 12239, 31588, 31098, 32427, 32199, 29926, 11950, 9742, 10388, 30192, 32133, 31029, 29687, 13346, 11520, 30774, 32346, 32576, 31992, 30392, 14856, 11154, 31542, 33571, 32716, 31022, 30425, 13217, 11488, 29940, 32129, 32545, 32220, 30409, 13038, 11127, 26882, 27199, 24950, 10941, 8446, 8550, 9478, 26482, 30126, 30168, 29736, 21801, 51, 10633, 28906, 30306, 12121, 29602, 28499, 12459, 11004, 30472, 32105, 31813, 30842, 23844, 12048, 10325, 30011, 30268, 26757, 23509, 24287, 12164, 10540, 29722, 29757, 31080, 30674, 28157, 12704, 11160, 30381, 32255, 31994, 31743, 28611, 11501, 11080, 31478, 30536, 26887, 23783, 24479, 13480, 11781, 30308, 32536, 32446, 27449, 28716, 13093, 10279, 30092, 29680, 31943, 29387, 28869, 13260, 9461, 23363, 29280, 29677, 29147, 28094, 13596, 10012, 27540, 27508, 30354, 27725, 28884, 11694, 11205, 22559, 30390, 26654, 27501, 25231, 10622, 10024, 27899, 29159, 29798, 23946, 25177, 11742, 10205, 28012, 26020, 28377, 18169, 19847, 11926, 9841, 27295, 29622, 28364, 29370, 27295, 12440, 10829, 24023, 28879, 26972, 30270, 26657, 12907, 10179, 27702, 30279, 30118, 30218, 29198, 12629, 10937, 29267, 31164, 30737, 27990, 27442, 12470, 11498, 29784, 31587, 32061, 30887, 29375, 13513, 11767, 30913, 31654, 31061, 30485, 29321, 12008, 11249, 29891, 26991, 29363, 30047, 26250, 10496, 8615, 6549, 26714, 26237, 25379, 25841, 13709, 11309, 30155, 25461, 25232, 30404, 29399, 12838, 7605, 26822]}],\n",
       "                        {\"legend\": {\"bgcolor\": \"#F5F6F9\", \"font\": {\"color\": \"#4D5663\"}}, \"paper_bgcolor\": \"#F5F6F9\", \"plot_bgcolor\": \"#F5F6F9\", \"template\": {\"data\": {\"bar\": [{\"error_x\": {\"color\": \"#2a3f5f\"}, \"error_y\": {\"color\": \"#2a3f5f\"}, \"marker\": {\"line\": {\"color\": \"#E5ECF6\", \"width\": 0.5}}, \"type\": \"bar\"}], \"barpolar\": [{\"marker\": {\"line\": {\"color\": \"#E5ECF6\", \"width\": 0.5}}, \"type\": \"barpolar\"}], \"carpet\": [{\"aaxis\": {\"endlinecolor\": \"#2a3f5f\", \"gridcolor\": \"white\", \"linecolor\": \"white\", \"minorgridcolor\": \"white\", \"startlinecolor\": \"#2a3f5f\"}, \"baxis\": {\"endlinecolor\": \"#2a3f5f\", \"gridcolor\": \"white\", \"linecolor\": \"white\", \"minorgridcolor\": \"white\", \"startlinecolor\": \"#2a3f5f\"}, \"type\": \"carpet\"}], \"choropleth\": [{\"colorbar\": {\"outlinewidth\": 0, \"ticks\": \"\"}, \"type\": \"choropleth\"}], \"contour\": [{\"colorbar\": {\"outlinewidth\": 0, \"ticks\": \"\"}, \"colorscale\": [[0.0, \"#0d0887\"], [0.1111111111111111, \"#46039f\"], [0.2222222222222222, \"#7201a8\"], [0.3333333333333333, \"#9c179e\"], [0.4444444444444444, \"#bd3786\"], [0.5555555555555556, \"#d8576b\"], [0.6666666666666666, \"#ed7953\"], [0.7777777777777778, \"#fb9f3a\"], [0.8888888888888888, \"#fdca26\"], [1.0, \"#f0f921\"]], \"type\": \"contour\"}], \"contourcarpet\": [{\"colorbar\": {\"outlinewidth\": 0, \"ticks\": \"\"}, \"type\": \"contourcarpet\"}], \"heatmap\": [{\"colorbar\": {\"outlinewidth\": 0, \"ticks\": \"\"}, \"colorscale\": [[0.0, \"#0d0887\"], [0.1111111111111111, \"#46039f\"], [0.2222222222222222, \"#7201a8\"], [0.3333333333333333, \"#9c179e\"], [0.4444444444444444, \"#bd3786\"], [0.5555555555555556, \"#d8576b\"], [0.6666666666666666, \"#ed7953\"], [0.7777777777777778, \"#fb9f3a\"], [0.8888888888888888, \"#fdca26\"], [1.0, \"#f0f921\"]], \"type\": \"heatmap\"}], \"heatmapgl\": [{\"colorbar\": {\"outlinewidth\": 0, \"ticks\": \"\"}, \"colorscale\": [[0.0, \"#0d0887\"], [0.1111111111111111, \"#46039f\"], [0.2222222222222222, \"#7201a8\"], [0.3333333333333333, \"#9c179e\"], [0.4444444444444444, \"#bd3786\"], [0.5555555555555556, \"#d8576b\"], [0.6666666666666666, \"#ed7953\"], [0.7777777777777778, \"#fb9f3a\"], [0.8888888888888888, \"#fdca26\"], [1.0, \"#f0f921\"]], \"type\": \"heatmapgl\"}], \"histogram\": [{\"marker\": {\"colorbar\": {\"outlinewidth\": 0, \"ticks\": \"\"}}, \"type\": \"histogram\"}], \"histogram2d\": [{\"colorbar\": {\"outlinewidth\": 0, \"ticks\": \"\"}, \"colorscale\": [[0.0, \"#0d0887\"], [0.1111111111111111, \"#46039f\"], [0.2222222222222222, \"#7201a8\"], [0.3333333333333333, \"#9c179e\"], [0.4444444444444444, \"#bd3786\"], [0.5555555555555556, \"#d8576b\"], [0.6666666666666666, \"#ed7953\"], [0.7777777777777778, \"#fb9f3a\"], [0.8888888888888888, \"#fdca26\"], [1.0, \"#f0f921\"]], \"type\": \"histogram2d\"}], \"histogram2dcontour\": [{\"colorbar\": {\"outlinewidth\": 0, \"ticks\": \"\"}, \"colorscale\": [[0.0, \"#0d0887\"], [0.1111111111111111, \"#46039f\"], [0.2222222222222222, \"#7201a8\"], [0.3333333333333333, \"#9c179e\"], [0.4444444444444444, \"#bd3786\"], [0.5555555555555556, \"#d8576b\"], [0.6666666666666666, \"#ed7953\"], [0.7777777777777778, \"#fb9f3a\"], [0.8888888888888888, \"#fdca26\"], [1.0, \"#f0f921\"]], \"type\": \"histogram2dcontour\"}], \"mesh3d\": [{\"colorbar\": {\"outlinewidth\": 0, \"ticks\": \"\"}, \"type\": \"mesh3d\"}], \"parcoords\": [{\"line\": {\"colorbar\": {\"outlinewidth\": 0, \"ticks\": \"\"}}, \"type\": \"parcoords\"}], \"scatter\": [{\"marker\": {\"colorbar\": {\"outlinewidth\": 0, \"ticks\": \"\"}}, \"type\": \"scatter\"}], \"scatter3d\": [{\"line\": {\"colorbar\": {\"outlinewidth\": 0, \"ticks\": \"\"}}, \"marker\": {\"colorbar\": {\"outlinewidth\": 0, \"ticks\": \"\"}}, \"type\": \"scatter3d\"}], \"scattercarpet\": [{\"marker\": {\"colorbar\": {\"outlinewidth\": 0, \"ticks\": \"\"}}, \"type\": \"scattercarpet\"}], \"scattergeo\": [{\"marker\": {\"colorbar\": {\"outlinewidth\": 0, \"ticks\": \"\"}}, \"type\": \"scattergeo\"}], \"scattergl\": [{\"marker\": {\"colorbar\": {\"outlinewidth\": 0, \"ticks\": \"\"}}, \"type\": \"scattergl\"}], \"scattermapbox\": [{\"marker\": {\"colorbar\": {\"outlinewidth\": 0, \"ticks\": \"\"}}, \"type\": \"scattermapbox\"}], \"scatterpolar\": [{\"marker\": {\"colorbar\": {\"outlinewidth\": 0, \"ticks\": \"\"}}, \"type\": \"scatterpolar\"}], \"scatterpolargl\": [{\"marker\": {\"colorbar\": {\"outlinewidth\": 0, \"ticks\": \"\"}}, \"type\": \"scatterpolargl\"}], \"scatterternary\": [{\"marker\": {\"colorbar\": {\"outlinewidth\": 0, \"ticks\": \"\"}}, \"type\": \"scatterternary\"}], \"surface\": [{\"colorbar\": {\"outlinewidth\": 0, \"ticks\": \"\"}, \"colorscale\": [[0.0, \"#0d0887\"], [0.1111111111111111, \"#46039f\"], [0.2222222222222222, \"#7201a8\"], [0.3333333333333333, \"#9c179e\"], [0.4444444444444444, \"#bd3786\"], [0.5555555555555556, \"#d8576b\"], [0.6666666666666666, \"#ed7953\"], [0.7777777777777778, \"#fb9f3a\"], [0.8888888888888888, \"#fdca26\"], [1.0, \"#f0f921\"]], \"type\": \"surface\"}], \"table\": [{\"cells\": {\"fill\": {\"color\": \"#EBF0F8\"}, \"line\": {\"color\": \"white\"}}, \"header\": {\"fill\": {\"color\": \"#C8D4E3\"}, \"line\": {\"color\": \"white\"}}, \"type\": \"table\"}]}, \"layout\": {\"annotationdefaults\": {\"arrowcolor\": \"#2a3f5f\", \"arrowhead\": 0, \"arrowwidth\": 1}, \"colorscale\": {\"diverging\": [[0, \"#8e0152\"], [0.1, \"#c51b7d\"], [0.2, \"#de77ae\"], [0.3, \"#f1b6da\"], [0.4, \"#fde0ef\"], [0.5, \"#f7f7f7\"], [0.6, \"#e6f5d0\"], [0.7, \"#b8e186\"], [0.8, \"#7fbc41\"], [0.9, \"#4d9221\"], [1, \"#276419\"]], \"sequential\": [[0.0, \"#0d0887\"], [0.1111111111111111, \"#46039f\"], [0.2222222222222222, \"#7201a8\"], [0.3333333333333333, \"#9c179e\"], [0.4444444444444444, \"#bd3786\"], [0.5555555555555556, \"#d8576b\"], [0.6666666666666666, \"#ed7953\"], [0.7777777777777778, \"#fb9f3a\"], [0.8888888888888888, \"#fdca26\"], [1.0, \"#f0f921\"]], \"sequentialminus\": [[0.0, \"#0d0887\"], [0.1111111111111111, \"#46039f\"], [0.2222222222222222, \"#7201a8\"], [0.3333333333333333, \"#9c179e\"], [0.4444444444444444, \"#bd3786\"], [0.5555555555555556, \"#d8576b\"], [0.6666666666666666, \"#ed7953\"], [0.7777777777777778, \"#fb9f3a\"], [0.8888888888888888, \"#fdca26\"], [1.0, \"#f0f921\"]]}, \"colorway\": [\"#636efa\", \"#EF553B\", \"#00cc96\", \"#ab63fa\", \"#FFA15A\", \"#19d3f3\", \"#FF6692\", \"#B6E880\", \"#FF97FF\", \"#FECB52\"], \"font\": {\"color\": \"#2a3f5f\"}, \"geo\": {\"bgcolor\": \"white\", \"lakecolor\": \"white\", \"landcolor\": \"#E5ECF6\", \"showlakes\": true, \"showland\": true, \"subunitcolor\": \"white\"}, \"hoverlabel\": {\"align\": \"left\"}, \"hovermode\": \"closest\", \"mapbox\": {\"style\": \"light\"}, \"paper_bgcolor\": \"white\", \"plot_bgcolor\": \"#E5ECF6\", \"polar\": {\"angularaxis\": {\"gridcolor\": \"white\", \"linecolor\": \"white\", \"ticks\": \"\"}, \"bgcolor\": \"#E5ECF6\", \"radialaxis\": {\"gridcolor\": \"white\", \"linecolor\": \"white\", \"ticks\": \"\"}}, \"scene\": {\"xaxis\": {\"backgroundcolor\": \"#E5ECF6\", \"gridcolor\": \"white\", \"gridwidth\": 2, \"linecolor\": \"white\", \"showbackground\": true, \"ticks\": \"\", \"zerolinecolor\": \"white\"}, \"yaxis\": {\"backgroundcolor\": \"#E5ECF6\", \"gridcolor\": \"white\", \"gridwidth\": 2, \"linecolor\": \"white\", \"showbackground\": true, \"ticks\": \"\", \"zerolinecolor\": \"white\"}, \"zaxis\": {\"backgroundcolor\": \"#E5ECF6\", \"gridcolor\": \"white\", \"gridwidth\": 2, \"linecolor\": \"white\", \"showbackground\": true, \"ticks\": \"\", \"zerolinecolor\": \"white\"}}, \"shapedefaults\": {\"line\": {\"color\": \"#2a3f5f\"}}, \"ternary\": {\"aaxis\": {\"gridcolor\": \"white\", \"linecolor\": \"white\", \"ticks\": \"\"}, \"baxis\": {\"gridcolor\": \"white\", \"linecolor\": \"white\", \"ticks\": \"\"}, \"bgcolor\": \"#E5ECF6\", \"caxis\": {\"gridcolor\": \"white\", \"linecolor\": \"white\", \"ticks\": \"\"}}, \"title\": {\"x\": 0.05}, \"xaxis\": {\"automargin\": true, \"gridcolor\": \"white\", \"linecolor\": \"white\", \"ticks\": \"\", \"zerolinecolor\": \"white\", \"zerolinewidth\": 2}, \"yaxis\": {\"automargin\": true, \"gridcolor\": \"white\", \"linecolor\": \"white\", \"ticks\": \"\", \"zerolinecolor\": \"white\", \"zerolinewidth\": 2}}}, \"title\": {\"font\": {\"color\": \"#4D5663\"}, \"text\": \"Uses per day\"}, \"xaxis\": {\"gridcolor\": \"#E1E5ED\", \"showgrid\": true, \"tickfont\": {\"color\": \"#4D5663\"}, \"title\": {\"font\": {\"color\": \"#4D5663\"}, \"text\": \"Date\"}, \"zerolinecolor\": \"#E1E5ED\"}, \"yaxis\": {\"gridcolor\": \"#E1E5ED\", \"showgrid\": true, \"tickfont\": {\"color\": \"#4D5663\"}, \"title\": {\"font\": {\"color\": \"#4D5663\"}, \"text\": \"Number of used bikes\"}, \"zerolinecolor\": \"#E1E5ED\"}},\n",
       "                        {\"showLink\": true, \"linkText\": \"Export to plot.ly\", \"plotlyServerURL\": \"https://plot.ly\", \"responsive\": true}\n",
       "                    ).then(function(){\n",
       "                            \n",
       "var gd = document.getElementById('78472946-cd6e-4a6b-81d5-b160e0e8288c');\n",
       "var x = new MutationObserver(function (mutations, observer) {{\n",
       "        var display = window.getComputedStyle(gd).display;\n",
       "        if (!display || display === 'none') {{\n",
       "            console.log([gd, 'removed!']);\n",
       "            Plotly.purge(gd);\n",
       "            observer.disconnect();\n",
       "        }}\n",
       "}});\n",
       "\n",
       "// Listen for the removal of the full notebook cells\n",
       "var notebookContainer = gd.closest('#notebook-container');\n",
       "if (notebookContainer) {{\n",
       "    x.observe(notebookContainer, {childList: true});\n",
       "}}\n",
       "\n",
       "// Listen for the clearing of the current output cell\n",
       "var outputEl = gd.closest('.output');\n",
       "if (outputEl) {{\n",
       "    x.observe(outputEl, {childList: true});\n",
       "}}\n",
       "\n",
       "                        })\n",
       "                };\n",
       "                });\n",
       "            </script>\n",
       "        </div>"
      ]
     },
     "metadata": {},
     "output_type": "display_data"
    }
   ],
   "source": [
    "data_bici_count.iplot(x = 'Fecha_Retiro',y = 'Ciclo_Estacion_Retiro', xTitle = 'Date', yTitle = 'Number of used bikes', title = 'Uses per day')"
   ]
  },
  {
   "cell_type": "markdown",
   "metadata": {},
   "source": [
    "### Cyclical Data"
   ]
  },
  {
   "cell_type": "markdown",
   "metadata": {},
   "source": [
    "Circular area chart"
   ]
  },
  {
   "cell_type": "code",
   "execution_count": 20,
   "metadata": {},
   "outputs": [],
   "source": [
    "data_lalokka = pd.read_csv('csv/Sodankyla_data.csv', index_col = 'Unnamed: 0')"
   ]
  },
  {
   "cell_type": "code",
   "execution_count": 21,
   "metadata": {},
   "outputs": [
    {
     "data": {
      "text/html": [
       "<div>\n",
       "<style scoped>\n",
       "    .dataframe tbody tr th:only-of-type {\n",
       "        vertical-align: middle;\n",
       "    }\n",
       "\n",
       "    .dataframe tbody tr th {\n",
       "        vertical-align: top;\n",
       "    }\n",
       "\n",
       "    .dataframe thead th {\n",
       "        text-align: right;\n",
       "    }\n",
       "</style>\n",
       "<table border=\"1\" class=\"dataframe\">\n",
       "  <thead>\n",
       "    <tr style=\"text-align: right;\">\n",
       "      <th></th>\n",
       "      <th>DATE_m</th>\n",
       "      <th>TAVG</th>\n",
       "      <th>temp_celsius</th>\n",
       "      <th>Month</th>\n",
       "      <th>ref_temp</th>\n",
       "      <th>Diff</th>\n",
       "      <th>STATION</th>\n",
       "    </tr>\n",
       "  </thead>\n",
       "  <tbody>\n",
       "    <tr>\n",
       "      <th>0</th>\n",
       "      <td>195901</td>\n",
       "      <td>NaN</td>\n",
       "      <td>NaN</td>\n",
       "      <td>1</td>\n",
       "      <td>-14.708388</td>\n",
       "      <td>NaN</td>\n",
       "      <td>SODANKYLA LOKKA FI</td>\n",
       "    </tr>\n",
       "    <tr>\n",
       "      <th>1</th>\n",
       "      <td>195902</td>\n",
       "      <td>NaN</td>\n",
       "      <td>NaN</td>\n",
       "      <td>2</td>\n",
       "      <td>-14.130261</td>\n",
       "      <td>NaN</td>\n",
       "      <td>SODANKYLA LOKKA FI</td>\n",
       "    </tr>\n",
       "    <tr>\n",
       "      <th>2</th>\n",
       "      <td>195903</td>\n",
       "      <td>NaN</td>\n",
       "      <td>NaN</td>\n",
       "      <td>3</td>\n",
       "      <td>-9.546836</td>\n",
       "      <td>NaN</td>\n",
       "      <td>SODANKYLA LOKKA FI</td>\n",
       "    </tr>\n",
       "    <tr>\n",
       "      <th>3</th>\n",
       "      <td>195904</td>\n",
       "      <td>NaN</td>\n",
       "      <td>NaN</td>\n",
       "      <td>4</td>\n",
       "      <td>-3.067089</td>\n",
       "      <td>NaN</td>\n",
       "      <td>SODANKYLA LOKKA FI</td>\n",
       "    </tr>\n",
       "    <tr>\n",
       "      <th>4</th>\n",
       "      <td>195905</td>\n",
       "      <td>41.467742</td>\n",
       "      <td>5.259857</td>\n",
       "      <td>5</td>\n",
       "      <td>3.889291</td>\n",
       "      <td>1.370566</td>\n",
       "      <td>SODANKYLA LOKKA FI</td>\n",
       "    </tr>\n",
       "    <tr>\n",
       "      <th>5</th>\n",
       "      <td>195906</td>\n",
       "      <td>52.083333</td>\n",
       "      <td>11.157407</td>\n",
       "      <td>6</td>\n",
       "      <td>10.392185</td>\n",
       "      <td>0.765223</td>\n",
       "      <td>SODANKYLA LOKKA FI</td>\n",
       "    </tr>\n",
       "    <tr>\n",
       "      <th>6</th>\n",
       "      <td>195907</td>\n",
       "      <td>54.950000</td>\n",
       "      <td>12.750000</td>\n",
       "      <td>7</td>\n",
       "      <td>13.516478</td>\n",
       "      <td>-0.766478</td>\n",
       "      <td>SODANKYLA LOKKA FI</td>\n",
       "    </tr>\n",
       "    <tr>\n",
       "      <th>7</th>\n",
       "      <td>195908</td>\n",
       "      <td>52.564516</td>\n",
       "      <td>11.424731</td>\n",
       "      <td>8</td>\n",
       "      <td>10.975930</td>\n",
       "      <td>0.448801</td>\n",
       "      <td>SODANKYLA LOKKA FI</td>\n",
       "    </tr>\n",
       "    <tr>\n",
       "      <th>8</th>\n",
       "      <td>195909</td>\n",
       "      <td>38.833333</td>\n",
       "      <td>3.796296</td>\n",
       "      <td>9</td>\n",
       "      <td>5.771552</td>\n",
       "      <td>-1.975255</td>\n",
       "      <td>SODANKYLA LOKKA FI</td>\n",
       "    </tr>\n",
       "    <tr>\n",
       "      <th>9</th>\n",
       "      <td>195910</td>\n",
       "      <td>28.370968</td>\n",
       "      <td>-2.016129</td>\n",
       "      <td>10</td>\n",
       "      <td>-0.862996</td>\n",
       "      <td>-1.153133</td>\n",
       "      <td>SODANKYLA LOKKA FI</td>\n",
       "    </tr>\n",
       "  </tbody>\n",
       "</table>\n",
       "</div>"
      ],
      "text/plain": [
       "   DATE_m       TAVG  temp_celsius  Month   ref_temp      Diff  \\\n",
       "0  195901        NaN           NaN      1 -14.708388       NaN   \n",
       "1  195902        NaN           NaN      2 -14.130261       NaN   \n",
       "2  195903        NaN           NaN      3  -9.546836       NaN   \n",
       "3  195904        NaN           NaN      4  -3.067089       NaN   \n",
       "4  195905  41.467742      5.259857      5   3.889291  1.370566   \n",
       "5  195906  52.083333     11.157407      6  10.392185  0.765223   \n",
       "6  195907  54.950000     12.750000      7  13.516478 -0.766478   \n",
       "7  195908  52.564516     11.424731      8  10.975930  0.448801   \n",
       "8  195909  38.833333      3.796296      9   5.771552 -1.975255   \n",
       "9  195910  28.370968     -2.016129     10  -0.862996 -1.153133   \n",
       "\n",
       "              STATION  \n",
       "0  SODANKYLA LOKKA FI  \n",
       "1  SODANKYLA LOKKA FI  \n",
       "2  SODANKYLA LOKKA FI  \n",
       "3  SODANKYLA LOKKA FI  \n",
       "4  SODANKYLA LOKKA FI  \n",
       "5  SODANKYLA LOKKA FI  \n",
       "6  SODANKYLA LOKKA FI  \n",
       "7  SODANKYLA LOKKA FI  \n",
       "8  SODANKYLA LOKKA FI  \n",
       "9  SODANKYLA LOKKA FI  "
      ]
     },
     "execution_count": 21,
     "metadata": {},
     "output_type": "execute_result"
    }
   ],
   "source": [
    "data_lalokka.head(10)"
   ]
  },
  {
   "cell_type": "markdown",
   "metadata": {},
   "source": [
    "1. TAVG: IT is the temperature average of the montn on Fahrenheit\n",
    "1. temp_celsius: TAVG on celsius"
   ]
  },
  {
   "cell_type": "code",
   "execution_count": 22,
   "metadata": {},
   "outputs": [
    {
     "data": {
      "text/html": [
       "<div>\n",
       "<style scoped>\n",
       "    .dataframe tbody tr th:only-of-type {\n",
       "        vertical-align: middle;\n",
       "    }\n",
       "\n",
       "    .dataframe tbody tr th {\n",
       "        vertical-align: top;\n",
       "    }\n",
       "\n",
       "    .dataframe thead th {\n",
       "        text-align: right;\n",
       "    }\n",
       "</style>\n",
       "<table border=\"1\" class=\"dataframe\">\n",
       "  <thead>\n",
       "    <tr style=\"text-align: right;\">\n",
       "      <th></th>\n",
       "      <th>DATE_m</th>\n",
       "      <th>TAVG</th>\n",
       "      <th>temp_celsius</th>\n",
       "      <th>Month</th>\n",
       "    </tr>\n",
       "  </thead>\n",
       "  <tbody>\n",
       "    <tr>\n",
       "      <th>0</th>\n",
       "      <td>195901</td>\n",
       "      <td>NaN</td>\n",
       "      <td>NaN</td>\n",
       "      <td>1</td>\n",
       "    </tr>\n",
       "    <tr>\n",
       "      <th>1</th>\n",
       "      <td>195902</td>\n",
       "      <td>NaN</td>\n",
       "      <td>NaN</td>\n",
       "      <td>2</td>\n",
       "    </tr>\n",
       "    <tr>\n",
       "      <th>2</th>\n",
       "      <td>195903</td>\n",
       "      <td>NaN</td>\n",
       "      <td>NaN</td>\n",
       "      <td>3</td>\n",
       "    </tr>\n",
       "    <tr>\n",
       "      <th>3</th>\n",
       "      <td>195904</td>\n",
       "      <td>NaN</td>\n",
       "      <td>NaN</td>\n",
       "      <td>4</td>\n",
       "    </tr>\n",
       "    <tr>\n",
       "      <th>4</th>\n",
       "      <td>195905</td>\n",
       "      <td>41.467742</td>\n",
       "      <td>5.259857</td>\n",
       "      <td>5</td>\n",
       "    </tr>\n",
       "    <tr>\n",
       "      <th>...</th>\n",
       "      <td>...</td>\n",
       "      <td>...</td>\n",
       "      <td>...</td>\n",
       "      <td>...</td>\n",
       "    </tr>\n",
       "    <tr>\n",
       "      <th>693</th>\n",
       "      <td>201903</td>\n",
       "      <td>15.193548</td>\n",
       "      <td>-9.336918</td>\n",
       "      <td>3</td>\n",
       "    </tr>\n",
       "    <tr>\n",
       "      <th>694</th>\n",
       "      <td>201904</td>\n",
       "      <td>31.633333</td>\n",
       "      <td>-0.203704</td>\n",
       "      <td>4</td>\n",
       "    </tr>\n",
       "    <tr>\n",
       "      <th>695</th>\n",
       "      <td>201905</td>\n",
       "      <td>39.370968</td>\n",
       "      <td>4.094982</td>\n",
       "      <td>5</td>\n",
       "    </tr>\n",
       "    <tr>\n",
       "      <th>696</th>\n",
       "      <td>201906</td>\n",
       "      <td>51.116667</td>\n",
       "      <td>10.620370</td>\n",
       "      <td>6</td>\n",
       "    </tr>\n",
       "    <tr>\n",
       "      <th>697</th>\n",
       "      <td>201907</td>\n",
       "      <td>53.516129</td>\n",
       "      <td>11.953405</td>\n",
       "      <td>7</td>\n",
       "    </tr>\n",
       "  </tbody>\n",
       "</table>\n",
       "<p>698 rows × 4 columns</p>\n",
       "</div>"
      ],
      "text/plain": [
       "     DATE_m       TAVG  temp_celsius  Month\n",
       "0    195901        NaN           NaN      1\n",
       "1    195902        NaN           NaN      2\n",
       "2    195903        NaN           NaN      3\n",
       "3    195904        NaN           NaN      4\n",
       "4    195905  41.467742      5.259857      5\n",
       "..      ...        ...           ...    ...\n",
       "693  201903  15.193548     -9.336918      3\n",
       "694  201904  31.633333     -0.203704      4\n",
       "695  201905  39.370968      4.094982      5\n",
       "696  201906  51.116667     10.620370      6\n",
       "697  201907  53.516129     11.953405      7\n",
       "\n",
       "[698 rows x 4 columns]"
      ]
     },
     "execution_count": 22,
     "metadata": {},
     "output_type": "execute_result"
    }
   ],
   "source": [
    "data_lalokka.drop(['ref_temp','Diff','STATION'],axis = 1, inplace = True)\n",
    "data_lalokka"
   ]
  },
  {
   "cell_type": "code",
   "execution_count": 23,
   "metadata": {},
   "outputs": [
    {
     "data": {
      "text/html": [
       "<div>\n",
       "<style scoped>\n",
       "    .dataframe tbody tr th:only-of-type {\n",
       "        vertical-align: middle;\n",
       "    }\n",
       "\n",
       "    .dataframe tbody tr th {\n",
       "        vertical-align: top;\n",
       "    }\n",
       "\n",
       "    .dataframe thead th {\n",
       "        text-align: right;\n",
       "    }\n",
       "</style>\n",
       "<table border=\"1\" class=\"dataframe\">\n",
       "  <thead>\n",
       "    <tr style=\"text-align: right;\">\n",
       "      <th></th>\n",
       "      <th>TAVG</th>\n",
       "      <th>temp_celsius</th>\n",
       "      <th>Month</th>\n",
       "      <th>Year</th>\n",
       "    </tr>\n",
       "  </thead>\n",
       "  <tbody>\n",
       "    <tr>\n",
       "      <th>0</th>\n",
       "      <td>NaN</td>\n",
       "      <td>NaN</td>\n",
       "      <td>1</td>\n",
       "      <td>1959</td>\n",
       "    </tr>\n",
       "    <tr>\n",
       "      <th>1</th>\n",
       "      <td>NaN</td>\n",
       "      <td>NaN</td>\n",
       "      <td>2</td>\n",
       "      <td>1959</td>\n",
       "    </tr>\n",
       "    <tr>\n",
       "      <th>2</th>\n",
       "      <td>NaN</td>\n",
       "      <td>NaN</td>\n",
       "      <td>3</td>\n",
       "      <td>1959</td>\n",
       "    </tr>\n",
       "    <tr>\n",
       "      <th>3</th>\n",
       "      <td>NaN</td>\n",
       "      <td>NaN</td>\n",
       "      <td>4</td>\n",
       "      <td>1959</td>\n",
       "    </tr>\n",
       "    <tr>\n",
       "      <th>4</th>\n",
       "      <td>41.467742</td>\n",
       "      <td>5.259857</td>\n",
       "      <td>5</td>\n",
       "      <td>1959</td>\n",
       "    </tr>\n",
       "    <tr>\n",
       "      <th>...</th>\n",
       "      <td>...</td>\n",
       "      <td>...</td>\n",
       "      <td>...</td>\n",
       "      <td>...</td>\n",
       "    </tr>\n",
       "    <tr>\n",
       "      <th>693</th>\n",
       "      <td>15.193548</td>\n",
       "      <td>-9.336918</td>\n",
       "      <td>3</td>\n",
       "      <td>2019</td>\n",
       "    </tr>\n",
       "    <tr>\n",
       "      <th>694</th>\n",
       "      <td>31.633333</td>\n",
       "      <td>-0.203704</td>\n",
       "      <td>4</td>\n",
       "      <td>2019</td>\n",
       "    </tr>\n",
       "    <tr>\n",
       "      <th>695</th>\n",
       "      <td>39.370968</td>\n",
       "      <td>4.094982</td>\n",
       "      <td>5</td>\n",
       "      <td>2019</td>\n",
       "    </tr>\n",
       "    <tr>\n",
       "      <th>696</th>\n",
       "      <td>51.116667</td>\n",
       "      <td>10.620370</td>\n",
       "      <td>6</td>\n",
       "      <td>2019</td>\n",
       "    </tr>\n",
       "    <tr>\n",
       "      <th>697</th>\n",
       "      <td>53.516129</td>\n",
       "      <td>11.953405</td>\n",
       "      <td>7</td>\n",
       "      <td>2019</td>\n",
       "    </tr>\n",
       "  </tbody>\n",
       "</table>\n",
       "<p>698 rows × 4 columns</p>\n",
       "</div>"
      ],
      "text/plain": [
       "          TAVG  temp_celsius  Month  Year\n",
       "0          NaN           NaN      1  1959\n",
       "1          NaN           NaN      2  1959\n",
       "2          NaN           NaN      3  1959\n",
       "3          NaN           NaN      4  1959\n",
       "4    41.467742      5.259857      5  1959\n",
       "..         ...           ...    ...   ...\n",
       "693  15.193548     -9.336918      3  2019\n",
       "694  31.633333     -0.203704      4  2019\n",
       "695  39.370968      4.094982      5  2019\n",
       "696  51.116667     10.620370      6  2019\n",
       "697  53.516129     11.953405      7  2019\n",
       "\n",
       "[698 rows x 4 columns]"
      ]
     },
     "execution_count": 23,
     "metadata": {},
     "output_type": "execute_result"
    }
   ],
   "source": [
    "#getting a new column called year\n",
    "data_lalokka['Year'] = data_lalokka.DATE_m.astype(str).str.slice(start = 0, stop = 4)\n",
    "data_lalokka.drop(['DATE_m'], axis = 1,inplace = True)\n",
    "data_lalokka"
   ]
  },
  {
   "cell_type": "code",
   "execution_count": 24,
   "metadata": {},
   "outputs": [],
   "source": [
    "data_lalokka = data_lalokka.loc[(data_lalokka.Year.astype(int) > 2012) & (data_lalokka.Year.astype(int) < 2019)]"
   ]
  },
  {
   "cell_type": "code",
   "execution_count": 25,
   "metadata": {},
   "outputs": [
    {
     "data": {
      "text/html": [
       "<div>\n",
       "<style scoped>\n",
       "    .dataframe tbody tr th:only-of-type {\n",
       "        vertical-align: middle;\n",
       "    }\n",
       "\n",
       "    .dataframe tbody tr th {\n",
       "        vertical-align: top;\n",
       "    }\n",
       "\n",
       "    .dataframe thead th {\n",
       "        text-align: right;\n",
       "    }\n",
       "</style>\n",
       "<table border=\"1\" class=\"dataframe\">\n",
       "  <thead>\n",
       "    <tr style=\"text-align: right;\">\n",
       "      <th></th>\n",
       "      <th>Month</th>\n",
       "      <th>Year</th>\n",
       "      <th>temp_celsius</th>\n",
       "    </tr>\n",
       "  </thead>\n",
       "  <tbody>\n",
       "    <tr>\n",
       "      <th>619</th>\n",
       "      <td>January</td>\n",
       "      <td>2013</td>\n",
       "      <td>-11.003584</td>\n",
       "    </tr>\n",
       "    <tr>\n",
       "      <th>620</th>\n",
       "      <td>February</td>\n",
       "      <td>2013</td>\n",
       "      <td>-10.575397</td>\n",
       "    </tr>\n",
       "    <tr>\n",
       "      <th>621</th>\n",
       "      <td>March</td>\n",
       "      <td>2013</td>\n",
       "      <td>-16.048387</td>\n",
       "    </tr>\n",
       "    <tr>\n",
       "      <th>622</th>\n",
       "      <td>Apr</td>\n",
       "      <td>2013</td>\n",
       "      <td>-2.601852</td>\n",
       "    </tr>\n",
       "    <tr>\n",
       "      <th>623</th>\n",
       "      <td>May</td>\n",
       "      <td>2013</td>\n",
       "      <td>7.388889</td>\n",
       "    </tr>\n",
       "    <tr>\n",
       "      <th>...</th>\n",
       "      <td>...</td>\n",
       "      <td>...</td>\n",
       "      <td>...</td>\n",
       "    </tr>\n",
       "    <tr>\n",
       "      <th>686</th>\n",
       "      <td>Aug</td>\n",
       "      <td>2018</td>\n",
       "      <td>12.508961</td>\n",
       "    </tr>\n",
       "    <tr>\n",
       "      <th>687</th>\n",
       "      <td>Sep</td>\n",
       "      <td>2018</td>\n",
       "      <td>7.194444</td>\n",
       "    </tr>\n",
       "    <tr>\n",
       "      <th>688</th>\n",
       "      <td>Oct</td>\n",
       "      <td>2018</td>\n",
       "      <td>-1.209677</td>\n",
       "    </tr>\n",
       "    <tr>\n",
       "      <th>689</th>\n",
       "      <td>Nov</td>\n",
       "      <td>2018</td>\n",
       "      <td>-1.537037</td>\n",
       "    </tr>\n",
       "    <tr>\n",
       "      <th>690</th>\n",
       "      <td>Dec</td>\n",
       "      <td>2018</td>\n",
       "      <td>-8.888889</td>\n",
       "    </tr>\n",
       "  </tbody>\n",
       "</table>\n",
       "<p>72 rows × 3 columns</p>\n",
       "</div>"
      ],
      "text/plain": [
       "        Month  Year  temp_celsius\n",
       "619   January  2013    -11.003584\n",
       "620  February  2013    -10.575397\n",
       "621     March  2013    -16.048387\n",
       "622       Apr  2013     -2.601852\n",
       "623       May  2013      7.388889\n",
       "..        ...   ...           ...\n",
       "686       Aug  2018     12.508961\n",
       "687       Sep  2018      7.194444\n",
       "688       Oct  2018     -1.209677\n",
       "689       Nov  2018     -1.537037\n",
       "690       Dec  2018     -8.888889\n",
       "\n",
       "[72 rows x 3 columns]"
      ]
     },
     "execution_count": 25,
     "metadata": {},
     "output_type": "execute_result"
    }
   ],
   "source": [
    "#changing the months into to its names\n",
    "months = ['January', 'February', 'March','Apr','May','June','July','Aug','Sep','Oct','Nov','Dec']\n",
    "months_lambda = lambda x: months[x-1]\n",
    "data_lalokka.Month = data_lalokka.Month.apply(months_lambda)\n",
    "data_lalokka\n",
    "data_lalokka.drop('TAVG', axis = 1, inplace = True)\n",
    "data_lalokka = data_lalokka[['Month','Year','temp_celsius']]\n",
    "data_lalokka"
   ]
  },
  {
   "cell_type": "code",
   "execution_count": 26,
   "metadata": {},
   "outputs": [
    {
     "data": {
      "application/vnd.plotly.v1+json": {
       "config": {
        "plotlyServerURL": "https://plot.ly"
       },
       "data": [
        {
         "hoverlabel": {
          "namelength": 0
         },
         "hovertemplate": "Year=2013<br>temp_celsius=%{r}<br>Month=%{theta}",
         "legendgroup": "Year=2013",
         "line": {
          "color": "#636efa",
          "dash": "solid"
         },
         "mode": "lines",
         "name": "Year=2013",
         "r": [
          -11.003584229390682,
          -10.575396825396824,
          -16.048387096774196,
          -2.601851851851852,
          7.3888888888888875,
          13.39814814814815,
          13.763440860215061,
          12.688172043010757,
          8.203703703703702,
          -0.06272401433691745,
          -7.185185185185184,
          -9.749103942652331,
          -11.003584229390682
         ],
         "showlegend": true,
         "subplot": "polar",
         "theta": [
          "January",
          "February",
          "March",
          "Apr",
          "May",
          "June",
          "July",
          "Aug",
          "Sep",
          "Oct",
          "Nov",
          "Dec",
          "January"
         ],
         "type": "scatterpolar"
        },
        {
         "hoverlabel": {
          "namelength": 0
         },
         "hovertemplate": "Year=2014<br>temp_celsius=%{r}<br>Month=%{theta}",
         "legendgroup": "Year=2014",
         "line": {
          "color": "#EF553B",
          "dash": "solid"
         },
         "mode": "lines",
         "name": "Year=2014",
         "r": [
          -15.188172043010757,
          -5.267857142857143,
          -5.474910394265231,
          -2.027777777777778,
          2.840501792114696,
          9.629629629629637,
          16.335125448028673,
          12.939068100358426,
          6.8611111111111125,
          -1.872759856630824,
          -7.222222222222222,
          -9.587813620071683,
          -15.188172043010757
         ],
         "showlegend": true,
         "subplot": "polar",
         "theta": [
          "January",
          "February",
          "March",
          "Apr",
          "May",
          "June",
          "July",
          "Aug",
          "Sep",
          "Oct",
          "Nov",
          "Dec",
          "January"
         ],
         "type": "scatterpolar"
        },
        {
         "hoverlabel": {
          "namelength": 0
         },
         "hovertemplate": "Year=2015<br>temp_celsius=%{r}<br>Month=%{theta}",
         "legendgroup": "Year=2015",
         "line": {
          "color": "#00cc96",
          "dash": "solid"
         },
         "mode": "lines",
         "name": "Year=2015",
         "r": [
          -14.811827956989248,
          -8.055555555555559,
          -4.014336917562725,
          -0.6018518518518519,
          5.519713261648746,
          9.527777777777779,
          10.89605734767025,
          12.204301075268814,
          8.62037037037037,
          0.14336917562724028,
          -3.537037037037037,
          -10.564516129032258,
          -14.811827956989248
         ],
         "showlegend": true,
         "subplot": "polar",
         "theta": [
          "January",
          "February",
          "March",
          "Apr",
          "May",
          "June",
          "July",
          "Aug",
          "Sep",
          "Oct",
          "Nov",
          "Dec",
          "January"
         ],
         "type": "scatterpolar"
        },
        {
         "hoverlabel": {
          "namelength": 0
         },
         "hovertemplate": "Year=2016<br>temp_celsius=%{r}<br>Month=%{theta}",
         "legendgroup": "Year=2016",
         "line": {
          "color": "#ab63fa",
          "dash": "solid"
         },
         "mode": "lines",
         "name": "Year=2016",
         "r": [
          -17.849462365591407,
          -7.547892720306517,
          -5.179211469534049,
          0.2777777777777776,
          7.114695340501791,
          11.064814814814813,
          15.78853046594982,
          11.326164874551976,
          7.796296296296298,
          1.1379928315412189,
          -6.851851851851852,
          -10.367383512544803,
          -17.849462365591407
         ],
         "showlegend": true,
         "subplot": "polar",
         "theta": [
          "January",
          "February",
          "March",
          "Apr",
          "May",
          "June",
          "July",
          "Aug",
          "Sep",
          "Oct",
          "Nov",
          "Dec",
          "January"
         ],
         "type": "scatterpolar"
        },
        {
         "hoverlabel": {
          "namelength": 0
         },
         "hovertemplate": "Year=2017<br>temp_celsius=%{r}<br>Month=%{theta}",
         "legendgroup": "Year=2017",
         "line": {
          "color": "#FFA15A",
          "dash": "solid"
         },
         "mode": "lines",
         "name": "Year=2017",
         "r": [
          -11.908602150537632,
          -11.617063492063492,
          -8.222222222222221,
          -4.657407407407407,
          0.9050179211469536,
          7.777777777777778,
          14.005376344086025,
          10.851254480286736,
          6.046296296296295,
          -0.05376344086021532,
          -6.4444444444444455,
          -10.896057347670252,
          -11.908602150537632
         ],
         "showlegend": true,
         "subplot": "polar",
         "theta": [
          "January",
          "February",
          "March",
          "Apr",
          "May",
          "June",
          "July",
          "Aug",
          "Sep",
          "Oct",
          "Nov",
          "Dec",
          "January"
         ],
         "type": "scatterpolar"
        },
        {
         "hoverlabel": {
          "namelength": 0
         },
         "hovertemplate": "Year=2018<br>temp_celsius=%{r}<br>Month=%{theta}",
         "legendgroup": "Year=2018",
         "line": {
          "color": "#19d3f3",
          "dash": "solid"
         },
         "mode": "lines",
         "name": "Year=2018",
         "r": [
          -11.559139784946241,
          -15.416666666666668,
          -13.548387096774194,
          -1.8148148148148155,
          8.234767025089607,
          9.851851851851851,
          17.706093189964157,
          12.508960573476699,
          7.194444444444443,
          -1.2096774193548392,
          -1.5370370370370372,
          -8.888888888888891,
          -11.559139784946241
         ],
         "showlegend": true,
         "subplot": "polar",
         "theta": [
          "January",
          "February",
          "March",
          "Apr",
          "May",
          "June",
          "July",
          "Aug",
          "Sep",
          "Oct",
          "Nov",
          "Dec",
          "January"
         ],
         "type": "scatterpolar"
        }
       ],
       "layout": {
        "height": 600,
        "legend": {
         "tracegroupgap": 0
        },
        "polar": {
         "angularaxis": {
          "direction": "clockwise",
          "rotation": 90
         },
         "domain": {
          "x": [
           0,
           0.98
          ],
          "y": [
           0,
           1
          ]
         }
        },
        "template": {
         "data": {
          "bar": [
           {
            "error_x": {
             "color": "#f2f5fa"
            },
            "error_y": {
             "color": "#f2f5fa"
            },
            "marker": {
             "line": {
              "color": "rgb(17,17,17)",
              "width": 0.5
             }
            },
            "type": "bar"
           }
          ],
          "barpolar": [
           {
            "marker": {
             "line": {
              "color": "rgb(17,17,17)",
              "width": 0.5
             }
            },
            "type": "barpolar"
           }
          ],
          "carpet": [
           {
            "aaxis": {
             "endlinecolor": "#A2B1C6",
             "gridcolor": "#506784",
             "linecolor": "#506784",
             "minorgridcolor": "#506784",
             "startlinecolor": "#A2B1C6"
            },
            "baxis": {
             "endlinecolor": "#A2B1C6",
             "gridcolor": "#506784",
             "linecolor": "#506784",
             "minorgridcolor": "#506784",
             "startlinecolor": "#A2B1C6"
            },
            "type": "carpet"
           }
          ],
          "choropleth": [
           {
            "colorbar": {
             "outlinewidth": 0,
             "ticks": ""
            },
            "type": "choropleth"
           }
          ],
          "contour": [
           {
            "colorbar": {
             "outlinewidth": 0,
             "ticks": ""
            },
            "colorscale": [
             [
              0,
              "#0d0887"
             ],
             [
              0.1111111111111111,
              "#46039f"
             ],
             [
              0.2222222222222222,
              "#7201a8"
             ],
             [
              0.3333333333333333,
              "#9c179e"
             ],
             [
              0.4444444444444444,
              "#bd3786"
             ],
             [
              0.5555555555555556,
              "#d8576b"
             ],
             [
              0.6666666666666666,
              "#ed7953"
             ],
             [
              0.7777777777777778,
              "#fb9f3a"
             ],
             [
              0.8888888888888888,
              "#fdca26"
             ],
             [
              1,
              "#f0f921"
             ]
            ],
            "type": "contour"
           }
          ],
          "contourcarpet": [
           {
            "colorbar": {
             "outlinewidth": 0,
             "ticks": ""
            },
            "type": "contourcarpet"
           }
          ],
          "heatmap": [
           {
            "colorbar": {
             "outlinewidth": 0,
             "ticks": ""
            },
            "colorscale": [
             [
              0,
              "#0d0887"
             ],
             [
              0.1111111111111111,
              "#46039f"
             ],
             [
              0.2222222222222222,
              "#7201a8"
             ],
             [
              0.3333333333333333,
              "#9c179e"
             ],
             [
              0.4444444444444444,
              "#bd3786"
             ],
             [
              0.5555555555555556,
              "#d8576b"
             ],
             [
              0.6666666666666666,
              "#ed7953"
             ],
             [
              0.7777777777777778,
              "#fb9f3a"
             ],
             [
              0.8888888888888888,
              "#fdca26"
             ],
             [
              1,
              "#f0f921"
             ]
            ],
            "type": "heatmap"
           }
          ],
          "heatmapgl": [
           {
            "colorbar": {
             "outlinewidth": 0,
             "ticks": ""
            },
            "colorscale": [
             [
              0,
              "#0d0887"
             ],
             [
              0.1111111111111111,
              "#46039f"
             ],
             [
              0.2222222222222222,
              "#7201a8"
             ],
             [
              0.3333333333333333,
              "#9c179e"
             ],
             [
              0.4444444444444444,
              "#bd3786"
             ],
             [
              0.5555555555555556,
              "#d8576b"
             ],
             [
              0.6666666666666666,
              "#ed7953"
             ],
             [
              0.7777777777777778,
              "#fb9f3a"
             ],
             [
              0.8888888888888888,
              "#fdca26"
             ],
             [
              1,
              "#f0f921"
             ]
            ],
            "type": "heatmapgl"
           }
          ],
          "histogram": [
           {
            "marker": {
             "colorbar": {
              "outlinewidth": 0,
              "ticks": ""
             }
            },
            "type": "histogram"
           }
          ],
          "histogram2d": [
           {
            "colorbar": {
             "outlinewidth": 0,
             "ticks": ""
            },
            "colorscale": [
             [
              0,
              "#0d0887"
             ],
             [
              0.1111111111111111,
              "#46039f"
             ],
             [
              0.2222222222222222,
              "#7201a8"
             ],
             [
              0.3333333333333333,
              "#9c179e"
             ],
             [
              0.4444444444444444,
              "#bd3786"
             ],
             [
              0.5555555555555556,
              "#d8576b"
             ],
             [
              0.6666666666666666,
              "#ed7953"
             ],
             [
              0.7777777777777778,
              "#fb9f3a"
             ],
             [
              0.8888888888888888,
              "#fdca26"
             ],
             [
              1,
              "#f0f921"
             ]
            ],
            "type": "histogram2d"
           }
          ],
          "histogram2dcontour": [
           {
            "colorbar": {
             "outlinewidth": 0,
             "ticks": ""
            },
            "colorscale": [
             [
              0,
              "#0d0887"
             ],
             [
              0.1111111111111111,
              "#46039f"
             ],
             [
              0.2222222222222222,
              "#7201a8"
             ],
             [
              0.3333333333333333,
              "#9c179e"
             ],
             [
              0.4444444444444444,
              "#bd3786"
             ],
             [
              0.5555555555555556,
              "#d8576b"
             ],
             [
              0.6666666666666666,
              "#ed7953"
             ],
             [
              0.7777777777777778,
              "#fb9f3a"
             ],
             [
              0.8888888888888888,
              "#fdca26"
             ],
             [
              1,
              "#f0f921"
             ]
            ],
            "type": "histogram2dcontour"
           }
          ],
          "mesh3d": [
           {
            "colorbar": {
             "outlinewidth": 0,
             "ticks": ""
            },
            "type": "mesh3d"
           }
          ],
          "parcoords": [
           {
            "line": {
             "colorbar": {
              "outlinewidth": 0,
              "ticks": ""
             }
            },
            "type": "parcoords"
           }
          ],
          "scatter": [
           {
            "marker": {
             "line": {
              "color": "#283442"
             }
            },
            "type": "scatter"
           }
          ],
          "scatter3d": [
           {
            "line": {
             "colorbar": {
              "outlinewidth": 0,
              "ticks": ""
             }
            },
            "marker": {
             "colorbar": {
              "outlinewidth": 0,
              "ticks": ""
             }
            },
            "type": "scatter3d"
           }
          ],
          "scattercarpet": [
           {
            "marker": {
             "colorbar": {
              "outlinewidth": 0,
              "ticks": ""
             }
            },
            "type": "scattercarpet"
           }
          ],
          "scattergeo": [
           {
            "marker": {
             "colorbar": {
              "outlinewidth": 0,
              "ticks": ""
             }
            },
            "type": "scattergeo"
           }
          ],
          "scattergl": [
           {
            "marker": {
             "line": {
              "color": "#283442"
             }
            },
            "type": "scattergl"
           }
          ],
          "scattermapbox": [
           {
            "marker": {
             "colorbar": {
              "outlinewidth": 0,
              "ticks": ""
             }
            },
            "type": "scattermapbox"
           }
          ],
          "scatterpolar": [
           {
            "marker": {
             "colorbar": {
              "outlinewidth": 0,
              "ticks": ""
             }
            },
            "type": "scatterpolar"
           }
          ],
          "scatterpolargl": [
           {
            "marker": {
             "colorbar": {
              "outlinewidth": 0,
              "ticks": ""
             }
            },
            "type": "scatterpolargl"
           }
          ],
          "scatterternary": [
           {
            "marker": {
             "colorbar": {
              "outlinewidth": 0,
              "ticks": ""
             }
            },
            "type": "scatterternary"
           }
          ],
          "surface": [
           {
            "colorbar": {
             "outlinewidth": 0,
             "ticks": ""
            },
            "colorscale": [
             [
              0,
              "#0d0887"
             ],
             [
              0.1111111111111111,
              "#46039f"
             ],
             [
              0.2222222222222222,
              "#7201a8"
             ],
             [
              0.3333333333333333,
              "#9c179e"
             ],
             [
              0.4444444444444444,
              "#bd3786"
             ],
             [
              0.5555555555555556,
              "#d8576b"
             ],
             [
              0.6666666666666666,
              "#ed7953"
             ],
             [
              0.7777777777777778,
              "#fb9f3a"
             ],
             [
              0.8888888888888888,
              "#fdca26"
             ],
             [
              1,
              "#f0f921"
             ]
            ],
            "type": "surface"
           }
          ],
          "table": [
           {
            "cells": {
             "fill": {
              "color": "#506784"
             },
             "line": {
              "color": "rgb(17,17,17)"
             }
            },
            "header": {
             "fill": {
              "color": "#2a3f5f"
             },
             "line": {
              "color": "rgb(17,17,17)"
             }
            },
            "type": "table"
           }
          ]
         },
         "layout": {
          "annotationdefaults": {
           "arrowcolor": "#f2f5fa",
           "arrowhead": 0,
           "arrowwidth": 1
          },
          "colorscale": {
           "diverging": [
            [
             0,
             "#8e0152"
            ],
            [
             0.1,
             "#c51b7d"
            ],
            [
             0.2,
             "#de77ae"
            ],
            [
             0.3,
             "#f1b6da"
            ],
            [
             0.4,
             "#fde0ef"
            ],
            [
             0.5,
             "#f7f7f7"
            ],
            [
             0.6,
             "#e6f5d0"
            ],
            [
             0.7,
             "#b8e186"
            ],
            [
             0.8,
             "#7fbc41"
            ],
            [
             0.9,
             "#4d9221"
            ],
            [
             1,
             "#276419"
            ]
           ],
           "sequential": [
            [
             0,
             "#0d0887"
            ],
            [
             0.1111111111111111,
             "#46039f"
            ],
            [
             0.2222222222222222,
             "#7201a8"
            ],
            [
             0.3333333333333333,
             "#9c179e"
            ],
            [
             0.4444444444444444,
             "#bd3786"
            ],
            [
             0.5555555555555556,
             "#d8576b"
            ],
            [
             0.6666666666666666,
             "#ed7953"
            ],
            [
             0.7777777777777778,
             "#fb9f3a"
            ],
            [
             0.8888888888888888,
             "#fdca26"
            ],
            [
             1,
             "#f0f921"
            ]
           ],
           "sequentialminus": [
            [
             0,
             "#0d0887"
            ],
            [
             0.1111111111111111,
             "#46039f"
            ],
            [
             0.2222222222222222,
             "#7201a8"
            ],
            [
             0.3333333333333333,
             "#9c179e"
            ],
            [
             0.4444444444444444,
             "#bd3786"
            ],
            [
             0.5555555555555556,
             "#d8576b"
            ],
            [
             0.6666666666666666,
             "#ed7953"
            ],
            [
             0.7777777777777778,
             "#fb9f3a"
            ],
            [
             0.8888888888888888,
             "#fdca26"
            ],
            [
             1,
             "#f0f921"
            ]
           ]
          },
          "colorway": [
           "#636efa",
           "#EF553B",
           "#00cc96",
           "#ab63fa",
           "#FFA15A",
           "#19d3f3",
           "#FF6692",
           "#B6E880",
           "#FF97FF",
           "#FECB52"
          ],
          "font": {
           "color": "#f2f5fa"
          },
          "geo": {
           "bgcolor": "rgb(17,17,17)",
           "lakecolor": "rgb(17,17,17)",
           "landcolor": "rgb(17,17,17)",
           "showlakes": true,
           "showland": true,
           "subunitcolor": "#506784"
          },
          "hoverlabel": {
           "align": "left"
          },
          "hovermode": "closest",
          "mapbox": {
           "style": "dark"
          },
          "paper_bgcolor": "rgb(17,17,17)",
          "plot_bgcolor": "rgb(17,17,17)",
          "polar": {
           "angularaxis": {
            "gridcolor": "#506784",
            "linecolor": "#506784",
            "ticks": ""
           },
           "bgcolor": "rgb(17,17,17)",
           "radialaxis": {
            "gridcolor": "#506784",
            "linecolor": "#506784",
            "ticks": ""
           }
          },
          "scene": {
           "xaxis": {
            "backgroundcolor": "rgb(17,17,17)",
            "gridcolor": "#506784",
            "gridwidth": 2,
            "linecolor": "#506784",
            "showbackground": true,
            "ticks": "",
            "zerolinecolor": "#C8D4E3"
           },
           "yaxis": {
            "backgroundcolor": "rgb(17,17,17)",
            "gridcolor": "#506784",
            "gridwidth": 2,
            "linecolor": "#506784",
            "showbackground": true,
            "ticks": "",
            "zerolinecolor": "#C8D4E3"
           },
           "zaxis": {
            "backgroundcolor": "rgb(17,17,17)",
            "gridcolor": "#506784",
            "gridwidth": 2,
            "linecolor": "#506784",
            "showbackground": true,
            "ticks": "",
            "zerolinecolor": "#C8D4E3"
           }
          },
          "shapedefaults": {
           "line": {
            "color": "#f2f5fa"
           }
          },
          "sliderdefaults": {
           "bgcolor": "#C8D4E3",
           "bordercolor": "rgb(17,17,17)",
           "borderwidth": 1,
           "tickwidth": 0
          },
          "ternary": {
           "aaxis": {
            "gridcolor": "#506784",
            "linecolor": "#506784",
            "ticks": ""
           },
           "baxis": {
            "gridcolor": "#506784",
            "linecolor": "#506784",
            "ticks": ""
           },
           "bgcolor": "rgb(17,17,17)",
           "caxis": {
            "gridcolor": "#506784",
            "linecolor": "#506784",
            "ticks": ""
           }
          },
          "title": {
           "x": 0.05
          },
          "updatemenudefaults": {
           "bgcolor": "#506784",
           "borderwidth": 0
          },
          "xaxis": {
           "automargin": true,
           "gridcolor": "#283442",
           "linecolor": "#506784",
           "ticks": "",
           "zerolinecolor": "#283442",
           "zerolinewidth": 2
          },
          "yaxis": {
           "automargin": true,
           "gridcolor": "#283442",
           "linecolor": "#506784",
           "ticks": "",
           "zerolinecolor": "#283442",
           "zerolinewidth": 2
          }
         }
        },
        "title": {
         "text": "Temperature of each month by year"
        }
       }
      },
      "text/html": [
       "<div>\n",
       "        \n",
       "        \n",
       "            <div id=\"98425e49-895c-4080-8b96-101edf97250c\" class=\"plotly-graph-div\" style=\"height:600px; width:100%;\"></div>\n",
       "            <script type=\"text/javascript\">\n",
       "                require([\"plotly\"], function(Plotly) {\n",
       "                    window.PLOTLYENV=window.PLOTLYENV || {};\n",
       "                    \n",
       "                if (document.getElementById(\"98425e49-895c-4080-8b96-101edf97250c\")) {\n",
       "                    Plotly.newPlot(\n",
       "                        '98425e49-895c-4080-8b96-101edf97250c',\n",
       "                        [{\"hoverlabel\": {\"namelength\": 0}, \"hovertemplate\": \"Year=2013<br>temp_celsius=%{r}<br>Month=%{theta}\", \"legendgroup\": \"Year=2013\", \"line\": {\"color\": \"#636efa\", \"dash\": \"solid\"}, \"mode\": \"lines\", \"name\": \"Year=2013\", \"r\": [-11.003584229390682, -10.575396825396824, -16.048387096774196, -2.601851851851852, 7.3888888888888875, 13.39814814814815, 13.763440860215061, 12.688172043010757, 8.203703703703702, -0.06272401433691745, -7.185185185185184, -9.749103942652331, -11.003584229390682], \"showlegend\": true, \"subplot\": \"polar\", \"theta\": [\"January\", \"February\", \"March\", \"Apr\", \"May\", \"June\", \"July\", \"Aug\", \"Sep\", \"Oct\", \"Nov\", \"Dec\", \"January\"], \"type\": \"scatterpolar\"}, {\"hoverlabel\": {\"namelength\": 0}, \"hovertemplate\": \"Year=2014<br>temp_celsius=%{r}<br>Month=%{theta}\", \"legendgroup\": \"Year=2014\", \"line\": {\"color\": \"#EF553B\", \"dash\": \"solid\"}, \"mode\": \"lines\", \"name\": \"Year=2014\", \"r\": [-15.188172043010757, -5.267857142857143, -5.474910394265231, -2.027777777777778, 2.840501792114696, 9.629629629629637, 16.335125448028673, 12.939068100358426, 6.8611111111111125, -1.872759856630824, -7.222222222222222, -9.587813620071683, -15.188172043010757], \"showlegend\": true, \"subplot\": \"polar\", \"theta\": [\"January\", \"February\", \"March\", \"Apr\", \"May\", \"June\", \"July\", \"Aug\", \"Sep\", \"Oct\", \"Nov\", \"Dec\", \"January\"], \"type\": \"scatterpolar\"}, {\"hoverlabel\": {\"namelength\": 0}, \"hovertemplate\": \"Year=2015<br>temp_celsius=%{r}<br>Month=%{theta}\", \"legendgroup\": \"Year=2015\", \"line\": {\"color\": \"#00cc96\", \"dash\": \"solid\"}, \"mode\": \"lines\", \"name\": \"Year=2015\", \"r\": [-14.811827956989248, -8.055555555555559, -4.014336917562725, -0.6018518518518519, 5.519713261648746, 9.527777777777779, 10.89605734767025, 12.204301075268814, 8.62037037037037, 0.14336917562724028, -3.537037037037037, -10.564516129032258, -14.811827956989248], \"showlegend\": true, \"subplot\": \"polar\", \"theta\": [\"January\", \"February\", \"March\", \"Apr\", \"May\", \"June\", \"July\", \"Aug\", \"Sep\", \"Oct\", \"Nov\", \"Dec\", \"January\"], \"type\": \"scatterpolar\"}, {\"hoverlabel\": {\"namelength\": 0}, \"hovertemplate\": \"Year=2016<br>temp_celsius=%{r}<br>Month=%{theta}\", \"legendgroup\": \"Year=2016\", \"line\": {\"color\": \"#ab63fa\", \"dash\": \"solid\"}, \"mode\": \"lines\", \"name\": \"Year=2016\", \"r\": [-17.849462365591407, -7.547892720306517, -5.179211469534049, 0.2777777777777776, 7.114695340501791, 11.064814814814813, 15.78853046594982, 11.326164874551976, 7.796296296296298, 1.1379928315412189, -6.851851851851852, -10.367383512544803, -17.849462365591407], \"showlegend\": true, \"subplot\": \"polar\", \"theta\": [\"January\", \"February\", \"March\", \"Apr\", \"May\", \"June\", \"July\", \"Aug\", \"Sep\", \"Oct\", \"Nov\", \"Dec\", \"January\"], \"type\": \"scatterpolar\"}, {\"hoverlabel\": {\"namelength\": 0}, \"hovertemplate\": \"Year=2017<br>temp_celsius=%{r}<br>Month=%{theta}\", \"legendgroup\": \"Year=2017\", \"line\": {\"color\": \"#FFA15A\", \"dash\": \"solid\"}, \"mode\": \"lines\", \"name\": \"Year=2017\", \"r\": [-11.908602150537632, -11.617063492063492, -8.222222222222221, -4.657407407407407, 0.9050179211469536, 7.777777777777778, 14.005376344086025, 10.851254480286736, 6.046296296296295, -0.05376344086021532, -6.4444444444444455, -10.896057347670252, -11.908602150537632], \"showlegend\": true, \"subplot\": \"polar\", \"theta\": [\"January\", \"February\", \"March\", \"Apr\", \"May\", \"June\", \"July\", \"Aug\", \"Sep\", \"Oct\", \"Nov\", \"Dec\", \"January\"], \"type\": \"scatterpolar\"}, {\"hoverlabel\": {\"namelength\": 0}, \"hovertemplate\": \"Year=2018<br>temp_celsius=%{r}<br>Month=%{theta}\", \"legendgroup\": \"Year=2018\", \"line\": {\"color\": \"#19d3f3\", \"dash\": \"solid\"}, \"mode\": \"lines\", \"name\": \"Year=2018\", \"r\": [-11.559139784946241, -15.416666666666668, -13.548387096774194, -1.8148148148148155, 8.234767025089607, 9.851851851851851, 17.706093189964157, 12.508960573476699, 7.194444444444443, -1.2096774193548392, -1.5370370370370372, -8.888888888888891, -11.559139784946241], \"showlegend\": true, \"subplot\": \"polar\", \"theta\": [\"January\", \"February\", \"March\", \"Apr\", \"May\", \"June\", \"July\", \"Aug\", \"Sep\", \"Oct\", \"Nov\", \"Dec\", \"January\"], \"type\": \"scatterpolar\"}],\n",
       "                        {\"height\": 600, \"legend\": {\"tracegroupgap\": 0}, \"polar\": {\"angularaxis\": {\"direction\": \"clockwise\", \"rotation\": 90}, \"domain\": {\"x\": [0.0, 0.98], \"y\": [0.0, 1.0]}}, \"template\": {\"data\": {\"bar\": [{\"error_x\": {\"color\": \"#f2f5fa\"}, \"error_y\": {\"color\": \"#f2f5fa\"}, \"marker\": {\"line\": {\"color\": \"rgb(17,17,17)\", \"width\": 0.5}}, \"type\": \"bar\"}], \"barpolar\": [{\"marker\": {\"line\": {\"color\": \"rgb(17,17,17)\", \"width\": 0.5}}, \"type\": \"barpolar\"}], \"carpet\": [{\"aaxis\": {\"endlinecolor\": \"#A2B1C6\", \"gridcolor\": \"#506784\", \"linecolor\": \"#506784\", \"minorgridcolor\": \"#506784\", \"startlinecolor\": \"#A2B1C6\"}, \"baxis\": {\"endlinecolor\": \"#A2B1C6\", \"gridcolor\": \"#506784\", \"linecolor\": \"#506784\", \"minorgridcolor\": \"#506784\", \"startlinecolor\": \"#A2B1C6\"}, \"type\": \"carpet\"}], \"choropleth\": [{\"colorbar\": {\"outlinewidth\": 0, \"ticks\": \"\"}, \"type\": \"choropleth\"}], \"contour\": [{\"colorbar\": {\"outlinewidth\": 0, \"ticks\": \"\"}, \"colorscale\": [[0.0, \"#0d0887\"], [0.1111111111111111, \"#46039f\"], [0.2222222222222222, \"#7201a8\"], [0.3333333333333333, \"#9c179e\"], [0.4444444444444444, \"#bd3786\"], [0.5555555555555556, \"#d8576b\"], [0.6666666666666666, \"#ed7953\"], [0.7777777777777778, \"#fb9f3a\"], [0.8888888888888888, \"#fdca26\"], [1.0, \"#f0f921\"]], \"type\": \"contour\"}], \"contourcarpet\": [{\"colorbar\": {\"outlinewidth\": 0, \"ticks\": \"\"}, \"type\": \"contourcarpet\"}], \"heatmap\": [{\"colorbar\": {\"outlinewidth\": 0, \"ticks\": \"\"}, \"colorscale\": [[0.0, \"#0d0887\"], [0.1111111111111111, \"#46039f\"], [0.2222222222222222, \"#7201a8\"], [0.3333333333333333, \"#9c179e\"], [0.4444444444444444, \"#bd3786\"], [0.5555555555555556, \"#d8576b\"], [0.6666666666666666, \"#ed7953\"], [0.7777777777777778, \"#fb9f3a\"], [0.8888888888888888, \"#fdca26\"], [1.0, \"#f0f921\"]], \"type\": \"heatmap\"}], \"heatmapgl\": [{\"colorbar\": {\"outlinewidth\": 0, \"ticks\": \"\"}, \"colorscale\": [[0.0, \"#0d0887\"], [0.1111111111111111, \"#46039f\"], [0.2222222222222222, \"#7201a8\"], [0.3333333333333333, \"#9c179e\"], [0.4444444444444444, \"#bd3786\"], [0.5555555555555556, \"#d8576b\"], [0.6666666666666666, \"#ed7953\"], [0.7777777777777778, \"#fb9f3a\"], [0.8888888888888888, \"#fdca26\"], [1.0, \"#f0f921\"]], \"type\": \"heatmapgl\"}], \"histogram\": [{\"marker\": {\"colorbar\": {\"outlinewidth\": 0, \"ticks\": \"\"}}, \"type\": \"histogram\"}], \"histogram2d\": [{\"colorbar\": {\"outlinewidth\": 0, \"ticks\": \"\"}, \"colorscale\": [[0.0, \"#0d0887\"], [0.1111111111111111, \"#46039f\"], [0.2222222222222222, \"#7201a8\"], [0.3333333333333333, \"#9c179e\"], [0.4444444444444444, \"#bd3786\"], [0.5555555555555556, \"#d8576b\"], [0.6666666666666666, \"#ed7953\"], [0.7777777777777778, \"#fb9f3a\"], [0.8888888888888888, \"#fdca26\"], [1.0, \"#f0f921\"]], \"type\": \"histogram2d\"}], \"histogram2dcontour\": [{\"colorbar\": {\"outlinewidth\": 0, \"ticks\": \"\"}, \"colorscale\": [[0.0, \"#0d0887\"], [0.1111111111111111, \"#46039f\"], [0.2222222222222222, \"#7201a8\"], [0.3333333333333333, \"#9c179e\"], [0.4444444444444444, \"#bd3786\"], [0.5555555555555556, \"#d8576b\"], [0.6666666666666666, \"#ed7953\"], [0.7777777777777778, \"#fb9f3a\"], [0.8888888888888888, \"#fdca26\"], [1.0, \"#f0f921\"]], \"type\": \"histogram2dcontour\"}], \"mesh3d\": [{\"colorbar\": {\"outlinewidth\": 0, \"ticks\": \"\"}, \"type\": \"mesh3d\"}], \"parcoords\": [{\"line\": {\"colorbar\": {\"outlinewidth\": 0, \"ticks\": \"\"}}, \"type\": \"parcoords\"}], \"scatter\": [{\"marker\": {\"line\": {\"color\": \"#283442\"}}, \"type\": \"scatter\"}], \"scatter3d\": [{\"line\": {\"colorbar\": {\"outlinewidth\": 0, \"ticks\": \"\"}}, \"marker\": {\"colorbar\": {\"outlinewidth\": 0, \"ticks\": \"\"}}, \"type\": \"scatter3d\"}], \"scattercarpet\": [{\"marker\": {\"colorbar\": {\"outlinewidth\": 0, \"ticks\": \"\"}}, \"type\": \"scattercarpet\"}], \"scattergeo\": [{\"marker\": {\"colorbar\": {\"outlinewidth\": 0, \"ticks\": \"\"}}, \"type\": \"scattergeo\"}], \"scattergl\": [{\"marker\": {\"line\": {\"color\": \"#283442\"}}, \"type\": \"scattergl\"}], \"scattermapbox\": [{\"marker\": {\"colorbar\": {\"outlinewidth\": 0, \"ticks\": \"\"}}, \"type\": \"scattermapbox\"}], \"scatterpolar\": [{\"marker\": {\"colorbar\": {\"outlinewidth\": 0, \"ticks\": \"\"}}, \"type\": \"scatterpolar\"}], \"scatterpolargl\": [{\"marker\": {\"colorbar\": {\"outlinewidth\": 0, \"ticks\": \"\"}}, \"type\": \"scatterpolargl\"}], \"scatterternary\": [{\"marker\": {\"colorbar\": {\"outlinewidth\": 0, \"ticks\": \"\"}}, \"type\": \"scatterternary\"}], \"surface\": [{\"colorbar\": {\"outlinewidth\": 0, \"ticks\": \"\"}, \"colorscale\": [[0.0, \"#0d0887\"], [0.1111111111111111, \"#46039f\"], [0.2222222222222222, \"#7201a8\"], [0.3333333333333333, \"#9c179e\"], [0.4444444444444444, \"#bd3786\"], [0.5555555555555556, \"#d8576b\"], [0.6666666666666666, \"#ed7953\"], [0.7777777777777778, \"#fb9f3a\"], [0.8888888888888888, \"#fdca26\"], [1.0, \"#f0f921\"]], \"type\": \"surface\"}], \"table\": [{\"cells\": {\"fill\": {\"color\": \"#506784\"}, \"line\": {\"color\": \"rgb(17,17,17)\"}}, \"header\": {\"fill\": {\"color\": \"#2a3f5f\"}, \"line\": {\"color\": \"rgb(17,17,17)\"}}, \"type\": \"table\"}]}, \"layout\": {\"annotationdefaults\": {\"arrowcolor\": \"#f2f5fa\", \"arrowhead\": 0, \"arrowwidth\": 1}, \"colorscale\": {\"diverging\": [[0, \"#8e0152\"], [0.1, \"#c51b7d\"], [0.2, \"#de77ae\"], [0.3, \"#f1b6da\"], [0.4, \"#fde0ef\"], [0.5, \"#f7f7f7\"], [0.6, \"#e6f5d0\"], [0.7, \"#b8e186\"], [0.8, \"#7fbc41\"], [0.9, \"#4d9221\"], [1, \"#276419\"]], \"sequential\": [[0.0, \"#0d0887\"], [0.1111111111111111, \"#46039f\"], [0.2222222222222222, \"#7201a8\"], [0.3333333333333333, \"#9c179e\"], [0.4444444444444444, \"#bd3786\"], [0.5555555555555556, \"#d8576b\"], [0.6666666666666666, \"#ed7953\"], [0.7777777777777778, \"#fb9f3a\"], [0.8888888888888888, \"#fdca26\"], [1.0, \"#f0f921\"]], \"sequentialminus\": [[0.0, \"#0d0887\"], [0.1111111111111111, \"#46039f\"], [0.2222222222222222, \"#7201a8\"], [0.3333333333333333, \"#9c179e\"], [0.4444444444444444, \"#bd3786\"], [0.5555555555555556, \"#d8576b\"], [0.6666666666666666, \"#ed7953\"], [0.7777777777777778, \"#fb9f3a\"], [0.8888888888888888, \"#fdca26\"], [1.0, \"#f0f921\"]]}, \"colorway\": [\"#636efa\", \"#EF553B\", \"#00cc96\", \"#ab63fa\", \"#FFA15A\", \"#19d3f3\", \"#FF6692\", \"#B6E880\", \"#FF97FF\", \"#FECB52\"], \"font\": {\"color\": \"#f2f5fa\"}, \"geo\": {\"bgcolor\": \"rgb(17,17,17)\", \"lakecolor\": \"rgb(17,17,17)\", \"landcolor\": \"rgb(17,17,17)\", \"showlakes\": true, \"showland\": true, \"subunitcolor\": \"#506784\"}, \"hoverlabel\": {\"align\": \"left\"}, \"hovermode\": \"closest\", \"mapbox\": {\"style\": \"dark\"}, \"paper_bgcolor\": \"rgb(17,17,17)\", \"plot_bgcolor\": \"rgb(17,17,17)\", \"polar\": {\"angularaxis\": {\"gridcolor\": \"#506784\", \"linecolor\": \"#506784\", \"ticks\": \"\"}, \"bgcolor\": \"rgb(17,17,17)\", \"radialaxis\": {\"gridcolor\": \"#506784\", \"linecolor\": \"#506784\", \"ticks\": \"\"}}, \"scene\": {\"xaxis\": {\"backgroundcolor\": \"rgb(17,17,17)\", \"gridcolor\": \"#506784\", \"gridwidth\": 2, \"linecolor\": \"#506784\", \"showbackground\": true, \"ticks\": \"\", \"zerolinecolor\": \"#C8D4E3\"}, \"yaxis\": {\"backgroundcolor\": \"rgb(17,17,17)\", \"gridcolor\": \"#506784\", \"gridwidth\": 2, \"linecolor\": \"#506784\", \"showbackground\": true, \"ticks\": \"\", \"zerolinecolor\": \"#C8D4E3\"}, \"zaxis\": {\"backgroundcolor\": \"rgb(17,17,17)\", \"gridcolor\": \"#506784\", \"gridwidth\": 2, \"linecolor\": \"#506784\", \"showbackground\": true, \"ticks\": \"\", \"zerolinecolor\": \"#C8D4E3\"}}, \"shapedefaults\": {\"line\": {\"color\": \"#f2f5fa\"}}, \"sliderdefaults\": {\"bgcolor\": \"#C8D4E3\", \"bordercolor\": \"rgb(17,17,17)\", \"borderwidth\": 1, \"tickwidth\": 0}, \"ternary\": {\"aaxis\": {\"gridcolor\": \"#506784\", \"linecolor\": \"#506784\", \"ticks\": \"\"}, \"baxis\": {\"gridcolor\": \"#506784\", \"linecolor\": \"#506784\", \"ticks\": \"\"}, \"bgcolor\": \"rgb(17,17,17)\", \"caxis\": {\"gridcolor\": \"#506784\", \"linecolor\": \"#506784\", \"ticks\": \"\"}}, \"title\": {\"x\": 0.05}, \"updatemenudefaults\": {\"bgcolor\": \"#506784\", \"borderwidth\": 0}, \"xaxis\": {\"automargin\": true, \"gridcolor\": \"#283442\", \"linecolor\": \"#506784\", \"ticks\": \"\", \"zerolinecolor\": \"#283442\", \"zerolinewidth\": 2}, \"yaxis\": {\"automargin\": true, \"gridcolor\": \"#283442\", \"linecolor\": \"#506784\", \"ticks\": \"\", \"zerolinecolor\": \"#283442\", \"zerolinewidth\": 2}}}, \"title\": {\"text\": \"Temperature of each month by year\"}},\n",
       "                        {\"responsive\": true}\n",
       "                    ).then(function(){\n",
       "                            \n",
       "var gd = document.getElementById('98425e49-895c-4080-8b96-101edf97250c');\n",
       "var x = new MutationObserver(function (mutations, observer) {{\n",
       "        var display = window.getComputedStyle(gd).display;\n",
       "        if (!display || display === 'none') {{\n",
       "            console.log([gd, 'removed!']);\n",
       "            Plotly.purge(gd);\n",
       "            observer.disconnect();\n",
       "        }}\n",
       "}});\n",
       "\n",
       "// Listen for the removal of the full notebook cells\n",
       "var notebookContainer = gd.closest('#notebook-container');\n",
       "if (notebookContainer) {{\n",
       "    x.observe(notebookContainer, {childList: true});\n",
       "}}\n",
       "\n",
       "// Listen for the clearing of the current output cell\n",
       "var outputEl = gd.closest('.output');\n",
       "if (outputEl) {{\n",
       "    x.observe(outputEl, {childList: true});\n",
       "}}\n",
       "\n",
       "                        })\n",
       "                };\n",
       "                });\n",
       "            </script>\n",
       "        </div>"
      ]
     },
     "metadata": {},
     "output_type": "display_data"
    }
   ],
   "source": [
    "fig = px.line_polar(data_lalokka, r = 'temp_celsius',theta = 'Month', color = 'Year',line_close = True, template = 'plotly_dark', title = 'Temperature of each month by year')\n",
    "fig.show()"
   ]
  },
  {
   "cell_type": "code",
   "execution_count": null,
   "metadata": {},
   "outputs": [],
   "source": []
  }
 ],
 "metadata": {
  "kernelspec": {
   "display_name": "Python 3",
   "language": "python",
   "name": "python3"
  },
  "language_info": {
   "codemirror_mode": {
    "name": "ipython",
    "version": 3
   },
   "file_extension": ".py",
   "mimetype": "text/x-python",
   "name": "python",
   "nbconvert_exporter": "python",
   "pygments_lexer": "ipython3",
   "version": "3.6.8"
  }
 },
 "nbformat": 4,
 "nbformat_minor": 4
}
